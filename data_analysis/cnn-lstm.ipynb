{
 "cells": [
  {
   "cell_type": "code",
   "execution_count": 8,
   "metadata": {},
   "outputs": [],
   "source": [
    "import numpy as np\n",
    "import pandas as pd\n",
    "import matplotlib.pyplot as plt\n",
    "import os\n",
    "import torch\n",
    "import torch.nn as nn\n",
    "import torch.nn.functional as F\n",
    "import torch.autograd as autograd\n",
    "from torch.autograd import Variable\n",
    "import torch.optim as optim\n",
    "from torch.jit import script, trace\n",
    "from torch.utils.data import DataLoader, TensorDataset\n",
    "import torchvision\n",
    "from torchvision.transforms import v2\n",
    "\n",
    "from tqdm import tqdm\n",
    "\n",
    "from sklearn.metrics import roc_auc_score, precision_score, recall_score, accuracy_score"
   ]
  },
  {
   "cell_type": "code",
   "execution_count": 9,
   "metadata": {},
   "outputs": [],
   "source": [
    "x_train = None\n",
    "y_train = None\n",
    "\n",
    "x_valid = None\n",
    "y_valid = None\n",
    "\n",
    "x_test = None\n",
    "y_test = None"
   ]
  },
  {
   "cell_type": "code",
   "execution_count": 47,
   "metadata": {},
   "outputs": [
    {
     "ename": "TypeError",
     "evalue": "new(): invalid data type 'str'",
     "output_type": "error",
     "traceback": [
      "\u001b[0;31m---------------------------------------------------------------------------\u001b[0m",
      "\u001b[0;31mTypeError\u001b[0m                                 Traceback (most recent call last)",
      "Input \u001b[0;32mIn [47]\u001b[0m, in \u001b[0;36m<cell line: 1>\u001b[0;34m()\u001b[0m\n\u001b[0;32m----> 1\u001b[0m train_subset \u001b[38;5;241m=\u001b[39m torch\u001b[38;5;241m.\u001b[39mutils\u001b[38;5;241m.\u001b[39mdata\u001b[38;5;241m.\u001b[39mTensorDataset(torch\u001b[38;5;241m.\u001b[39mTensor(x_train), \u001b[43mtorch\u001b[49m\u001b[38;5;241;43m.\u001b[39;49m\u001b[43mTensor\u001b[49m\u001b[43m(\u001b[49m\u001b[43my_train\u001b[49m\u001b[43m)\u001b[49m)\n\u001b[1;32m      2\u001b[0m val_subset \u001b[38;5;241m=\u001b[39m torch\u001b[38;5;241m.\u001b[39mutils\u001b[38;5;241m.\u001b[39mdata\u001b[38;5;241m.\u001b[39mTensorDataset(torch\u001b[38;5;241m.\u001b[39mTensor(x_valid), torch\u001b[38;5;241m.\u001b[39mTensor(y_valid))\n\u001b[1;32m      3\u001b[0m test_dataset \u001b[38;5;241m=\u001b[39m torch\u001b[38;5;241m.\u001b[39mutils\u001b[38;5;241m.\u001b[39mdata\u001b[38;5;241m.\u001b[39mTensorDataset(torch\u001b[38;5;241m.\u001b[39mTensor(x_test), torch\u001b[38;5;241m.\u001b[39mTensor(y_test))\n",
      "\u001b[0;31mTypeError\u001b[0m: new(): invalid data type 'str'"
     ]
    }
   ],
   "source": [
    "train_subset = torch.utils.data.TensorDataset(torch.Tensor(x_train), torch.Tensor(y_train))\n",
    "val_subset = torch.utils.data.TensorDataset(torch.Tensor(x_valid), torch.Tensor(y_valid))\n",
    "test_dataset = torch.utils.data.TensorDataset(torch.Tensor(x_test), torch.Tensor(y_test))\n",
    "\n",
    "bsz = 20\n",
    "train_loader = torch.utils.data.DataLoader(train_subset, shuffle=True, batch_size=bsz)\n",
    "val_loader = torch.utils.data.DataLoader(val_subset, shuffle=False, batch_size=bsz)\n",
    "test_loader = torch.utils.data.DataLoader(test_dataset, shuffle=False, batch_size=bsz)"
   ]
  },
  {
   "cell_type": "code",
   "execution_count": 12,
   "metadata": {},
   "outputs": [],
   "source": [
    "samp_time = 750\n",
    "n_channels = 8"
   ]
  },
  {
   "cell_type": "code",
   "execution_count": 14,
   "metadata": {},
   "outputs": [],
   "source": [
    "class CNN_LSTM(nn.Module):\n",
    "    def __init__(self):\n",
    "        super(CNN_LSTM, self).__init__()\n",
    "        self.conv1d = nn.Conv1d(in_channels=8, out_channels=40, kernel_size=20, stride=4)\n",
    "        self.relu = nn.ReLU()\n",
    "        self.dropout1 = nn.Dropout(p=0.5)\n",
    "        self.batchnorm1 = nn.BatchNorm1d(40)\n",
    "        self.maxpool = nn.MaxPool1d(kernel_size=4, stride=4)\n",
    "        self.lstm1 = nn.LSTM(input_size=45, hidden_size=30)\n",
    "        self.dropout2 = nn.Dropout(p=0.5)\n",
    "        self.batchnorm2 = nn.BatchNorm1d(40)\n",
    "        self.lstm2 = nn.LSTM(input_size=30, hidden_size=10)\n",
    "        self.dropout3 = nn.Dropout(p=0.5)\n",
    "        self.batchnorm3 = nn.BatchNorm1d(40)\n",
    "        self.flatten = nn.Flatten()\n",
    "        self.dense = nn.Linear(400,2)\n",
    "        self.softmax = nn.Softmax(dim=1)\n",
    "\n",
    "    def forward(self, x):\n",
    "        x = self.conv1d(x)\n",
    "        x = self.relu(x)\n",
    "        x = self.dropout1(x)\n",
    "        x = self.batchnorm1(x)\n",
    "        x = self.maxpool(x)\n",
    "        x, _ = self.lstm1(x)\n",
    "        x = self.dropout2(x)\n",
    "        x = self.batchnorm2(x)\n",
    "        x, _ = self.lstm2(x)\n",
    "        x = self.dropout3(x)\n",
    "        x = self.batchnorm3(x)\n",
    "        x = self.flatten(x)\n",
    "        x = self.dense(x)\n",
    "        x = self.softmax(x)\n",
    "\n",
    "        return x"
   ]
  },
  {
   "cell_type": "code",
   "execution_count": 15,
   "metadata": {},
   "outputs": [
    {
     "name": "stdout",
     "output_type": "stream",
     "text": [
      "torch.Size([1, 8, 750])\n",
      "tensor([[0.4091, 0.5909]], grad_fn=<SoftmaxBackward0>)\n"
     ]
    }
   ],
   "source": [
    "input_size = (n_channels, samp_time)\n",
    "\n",
    "# Random input tensor with the specified dimensions\n",
    "input_tensor = torch.randn(1, *input_size)\n",
    "print(input_tensor.shape)\n",
    "\n",
    "# Forward pass through the model\n",
    "#output_tensor = model(input_tensor)\n",
    "\n",
    "net = CNN_LSTM()\n",
    "print(net.forward(Variable(input_tensor)))\n",
    "criterion = nn.CrossEntropyLoss() # add to device here\n",
    "optimizer = optim.Adam(net.parameters(), lr=0.001, weight_decay=1e-7)"
   ]
  },
  {
   "cell_type": "code",
   "execution_count": 46,
   "metadata": {},
   "outputs": [
    {
     "name": "stderr",
     "output_type": "stream",
     "text": [
      "  0%|          | 0/100 [00:00<?, ?it/s]\n"
     ]
    },
    {
     "ename": "NameError",
     "evalue": "name 'train_loader' is not defined",
     "output_type": "error",
     "traceback": [
      "\u001b[0;31m---------------------------------------------------------------------------\u001b[0m",
      "\u001b[0;31mNameError\u001b[0m                                 Traceback (most recent call last)",
      "Input \u001b[0;32mIn [46]\u001b[0m, in \u001b[0;36m<cell line: 6>\u001b[0;34m()\u001b[0m\n\u001b[1;32m      8\u001b[0m train_count \u001b[38;5;241m=\u001b[39m \u001b[38;5;241m0\u001b[39m\n\u001b[1;32m      9\u001b[0m train_correct_count \u001b[38;5;241m=\u001b[39m \u001b[38;5;241m0\u001b[39m\n\u001b[0;32m---> 10\u001b[0m \u001b[38;5;28;01mfor\u001b[39;00m batch_idx, (train_x, train_y) \u001b[38;5;129;01min\u001b[39;00m \u001b[38;5;28menumerate\u001b[39m(\u001b[43mtrain_loader\u001b[49m):\n\u001b[1;32m     11\u001b[0m     train_x \u001b[38;5;241m=\u001b[39m train_x\u001b[38;5;241m.\u001b[39mfloat()\n\u001b[1;32m     12\u001b[0m     train_y \u001b[38;5;241m=\u001b[39m train_y\u001b[38;5;241m.\u001b[39mlong()\n",
      "\u001b[0;31mNameError\u001b[0m: name 'train_loader' is not defined"
     ]
    }
   ],
   "source": [
    "train_hist = []\n",
    "val_hist = []\n",
    "\n",
    "num_epochs = 100\n",
    "\n",
    "for epoch_idx in tqdm(range(num_epochs)):\n",
    "    net.train()\n",
    "    train_count = 0\n",
    "    train_correct_count = 0\n",
    "    for batch_idx, (train_x, train_y) in enumerate(train_loader):\n",
    "        train_x = train_x.float()\n",
    "        train_y = train_y.long()\n",
    "        optimizer.zero_grad()\n",
    "        logits = net(train_x)\n",
    "        loss = criterion(logits, train_y)\n",
    "        loss.backward()\n",
    "        optimizer.step()\n",
    "\n",
    "        with torch.no_grad():\n",
    "            y_hat = torch.argmax(logits, dim=-1)\n",
    "            train_correct_count += torch.sum(y_hat == train_y, axis=-1)\n",
    "            train_count += train_x.size(0)\n",
    "\n",
    "    train_acc = train_correct_count / train_count\n",
    "    train_hist.append(train_acc)\n",
    "\n",
    "    net.eval()\n",
    "    val_count = 0\n",
    "    val_correct_count = 0\n",
    "    with torch.no_grad():\n",
    "        for idx, (val_x, val_y) in enumerate(val_loader):\n",
    "            val_x = val_x.float()\n",
    "            val_y = val_y.long()\n",
    "            logits = net(val_x).detach()\n",
    "            y_hat = torch.argmax(logits, dim=-1)\n",
    "            val_correct_count += torch.sum(y_hat == val_y, axis=-1)\n",
    "            val_count += val_x.size(0)\n",
    "    val_acc = val_correct_count / val_count\n",
    "    val_hist.append(val_acc)\n",
    "\n",
    "    print('Train acc: {:.3f}, Val acc: {:.3f}'.format(train_acc, val_acc))"
   ]
  },
  {
   "cell_type": "markdown",
   "metadata": {},
   "source": [
    "### Data"
   ]
  },
  {
   "cell_type": "code",
   "execution_count": 17,
   "metadata": {},
   "outputs": [],
   "source": [
    "X = np.load('preprocessed_data.npy')"
   ]
  },
  {
   "cell_type": "code",
   "execution_count": 18,
   "metadata": {},
   "outputs": [],
   "source": [
    "X = np.swapaxes(X, 1,2)"
   ]
  },
  {
   "cell_type": "code",
   "execution_count": 19,
   "metadata": {},
   "outputs": [
    {
     "data": {
      "text/plain": [
       "(69, 8, 750)"
      ]
     },
     "execution_count": 19,
     "metadata": {},
     "output_type": "execute_result"
    }
   ],
   "source": [
    "X.shape"
   ]
  },
  {
   "cell_type": "code",
   "execution_count": 20,
   "metadata": {},
   "outputs": [],
   "source": [
    "x_train = X"
   ]
  },
  {
   "cell_type": "code",
   "execution_count": 22,
   "metadata": {},
   "outputs": [],
   "source": [
    "y_train = 'valence'"
   ]
  },
  {
   "cell_type": "markdown",
   "metadata": {},
   "source": [
    "### Labels"
   ]
  },
  {
   "cell_type": "code",
   "execution_count": 33,
   "metadata": {},
   "outputs": [],
   "source": [
    "emocsv = pd.read_csv(\"emotion-data/Emotions! (Core) (Responses) - Form Responses 1.csv\")\n",
    "emocsv2 = emocsv.iloc[:,4:]"
   ]
  },
  {
   "cell_type": "code",
   "execution_count": 36,
   "metadata": {},
   "outputs": [],
   "source": [
    "new_cols = [\"How feel\", \"Pos\", \"Energ\", \"Dom\", \"Content\", \"Amused\", \"Angry\", \"Sad\", \"Disgust\", \"Afraid\", \"Emo\"]"
   ]
  },
  {
   "cell_type": "code",
   "execution_count": 37,
   "metadata": {},
   "outputs": [],
   "source": [
    "emo_labels = pd.DataFrame()\n",
    "\n",
    "for row in range(3):\n",
    "    sel_row = emocsv2.iloc[row]\n",
    "    for i in np.arange(0, emocsv2.shape[1], 11):\n",
    "        obs = sel_row[i:i+11].to_frame().T\n",
    "        obs = obs.rename(columns={obs.columns[i]: new_cols[i] for i in range(11)})\n",
    "        emo_labels = pd.concat([emo_labels, obs])"
   ]
  },
  {
   "cell_type": "code",
   "execution_count": 38,
   "metadata": {},
   "outputs": [],
   "source": [
    "emo_labels['Pos2'] = (emo_labels['Pos'] > 4) + 0\n",
    "emo_labels['Energ2'] = (emo_labels['Energ'] > 4) + 0\n",
    "emo_labels['Dom2'] = (emo_labels['Dom'] > 4) + 0"
   ]
  },
  {
   "cell_type": "code",
   "execution_count": 39,
   "metadata": {},
   "outputs": [
    {
     "data": {
      "text/plain": [
       "array([0, 0, 0, 1, 0, 0, 0, 1, 0, 0, 0, 1, 1, 1, 1, 1, 0, 0, 0, 1, 1, 1,\n",
       "       1, 1, 1, 1, 0, 1, 0, 1, 1, 0, 0, 0, 0, 1, 1, 1, 0, 0, 0, 1, 0, 0,\n",
       "       1, 0, 0, 0, 1, 0, 0, 1, 0, 0, 1, 0, 0, 1, 1, 1, 1, 1, 1, 1, 1, 1,\n",
       "       1, 1, 1])"
      ]
     },
     "execution_count": 39,
     "metadata": {},
     "output_type": "execute_result"
    }
   ],
   "source": [
    "valence = emo_labels['Pos2'].to_numpy()\n",
    "valence"
   ]
  },
  {
   "cell_type": "code",
   "execution_count": 40,
   "metadata": {},
   "outputs": [
    {
     "data": {
      "text/html": [
       "<div>\n",
       "<style scoped>\n",
       "    .dataframe tbody tr th:only-of-type {\n",
       "        vertical-align: middle;\n",
       "    }\n",
       "\n",
       "    .dataframe tbody tr th {\n",
       "        vertical-align: top;\n",
       "    }\n",
       "\n",
       "    .dataframe thead th {\n",
       "        text-align: right;\n",
       "    }\n",
       "</style>\n",
       "<table border=\"1\" class=\"dataframe\">\n",
       "  <thead>\n",
       "    <tr style=\"text-align: right;\">\n",
       "      <th></th>\n",
       "      <th>How feel</th>\n",
       "      <th>Pos</th>\n",
       "      <th>Energ</th>\n",
       "      <th>Dom</th>\n",
       "      <th>Content</th>\n",
       "      <th>Amused</th>\n",
       "      <th>Angry</th>\n",
       "      <th>Sad</th>\n",
       "      <th>Disgust</th>\n",
       "      <th>Afraid</th>\n",
       "      <th>Emo</th>\n",
       "      <th>Pos2</th>\n",
       "      <th>Energ2</th>\n",
       "      <th>Dom2</th>\n",
       "    </tr>\n",
       "  </thead>\n",
       "  <tbody>\n",
       "    <tr>\n",
       "      <th>0</th>\n",
       "      <td>disgusted, but the music made the video funny,...</td>\n",
       "      <td>2</td>\n",
       "      <td>3</td>\n",
       "      <td>7</td>\n",
       "      <td>1</td>\n",
       "      <td>2</td>\n",
       "      <td>4</td>\n",
       "      <td>1</td>\n",
       "      <td>5</td>\n",
       "      <td>1</td>\n",
       "      <td>Disgusted</td>\n",
       "      <td>0</td>\n",
       "      <td>0</td>\n",
       "      <td>1</td>\n",
       "    </tr>\n",
       "    <tr>\n",
       "      <th>0</th>\n",
       "      <td>disgusted</td>\n",
       "      <td>2</td>\n",
       "      <td>3</td>\n",
       "      <td>7</td>\n",
       "      <td>1</td>\n",
       "      <td>1</td>\n",
       "      <td>1</td>\n",
       "      <td>1</td>\n",
       "      <td>5</td>\n",
       "      <td>1</td>\n",
       "      <td>Disgusted</td>\n",
       "      <td>0</td>\n",
       "      <td>0</td>\n",
       "      <td>1</td>\n",
       "    </tr>\n",
       "    <tr>\n",
       "      <th>0</th>\n",
       "      <td>disgusted</td>\n",
       "      <td>1</td>\n",
       "      <td>5</td>\n",
       "      <td>7</td>\n",
       "      <td>1</td>\n",
       "      <td>1</td>\n",
       "      <td>1</td>\n",
       "      <td>1</td>\n",
       "      <td>5</td>\n",
       "      <td>1</td>\n",
       "      <td>Disgusted</td>\n",
       "      <td>0</td>\n",
       "      <td>1</td>\n",
       "      <td>1</td>\n",
       "    </tr>\n",
       "    <tr>\n",
       "      <th>0</th>\n",
       "      <td>relaxed</td>\n",
       "      <td>6</td>\n",
       "      <td>5</td>\n",
       "      <td>8</td>\n",
       "      <td>3</td>\n",
       "      <td>1</td>\n",
       "      <td>1</td>\n",
       "      <td>1</td>\n",
       "      <td>1</td>\n",
       "      <td>1</td>\n",
       "      <td>Neutral (unemotional)</td>\n",
       "      <td>1</td>\n",
       "      <td>1</td>\n",
       "      <td>1</td>\n",
       "    </tr>\n",
       "    <tr>\n",
       "      <th>0</th>\n",
       "      <td>moved, sad</td>\n",
       "      <td>3</td>\n",
       "      <td>4</td>\n",
       "      <td>3</td>\n",
       "      <td>1</td>\n",
       "      <td>1</td>\n",
       "      <td>1</td>\n",
       "      <td>3</td>\n",
       "      <td>1</td>\n",
       "      <td>1</td>\n",
       "      <td>Sad</td>\n",
       "      <td>0</td>\n",
       "      <td>0</td>\n",
       "      <td>0</td>\n",
       "    </tr>\n",
       "    <tr>\n",
       "      <th>...</th>\n",
       "      <td>...</td>\n",
       "      <td>...</td>\n",
       "      <td>...</td>\n",
       "      <td>...</td>\n",
       "      <td>...</td>\n",
       "      <td>...</td>\n",
       "      <td>...</td>\n",
       "      <td>...</td>\n",
       "      <td>...</td>\n",
       "      <td>...</td>\n",
       "      <td>...</td>\n",
       "      <td>...</td>\n",
       "      <td>...</td>\n",
       "      <td>...</td>\n",
       "    </tr>\n",
       "    <tr>\n",
       "      <th>2</th>\n",
       "      <td>DISREGARD</td>\n",
       "      <td>9</td>\n",
       "      <td>9</td>\n",
       "      <td>9</td>\n",
       "      <td>5</td>\n",
       "      <td>5</td>\n",
       "      <td>5</td>\n",
       "      <td>5</td>\n",
       "      <td>5</td>\n",
       "      <td>5</td>\n",
       "      <td>Afraid</td>\n",
       "      <td>1</td>\n",
       "      <td>1</td>\n",
       "      <td>1</td>\n",
       "    </tr>\n",
       "    <tr>\n",
       "      <th>2</th>\n",
       "      <td>DISREGARD</td>\n",
       "      <td>9</td>\n",
       "      <td>9</td>\n",
       "      <td>9</td>\n",
       "      <td>5</td>\n",
       "      <td>5</td>\n",
       "      <td>5</td>\n",
       "      <td>5</td>\n",
       "      <td>5</td>\n",
       "      <td>5</td>\n",
       "      <td>Afraid</td>\n",
       "      <td>1</td>\n",
       "      <td>1</td>\n",
       "      <td>1</td>\n",
       "    </tr>\n",
       "    <tr>\n",
       "      <th>2</th>\n",
       "      <td>DISREGARD</td>\n",
       "      <td>9</td>\n",
       "      <td>9</td>\n",
       "      <td>9</td>\n",
       "      <td>5</td>\n",
       "      <td>5</td>\n",
       "      <td>5</td>\n",
       "      <td>5</td>\n",
       "      <td>5</td>\n",
       "      <td>5</td>\n",
       "      <td>Afraid</td>\n",
       "      <td>1</td>\n",
       "      <td>1</td>\n",
       "      <td>1</td>\n",
       "    </tr>\n",
       "    <tr>\n",
       "      <th>2</th>\n",
       "      <td>DISREGARD</td>\n",
       "      <td>9</td>\n",
       "      <td>9</td>\n",
       "      <td>9</td>\n",
       "      <td>5</td>\n",
       "      <td>5</td>\n",
       "      <td>5</td>\n",
       "      <td>5</td>\n",
       "      <td>5</td>\n",
       "      <td>5</td>\n",
       "      <td>Afraid</td>\n",
       "      <td>1</td>\n",
       "      <td>1</td>\n",
       "      <td>1</td>\n",
       "    </tr>\n",
       "    <tr>\n",
       "      <th>2</th>\n",
       "      <td>DISREGARD</td>\n",
       "      <td>9</td>\n",
       "      <td>9</td>\n",
       "      <td>9</td>\n",
       "      <td>5</td>\n",
       "      <td>5</td>\n",
       "      <td>5</td>\n",
       "      <td>5</td>\n",
       "      <td>5</td>\n",
       "      <td>5</td>\n",
       "      <td>Afraid</td>\n",
       "      <td>1</td>\n",
       "      <td>1</td>\n",
       "      <td>1</td>\n",
       "    </tr>\n",
       "  </tbody>\n",
       "</table>\n",
       "<p>69 rows × 14 columns</p>\n",
       "</div>"
      ],
      "text/plain": [
       "                                             How feel Pos Energ Dom Content  \\\n",
       "0   disgusted, but the music made the video funny,...   2     3   7       1   \n",
       "0                                           disgusted   2     3   7       1   \n",
       "0                                           disgusted   1     5   7       1   \n",
       "0                                             relaxed   6     5   8       3   \n",
       "0                                          moved, sad   3     4   3       1   \n",
       "..                                                ...  ..   ...  ..     ...   \n",
       "2                                           DISREGARD   9     9   9       5   \n",
       "2                                           DISREGARD   9     9   9       5   \n",
       "2                                           DISREGARD   9     9   9       5   \n",
       "2                                           DISREGARD   9     9   9       5   \n",
       "2                                           DISREGARD   9     9   9       5   \n",
       "\n",
       "   Amused Angry Sad Disgust Afraid                    Emo  Pos2  Energ2  Dom2  \n",
       "0       2     4   1       5      1              Disgusted     0       0     1  \n",
       "0       1     1   1       5      1              Disgusted     0       0     1  \n",
       "0       1     1   1       5      1              Disgusted     0       1     1  \n",
       "0       1     1   1       1      1  Neutral (unemotional)     1       1     1  \n",
       "0       1     1   3       1      1                    Sad     0       0     0  \n",
       "..    ...   ...  ..     ...    ...                    ...   ...     ...   ...  \n",
       "2       5     5   5       5      5                 Afraid     1       1     1  \n",
       "2       5     5   5       5      5                 Afraid     1       1     1  \n",
       "2       5     5   5       5      5                 Afraid     1       1     1  \n",
       "2       5     5   5       5      5                 Afraid     1       1     1  \n",
       "2       5     5   5       5      5                 Afraid     1       1     1  \n",
       "\n",
       "[69 rows x 14 columns]"
      ]
     },
     "execution_count": 40,
     "metadata": {},
     "output_type": "execute_result"
    }
   ],
   "source": [
    "emo_labels"
   ]
  },
  {
   "cell_type": "code",
   "execution_count": 41,
   "metadata": {},
   "outputs": [],
   "source": [
    "formal_emotions = emo_labels['Emo']"
   ]
  },
  {
   "cell_type": "code",
   "execution_count": 42,
   "metadata": {},
   "outputs": [],
   "source": [
    "formal_emotions = formal_emotions.to_numpy()"
   ]
  },
  {
   "cell_type": "code",
   "execution_count": 43,
   "metadata": {},
   "outputs": [],
   "source": [
    "formal_emotions = formal_emotions.reshape((formal_emotions.size, 1))"
   ]
  },
  {
   "cell_type": "code",
   "execution_count": 44,
   "metadata": {},
   "outputs": [
    {
     "data": {
      "text/plain": [
       "array([[0., 0., 0., 0., 1., 0., 0., 0.],\n",
       "       [0., 0., 0., 0., 1., 0., 0., 0.],\n",
       "       [0., 0., 0., 0., 1., 0., 0., 0.],\n",
       "       [0., 0., 0., 0., 0., 1., 0., 0.],\n",
       "       [0., 0., 0., 0., 0., 0., 1., 0.],\n",
       "       [0., 0., 0., 0., 0., 0., 1., 0.],\n",
       "       [0., 0., 1., 0., 0., 0., 0., 0.],\n",
       "       [0., 0., 0., 0., 0., 1., 0., 0.],\n",
       "       [0., 0., 1., 0., 0., 0., 0., 0.],\n",
       "       [0., 0., 1., 0., 0., 0., 0., 0.],\n",
       "       [0., 0., 0., 0., 0., 1., 0., 0.],\n",
       "       [0., 0., 0., 0., 0., 1., 0., 0.],\n",
       "       [0., 0., 0., 0., 0., 1., 0., 0.],\n",
       "       [0., 0., 0., 1., 0., 0., 0., 0.],\n",
       "       [0., 0., 0., 1., 0., 0., 0., 0.],\n",
       "       [0., 0., 0., 0., 0., 1., 0., 0.],\n",
       "       [1., 0., 0., 0., 0., 0., 0., 0.],\n",
       "       [1., 0., 0., 0., 0., 0., 0., 0.],\n",
       "       [1., 0., 0., 0., 0., 0., 0., 0.],\n",
       "       [0., 0., 0., 0., 0., 1., 0., 0.],\n",
       "       [0., 0., 0., 1., 0., 0., 0., 0.],\n",
       "       [0., 0., 0., 1., 0., 0., 0., 0.],\n",
       "       [0., 1., 0., 0., 0., 0., 0., 0.],\n",
       "       [0., 1., 0., 0., 0., 0., 0., 0.],\n",
       "       [0., 1., 0., 0., 0., 0., 0., 0.],\n",
       "       [0., 1., 0., 0., 0., 0., 0., 0.],\n",
       "       [0., 0., 1., 0., 0., 0., 0., 0.],\n",
       "       [0., 0., 1., 0., 0., 0., 0., 0.],\n",
       "       [0., 0., 1., 0., 0., 0., 0., 0.],\n",
       "       [0., 1., 0., 0., 0., 0., 0., 0.],\n",
       "       [0., 0., 0., 0., 0., 1., 0., 0.],\n",
       "       [0., 0., 1., 0., 0., 0., 0., 0.],\n",
       "       [0., 0., 0., 0., 0., 1., 0., 0.],\n",
       "       [0., 0., 1., 0., 0., 0., 0., 0.],\n",
       "       [1., 0., 0., 0., 0., 0., 0., 0.],\n",
       "       [0., 1., 0., 0., 0., 0., 0., 0.],\n",
       "       [0., 0., 0., 1., 0., 0., 0., 0.],\n",
       "       [0., 1., 0., 0., 0., 0., 0., 0.],\n",
       "       [0., 0., 0., 0., 0., 1., 0., 0.],\n",
       "       [0., 0., 0., 0., 0., 0., 1., 0.],\n",
       "       [0., 0., 1., 0., 0., 0., 0., 0.],\n",
       "       [0., 0., 0., 1., 0., 0., 0., 0.],\n",
       "       [0., 0., 0., 0., 0., 0., 0., 1.],\n",
       "       [0., 0., 0., 0., 1., 0., 0., 0.],\n",
       "       [0., 1., 0., 0., 0., 0., 0., 0.],\n",
       "       [0., 0., 0., 0., 0., 0., 1., 0.],\n",
       "       [0., 0., 0., 0., 0., 1., 0., 0.],\n",
       "       [0., 0., 1., 0., 0., 0., 0., 0.],\n",
       "       [0., 0., 0., 0., 0., 1., 0., 0.],\n",
       "       [1., 0., 0., 0., 0., 0., 0., 0.],\n",
       "       [0., 0., 0., 0., 0., 1., 0., 0.],\n",
       "       [0., 0., 0., 0., 0., 1., 0., 0.],\n",
       "       [0., 0., 0., 0., 1., 0., 0., 0.],\n",
       "       [0., 0., 0., 0., 1., 0., 0., 0.],\n",
       "       [0., 0., 0., 0., 0., 1., 0., 0.],\n",
       "       [0., 0., 0., 0., 0., 1., 0., 0.],\n",
       "       [0., 0., 0., 0., 0., 0., 1., 0.],\n",
       "       [0., 0., 0., 1., 0., 0., 0., 0.],\n",
       "       [0., 0., 0., 0., 0., 1., 0., 0.],\n",
       "       [0., 0., 0., 1., 0., 0., 0., 0.],\n",
       "       [0., 0., 0., 1., 0., 0., 0., 0.],\n",
       "       [0., 1., 0., 0., 0., 0., 0., 0.],\n",
       "       [0., 1., 0., 0., 0., 0., 0., 0.],\n",
       "       [1., 0., 0., 0., 0., 0., 0., 0.],\n",
       "       [1., 0., 0., 0., 0., 0., 0., 0.],\n",
       "       [1., 0., 0., 0., 0., 0., 0., 0.],\n",
       "       [1., 0., 0., 0., 0., 0., 0., 0.],\n",
       "       [1., 0., 0., 0., 0., 0., 0., 0.],\n",
       "       [1., 0., 0., 0., 0., 0., 0., 0.]])"
      ]
     },
     "execution_count": 44,
     "metadata": {},
     "output_type": "execute_result"
    }
   ],
   "source": [
    "from sklearn.preprocessing import OneHotEncoder\n",
    "cat = OneHotEncoder()\n",
    "emotions_onehot = cat.fit_transform(formal_emotions).toarray()\n",
    "emotions_onehot"
   ]
  },
  {
   "cell_type": "code",
   "execution_count": null,
   "metadata": {},
   "outputs": [],
   "source": []
  },
  {
   "cell_type": "code",
   "execution_count": 45,
   "metadata": {},
   "outputs": [
    {
     "data": {
      "text/plain": [
       "tensor([[0.4190, 0.5810],\n",
       "        [0.4225, 0.5775],\n",
       "        [0.4635, 0.5365],\n",
       "        [0.3655, 0.6345],\n",
       "        [0.6712, 0.3288],\n",
       "        [0.7150, 0.2850],\n",
       "        [0.5300, 0.4700],\n",
       "        [0.5441, 0.4559],\n",
       "        [0.4731, 0.5269],\n",
       "        [0.7669, 0.2331],\n",
       "        [0.6581, 0.3419],\n",
       "        [0.7458, 0.2542],\n",
       "        [0.4056, 0.5944],\n",
       "        [0.4640, 0.5360],\n",
       "        [0.5538, 0.4462],\n",
       "        [0.6663, 0.3337],\n",
       "        [0.6237, 0.3763],\n",
       "        [0.6418, 0.3582],\n",
       "        [0.3801, 0.6199],\n",
       "        [0.5881, 0.4119],\n",
       "        [0.6624, 0.3376],\n",
       "        [0.4165, 0.5835],\n",
       "        [0.6837, 0.3163],\n",
       "        [0.7260, 0.2740],\n",
       "        [0.6144, 0.3856],\n",
       "        [0.8387, 0.1613],\n",
       "        [0.3359, 0.6641],\n",
       "        [0.2004, 0.7996],\n",
       "        [0.2442, 0.7558],\n",
       "        [0.3549, 0.6451],\n",
       "        [0.3922, 0.6078],\n",
       "        [0.7283, 0.2717],\n",
       "        [0.6744, 0.3256],\n",
       "        [0.5013, 0.4987],\n",
       "        [0.7975, 0.2025],\n",
       "        [0.6888, 0.3112],\n",
       "        [0.4949, 0.5051],\n",
       "        [0.3820, 0.6180],\n",
       "        [0.4316, 0.5684],\n",
       "        [0.6148, 0.3852],\n",
       "        [0.4899, 0.5101],\n",
       "        [0.8148, 0.1852],\n",
       "        [0.6115, 0.3885],\n",
       "        [0.5856, 0.4144],\n",
       "        [0.3136, 0.6864],\n",
       "        [0.7849, 0.2151],\n",
       "        [0.3308, 0.6692],\n",
       "        [0.6209, 0.3791],\n",
       "        [0.6190, 0.3810],\n",
       "        [0.5201, 0.4799],\n",
       "        [0.5015, 0.4985],\n",
       "        [0.5757, 0.4243],\n",
       "        [0.4794, 0.5206],\n",
       "        [0.5445, 0.4555],\n",
       "        [0.3581, 0.6419],\n",
       "        [0.4980, 0.5020],\n",
       "        [0.7638, 0.2362],\n",
       "        [0.4532, 0.5468],\n",
       "        [0.6381, 0.3619],\n",
       "        [0.5625, 0.4375],\n",
       "        [0.6206, 0.3794],\n",
       "        [0.2801, 0.7199],\n",
       "        [0.5585, 0.4415],\n",
       "        [0.1732, 0.8268],\n",
       "        [0.5088, 0.4912],\n",
       "        [0.5411, 0.4589],\n",
       "        [0.6375, 0.3625],\n",
       "        [0.6292, 0.3708],\n",
       "        [0.3678, 0.6322]], grad_fn=<SoftmaxBackward0>)"
      ]
     },
     "execution_count": 45,
     "metadata": {},
     "output_type": "execute_result"
    }
   ],
   "source": [
    "net.forward(Variable(torch.Tensor(x_train)))"
   ]
  },
  {
   "cell_type": "code",
   "execution_count": null,
   "metadata": {},
   "outputs": [],
   "source": []
  }
 ],
 "metadata": {
  "kernelspec": {
   "display_name": "base",
   "language": "python",
   "name": "python3"
  },
  "language_info": {
   "codemirror_mode": {
    "name": "ipython",
    "version": 3
   },
   "file_extension": ".py",
   "mimetype": "text/x-python",
   "name": "python",
   "nbconvert_exporter": "python",
   "pygments_lexer": "ipython3",
   "version": "3.10.5"
  }
 },
 "nbformat": 4,
 "nbformat_minor": 2
}
