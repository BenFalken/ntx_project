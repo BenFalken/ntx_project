{
 "cells": [
  {
   "cell_type": "code",
   "execution_count": 2,
   "metadata": {},
   "outputs": [],
   "source": [
    "import numpy as np\n",
    "import pandas as pd\n",
    "import matplotlib.pyplot as plt\n",
    "import scipy.signal as sig\n",
    "from scipy import stats\n",
    "import os\n",
    "import torch\n",
    "import torch.nn as nn\n",
    "import torch.nn.functional as F\n",
    "import torch.autograd as autograd\n",
    "from torch.autograd import Variable\n",
    "import torch.optim as optim\n",
    "from torch.jit import script, trace\n",
    "from torch.utils.data import DataLoader, TensorDataset\n",
    "\n",
    "from tqdm import tqdm\n",
    "\n",
    "from sklearn.metrics import f1_score\n",
    "from sklearn import preprocessing"
   ]
  },
  {
   "cell_type": "code",
   "execution_count": 3,
   "metadata": {},
   "outputs": [],
   "source": [
    "cwd = os.getcwd()"
   ]
  },
  {
   "cell_type": "markdown",
   "metadata": {},
   "source": [
    "## Load EEG Data"
   ]
  },
  {
   "cell_type": "code",
   "execution_count": 8,
   "metadata": {},
   "outputs": [],
   "source": [
    "emocsv = pd.read_csv(\"emos3.csv\")\n",
    "emocsv2 = emocsv.iloc[:,5:]"
   ]
  },
  {
   "cell_type": "code",
   "execution_count": 9,
   "metadata": {},
   "outputs": [],
   "source": [
    "new_cols = [\"How feel\", \"Pos\", \"Energ\", \"Dom\", \"Content\", \"Amused\", \"Angry\", \"Sad\", \"Disgust\", \"Afraid\", \"Emo\"]"
   ]
  },
  {
   "cell_type": "code",
   "execution_count": 10,
   "metadata": {},
   "outputs": [],
   "source": [
    "emo_labels = pd.DataFrame()\n",
    "\n",
    "for row in range(1):\n",
    "    sel_row = emocsv2.iloc[row]\n",
    "    for i in np.arange(0, emocsv2.shape[1], 11):\n",
    "        obs = sel_row[i:i+11].to_frame().T\n",
    "        obs = obs.rename(columns={obs.columns[i]: new_cols[i] for i in range(11)})\n",
    "        emo_labels = pd.concat([emo_labels, obs])"
   ]
  },
  {
   "cell_type": "code",
   "execution_count": 12,
   "metadata": {},
   "outputs": [],
   "source": [
    "emo_labels['Pos2'] = (emo_labels['Pos'] > 4) + 0\n",
    "emo_labels['Energ2'] = (emo_labels['Energ'] > 4) + 0\n",
    "emo_labels['Dom2'] = (emo_labels['Dom'] > 4) + 0"
   ]
  },
  {
   "cell_type": "code",
   "execution_count": 13,
   "metadata": {},
   "outputs": [],
   "source": [
    "#valence = emo_labels['Pos2'].to_numpy()\n",
    "#arousal = emo_labels['Energ2'].to_numpy()\n",
    "#dominance = emo_labels['Dom2'].to_numpy()\n",
    "\n",
    "valence = emo_labels['Pos'].to_numpy()\n",
    "arousal = emo_labels['Energ'].to_numpy()\n",
    "dominance = emo_labels['Dom'].to_numpy()"
   ]
  },
  {
   "cell_type": "code",
   "execution_count": 14,
   "metadata": {},
   "outputs": [],
   "source": [
    "fs = 250\n",
    "sos = sig.butter(4, [2*2/fs, 50*2/fs], btype='bandpass', output='sos')"
   ]
  },
  {
   "cell_type": "code",
   "execution_count": 15,
   "metadata": {},
   "outputs": [],
   "source": [
    "total_videos = 23\n",
    "n_samps = 750\n",
    "\n",
    "eeg_data = []\n",
    "y1 = []\n",
    "y2 = []\n",
    "y3 = []\n",
    "\n",
    "base_path = os.getcwd()\n",
    "eeg_data_folder = os.path.join(base_path, \"sandradata\\\\0420_Sandra_data\")\n",
    "\n",
    "for video_index in range(1, total_videos + 1):\n",
    "    session_folder = f\"OpenBCISession_0420_vid{video_index}\"\n",
    "    session_path = os.path.join(eeg_data_folder, session_folder)\n",
    "\n",
    "    # Find the EEG file in the session folder\n",
    "    for file in os.listdir(session_path):\n",
    "        if file.startswith(\"OpenBCI-RAW\"):\n",
    "            eeg_file_path = os.path.join(session_path, file)\n",
    "            break\n",
    "    else:\n",
    "        continue  # Skip to next video if no file is found\n",
    "    \n",
    "    # Read EEG data, assuming column indices for electrodes are from 1 to 8\n",
    "    eeg_df = pd.read_csv(\n",
    "        eeg_file_path, skiprows=5, header=None, usecols=list(range(1, 9))\n",
    "    )\n",
    "    eeg_df = eeg_df.values\n",
    "    eeg_df = eeg_df[500:-500,:]\n",
    "    tot_samps = eeg_df.shape[0]\n",
    "\n",
    "    eeg_df_filt = np.zeros_like(eeg_df)\n",
    "    for i in range(8):\n",
    "        eeg_df_filt[:,i] = sig.sosfilt(sos, eeg_df[:,i])\n",
    "\n",
    "    for i in range(0, tot_samps, n_samps):\n",
    "        obs = eeg_df_filt[i:i+750,:]\n",
    "\n",
    "        if obs.shape == (750, 8):\n",
    "            eeg_data.append(obs.T)\n",
    "            y1.append(valence[video_index-1])\n",
    "            y2.append(arousal[video_index-1])\n",
    "            y3.append(dominance[video_index-1])\n",
    "\n",
    "eeg_data = np.array(eeg_data)\n",
    "y1 = np.array(y1)\n",
    "y2 = np.array(y2)\n",
    "y3 = np.array(y3)"
   ]
  },
  {
   "cell_type": "code",
   "execution_count": 16,
   "metadata": {},
   "outputs": [
    {
     "data": {
      "text/plain": [
       "1916"
      ]
     },
     "execution_count": 16,
     "metadata": {},
     "output_type": "execute_result"
    }
   ],
   "source": [
    "n = eeg_data.shape[0]\n",
    "n"
   ]
  },
  {
   "cell_type": "code",
   "execution_count": 17,
   "metadata": {},
   "outputs": [
    {
     "data": {
      "text/plain": [
       "(1916, 8, 750)"
      ]
     },
     "execution_count": 17,
     "metadata": {},
     "output_type": "execute_result"
    }
   ],
   "source": [
    "eeg_data.shape"
   ]
  },
  {
   "cell_type": "code",
   "execution_count": 18,
   "metadata": {},
   "outputs": [],
   "source": [
    "eeg_data_z = stats.zscore(eeg_data, axis=2)"
   ]
  },
  {
   "cell_type": "code",
   "execution_count": 286,
   "metadata": {},
   "outputs": [],
   "source": [
    "np.save('eeg_data.npy', eeg_data_z)\n",
    "np.save('valence_labels.npy', y1)\n",
    "np.save('arousal_labels.npy', y2)\n",
    "np.save('dominance_labels.npy', y3)"
   ]
  },
  {
   "cell_type": "markdown",
   "metadata": {},
   "source": [
    "## Create DataLoaders"
   ]
  },
  {
   "cell_type": "code",
   "execution_count": 19,
   "metadata": {},
   "outputs": [
    {
     "data": {
      "text/plain": [
       "array([  48, 1903,  223, ..., 1096,  235, 1061])"
      ]
     },
     "execution_count": 19,
     "metadata": {},
     "output_type": "execute_result"
    }
   ],
   "source": [
    "indices = np.arange(n)\n",
    "np.random.seed(1)\n",
    "np.random.shuffle(indices)\n",
    "indices"
   ]
  },
  {
   "cell_type": "code",
   "execution_count": 20,
   "metadata": {},
   "outputs": [],
   "source": [
    "test_indices = indices[1556:]\n",
    "train_indices = indices[0:778]\n",
    "valid_indices = indices[778:1556]"
   ]
  },
  {
   "cell_type": "code",
   "execution_count": 21,
   "metadata": {},
   "outputs": [],
   "source": [
    "x_train = eeg_data_z[train_indices]\n",
    "y_train_v = y1[train_indices]\n",
    "y_train_a = y2[train_indices]\n",
    "y_train_d = y3[train_indices]\n",
    "\n",
    "x_valid = eeg_data_z[valid_indices]\n",
    "y_valid_v = y1[valid_indices]\n",
    "y_valid_a = y2[valid_indices]\n",
    "y_valid_d = y3[valid_indices]\n",
    "\n",
    "x_test = eeg_data_z[test_indices]\n",
    "y_test_v = y1[test_indices]\n",
    "y_test_a = y2[test_indices]\n",
    "y_test_d = y3[test_indices]"
   ]
  },
  {
   "cell_type": "code",
   "execution_count": 22,
   "metadata": {},
   "outputs": [],
   "source": [
    "train_subset_v = torch.utils.data.TensorDataset(torch.Tensor(x_train), torch.Tensor(y_train_v))\n",
    "val_subset_v = torch.utils.data.TensorDataset(torch.Tensor(x_valid), torch.Tensor(y_valid_v))\n",
    "test_dataset_v = torch.utils.data.TensorDataset(torch.Tensor(x_test), torch.Tensor(y_test_v))\n",
    "\n",
    "train_subset_a = torch.utils.data.TensorDataset(torch.Tensor(x_train), torch.Tensor(y_train_a))\n",
    "val_subset_a = torch.utils.data.TensorDataset(torch.Tensor(x_valid), torch.Tensor(y_valid_a))\n",
    "test_dataset_a = torch.utils.data.TensorDataset(torch.Tensor(x_test), torch.Tensor(y_test_a))\n",
    "\n",
    "train_subset_d = torch.utils.data.TensorDataset(torch.Tensor(x_train), torch.Tensor(y_train_d))\n",
    "val_subset_d = torch.utils.data.TensorDataset(torch.Tensor(x_valid), torch.Tensor(y_valid_d))\n",
    "test_dataset_d = torch.utils.data.TensorDataset(torch.Tensor(x_test), torch.Tensor(y_test_d))\n",
    "\n",
    "bsz = 100\n",
    "\n",
    "train_loader_v = torch.utils.data.DataLoader(train_subset_v, shuffle=True, batch_size=bsz)\n",
    "val_loader_v = torch.utils.data.DataLoader(val_subset_v, shuffle=False, batch_size=bsz)\n",
    "test_loader_v = torch.utils.data.DataLoader(test_dataset_v, shuffle=False, batch_size=bsz)\n",
    "\n",
    "train_loader_a = torch.utils.data.DataLoader(train_subset_a, shuffle=True, batch_size=bsz)\n",
    "val_loader_a = torch.utils.data.DataLoader(val_subset_a, shuffle=False, batch_size=bsz)\n",
    "test_loader_a = torch.utils.data.DataLoader(test_dataset_a, shuffle=False, batch_size=bsz)\n",
    "\n",
    "train_loader_d = torch.utils.data.DataLoader(train_subset_d, shuffle=True, batch_size=bsz)\n",
    "val_loader_d = torch.utils.data.DataLoader(val_subset_d, shuffle=False, batch_size=bsz)\n",
    "test_loader_d = torch.utils.data.DataLoader(test_dataset_d, shuffle=False, batch_size=bsz)"
   ]
  },
  {
   "cell_type": "markdown",
   "metadata": {},
   "source": [
    "## Neural Network"
   ]
  },
  {
   "cell_type": "code",
   "execution_count": 23,
   "metadata": {},
   "outputs": [],
   "source": [
    "samp_time = 750\n",
    "n_channels = 8"
   ]
  },
  {
   "cell_type": "code",
   "execution_count": 292,
   "metadata": {},
   "outputs": [],
   "source": [
    "class CNN_LSTM(nn.Module):\n",
    "    def __init__(self):\n",
    "        super(CNN_LSTM, self).__init__()\n",
    "        self.conv1d = nn.Conv1d(in_channels=8, out_channels=40, kernel_size=20, stride=4)\n",
    "        self.relu = nn.ReLU()\n",
    "        self.dropout1 = nn.Dropout(p=0.5)\n",
    "        self.batchnorm1 = nn.BatchNorm1d(40)\n",
    "        self.maxpool = nn.MaxPool1d(kernel_size=4, stride=4)\n",
    "        self.lstm1 = nn.LSTM(input_size=45, hidden_size=30)\n",
    "        self.dropout2 = nn.Dropout(p=0.5)\n",
    "        self.batchnorm2 = nn.BatchNorm1d(40)\n",
    "        self.lstm2 = nn.LSTM(input_size=30, hidden_size=10)\n",
    "        self.dropout3 = nn.Dropout(p=0.5)\n",
    "        self.batchnorm3 = nn.BatchNorm1d(40)\n",
    "        self.flatten = nn.Flatten()\n",
    "        self.dense = nn.Linear(400,2)\n",
    "        self.softmax = nn.Softmax(dim=1)\n",
    "\n",
    "    def forward(self, x):\n",
    "        x = self.conv1d(x)\n",
    "        x = self.relu(x)\n",
    "        x = self.dropout1(x)\n",
    "        x = self.batchnorm1(x)\n",
    "        x = self.maxpool(x)\n",
    "        x, _ = self.lstm1(x)\n",
    "        x = self.dropout2(x)\n",
    "        x = self.batchnorm2(x)\n",
    "        x, _ = self.lstm2(x)\n",
    "        x = self.dropout3(x)\n",
    "        x = self.batchnorm3(x)\n",
    "        x = self.flatten(x)\n",
    "        x = self.dense(x)\n",
    "        x = self.softmax(x)\n",
    "\n",
    "        return x"
   ]
  },
  {
   "cell_type": "code",
   "execution_count": 293,
   "metadata": {},
   "outputs": [],
   "source": [
    "class CNN_LSTM2(nn.Module):\n",
    "    def __init__(self):\n",
    "        super(CNN_LSTM2, self).__init__()\n",
    "        self.conv1d = nn.Conv1d(in_channels=8, out_channels=24, kernel_size=20, stride=4)\n",
    "        self.elu = nn.ELU()\n",
    "        self.dropout1 = nn.Dropout(p=0.5)\n",
    "        self.batchnorm1 = nn.BatchNorm1d(24)\n",
    "        self.maxpool = nn.MaxPool1d(kernel_size=4, stride=4)\n",
    "        self.lstm1 = nn.LSTM(input_size=45, hidden_size=30)\n",
    "        self.dropout2 = nn.Dropout(p=0.5)\n",
    "        self.batchnorm2 = nn.BatchNorm1d(24)\n",
    "        self.flatten = nn.Flatten()\n",
    "        self.dense = nn.Linear(720,2)\n",
    "        self.softmax = nn.Softmax(dim=1)\n",
    "\n",
    "    def forward(self, x):\n",
    "        x = self.conv1d(x)\n",
    "        x = self.elu(x)\n",
    "        x = self.dropout1(x)\n",
    "        x = self.batchnorm1(x)\n",
    "        x = self.maxpool(x)\n",
    "        x, _ = self.lstm1(x)\n",
    "        x = self.dropout2(x)\n",
    "        x = self.batchnorm2(x)\n",
    "        x = self.flatten(x)\n",
    "        x = self.dense(x)\n",
    "        x = self.softmax(x)\n",
    "\n",
    "        return x"
   ]
  },
  {
   "cell_type": "code",
   "execution_count": 24,
   "metadata": {},
   "outputs": [],
   "source": [
    "class CNN_LSTM3(nn.Module):\n",
    "    def __init__(self):\n",
    "        super(CNN_LSTM3, self).__init__()\n",
    "        self.conv1d = nn.Conv1d(in_channels=8, out_channels=24, kernel_size=20, stride=4)\n",
    "        self.elu = nn.ELU()\n",
    "        self.dropout1 = nn.Dropout(p=0.5)\n",
    "        self.batchnorm1 = nn.BatchNorm1d(24)\n",
    "        self.maxpool = nn.MaxPool1d(kernel_size=4, stride=4)\n",
    "        self.lstm1 = nn.LSTM(input_size=45, hidden_size=30)\n",
    "        self.dropout2 = nn.Dropout(p=0.5)\n",
    "        self.batchnorm2 = nn.BatchNorm1d(24)\n",
    "        self.flatten = nn.Flatten()\n",
    "        self.dense = nn.Linear(720,1)\n",
    "\n",
    "    def forward(self, x):\n",
    "        x = self.conv1d(x)\n",
    "        x = self.elu(x)\n",
    "        x = self.dropout1(x)\n",
    "        x = self.batchnorm1(x)\n",
    "        x = self.maxpool(x)\n",
    "        x, _ = self.lstm1(x)\n",
    "        x = self.dropout2(x)\n",
    "        x = self.batchnorm2(x)\n",
    "        x = self.flatten(x)\n",
    "        x = self.dense(x)\n",
    "\n",
    "        return x"
   ]
  },
  {
   "cell_type": "code",
   "execution_count": null,
   "metadata": {},
   "outputs": [],
   "source": [
    "input_size = (n_channels, samp_time)\n",
    "\n",
    "# Random input tensor with the specified dimensions\n",
    "input_tensor = torch.randn(1, *input_size)\n",
    "print(input_tensor.shape)\n",
    "\n",
    "# create neural networks\n",
    "test_net = CNN_LSTM()\n",
    "logittest = test_net.forward(Variable(input_tensor))\n",
    "print(logittest)\n",
    "test_criterion = nn.CrossEntropyLoss() # add to device here\n",
    "test_optimizer = optim.Adam(test_net.parameters(), lr=0.001, weight_decay=1e-7)\n",
    "\n",
    "torch.argmax(logittest, dim=-1)"
   ]
  },
  {
   "cell_type": "code",
   "execution_count": 25,
   "metadata": {},
   "outputs": [
    {
     "name": "stdout",
     "output_type": "stream",
     "text": [
      "torch.Size([1, 8, 750])\n",
      "tensor([[-0.3452]], grad_fn=<AddmmBackward0>)\n"
     ]
    }
   ],
   "source": [
    "input_size = (n_channels, samp_time)\n",
    "\n",
    "# Random input tensor with the specified dimensions\n",
    "input_tensor = torch.randn(1, *input_size)\n",
    "print(input_tensor.shape)\n",
    "\n",
    "# create neural networks\n",
    "test_net = CNN_LSTM3()\n",
    "numtest = test_net.forward(Variable(input_tensor))\n",
    "print(numtest)\n",
    "test_criterion = nn.MSELoss() # add to device here\n",
    "test_optimizer = optim.Adam(test_net.parameters(), lr=0.001, weight_decay=1e-7)"
   ]
  },
  {
   "cell_type": "code",
   "execution_count": 294,
   "metadata": {},
   "outputs": [
    {
     "name": "stdout",
     "output_type": "stream",
     "text": [
      "torch.Size([1, 8, 750])\n",
      "tensor([[0.4167, 0.5833]], grad_fn=<SoftmaxBackward0>)\n"
     ]
    },
    {
     "data": {
      "text/plain": [
       "tensor([1])"
      ]
     },
     "execution_count": 294,
     "metadata": {},
     "output_type": "execute_result"
    }
   ],
   "source": [
    "input_size = (n_channels, samp_time)\n",
    "\n",
    "# Random input tensor with the specified dimensions\n",
    "input_tensor = torch.randn(1, *input_size)\n",
    "print(input_tensor.shape)\n",
    "\n",
    "# create neural networks\n",
    "test_net = CNN_LSTM2()\n",
    "logittest = test_net.forward(Variable(input_tensor))\n",
    "print(logittest)\n",
    "test_criterion = nn.CrossEntropyLoss() # add to device here\n",
    "test_optimizer = optim.Adam(test_net.parameters(), lr=0.001, weight_decay=1e-7)\n",
    "\n",
    "torch.argmax(logittest, dim=-1)"
   ]
  },
  {
   "cell_type": "code",
   "execution_count": 30,
   "metadata": {},
   "outputs": [],
   "source": [
    "def train_net2(net, optimizer, criterion, train_loader, val_loader, num_epochs):\n",
    "    for epoch in range(num_epochs):\n",
    "        net.train()\n",
    "        for batch_idx, (train_x, train_y) in enumerate(train_loader):\n",
    "            train_x = train_x.float()\n",
    "            train_y = train_y.float()\n",
    "            optimizer.zero_grad()\n",
    "            train_y_hat = net(train_x)\n",
    "            loss = criterion(train_y_hat, train_y)\n",
    "            print(f'Training loss: {loss}')\n",
    "            loss.backward()\n",
    "            optimizer.step()\n",
    "\n",
    "        net.eval()\n",
    "        with torch.no_grad():\n",
    "            for idx, (val_x, val_y) in enumerate(val_loader):\n",
    "                val_x = val_x.float()\n",
    "                val_y = val_y.float()\n",
    "                train_y_val = net(val_x)\n",
    "                v_loss = criterion(train_y_val, val_y)\n",
    "                print(f'Validation loss: {v_loss}')\n",
    "        "
   ]
  },
  {
   "cell_type": "code",
   "execution_count": 26,
   "metadata": {},
   "outputs": [],
   "source": [
    "def train_net(net, optimizer, criterion, train_loader, val_loader, num_epochs):\n",
    "    train_hist = []\n",
    "    val_hist = []\n",
    "\n",
    "    for epoch_idx in tqdm(range(num_epochs)):\n",
    "        net.train()\n",
    "        train_count = 0\n",
    "        train_correct_count = 0\n",
    "        for batch_idx, (train_x, train_y) in enumerate(train_loader):\n",
    "            train_x = train_x.float()\n",
    "            train_y = train_y.long()\n",
    "            optimizer.zero_grad()\n",
    "            logits = net(train_x)\n",
    "            loss = criterion(logits, train_y)\n",
    "            loss.backward()\n",
    "            optimizer.step()\n",
    "\n",
    "            with torch.no_grad():\n",
    "                y_hat = torch.argmax(logits, dim=-1)\n",
    "                train_correct_count += torch.sum(y_hat == train_y, axis=-1)\n",
    "                train_count += train_x.size(0)\n",
    "\n",
    "        train_acc = train_correct_count / train_count\n",
    "        train_hist.append(train_acc)\n",
    "\n",
    "        net.eval()\n",
    "        val_count = 0\n",
    "        val_correct_count = 0\n",
    "        with torch.no_grad():\n",
    "            for idx, (val_x, val_y) in enumerate(val_loader):\n",
    "                val_x = val_x.float()\n",
    "                val_y = val_y.long()\n",
    "                logits = net(val_x).detach()\n",
    "                y_hat = torch.argmax(logits, dim=-1)\n",
    "                val_correct_count += torch.sum(y_hat == val_y, axis=-1)\n",
    "                val_count += val_x.size(0)\n",
    "        val_acc = val_correct_count / val_count\n",
    "        val_hist.append(val_acc)\n",
    "        print('Train acc: {:.3f}, Val acc: {:.3f}'.format(train_acc, val_acc))\n",
    "\n",
    "    plt.plot(train_hist)\n",
    "    plt.plot(val_hist)"
   ]
  },
  {
   "cell_type": "code",
   "execution_count": 214,
   "metadata": {},
   "outputs": [],
   "source": [
    "def eval_net(net, test_loader):\n",
    "    net.eval()\n",
    "    test_count = 0\n",
    "    test_correct_count = 0\n",
    "    with torch.no_grad():\n",
    "        for idx, (test_x, test_y) in enumerate(test_loader):\n",
    "            test_x = test_x.float()\n",
    "            test_y = test_y.long()\n",
    "            logits = net(test_x).detach()\n",
    "            y_hat = torch.argmax(logits, dim=-1)\n",
    "            test_correct_count += torch.sum(y_hat == test_y, axis=-1)\n",
    "            test_count += test_x.size(0)\n",
    "    test_acc = test_correct_count / test_count\n",
    "\n",
    "    print('Test acc: {:.10f}'.format(test_acc))"
   ]
  },
  {
   "cell_type": "code",
   "execution_count": 34,
   "metadata": {},
   "outputs": [],
   "source": [
    "def eval_net2(net, criterion, test_x, test_y):\n",
    "    net.eval()\n",
    "    test_loss = 0\n",
    "    with torch.no_grad():\n",
    "        test_x = test_x.float()\n",
    "        test_y = test_y.float()\n",
    "        y_pred = net(test_x)\n",
    "        test_loss = criterion(y_pred, test_y)\n",
    "\n",
    "    print(f'Test loss: {test_loss}')"
   ]
  },
  {
   "cell_type": "code",
   "execution_count": 35,
   "metadata": {},
   "outputs": [
    {
     "name": "stdout",
     "output_type": "stream",
     "text": [
      "Test loss: 6.0186004638671875\n"
     ]
    },
    {
     "name": "stderr",
     "output_type": "stream",
     "text": [
      "c:\\Users\\Mateo\\anaconda3\\Lib\\site-packages\\torch\\nn\\modules\\loss.py:535: UserWarning: Using a target size (torch.Size([360])) that is different to the input size (torch.Size([360, 1])). This will likely lead to incorrect results due to broadcasting. Please ensure they have the same size.\n",
      "  return F.mse_loss(input, target, reduction=self.reduction)\n"
     ]
    }
   ],
   "source": [
    "eval_net2(v_net_reg, vr_criterion, torch.Tensor(x_test), torch.Tensor(y_test_v))"
   ]
  },
  {
   "cell_type": "code",
   "execution_count": 31,
   "metadata": {},
   "outputs": [
    {
     "name": "stderr",
     "output_type": "stream",
     "text": [
      "c:\\Users\\Mateo\\anaconda3\\Lib\\site-packages\\torch\\nn\\modules\\loss.py:535: UserWarning: Using a target size (torch.Size([100])) that is different to the input size (torch.Size([100, 1])). This will likely lead to incorrect results due to broadcasting. Please ensure they have the same size.\n",
      "  return F.mse_loss(input, target, reduction=self.reduction)\n"
     ]
    },
    {
     "name": "stdout",
     "output_type": "stream",
     "text": [
      "Training loss: 33.31789779663086\n",
      "Training loss: 28.419511795043945\n",
      "Training loss: 21.128395080566406\n",
      "Training loss: 17.408592224121094\n",
      "Training loss: 16.981977462768555\n",
      "Training loss: 13.559046745300293\n",
      "Training loss: 12.677828788757324\n",
      "Training loss: 10.160516738891602\n",
      "Validation loss: 20.01841163635254\n",
      "Validation loss: 16.579627990722656\n",
      "Validation loss: 18.810564041137695\n",
      "Validation loss: 18.39434051513672\n",
      "Validation loss: 19.695213317871094\n",
      "Validation loss: 21.3814640045166\n",
      "Validation loss: 17.788711547851562\n"
     ]
    },
    {
     "name": "stderr",
     "output_type": "stream",
     "text": [
      "c:\\Users\\Mateo\\anaconda3\\Lib\\site-packages\\torch\\nn\\modules\\loss.py:535: UserWarning: Using a target size (torch.Size([78])) that is different to the input size (torch.Size([78, 1])). This will likely lead to incorrect results due to broadcasting. Please ensure they have the same size.\n",
      "  return F.mse_loss(input, target, reduction=self.reduction)\n"
     ]
    },
    {
     "name": "stdout",
     "output_type": "stream",
     "text": [
      "Validation loss: 19.508014678955078\n",
      "Training loss: 7.025251388549805\n",
      "Training loss: 9.292494773864746\n",
      "Training loss: 6.965639114379883\n",
      "Training loss: 5.8004150390625\n",
      "Training loss: 6.306933879852295\n",
      "Training loss: 5.5446367263793945\n",
      "Training loss: 6.362428188323975\n",
      "Training loss: 6.350800514221191\n",
      "Validation loss: 8.56399917602539\n",
      "Validation loss: 7.74573278427124\n",
      "Validation loss: 7.274929046630859\n",
      "Validation loss: 7.573860168457031\n",
      "Validation loss: 8.184103012084961\n",
      "Validation loss: 8.612272262573242\n",
      "Validation loss: 7.061763286590576\n",
      "Validation loss: 7.558921813964844\n",
      "Training loss: 6.324739933013916\n",
      "Training loss: 6.967755317687988\n",
      "Training loss: 8.020539283752441\n",
      "Training loss: 7.082712650299072\n",
      "Training loss: 6.940444469451904\n",
      "Training loss: 6.629199028015137\n",
      "Training loss: 6.812049865722656\n",
      "Training loss: 8.352276802062988\n",
      "Validation loss: 7.318187713623047\n",
      "Validation loss: 7.433255672454834\n",
      "Validation loss: 5.96655797958374\n",
      "Validation loss: 6.544225692749023\n",
      "Validation loss: 7.076303958892822\n",
      "Validation loss: 6.935277938842773\n",
      "Validation loss: 6.007990837097168\n",
      "Validation loss: 6.1644206047058105\n",
      "Training loss: 6.90686559677124\n",
      "Training loss: 6.581811904907227\n",
      "Training loss: 6.217174053192139\n",
      "Training loss: 6.611820220947266\n",
      "Training loss: 5.313847541809082\n",
      "Training loss: 5.727137565612793\n",
      "Training loss: 6.175076484680176\n",
      "Training loss: 6.573416233062744\n",
      "Validation loss: 8.652177810668945\n",
      "Validation loss: 7.775310039520264\n",
      "Validation loss: 7.3950724601745605\n",
      "Validation loss: 7.658160209655762\n",
      "Validation loss: 8.282090187072754\n",
      "Validation loss: 8.762449264526367\n",
      "Validation loss: 7.133935928344727\n",
      "Validation loss: 7.585916996002197\n",
      "Training loss: 6.247595310211182\n",
      "Training loss: 5.908668041229248\n",
      "Training loss: 5.894427299499512\n",
      "Training loss: 6.276986122131348\n",
      "Training loss: 5.892369747161865\n",
      "Training loss: 6.427579879760742\n",
      "Training loss: 6.057251930236816\n",
      "Training loss: 5.827313423156738\n",
      "Validation loss: 8.600895881652832\n",
      "Validation loss: 7.744109153747559\n",
      "Validation loss: 7.342601776123047\n",
      "Validation loss: 7.609084606170654\n",
      "Validation loss: 8.238245010375977\n",
      "Validation loss: 8.698188781738281\n",
      "Validation loss: 7.084485054016113\n",
      "Validation loss: 7.500020980834961\n",
      "Training loss: 5.361437797546387\n",
      "Training loss: 6.142472743988037\n",
      "Training loss: 5.833745002746582\n",
      "Training loss: 6.409846305847168\n",
      "Training loss: 5.500559329986572\n",
      "Training loss: 5.717720985412598\n",
      "Training loss: 6.413819313049316\n",
      "Training loss: 6.497486591339111\n",
      "Validation loss: 7.8402099609375\n",
      "Validation loss: 7.42302131652832\n",
      "Validation loss: 6.545875072479248\n",
      "Validation loss: 6.946299076080322\n",
      "Validation loss: 7.531848430633545\n",
      "Validation loss: 7.714503288269043\n",
      "Validation loss: 6.429399013519287\n",
      "Validation loss: 6.6744279861450195\n",
      "Training loss: 6.016550064086914\n",
      "Training loss: 6.274307727813721\n",
      "Training loss: 6.144121170043945\n",
      "Training loss: 5.698906898498535\n",
      "Training loss: 6.22662353515625\n",
      "Training loss: 5.763125896453857\n",
      "Training loss: 4.952888488769531\n",
      "Training loss: 6.533842086791992\n",
      "Validation loss: 7.469514846801758\n",
      "Validation loss: 7.336873531341553\n",
      "Validation loss: 6.160070419311523\n",
      "Validation loss: 6.646481037139893\n",
      "Validation loss: 7.2024312019348145\n",
      "Validation loss: 7.210504531860352\n",
      "Validation loss: 6.12467622756958\n",
      "Validation loss: 6.280924320220947\n",
      "Training loss: 5.548274993896484\n",
      "Training loss: 6.01361608505249\n",
      "Training loss: 5.960775852203369\n",
      "Training loss: 5.984465599060059\n",
      "Training loss: 5.885560035705566\n",
      "Training loss: 6.131198883056641\n",
      "Training loss: 6.050515174865723\n",
      "Training loss: 5.802082061767578\n",
      "Validation loss: 7.715365409851074\n",
      "Validation loss: 7.381968021392822\n",
      "Validation loss: 6.439545154571533\n",
      "Validation loss: 6.857119560241699\n",
      "Validation loss: 7.436069488525391\n",
      "Validation loss: 7.567941188812256\n",
      "Validation loss: 6.3244500160217285\n",
      "Validation loss: 6.551154136657715\n",
      "Training loss: 6.365435600280762\n",
      "Training loss: 5.987017631530762\n",
      "Training loss: 6.025551795959473\n",
      "Training loss: 5.9296088218688965\n",
      "Training loss: 5.7532548904418945\n",
      "Training loss: 6.353888988494873\n",
      "Training loss: 5.526174068450928\n",
      "Training loss: 5.6293416023254395\n",
      "Validation loss: 7.791228294372559\n",
      "Validation loss: 7.405640602111816\n",
      "Validation loss: 6.540472030639648\n",
      "Validation loss: 6.936830520629883\n",
      "Validation loss: 7.529342174530029\n",
      "Validation loss: 7.688374996185303\n",
      "Validation loss: 6.394914150238037\n",
      "Validation loss: 6.652139663696289\n",
      "Training loss: 6.022575855255127\n",
      "Training loss: 6.1193647384643555\n",
      "Training loss: 6.253548622131348\n",
      "Training loss: 5.269465446472168\n",
      "Training loss: 6.120007038116455\n",
      "Training loss: 5.605044364929199\n",
      "Training loss: 5.805596351623535\n",
      "Training loss: 6.216715335845947\n",
      "Validation loss: 7.539855480194092\n",
      "Validation loss: 7.33474063873291\n",
      "Validation loss: 6.270822525024414\n",
      "Validation loss: 6.725815773010254\n",
      "Validation loss: 7.304140567779541\n",
      "Validation loss: 7.342746257781982\n",
      "Validation loss: 6.187018871307373\n",
      "Validation loss: 6.383535861968994\n",
      "Training loss: 5.941237449645996\n",
      "Training loss: 5.204590797424316\n",
      "Training loss: 6.988180637359619\n",
      "Training loss: 5.88331413269043\n",
      "Training loss: 5.321620464324951\n",
      "Training loss: 5.438360214233398\n",
      "Training loss: 5.8163161277771\n",
      "Training loss: 7.001648902893066\n",
      "Validation loss: 7.612603187561035\n",
      "Validation loss: 7.34614372253418\n",
      "Validation loss: 6.341527938842773\n",
      "Validation loss: 6.780078887939453\n",
      "Validation loss: 7.368769645690918\n",
      "Validation loss: 7.4352030754089355\n",
      "Validation loss: 6.243879318237305\n",
      "Validation loss: 6.450726509094238\n",
      "Training loss: 4.911389350891113\n",
      "Training loss: 6.453346252441406\n",
      "Training loss: 6.073966979980469\n",
      "Training loss: 6.2577056884765625\n",
      "Training loss: 6.126809597015381\n",
      "Training loss: 5.844551086425781\n",
      "Training loss: 5.473069667816162\n",
      "Training loss: 5.982421398162842\n",
      "Validation loss: 7.550901412963867\n",
      "Validation loss: 7.329041481018066\n",
      "Validation loss: 6.276186943054199\n",
      "Validation loss: 6.729936122894287\n",
      "Validation loss: 7.3133320808410645\n",
      "Validation loss: 7.351585865020752\n",
      "Validation loss: 6.191748142242432\n",
      "Validation loss: 6.382992267608643\n",
      "Training loss: 5.9141316413879395\n",
      "Training loss: 5.863977909088135\n",
      "Training loss: 5.609652519226074\n",
      "Training loss: 5.955517768859863\n",
      "Training loss: 5.377152442932129\n",
      "Training loss: 6.185664653778076\n",
      "Training loss: 5.942188739776611\n",
      "Training loss: 6.330320358276367\n",
      "Validation loss: 7.580509185791016\n",
      "Validation loss: 7.333221912384033\n",
      "Validation loss: 6.307640075683594\n",
      "Validation loss: 6.755728244781494\n",
      "Validation loss: 7.342921733856201\n",
      "Validation loss: 7.393046855926514\n",
      "Validation loss: 6.212708950042725\n",
      "Validation loss: 6.417139053344727\n",
      "Training loss: 6.74018669128418\n",
      "Training loss: 5.853025436401367\n",
      "Training loss: 5.637570381164551\n",
      "Training loss: 5.844396591186523\n",
      "Training loss: 5.817884922027588\n",
      "Training loss: 5.41465425491333\n",
      "Training loss: 6.015747547149658\n",
      "Training loss: 5.83560037612915\n",
      "Validation loss: 7.503775596618652\n",
      "Validation loss: 7.316025733947754\n",
      "Validation loss: 6.228262424468994\n",
      "Validation loss: 6.695022106170654\n",
      "Validation loss: 7.272213459014893\n",
      "Validation loss: 7.291392803192139\n",
      "Validation loss: 6.142667293548584\n",
      "Validation loss: 6.339418888092041\n",
      "Training loss: 6.300172805786133\n",
      "Training loss: 5.853416442871094\n",
      "Training loss: 6.483016014099121\n",
      "Training loss: 5.77559232711792\n",
      "Training loss: 4.96769905090332\n",
      "Training loss: 6.057458877563477\n",
      "Training loss: 5.688270092010498\n",
      "Training loss: 5.814974308013916\n",
      "Validation loss: 7.465139865875244\n",
      "Validation loss: 7.3082594871521\n",
      "Validation loss: 6.187801361083984\n",
      "Validation loss: 6.6656975746154785\n",
      "Validation loss: 7.241361141204834\n",
      "Validation loss: 7.239377975463867\n",
      "Validation loss: 6.10781192779541\n",
      "Validation loss: 6.30462646484375\n",
      "Training loss: 6.701127529144287\n",
      "Training loss: 6.238525390625\n",
      "Training loss: 5.399734020233154\n",
      "Training loss: 5.845001220703125\n",
      "Training loss: 6.2066216468811035\n",
      "Training loss: 5.589803218841553\n",
      "Training loss: 5.017277717590332\n",
      "Training loss: 5.988324165344238\n",
      "Validation loss: 7.540970325469971\n",
      "Validation loss: 7.318289756774902\n",
      "Validation loss: 6.263383388519287\n",
      "Validation loss: 6.720942974090576\n",
      "Validation loss: 7.304121971130371\n",
      "Validation loss: 7.334341526031494\n",
      "Validation loss: 6.161086559295654\n",
      "Validation loss: 6.372448444366455\n",
      "Training loss: 5.325356960296631\n",
      "Training loss: 5.402896881103516\n",
      "Training loss: 6.119709491729736\n",
      "Training loss: 6.3467488288879395\n",
      "Training loss: 5.715206146240234\n",
      "Training loss: 6.337340831756592\n",
      "Training loss: 5.548326015472412\n",
      "Training loss: 6.160195350646973\n",
      "Validation loss: 7.484858512878418\n",
      "Validation loss: 7.295411109924316\n",
      "Validation loss: 6.19931173324585\n",
      "Validation loss: 6.66951322555542\n",
      "Validation loss: 7.255886077880859\n",
      "Validation loss: 7.253546237945557\n",
      "Validation loss: 6.11296272277832\n",
      "Validation loss: 6.3077592849731445\n",
      "Training loss: 5.748435020446777\n",
      "Training loss: 6.1594719886779785\n",
      "Training loss: 6.346724033355713\n",
      "Training loss: 5.629783630371094\n",
      "Training loss: 5.6944661140441895\n",
      "Training loss: 5.4934210777282715\n",
      "Training loss: 5.944088459014893\n",
      "Training loss: 5.772223949432373\n",
      "Validation loss: 7.359340667724609\n",
      "Validation loss: 7.264718055725098\n",
      "Validation loss: 6.060632228851318\n",
      "Validation loss: 6.566256046295166\n",
      "Validation loss: 7.150737285614014\n",
      "Validation loss: 7.077093601226807\n",
      "Validation loss: 6.012909412384033\n",
      "Validation loss: 6.17881441116333\n",
      "Training loss: 5.401218891143799\n",
      "Training loss: 5.737558364868164\n",
      "Training loss: 6.660386085510254\n",
      "Training loss: 5.142879962921143\n",
      "Training loss: 4.897301197052002\n",
      "Training loss: 6.682827472686768\n",
      "Training loss: 6.311934471130371\n",
      "Training loss: 6.020326137542725\n",
      "Validation loss: 7.292396068572998\n",
      "Validation loss: 7.251185894012451\n",
      "Validation loss: 5.987965106964111\n",
      "Validation loss: 6.513875961303711\n",
      "Validation loss: 7.095556259155273\n",
      "Validation loss: 6.986688137054443\n",
      "Validation loss: 5.957836627960205\n",
      "Validation loss: 6.105429649353027\n",
      "Training loss: 6.455988883972168\n",
      "Training loss: 6.039590835571289\n",
      "Training loss: 6.388985633850098\n",
      "Training loss: 5.4129486083984375\n",
      "Training loss: 4.6714935302734375\n",
      "Training loss: 5.663679599761963\n",
      "Training loss: 5.678934097290039\n",
      "Training loss: 6.45527982711792\n",
      "Validation loss: 7.331157207489014\n",
      "Validation loss: 7.254659175872803\n",
      "Validation loss: 6.024674415588379\n",
      "Validation loss: 6.541952610015869\n",
      "Validation loss: 7.127142906188965\n",
      "Validation loss: 7.041352272033691\n",
      "Validation loss: 5.984464168548584\n",
      "Validation loss: 6.139277458190918\n",
      "Training loss: 6.856085300445557\n",
      "Training loss: 5.498802185058594\n",
      "Training loss: 5.98065710067749\n",
      "Training loss: 6.131916046142578\n",
      "Training loss: 5.410861015319824\n",
      "Training loss: 5.328381061553955\n",
      "Training loss: 5.566967010498047\n",
      "Training loss: 6.239068508148193\n",
      "Validation loss: 7.455571174621582\n",
      "Validation loss: 7.277836799621582\n",
      "Validation loss: 6.155977249145508\n",
      "Validation loss: 6.645117282867432\n",
      "Validation loss: 7.24853515625\n",
      "Validation loss: 7.220480442047119\n",
      "Validation loss: 6.083270072937012\n",
      "Validation loss: 6.282850742340088\n",
      "Training loss: 5.667801380157471\n",
      "Training loss: 5.575711727142334\n",
      "Training loss: 5.414926052093506\n",
      "Training loss: 5.863149642944336\n",
      "Training loss: 6.54267692565918\n",
      "Training loss: 6.479305267333984\n",
      "Training loss: 5.389867782592773\n",
      "Training loss: 5.733128070831299\n",
      "Validation loss: 7.145604133605957\n",
      "Validation loss: 7.246181964874268\n",
      "Validation loss: 5.814347267150879\n",
      "Validation loss: 6.3977556228637695\n",
      "Validation loss: 6.963600158691406\n",
      "Validation loss: 6.766690731048584\n",
      "Validation loss: 5.839603900909424\n",
      "Validation loss: 5.943275451660156\n",
      "Training loss: 7.473369598388672\n",
      "Training loss: 5.40374231338501\n",
      "Training loss: 5.060577392578125\n",
      "Training loss: 5.870320796966553\n",
      "Training loss: 5.64574670791626\n",
      "Training loss: 6.141035556793213\n",
      "Training loss: 5.643940448760986\n",
      "Training loss: 5.336577892303467\n",
      "Validation loss: 7.397539138793945\n",
      "Validation loss: 7.2688164710998535\n",
      "Validation loss: 6.10202169418335\n",
      "Validation loss: 6.606165409088135\n",
      "Validation loss: 7.1991047859191895\n",
      "Validation loss: 7.151132583618164\n",
      "Validation loss: 6.034442901611328\n",
      "Validation loss: 6.229353427886963\n",
      "Training loss: 5.796069145202637\n",
      "Training loss: 5.518744468688965\n",
      "Training loss: 6.470467567443848\n",
      "Training loss: 5.2459001541137695\n",
      "Training loss: 5.9063873291015625\n",
      "Training loss: 5.515262603759766\n",
      "Training loss: 6.059787273406982\n",
      "Training loss: 5.994534969329834\n",
      "Validation loss: 7.198894500732422\n",
      "Validation loss: 7.239435195922852\n",
      "Validation loss: 5.88931941986084\n",
      "Validation loss: 6.448728084564209\n",
      "Validation loss: 7.018091201782227\n",
      "Validation loss: 6.868910789489746\n",
      "Validation loss: 5.8771257400512695\n",
      "Validation loss: 6.007387638092041\n",
      "Training loss: 5.3559956550598145\n",
      "Training loss: 5.154048442840576\n",
      "Training loss: 6.336847305297852\n",
      "Training loss: 5.646188259124756\n",
      "Training loss: 5.256471633911133\n",
      "Training loss: 6.021850109100342\n",
      "Training loss: 6.596193790435791\n",
      "Training loss: 6.3043742179870605\n",
      "Validation loss: 7.197143077850342\n",
      "Validation loss: 7.233343124389648\n",
      "Validation loss: 5.890063762664795\n",
      "Validation loss: 6.451778411865234\n",
      "Validation loss: 7.0281982421875\n",
      "Validation loss: 6.874756336212158\n",
      "Validation loss: 5.878573894500732\n",
      "Validation loss: 6.01631498336792\n",
      "Training loss: 4.545093059539795\n",
      "Training loss: 4.896498680114746\n",
      "Training loss: 5.704253673553467\n",
      "Training loss: 6.394371509552002\n",
      "Training loss: 5.907043933868408\n",
      "Training loss: 6.193198204040527\n",
      "Training loss: 6.491023540496826\n",
      "Training loss: 6.5503034591674805\n",
      "Validation loss: 7.3650007247924805\n",
      "Validation loss: 7.254066467285156\n",
      "Validation loss: 6.062824249267578\n",
      "Validation loss: 6.583004474639893\n",
      "Validation loss: 7.185286045074463\n",
      "Validation loss: 7.1118950843811035\n",
      "Validation loss: 6.009300231933594\n",
      "Validation loss: 6.198089599609375\n",
      "Training loss: 6.348903656005859\n",
      "Training loss: 6.054701328277588\n",
      "Training loss: 6.122554779052734\n",
      "Training loss: 5.5779194831848145\n",
      "Training loss: 4.935118675231934\n",
      "Training loss: 6.082446098327637\n",
      "Training loss: 5.435042858123779\n",
      "Training loss: 5.830808639526367\n",
      "Validation loss: 7.157039642333984\n",
      "Validation loss: 7.231331825256348\n",
      "Validation loss: 5.820136070251465\n",
      "Validation loss: 6.40794563293457\n",
      "Validation loss: 6.9869303703308105\n",
      "Validation loss: 6.789608478546143\n",
      "Validation loss: 5.84332799911499\n",
      "Validation loss: 5.959081172943115\n",
      "Training loss: 6.136610984802246\n",
      "Training loss: 6.163547515869141\n",
      "Training loss: 4.742396354675293\n",
      "Training loss: 6.434126377105713\n",
      "Training loss: 6.532108306884766\n",
      "Training loss: 5.266223430633545\n",
      "Training loss: 5.0671610832214355\n",
      "Training loss: 6.012970924377441\n",
      "Validation loss: 7.170719623565674\n",
      "Validation loss: 7.235538482666016\n",
      "Validation loss: 5.82381010055542\n",
      "Validation loss: 6.411587238311768\n",
      "Validation loss: 6.9897780418396\n",
      "Validation loss: 6.795426368713379\n",
      "Validation loss: 5.849280834197998\n",
      "Validation loss: 5.964310646057129\n",
      "Training loss: 5.78602409362793\n",
      "Training loss: 5.881588935852051\n",
      "Training loss: 5.866930961608887\n",
      "Training loss: 5.493522644042969\n",
      "Training loss: 5.406214714050293\n",
      "Training loss: 5.549533367156982\n",
      "Training loss: 6.392385959625244\n",
      "Training loss: 5.996102333068848\n",
      "Validation loss: 7.232224941253662\n",
      "Validation loss: 7.236288070678711\n",
      "Validation loss: 5.886382102966309\n",
      "Validation loss: 6.454349040985107\n",
      "Validation loss: 7.040406227111816\n",
      "Validation loss: 6.876888275146484\n",
      "Validation loss: 5.891526699066162\n",
      "Validation loss: 6.0243730545043945\n",
      "Training loss: 5.501091957092285\n",
      "Training loss: 5.350568771362305\n",
      "Training loss: 6.094827175140381\n",
      "Training loss: 6.055753707885742\n",
      "Training loss: 5.514501571655273\n",
      "Training loss: 5.814809799194336\n",
      "Training loss: 5.650156021118164\n",
      "Training loss: 6.280058860778809\n",
      "Validation loss: 7.191694736480713\n",
      "Validation loss: 7.232360363006592\n",
      "Validation loss: 5.8451690673828125\n",
      "Validation loss: 6.424648284912109\n",
      "Validation loss: 7.0071797370910645\n",
      "Validation loss: 6.816107749938965\n",
      "Validation loss: 5.858901500701904\n",
      "Validation loss: 5.983883380889893\n",
      "Training loss: 5.975462913513184\n",
      "Training loss: 5.91506290435791\n",
      "Training loss: 5.354494094848633\n",
      "Training loss: 5.610437393188477\n",
      "Training loss: 5.907268047332764\n",
      "Training loss: 6.857558727264404\n",
      "Training loss: 5.4714837074279785\n",
      "Training loss: 5.2534027099609375\n",
      "Validation loss: 7.31813907623291\n",
      "Validation loss: 7.238306999206543\n",
      "Validation loss: 5.987176418304443\n",
      "Validation loss: 6.526355266571045\n",
      "Validation loss: 7.132236480712891\n",
      "Validation loss: 7.004354000091553\n",
      "Validation loss: 5.955895900726318\n",
      "Validation loss: 6.1287431716918945\n",
      "Training loss: 6.502833366394043\n",
      "Training loss: 5.585355281829834\n",
      "Training loss: 5.979065418243408\n",
      "Training loss: 5.830934047698975\n",
      "Training loss: 5.614140033721924\n",
      "Training loss: 5.611995697021484\n",
      "Training loss: 5.5826897621154785\n",
      "Training loss: 5.137913227081299\n",
      "Validation loss: 6.952829837799072\n",
      "Validation loss: 7.241328716278076\n",
      "Validation loss: 5.587035179138184\n",
      "Validation loss: 6.247608184814453\n",
      "Validation loss: 6.797935962677002\n",
      "Validation loss: 6.445423603057861\n",
      "Validation loss: 5.6837687492370605\n",
      "Validation loss: 5.710994720458984\n",
      "Training loss: 5.567059516906738\n",
      "Training loss: 5.984136581420898\n",
      "Training loss: 5.285317897796631\n",
      "Training loss: 5.997818946838379\n",
      "Training loss: 5.5898356437683105\n",
      "Training loss: 5.892581939697266\n",
      "Training loss: 6.307373046875\n",
      "Training loss: 5.830138683319092\n",
      "Validation loss: 7.214942932128906\n",
      "Validation loss: 7.210521221160889\n",
      "Validation loss: 5.872077941894531\n",
      "Validation loss: 6.436724662780762\n",
      "Validation loss: 7.034184455871582\n",
      "Validation loss: 6.849830627441406\n",
      "Validation loss: 5.87221622467041\n",
      "Validation loss: 5.996438980102539\n",
      "Training loss: 4.756023406982422\n",
      "Training loss: 5.157368183135986\n",
      "Training loss: 6.613941192626953\n",
      "Training loss: 5.879432678222656\n",
      "Training loss: 5.058869361877441\n",
      "Training loss: 6.371128559112549\n",
      "Training loss: 5.634521007537842\n",
      "Training loss: 6.683610916137695\n",
      "Validation loss: 6.99829626083374\n",
      "Validation loss: 7.209658622741699\n",
      "Validation loss: 5.64313268661499\n",
      "Validation loss: 6.277312278747559\n",
      "Validation loss: 6.84298038482666\n",
      "Validation loss: 6.530730247497559\n",
      "Validation loss: 5.712814807891846\n",
      "Validation loss: 5.762814044952393\n",
      "Training loss: 4.959841251373291\n",
      "Training loss: 5.052361011505127\n",
      "Training loss: 5.633841037750244\n",
      "Training loss: 6.713314056396484\n",
      "Training loss: 5.566911697387695\n",
      "Training loss: 5.816643238067627\n",
      "Training loss: 6.158591270446777\n",
      "Training loss: 6.0889892578125\n",
      "Validation loss: 7.158380508422852\n",
      "Validation loss: 7.204531192779541\n",
      "Validation loss: 5.821292877197266\n",
      "Validation loss: 6.399477005004883\n",
      "Validation loss: 6.98996114730835\n",
      "Validation loss: 6.779111862182617\n",
      "Validation loss: 5.828019618988037\n",
      "Validation loss: 5.944399356842041\n",
      "Training loss: 5.970362186431885\n",
      "Training loss: 5.9986467361450195\n",
      "Training loss: 5.365913391113281\n",
      "Training loss: 5.542597770690918\n",
      "Training loss: 5.6253790855407715\n",
      "Training loss: 5.621056079864502\n",
      "Training loss: 5.940659523010254\n",
      "Training loss: 6.3547492027282715\n",
      "Validation loss: 7.085676670074463\n",
      "Validation loss: 7.203474998474121\n",
      "Validation loss: 5.7461113929748535\n",
      "Validation loss: 6.346997261047363\n",
      "Validation loss: 6.926357269287109\n",
      "Validation loss: 6.674416542053223\n",
      "Validation loss: 5.773830413818359\n",
      "Validation loss: 5.8701019287109375\n",
      "Training loss: 5.588040828704834\n",
      "Training loss: 4.72807502746582\n",
      "Training loss: 5.848311901092529\n",
      "Training loss: 5.746790885925293\n",
      "Training loss: 5.9950852394104\n",
      "Training loss: 7.029654502868652\n",
      "Training loss: 5.396981239318848\n",
      "Training loss: 5.711482524871826\n",
      "Validation loss: 7.048727989196777\n",
      "Validation loss: 7.2076029777526855\n",
      "Validation loss: 5.702843189239502\n",
      "Validation loss: 6.3190813064575195\n",
      "Validation loss: 6.890952110290527\n",
      "Validation loss: 6.613899230957031\n",
      "Validation loss: 5.743650913238525\n",
      "Validation loss: 5.829618453979492\n",
      "Training loss: 5.249058246612549\n",
      "Training loss: 6.459059238433838\n",
      "Training loss: 4.833262920379639\n",
      "Training loss: 5.808512210845947\n",
      "Training loss: 6.274211883544922\n",
      "Training loss: 5.570361137390137\n",
      "Training loss: 6.163784027099609\n",
      "Training loss: 5.9523115158081055\n",
      "Validation loss: 7.052483558654785\n",
      "Validation loss: 7.206611633300781\n",
      "Validation loss: 5.705408573150635\n",
      "Validation loss: 6.321078300476074\n",
      "Validation loss: 6.891611576080322\n",
      "Validation loss: 6.618261814117432\n",
      "Validation loss: 5.743258476257324\n",
      "Validation loss: 5.829472064971924\n",
      "Training loss: 5.970870494842529\n",
      "Training loss: 6.056310653686523\n",
      "Training loss: 5.306548118591309\n",
      "Training loss: 6.0479416847229\n",
      "Training loss: 5.813771724700928\n",
      "Training loss: 6.0953826904296875\n",
      "Training loss: 5.439680099487305\n",
      "Training loss: 5.362981796264648\n",
      "Validation loss: 7.1565704345703125\n",
      "Validation loss: 7.200803756713867\n",
      "Validation loss: 5.816524028778076\n",
      "Validation loss: 6.396609783172607\n",
      "Validation loss: 6.983328819274902\n",
      "Validation loss: 6.773159503936768\n",
      "Validation loss: 5.814695358276367\n",
      "Validation loss: 5.933720111846924\n",
      "Training loss: 6.082064628601074\n",
      "Training loss: 6.478388786315918\n",
      "Training loss: 5.373838901519775\n",
      "Training loss: 6.117140769958496\n",
      "Training loss: 5.042244911193848\n",
      "Training loss: 6.088029861450195\n",
      "Training loss: 5.700442790985107\n",
      "Training loss: 5.036059379577637\n",
      "Validation loss: 6.992125034332275\n",
      "Validation loss: 7.207195281982422\n",
      "Validation loss: 5.634667873382568\n",
      "Validation loss: 6.272521018981934\n",
      "Validation loss: 6.83217716217041\n",
      "Validation loss: 6.518188953399658\n",
      "Validation loss: 5.694797039031982\n",
      "Validation loss: 5.749295234680176\n",
      "Training loss: 5.662508487701416\n",
      "Training loss: 6.382178783416748\n",
      "Training loss: 5.120498180389404\n",
      "Training loss: 5.50041389465332\n",
      "Training loss: 5.433220863342285\n",
      "Training loss: 5.271484375\n",
      "Training loss: 6.090554714202881\n",
      "Training loss: 6.589856147766113\n",
      "Validation loss: 7.066886901855469\n",
      "Validation loss: 7.196092128753662\n",
      "Validation loss: 5.715891361236572\n",
      "Validation loss: 6.326411724090576\n",
      "Validation loss: 6.900681018829346\n",
      "Validation loss: 6.635240077972412\n",
      "Validation loss: 5.744979381561279\n",
      "Validation loss: 5.834702968597412\n",
      "Training loss: 6.473985195159912\n",
      "Training loss: 5.55344820022583\n",
      "Training loss: 5.6717305183410645\n",
      "Training loss: 5.565584182739258\n",
      "Training loss: 5.711947441101074\n",
      "Training loss: 6.607546806335449\n",
      "Training loss: 5.083105564117432\n",
      "Training loss: 5.39253568649292\n",
      "Validation loss: 7.047364234924316\n",
      "Validation loss: 7.189298629760742\n",
      "Validation loss: 5.69836950302124\n",
      "Validation loss: 6.313132286071777\n",
      "Validation loss: 6.889172554016113\n",
      "Validation loss: 6.613326549530029\n",
      "Validation loss: 5.730836868286133\n",
      "Validation loss: 5.818112850189209\n",
      "Training loss: 4.810121536254883\n",
      "Training loss: 6.355369567871094\n",
      "Training loss: 6.625522613525391\n",
      "Training loss: 6.272602558135986\n",
      "Training loss: 5.5389227867126465\n",
      "Training loss: 5.555224418640137\n",
      "Training loss: 5.040111541748047\n",
      "Training loss: 5.395257472991943\n",
      "Validation loss: 6.908820152282715\n",
      "Validation loss: 7.206289291381836\n",
      "Validation loss: 5.5503387451171875\n",
      "Validation loss: 6.215938091278076\n",
      "Validation loss: 6.769479751586914\n",
      "Validation loss: 6.401271820068359\n",
      "Validation loss: 5.636838912963867\n",
      "Validation loss: 5.667312145233154\n",
      "Training loss: 4.569962501525879\n",
      "Training loss: 6.396599769592285\n",
      "Training loss: 6.448971271514893\n",
      "Training loss: 6.445441246032715\n",
      "Training loss: 5.406647682189941\n",
      "Training loss: 5.271185398101807\n",
      "Training loss: 5.807903289794922\n",
      "Training loss: 5.681983470916748\n",
      "Validation loss: 7.00266170501709\n",
      "Validation loss: 7.182592391967773\n",
      "Validation loss: 5.651864051818848\n",
      "Validation loss: 6.280435085296631\n",
      "Validation loss: 6.853913307189941\n",
      "Validation loss: 6.553098201751709\n",
      "Validation loss: 5.697417736053467\n",
      "Validation loss: 5.76919412612915\n",
      "Training loss: 5.24580717086792\n",
      "Training loss: 6.057894706726074\n",
      "Training loss: 5.7758684158325195\n",
      "Training loss: 5.892429351806641\n",
      "Training loss: 5.420208930969238\n",
      "Training loss: 5.839330196380615\n",
      "Training loss: 6.537979602813721\n",
      "Training loss: 4.628178119659424\n",
      "Validation loss: 6.951040744781494\n",
      "Validation loss: 7.191065788269043\n",
      "Validation loss: 5.593588352203369\n",
      "Validation loss: 6.242892742156982\n",
      "Validation loss: 6.804614067077637\n",
      "Validation loss: 6.470067024230957\n",
      "Validation loss: 5.659519195556641\n",
      "Validation loss: 5.707647800445557\n",
      "Training loss: 5.7303147315979\n",
      "Training loss: 5.195698261260986\n",
      "Training loss: 5.526898384094238\n",
      "Training loss: 5.7734551429748535\n",
      "Training loss: 5.403944492340088\n",
      "Training loss: 6.32290506362915\n",
      "Training loss: 6.363454341888428\n",
      "Training loss: 5.9448676109313965\n",
      "Validation loss: 6.950270175933838\n",
      "Validation loss: 7.19474458694458\n",
      "Validation loss: 5.587394714355469\n",
      "Validation loss: 6.240684509277344\n",
      "Validation loss: 6.799613952636719\n",
      "Validation loss: 6.461495876312256\n",
      "Validation loss: 5.655470371246338\n",
      "Validation loss: 5.703365325927734\n",
      "Training loss: 6.520384311676025\n",
      "Training loss: 5.983118534088135\n",
      "Training loss: 5.678310394287109\n",
      "Training loss: 5.521576881408691\n",
      "Training loss: 5.284346103668213\n",
      "Training loss: 6.597055435180664\n",
      "Training loss: 5.525521755218506\n",
      "Training loss: 5.019549369812012\n",
      "Validation loss: 7.045040607452393\n",
      "Validation loss: 7.18242883682251\n",
      "Validation loss: 5.685969829559326\n",
      "Validation loss: 6.306606292724609\n",
      "Validation loss: 6.883530616760254\n",
      "Validation loss: 6.604469299316406\n",
      "Validation loss: 5.7163405418396\n",
      "Validation loss: 5.808859348297119\n",
      "Training loss: 6.100672721862793\n",
      "Training loss: 5.723669052124023\n",
      "Training loss: 5.928697109222412\n",
      "Training loss: 5.881554126739502\n",
      "Training loss: 5.020930290222168\n",
      "Training loss: 6.539045810699463\n",
      "Training loss: 6.042649745941162\n",
      "Training loss: 5.132079124450684\n",
      "Validation loss: 6.816181182861328\n",
      "Validation loss: 7.237679481506348\n",
      "Validation loss: 5.436220169067383\n",
      "Validation loss: 6.153046131134033\n",
      "Validation loss: 6.688409328460693\n",
      "Validation loss: 6.2317914962768555\n",
      "Validation loss: 5.570137977600098\n",
      "Validation loss: 5.561553478240967\n",
      "Training loss: 5.387058258056641\n",
      "Training loss: 5.870412349700928\n",
      "Training loss: 6.46504545211792\n",
      "Training loss: 5.744541645050049\n",
      "Training loss: 6.099344730377197\n",
      "Training loss: 5.7484025955200195\n",
      "Training loss: 5.218669891357422\n",
      "Training loss: 5.46087121963501\n",
      "Validation loss: 7.085413932800293\n",
      "Validation loss: 7.172943592071533\n",
      "Validation loss: 5.727985858917236\n",
      "Validation loss: 6.336957931518555\n",
      "Validation loss: 6.933304786682129\n",
      "Validation loss: 6.66650915145874\n",
      "Validation loss: 5.744207382202148\n",
      "Validation loss: 5.8675336837768555\n",
      "Training loss: 6.439415454864502\n",
      "Training loss: 5.580632209777832\n",
      "Training loss: 5.0030927658081055\n",
      "Training loss: 5.529183387756348\n",
      "Training loss: 6.164470672607422\n",
      "Training loss: 5.746570110321045\n",
      "Training loss: 5.165704727172852\n",
      "Training loss: 6.054141044616699\n",
      "Validation loss: 6.83834981918335\n",
      "Validation loss: 7.216722011566162\n",
      "Validation loss: 5.460770130157471\n",
      "Validation loss: 6.164022445678711\n",
      "Validation loss: 6.707051753997803\n",
      "Validation loss: 6.271560192108154\n",
      "Validation loss: 5.578647136688232\n",
      "Validation loss: 5.586880207061768\n"
     ]
    }
   ],
   "source": [
    "v_net_reg = CNN_LSTM3()\n",
    "vr_criterion = nn.MSELoss()\n",
    "vr_optimizer = optim.Adam(v_net_reg.parameters(), lr=0.001)\n",
    "train_net2(v_net_reg, vr_optimizer, vr_criterion, train_loader_v, val_loader_v, 50)"
   ]
  },
  {
   "cell_type": "code",
   "execution_count": 295,
   "metadata": {},
   "outputs": [
    {
     "name": "stderr",
     "output_type": "stream",
     "text": [
      "  1%|          | 1/100 [00:01<02:10,  1.32s/it]"
     ]
    },
    {
     "name": "stdout",
     "output_type": "stream",
     "text": [
      "Train acc: 0.563, Val acc: 0.558\n"
     ]
    },
    {
     "name": "stderr",
     "output_type": "stream",
     "text": [
      "  2%|▏         | 2/100 [00:02<02:06,  1.29s/it]"
     ]
    },
    {
     "name": "stdout",
     "output_type": "stream",
     "text": [
      "Train acc: 0.630, Val acc: 0.748\n"
     ]
    },
    {
     "name": "stderr",
     "output_type": "stream",
     "text": [
      "  3%|▎         | 3/100 [00:03<02:05,  1.29s/it]"
     ]
    },
    {
     "name": "stdout",
     "output_type": "stream",
     "text": [
      "Train acc: 0.740, Val acc: 0.807\n"
     ]
    },
    {
     "name": "stderr",
     "output_type": "stream",
     "text": [
      "  4%|▍         | 4/100 [00:04<01:56,  1.21s/it]"
     ]
    },
    {
     "name": "stdout",
     "output_type": "stream",
     "text": [
      "Train acc: 0.808, Val acc: 0.839\n"
     ]
    },
    {
     "name": "stderr",
     "output_type": "stream",
     "text": [
      "  5%|▌         | 5/100 [00:06<01:59,  1.26s/it]"
     ]
    },
    {
     "name": "stdout",
     "output_type": "stream",
     "text": [
      "Train acc: 0.871, Val acc: 0.879\n"
     ]
    },
    {
     "name": "stderr",
     "output_type": "stream",
     "text": [
      "  6%|▌         | 6/100 [00:07<01:53,  1.21s/it]"
     ]
    },
    {
     "name": "stdout",
     "output_type": "stream",
     "text": [
      "Train acc: 0.923, Val acc: 0.906\n"
     ]
    },
    {
     "name": "stderr",
     "output_type": "stream",
     "text": [
      "  7%|▋         | 7/100 [00:08<01:54,  1.23s/it]"
     ]
    },
    {
     "name": "stdout",
     "output_type": "stream",
     "text": [
      "Train acc: 0.958, Val acc: 0.923\n"
     ]
    },
    {
     "name": "stderr",
     "output_type": "stream",
     "text": [
      "  8%|▊         | 8/100 [00:09<01:51,  1.21s/it]"
     ]
    },
    {
     "name": "stdout",
     "output_type": "stream",
     "text": [
      "Train acc: 0.987, Val acc: 0.985\n"
     ]
    },
    {
     "name": "stderr",
     "output_type": "stream",
     "text": [
      "  9%|▉         | 9/100 [00:10<01:47,  1.18s/it]"
     ]
    },
    {
     "name": "stdout",
     "output_type": "stream",
     "text": [
      "Train acc: 0.997, Val acc: 0.995\n"
     ]
    },
    {
     "name": "stderr",
     "output_type": "stream",
     "text": [
      " 10%|█         | 10/100 [00:12<01:44,  1.16s/it]"
     ]
    },
    {
     "name": "stdout",
     "output_type": "stream",
     "text": [
      "Train acc: 1.000, Val acc: 0.999\n"
     ]
    },
    {
     "name": "stderr",
     "output_type": "stream",
     "text": [
      " 11%|█         | 11/100 [00:13<01:40,  1.13s/it]"
     ]
    },
    {
     "name": "stdout",
     "output_type": "stream",
     "text": [
      "Train acc: 0.997, Val acc: 0.999\n"
     ]
    },
    {
     "name": "stderr",
     "output_type": "stream",
     "text": [
      " 12%|█▏        | 12/100 [00:14<01:38,  1.12s/it]"
     ]
    },
    {
     "name": "stdout",
     "output_type": "stream",
     "text": [
      "Train acc: 0.997, Val acc: 0.999\n"
     ]
    },
    {
     "name": "stderr",
     "output_type": "stream",
     "text": [
      " 13%|█▎        | 13/100 [00:15<01:40,  1.15s/it]"
     ]
    },
    {
     "name": "stdout",
     "output_type": "stream",
     "text": [
      "Train acc: 0.999, Val acc: 0.999\n"
     ]
    },
    {
     "name": "stderr",
     "output_type": "stream",
     "text": [
      " 14%|█▍        | 14/100 [00:16<01:30,  1.05s/it]"
     ]
    },
    {
     "name": "stdout",
     "output_type": "stream",
     "text": [
      "Train acc: 0.997, Val acc: 0.999\n"
     ]
    },
    {
     "name": "stderr",
     "output_type": "stream",
     "text": [
      " 15%|█▌        | 15/100 [00:16<01:14,  1.14it/s]"
     ]
    },
    {
     "name": "stdout",
     "output_type": "stream",
     "text": [
      "Train acc: 0.997, Val acc: 0.999\n"
     ]
    },
    {
     "name": "stderr",
     "output_type": "stream",
     "text": [
      " 16%|█▌        | 16/100 [00:17<01:01,  1.36it/s]"
     ]
    },
    {
     "name": "stdout",
     "output_type": "stream",
     "text": [
      "Train acc: 0.999, Val acc: 0.999\n"
     ]
    },
    {
     "name": "stderr",
     "output_type": "stream",
     "text": [
      " 17%|█▋        | 17/100 [00:17<00:53,  1.55it/s]"
     ]
    },
    {
     "name": "stdout",
     "output_type": "stream",
     "text": [
      "Train acc: 0.999, Val acc: 0.999\n"
     ]
    },
    {
     "name": "stderr",
     "output_type": "stream",
     "text": [
      " 18%|█▊        | 18/100 [00:18<00:47,  1.74it/s]"
     ]
    },
    {
     "name": "stdout",
     "output_type": "stream",
     "text": [
      "Train acc: 0.997, Val acc: 1.000\n"
     ]
    },
    {
     "name": "stderr",
     "output_type": "stream",
     "text": [
      " 19%|█▉        | 19/100 [00:18<00:41,  1.94it/s]"
     ]
    },
    {
     "name": "stdout",
     "output_type": "stream",
     "text": [
      "Train acc: 1.000, Val acc: 1.000\n"
     ]
    },
    {
     "name": "stderr",
     "output_type": "stream",
     "text": [
      " 20%|██        | 20/100 [00:18<00:38,  2.10it/s]"
     ]
    },
    {
     "name": "stdout",
     "output_type": "stream",
     "text": [
      "Train acc: 0.999, Val acc: 1.000\n"
     ]
    },
    {
     "name": "stderr",
     "output_type": "stream",
     "text": [
      " 21%|██        | 21/100 [00:19<00:34,  2.27it/s]"
     ]
    },
    {
     "name": "stdout",
     "output_type": "stream",
     "text": [
      "Train acc: 0.997, Val acc: 1.000\n"
     ]
    },
    {
     "name": "stderr",
     "output_type": "stream",
     "text": [
      " 22%|██▏       | 22/100 [00:19<00:32,  2.40it/s]"
     ]
    },
    {
     "name": "stdout",
     "output_type": "stream",
     "text": [
      "Train acc: 0.999, Val acc: 1.000\n"
     ]
    },
    {
     "name": "stderr",
     "output_type": "stream",
     "text": [
      " 23%|██▎       | 23/100 [00:19<00:31,  2.45it/s]"
     ]
    },
    {
     "name": "stdout",
     "output_type": "stream",
     "text": [
      "Train acc: 0.997, Val acc: 0.999\n"
     ]
    },
    {
     "name": "stderr",
     "output_type": "stream",
     "text": [
      " 24%|██▍       | 24/100 [00:20<00:31,  2.45it/s]"
     ]
    },
    {
     "name": "stdout",
     "output_type": "stream",
     "text": [
      "Train acc: 0.999, Val acc: 0.999\n"
     ]
    },
    {
     "name": "stderr",
     "output_type": "stream",
     "text": [
      " 25%|██▌       | 25/100 [00:20<00:30,  2.48it/s]"
     ]
    },
    {
     "name": "stdout",
     "output_type": "stream",
     "text": [
      "Train acc: 0.999, Val acc: 0.999\n"
     ]
    },
    {
     "name": "stderr",
     "output_type": "stream",
     "text": [
      " 26%|██▌       | 26/100 [00:21<00:29,  2.47it/s]"
     ]
    },
    {
     "name": "stdout",
     "output_type": "stream",
     "text": [
      "Train acc: 0.999, Val acc: 0.999\n"
     ]
    },
    {
     "name": "stderr",
     "output_type": "stream",
     "text": [
      " 27%|██▋       | 27/100 [00:21<00:28,  2.54it/s]"
     ]
    },
    {
     "name": "stdout",
     "output_type": "stream",
     "text": [
      "Train acc: 0.999, Val acc: 0.999\n"
     ]
    },
    {
     "name": "stderr",
     "output_type": "stream",
     "text": [
      " 28%|██▊       | 28/100 [00:21<00:28,  2.57it/s]"
     ]
    },
    {
     "name": "stdout",
     "output_type": "stream",
     "text": [
      "Train acc: 0.999, Val acc: 1.000\n"
     ]
    },
    {
     "name": "stderr",
     "output_type": "stream",
     "text": [
      " 29%|██▉       | 29/100 [00:22<00:27,  2.60it/s]"
     ]
    },
    {
     "name": "stdout",
     "output_type": "stream",
     "text": [
      "Train acc: 0.999, Val acc: 1.000\n"
     ]
    },
    {
     "name": "stderr",
     "output_type": "stream",
     "text": [
      " 30%|███       | 30/100 [00:22<00:26,  2.62it/s]"
     ]
    },
    {
     "name": "stdout",
     "output_type": "stream",
     "text": [
      "Train acc: 0.999, Val acc: 0.999\n"
     ]
    },
    {
     "name": "stderr",
     "output_type": "stream",
     "text": [
      " 31%|███       | 31/100 [00:22<00:26,  2.61it/s]"
     ]
    },
    {
     "name": "stdout",
     "output_type": "stream",
     "text": [
      "Train acc: 0.999, Val acc: 0.999\n"
     ]
    },
    {
     "name": "stderr",
     "output_type": "stream",
     "text": [
      " 32%|███▏      | 32/100 [00:23<00:25,  2.66it/s]"
     ]
    },
    {
     "name": "stdout",
     "output_type": "stream",
     "text": [
      "Train acc: 1.000, Val acc: 0.997\n"
     ]
    },
    {
     "name": "stderr",
     "output_type": "stream",
     "text": [
      " 33%|███▎      | 33/100 [00:23<00:25,  2.67it/s]"
     ]
    },
    {
     "name": "stdout",
     "output_type": "stream",
     "text": [
      "Train acc: 0.997, Val acc: 0.997\n"
     ]
    },
    {
     "name": "stderr",
     "output_type": "stream",
     "text": [
      " 34%|███▍      | 34/100 [00:24<00:24,  2.71it/s]"
     ]
    },
    {
     "name": "stdout",
     "output_type": "stream",
     "text": [
      "Train acc: 1.000, Val acc: 0.997\n"
     ]
    },
    {
     "name": "stderr",
     "output_type": "stream",
     "text": [
      " 35%|███▌      | 35/100 [00:24<00:24,  2.62it/s]"
     ]
    },
    {
     "name": "stdout",
     "output_type": "stream",
     "text": [
      "Train acc: 0.999, Val acc: 0.999\n"
     ]
    },
    {
     "name": "stderr",
     "output_type": "stream",
     "text": [
      " 36%|███▌      | 36/100 [00:24<00:24,  2.65it/s]"
     ]
    },
    {
     "name": "stdout",
     "output_type": "stream",
     "text": [
      "Train acc: 0.999, Val acc: 1.000\n"
     ]
    },
    {
     "name": "stderr",
     "output_type": "stream",
     "text": [
      " 37%|███▋      | 37/100 [00:25<00:23,  2.63it/s]"
     ]
    },
    {
     "name": "stdout",
     "output_type": "stream",
     "text": [
      "Train acc: 0.999, Val acc: 1.000\n"
     ]
    },
    {
     "name": "stderr",
     "output_type": "stream",
     "text": [
      " 38%|███▊      | 38/100 [00:25<00:23,  2.63it/s]"
     ]
    },
    {
     "name": "stdout",
     "output_type": "stream",
     "text": [
      "Train acc: 0.999, Val acc: 0.999\n"
     ]
    },
    {
     "name": "stderr",
     "output_type": "stream",
     "text": [
      " 39%|███▉      | 39/100 [00:26<00:23,  2.63it/s]"
     ]
    },
    {
     "name": "stdout",
     "output_type": "stream",
     "text": [
      "Train acc: 0.999, Val acc: 1.000\n"
     ]
    },
    {
     "name": "stderr",
     "output_type": "stream",
     "text": [
      " 40%|████      | 40/100 [00:26<00:22,  2.61it/s]"
     ]
    },
    {
     "name": "stdout",
     "output_type": "stream",
     "text": [
      "Train acc: 0.999, Val acc: 0.999\n"
     ]
    },
    {
     "name": "stderr",
     "output_type": "stream",
     "text": [
      " 41%|████      | 41/100 [00:26<00:22,  2.58it/s]"
     ]
    },
    {
     "name": "stdout",
     "output_type": "stream",
     "text": [
      "Train acc: 1.000, Val acc: 0.997\n"
     ]
    },
    {
     "name": "stderr",
     "output_type": "stream",
     "text": [
      " 42%|████▏     | 42/100 [00:27<00:22,  2.53it/s]"
     ]
    },
    {
     "name": "stdout",
     "output_type": "stream",
     "text": [
      "Train acc: 0.999, Val acc: 0.997\n"
     ]
    },
    {
     "name": "stderr",
     "output_type": "stream",
     "text": [
      " 43%|████▎     | 43/100 [00:27<00:22,  2.56it/s]"
     ]
    },
    {
     "name": "stdout",
     "output_type": "stream",
     "text": [
      "Train acc: 0.999, Val acc: 0.997\n"
     ]
    },
    {
     "name": "stderr",
     "output_type": "stream",
     "text": [
      " 44%|████▍     | 44/100 [00:27<00:21,  2.60it/s]"
     ]
    },
    {
     "name": "stdout",
     "output_type": "stream",
     "text": [
      "Train acc: 0.999, Val acc: 0.997\n"
     ]
    },
    {
     "name": "stderr",
     "output_type": "stream",
     "text": [
      " 45%|████▌     | 45/100 [00:28<00:21,  2.62it/s]"
     ]
    },
    {
     "name": "stdout",
     "output_type": "stream",
     "text": [
      "Train acc: 0.999, Val acc: 0.997\n"
     ]
    },
    {
     "name": "stderr",
     "output_type": "stream",
     "text": [
      " 46%|████▌     | 46/100 [00:28<00:20,  2.62it/s]"
     ]
    },
    {
     "name": "stdout",
     "output_type": "stream",
     "text": [
      "Train acc: 1.000, Val acc: 0.997\n"
     ]
    },
    {
     "name": "stderr",
     "output_type": "stream",
     "text": [
      " 47%|████▋     | 47/100 [00:29<00:20,  2.64it/s]"
     ]
    },
    {
     "name": "stdout",
     "output_type": "stream",
     "text": [
      "Train acc: 0.997, Val acc: 0.997\n"
     ]
    },
    {
     "name": "stderr",
     "output_type": "stream",
     "text": [
      " 48%|████▊     | 48/100 [00:29<00:19,  2.61it/s]"
     ]
    },
    {
     "name": "stdout",
     "output_type": "stream",
     "text": [
      "Train acc: 0.999, Val acc: 0.997\n"
     ]
    },
    {
     "name": "stderr",
     "output_type": "stream",
     "text": [
      " 49%|████▉     | 49/100 [00:29<00:19,  2.61it/s]"
     ]
    },
    {
     "name": "stdout",
     "output_type": "stream",
     "text": [
      "Train acc: 0.999, Val acc: 0.997\n"
     ]
    },
    {
     "name": "stderr",
     "output_type": "stream",
     "text": [
      " 50%|█████     | 50/100 [00:30<00:19,  2.59it/s]"
     ]
    },
    {
     "name": "stdout",
     "output_type": "stream",
     "text": [
      "Train acc: 0.997, Val acc: 0.997\n"
     ]
    },
    {
     "name": "stderr",
     "output_type": "stream",
     "text": [
      " 51%|█████     | 51/100 [00:30<00:19,  2.50it/s]"
     ]
    },
    {
     "name": "stdout",
     "output_type": "stream",
     "text": [
      "Train acc: 0.999, Val acc: 0.997\n"
     ]
    },
    {
     "name": "stderr",
     "output_type": "stream",
     "text": [
      " 52%|█████▏    | 52/100 [00:31<00:18,  2.53it/s]"
     ]
    },
    {
     "name": "stdout",
     "output_type": "stream",
     "text": [
      "Train acc: 0.999, Val acc: 0.997\n"
     ]
    },
    {
     "name": "stderr",
     "output_type": "stream",
     "text": [
      " 53%|█████▎    | 53/100 [00:31<00:18,  2.55it/s]"
     ]
    },
    {
     "name": "stdout",
     "output_type": "stream",
     "text": [
      "Train acc: 0.999, Val acc: 0.997\n"
     ]
    },
    {
     "name": "stderr",
     "output_type": "stream",
     "text": [
      " 54%|█████▍    | 54/100 [00:31<00:17,  2.64it/s]"
     ]
    },
    {
     "name": "stdout",
     "output_type": "stream",
     "text": [
      "Train acc: 1.000, Val acc: 0.997\n"
     ]
    },
    {
     "name": "stderr",
     "output_type": "stream",
     "text": [
      " 55%|█████▌    | 55/100 [00:32<00:16,  2.70it/s]"
     ]
    },
    {
     "name": "stdout",
     "output_type": "stream",
     "text": [
      "Train acc: 1.000, Val acc: 0.997\n"
     ]
    },
    {
     "name": "stderr",
     "output_type": "stream",
     "text": [
      " 56%|█████▌    | 56/100 [00:32<00:15,  2.75it/s]"
     ]
    },
    {
     "name": "stdout",
     "output_type": "stream",
     "text": [
      "Train acc: 1.000, Val acc: 0.997\n"
     ]
    },
    {
     "name": "stderr",
     "output_type": "stream",
     "text": [
      " 57%|█████▋    | 57/100 [00:32<00:15,  2.76it/s]"
     ]
    },
    {
     "name": "stdout",
     "output_type": "stream",
     "text": [
      "Train acc: 0.999, Val acc: 0.997\n"
     ]
    },
    {
     "name": "stderr",
     "output_type": "stream",
     "text": [
      " 58%|█████▊    | 58/100 [00:33<00:15,  2.77it/s]"
     ]
    },
    {
     "name": "stdout",
     "output_type": "stream",
     "text": [
      "Train acc: 0.999, Val acc: 0.997\n"
     ]
    },
    {
     "name": "stderr",
     "output_type": "stream",
     "text": [
      " 59%|█████▉    | 59/100 [00:33<00:14,  2.78it/s]"
     ]
    },
    {
     "name": "stdout",
     "output_type": "stream",
     "text": [
      "Train acc: 0.999, Val acc: 0.997\n"
     ]
    },
    {
     "name": "stderr",
     "output_type": "stream",
     "text": [
      " 60%|██████    | 60/100 [00:33<00:14,  2.72it/s]"
     ]
    },
    {
     "name": "stdout",
     "output_type": "stream",
     "text": [
      "Train acc: 0.999, Val acc: 0.997\n"
     ]
    },
    {
     "name": "stderr",
     "output_type": "stream",
     "text": [
      " 61%|██████    | 61/100 [00:34<00:14,  2.74it/s]"
     ]
    },
    {
     "name": "stdout",
     "output_type": "stream",
     "text": [
      "Train acc: 1.000, Val acc: 0.997\n"
     ]
    },
    {
     "name": "stderr",
     "output_type": "stream",
     "text": [
      " 62%|██████▏   | 62/100 [00:34<00:13,  2.72it/s]"
     ]
    },
    {
     "name": "stdout",
     "output_type": "stream",
     "text": [
      "Train acc: 0.999, Val acc: 0.997\n"
     ]
    },
    {
     "name": "stderr",
     "output_type": "stream",
     "text": [
      " 63%|██████▎   | 63/100 [00:35<00:13,  2.69it/s]"
     ]
    },
    {
     "name": "stdout",
     "output_type": "stream",
     "text": [
      "Train acc: 0.997, Val acc: 0.997\n"
     ]
    },
    {
     "name": "stderr",
     "output_type": "stream",
     "text": [
      " 64%|██████▍   | 64/100 [00:35<00:13,  2.71it/s]"
     ]
    },
    {
     "name": "stdout",
     "output_type": "stream",
     "text": [
      "Train acc: 0.997, Val acc: 0.997\n"
     ]
    },
    {
     "name": "stderr",
     "output_type": "stream",
     "text": [
      " 65%|██████▌   | 65/100 [00:35<00:12,  2.70it/s]"
     ]
    },
    {
     "name": "stdout",
     "output_type": "stream",
     "text": [
      "Train acc: 1.000, Val acc: 0.997\n"
     ]
    },
    {
     "name": "stderr",
     "output_type": "stream",
     "text": [
      " 66%|██████▌   | 66/100 [00:36<00:12,  2.70it/s]"
     ]
    },
    {
     "name": "stdout",
     "output_type": "stream",
     "text": [
      "Train acc: 0.999, Val acc: 0.997\n"
     ]
    },
    {
     "name": "stderr",
     "output_type": "stream",
     "text": [
      " 67%|██████▋   | 67/100 [00:36<00:12,  2.57it/s]"
     ]
    },
    {
     "name": "stdout",
     "output_type": "stream",
     "text": [
      "Train acc: 1.000, Val acc: 0.997\n"
     ]
    },
    {
     "name": "stderr",
     "output_type": "stream",
     "text": [
      " 68%|██████▊   | 68/100 [00:36<00:12,  2.59it/s]"
     ]
    },
    {
     "name": "stdout",
     "output_type": "stream",
     "text": [
      "Train acc: 0.999, Val acc: 0.997\n"
     ]
    },
    {
     "name": "stderr",
     "output_type": "stream",
     "text": [
      " 69%|██████▉   | 69/100 [00:37<00:12,  2.57it/s]"
     ]
    },
    {
     "name": "stdout",
     "output_type": "stream",
     "text": [
      "Train acc: 0.999, Val acc: 0.997\n"
     ]
    },
    {
     "name": "stderr",
     "output_type": "stream",
     "text": [
      " 70%|███████   | 70/100 [00:37<00:11,  2.53it/s]"
     ]
    },
    {
     "name": "stdout",
     "output_type": "stream",
     "text": [
      "Train acc: 0.999, Val acc: 0.997\n"
     ]
    },
    {
     "name": "stderr",
     "output_type": "stream",
     "text": [
      " 71%|███████   | 71/100 [00:38<00:11,  2.53it/s]"
     ]
    },
    {
     "name": "stdout",
     "output_type": "stream",
     "text": [
      "Train acc: 1.000, Val acc: 0.997\n"
     ]
    },
    {
     "name": "stderr",
     "output_type": "stream",
     "text": [
      " 72%|███████▏  | 72/100 [00:38<00:11,  2.53it/s]"
     ]
    },
    {
     "name": "stdout",
     "output_type": "stream",
     "text": [
      "Train acc: 0.999, Val acc: 0.997\n"
     ]
    },
    {
     "name": "stderr",
     "output_type": "stream",
     "text": [
      " 73%|███████▎  | 73/100 [00:39<00:10,  2.49it/s]"
     ]
    },
    {
     "name": "stdout",
     "output_type": "stream",
     "text": [
      "Train acc: 1.000, Val acc: 0.997\n"
     ]
    },
    {
     "name": "stderr",
     "output_type": "stream",
     "text": [
      " 74%|███████▍  | 74/100 [00:39<00:10,  2.48it/s]"
     ]
    },
    {
     "name": "stdout",
     "output_type": "stream",
     "text": [
      "Train acc: 0.999, Val acc: 0.997\n"
     ]
    },
    {
     "name": "stderr",
     "output_type": "stream",
     "text": [
      " 75%|███████▌  | 75/100 [00:39<00:10,  2.47it/s]"
     ]
    },
    {
     "name": "stdout",
     "output_type": "stream",
     "text": [
      "Train acc: 0.997, Val acc: 0.999\n"
     ]
    },
    {
     "name": "stderr",
     "output_type": "stream",
     "text": [
      " 76%|███████▌  | 76/100 [00:40<00:10,  2.38it/s]"
     ]
    },
    {
     "name": "stdout",
     "output_type": "stream",
     "text": [
      "Train acc: 0.999, Val acc: 0.997\n"
     ]
    },
    {
     "name": "stderr",
     "output_type": "stream",
     "text": [
      " 77%|███████▋  | 77/100 [00:40<00:09,  2.40it/s]"
     ]
    },
    {
     "name": "stdout",
     "output_type": "stream",
     "text": [
      "Train acc: 0.997, Val acc: 0.997\n"
     ]
    },
    {
     "name": "stderr",
     "output_type": "stream",
     "text": [
      " 78%|███████▊  | 78/100 [00:41<00:09,  2.37it/s]"
     ]
    },
    {
     "name": "stdout",
     "output_type": "stream",
     "text": [
      "Train acc: 0.999, Val acc: 0.997\n"
     ]
    },
    {
     "name": "stderr",
     "output_type": "stream",
     "text": [
      " 79%|███████▉  | 79/100 [00:41<00:08,  2.37it/s]"
     ]
    },
    {
     "name": "stdout",
     "output_type": "stream",
     "text": [
      "Train acc: 0.999, Val acc: 0.997\n"
     ]
    },
    {
     "name": "stderr",
     "output_type": "stream",
     "text": [
      " 80%|████████  | 80/100 [00:42<00:08,  2.31it/s]"
     ]
    },
    {
     "name": "stdout",
     "output_type": "stream",
     "text": [
      "Train acc: 0.997, Val acc: 0.997\n"
     ]
    },
    {
     "name": "stderr",
     "output_type": "stream",
     "text": [
      " 81%|████████  | 81/100 [00:42<00:08,  2.30it/s]"
     ]
    },
    {
     "name": "stdout",
     "output_type": "stream",
     "text": [
      "Train acc: 0.999, Val acc: 0.997\n"
     ]
    },
    {
     "name": "stderr",
     "output_type": "stream",
     "text": [
      " 82%|████████▏ | 82/100 [00:42<00:07,  2.34it/s]"
     ]
    },
    {
     "name": "stdout",
     "output_type": "stream",
     "text": [
      "Train acc: 0.999, Val acc: 0.997\n"
     ]
    },
    {
     "name": "stderr",
     "output_type": "stream",
     "text": [
      " 83%|████████▎ | 83/100 [00:43<00:07,  2.39it/s]"
     ]
    },
    {
     "name": "stdout",
     "output_type": "stream",
     "text": [
      "Train acc: 1.000, Val acc: 0.997\n"
     ]
    },
    {
     "name": "stderr",
     "output_type": "stream",
     "text": [
      " 84%|████████▍ | 84/100 [00:43<00:06,  2.41it/s]"
     ]
    },
    {
     "name": "stdout",
     "output_type": "stream",
     "text": [
      "Train acc: 0.997, Val acc: 0.997\n"
     ]
    },
    {
     "name": "stderr",
     "output_type": "stream",
     "text": [
      " 85%|████████▌ | 85/100 [00:44<00:06,  2.34it/s]"
     ]
    },
    {
     "name": "stdout",
     "output_type": "stream",
     "text": [
      "Train acc: 1.000, Val acc: 0.997\n"
     ]
    },
    {
     "name": "stderr",
     "output_type": "stream",
     "text": [
      " 86%|████████▌ | 86/100 [00:44<00:05,  2.40it/s]"
     ]
    },
    {
     "name": "stdout",
     "output_type": "stream",
     "text": [
      "Train acc: 0.999, Val acc: 0.997\n"
     ]
    },
    {
     "name": "stderr",
     "output_type": "stream",
     "text": [
      " 87%|████████▋ | 87/100 [00:44<00:05,  2.32it/s]"
     ]
    },
    {
     "name": "stdout",
     "output_type": "stream",
     "text": [
      "Train acc: 1.000, Val acc: 0.997\n"
     ]
    },
    {
     "name": "stderr",
     "output_type": "stream",
     "text": [
      " 88%|████████▊ | 88/100 [00:45<00:05,  2.35it/s]"
     ]
    },
    {
     "name": "stdout",
     "output_type": "stream",
     "text": [
      "Train acc: 1.000, Val acc: 0.997\n"
     ]
    },
    {
     "name": "stderr",
     "output_type": "stream",
     "text": [
      " 89%|████████▉ | 89/100 [00:45<00:04,  2.40it/s]"
     ]
    },
    {
     "name": "stdout",
     "output_type": "stream",
     "text": [
      "Train acc: 0.997, Val acc: 0.999\n"
     ]
    },
    {
     "name": "stderr",
     "output_type": "stream",
     "text": [
      " 90%|█████████ | 90/100 [00:46<00:04,  2.41it/s]"
     ]
    },
    {
     "name": "stdout",
     "output_type": "stream",
     "text": [
      "Train acc: 0.997, Val acc: 0.999\n"
     ]
    },
    {
     "name": "stderr",
     "output_type": "stream",
     "text": [
      " 91%|█████████ | 91/100 [00:46<00:03,  2.46it/s]"
     ]
    },
    {
     "name": "stdout",
     "output_type": "stream",
     "text": [
      "Train acc: 0.999, Val acc: 0.999\n"
     ]
    },
    {
     "name": "stderr",
     "output_type": "stream",
     "text": [
      " 92%|█████████▏| 92/100 [00:46<00:03,  2.50it/s]"
     ]
    },
    {
     "name": "stdout",
     "output_type": "stream",
     "text": [
      "Train acc: 0.999, Val acc: 0.997\n"
     ]
    },
    {
     "name": "stderr",
     "output_type": "stream",
     "text": [
      " 93%|█████████▎| 93/100 [00:47<00:02,  2.48it/s]"
     ]
    },
    {
     "name": "stdout",
     "output_type": "stream",
     "text": [
      "Train acc: 0.999, Val acc: 0.997\n"
     ]
    },
    {
     "name": "stderr",
     "output_type": "stream",
     "text": [
      " 94%|█████████▍| 94/100 [00:47<00:02,  2.48it/s]"
     ]
    },
    {
     "name": "stdout",
     "output_type": "stream",
     "text": [
      "Train acc: 0.999, Val acc: 0.997\n"
     ]
    },
    {
     "name": "stderr",
     "output_type": "stream",
     "text": [
      " 95%|█████████▌| 95/100 [00:48<00:01,  2.53it/s]"
     ]
    },
    {
     "name": "stdout",
     "output_type": "stream",
     "text": [
      "Train acc: 1.000, Val acc: 0.997\n"
     ]
    },
    {
     "name": "stderr",
     "output_type": "stream",
     "text": [
      " 96%|█████████▌| 96/100 [00:48<00:01,  2.57it/s]"
     ]
    },
    {
     "name": "stdout",
     "output_type": "stream",
     "text": [
      "Train acc: 0.999, Val acc: 0.997\n"
     ]
    },
    {
     "name": "stderr",
     "output_type": "stream",
     "text": [
      " 97%|█████████▋| 97/100 [00:48<00:01,  2.56it/s]"
     ]
    },
    {
     "name": "stdout",
     "output_type": "stream",
     "text": [
      "Train acc: 0.997, Val acc: 0.997\n"
     ]
    },
    {
     "name": "stderr",
     "output_type": "stream",
     "text": [
      " 98%|█████████▊| 98/100 [00:49<00:00,  2.59it/s]"
     ]
    },
    {
     "name": "stdout",
     "output_type": "stream",
     "text": [
      "Train acc: 0.999, Val acc: 0.997\n"
     ]
    },
    {
     "name": "stderr",
     "output_type": "stream",
     "text": [
      " 99%|█████████▉| 99/100 [00:49<00:00,  2.62it/s]"
     ]
    },
    {
     "name": "stdout",
     "output_type": "stream",
     "text": [
      "Train acc: 1.000, Val acc: 0.997\n"
     ]
    },
    {
     "name": "stderr",
     "output_type": "stream",
     "text": [
      "100%|██████████| 100/100 [00:50<00:00,  2.00it/s]"
     ]
    },
    {
     "name": "stdout",
     "output_type": "stream",
     "text": [
      "Train acc: 1.000, Val acc: 0.997\n"
     ]
    },
    {
     "name": "stderr",
     "output_type": "stream",
     "text": [
      "\n"
     ]
    },
    {
     "data": {
      "image/png": "[encoded data removed]",
      "text/plain": [
       "<Figure size 640x480 with 1 Axes>"
      ]
     },
     "metadata": {},
     "output_type": "display_data"
    }
   ],
   "source": [
    "v_net = CNN_LSTM2()\n",
    "v_criterion = nn.CrossEntropyLoss() # add to device here\n",
    "v_optimizer = optim.Adam(v_net.parameters(), lr=0.001, weight_decay=1e-7)\n",
    "train_net(v_net, v_optimizer, v_criterion, train_loader_v, val_loader_v, 100)"
   ]
  },
  {
   "cell_type": "code",
   "execution_count": 296,
   "metadata": {},
   "outputs": [
    {
     "name": "stdout",
     "output_type": "stream",
     "text": [
      "Test acc: 0.9972222447\n"
     ]
    }
   ],
   "source": [
    "eval_net(v_net, test_loader_v)"
   ]
  },
  {
   "cell_type": "code",
   "execution_count": 297,
   "metadata": {},
   "outputs": [
    {
     "name": "stderr",
     "output_type": "stream",
     "text": [
      "  2%|▏         | 1/50 [00:00<00:18,  2.59it/s]"
     ]
    },
    {
     "name": "stdout",
     "output_type": "stream",
     "text": [
      "Train acc: 0.584, Val acc: 0.550\n"
     ]
    },
    {
     "name": "stderr",
     "output_type": "stream",
     "text": [
      "  4%|▍         | 2/50 [00:00<00:17,  2.71it/s]"
     ]
    },
    {
     "name": "stdout",
     "output_type": "stream",
     "text": [
      "Train acc: 0.608, Val acc: 0.590\n"
     ]
    },
    {
     "name": "stderr",
     "output_type": "stream",
     "text": [
      "  6%|▌         | 3/50 [00:01<00:17,  2.76it/s]"
     ]
    },
    {
     "name": "stdout",
     "output_type": "stream",
     "text": [
      "Train acc: 0.630, Val acc: 0.621\n"
     ]
    },
    {
     "name": "stderr",
     "output_type": "stream",
     "text": [
      "  8%|▊         | 4/50 [00:01<00:16,  2.74it/s]"
     ]
    },
    {
     "name": "stdout",
     "output_type": "stream",
     "text": [
      "Train acc: 0.666, Val acc: 0.643\n"
     ]
    },
    {
     "name": "stderr",
     "output_type": "stream",
     "text": [
      " 10%|█         | 5/50 [00:01<00:16,  2.73it/s]"
     ]
    },
    {
     "name": "stdout",
     "output_type": "stream",
     "text": [
      "Train acc: 0.702, Val acc: 0.707\n"
     ]
    },
    {
     "name": "stderr",
     "output_type": "stream",
     "text": [
      " 12%|█▏        | 6/50 [00:02<00:16,  2.66it/s]"
     ]
    },
    {
     "name": "stdout",
     "output_type": "stream",
     "text": [
      "Train acc: 0.743, Val acc: 0.766\n"
     ]
    },
    {
     "name": "stderr",
     "output_type": "stream",
     "text": [
      " 14%|█▍        | 7/50 [00:02<00:16,  2.67it/s]"
     ]
    },
    {
     "name": "stdout",
     "output_type": "stream",
     "text": [
      "Train acc: 0.785, Val acc: 0.810\n"
     ]
    },
    {
     "name": "stderr",
     "output_type": "stream",
     "text": [
      " 16%|█▌        | 8/50 [00:02<00:15,  2.69it/s]"
     ]
    },
    {
     "name": "stdout",
     "output_type": "stream",
     "text": [
      "Train acc: 0.817, Val acc: 0.846\n"
     ]
    },
    {
     "name": "stderr",
     "output_type": "stream",
     "text": [
      " 18%|█▊        | 9/50 [00:03<00:15,  2.72it/s]"
     ]
    },
    {
     "name": "stdout",
     "output_type": "stream",
     "text": [
      "Train acc: 0.835, Val acc: 0.859\n"
     ]
    },
    {
     "name": "stderr",
     "output_type": "stream",
     "text": [
      " 20%|██        | 10/50 [00:03<00:14,  2.71it/s]"
     ]
    },
    {
     "name": "stdout",
     "output_type": "stream",
     "text": [
      "Train acc: 0.844, Val acc: 0.865\n"
     ]
    },
    {
     "name": "stderr",
     "output_type": "stream",
     "text": [
      " 22%|██▏       | 11/50 [00:04<00:14,  2.77it/s]"
     ]
    },
    {
     "name": "stdout",
     "output_type": "stream",
     "text": [
      "Train acc: 0.853, Val acc: 0.878\n"
     ]
    },
    {
     "name": "stderr",
     "output_type": "stream",
     "text": [
      " 24%|██▍       | 12/50 [00:04<00:13,  2.84it/s]"
     ]
    },
    {
     "name": "stdout",
     "output_type": "stream",
     "text": [
      "Train acc: 0.871, Val acc: 0.884\n"
     ]
    },
    {
     "name": "stderr",
     "output_type": "stream",
     "text": [
      " 26%|██▌       | 13/50 [00:04<00:13,  2.84it/s]"
     ]
    },
    {
     "name": "stdout",
     "output_type": "stream",
     "text": [
      "Train acc: 0.870, Val acc: 0.891\n"
     ]
    },
    {
     "name": "stderr",
     "output_type": "stream",
     "text": [
      " 28%|██▊       | 14/50 [00:05<00:12,  2.88it/s]"
     ]
    },
    {
     "name": "stdout",
     "output_type": "stream",
     "text": [
      "Train acc: 0.883, Val acc: 0.907\n"
     ]
    },
    {
     "name": "stderr",
     "output_type": "stream",
     "text": [
      " 30%|███       | 15/50 [00:05<00:12,  2.88it/s]"
     ]
    },
    {
     "name": "stdout",
     "output_type": "stream",
     "text": [
      "Train acc: 0.884, Val acc: 0.900\n"
     ]
    },
    {
     "name": "stderr",
     "output_type": "stream",
     "text": [
      " 32%|███▏      | 16/50 [00:05<00:11,  2.92it/s]"
     ]
    },
    {
     "name": "stdout",
     "output_type": "stream",
     "text": [
      "Train acc: 0.889, Val acc: 0.914\n"
     ]
    },
    {
     "name": "stderr",
     "output_type": "stream",
     "text": [
      " 34%|███▍      | 17/50 [00:06<00:11,  2.90it/s]"
     ]
    },
    {
     "name": "stdout",
     "output_type": "stream",
     "text": [
      "Train acc: 0.892, Val acc: 0.913\n"
     ]
    },
    {
     "name": "stderr",
     "output_type": "stream",
     "text": [
      " 36%|███▌      | 18/50 [00:06<00:11,  2.89it/s]"
     ]
    },
    {
     "name": "stdout",
     "output_type": "stream",
     "text": [
      "Train acc: 0.900, Val acc: 0.914\n"
     ]
    },
    {
     "name": "stderr",
     "output_type": "stream",
     "text": [
      " 38%|███▊      | 19/50 [00:06<00:11,  2.81it/s]"
     ]
    },
    {
     "name": "stdout",
     "output_type": "stream",
     "text": [
      "Train acc: 0.896, Val acc: 0.914\n"
     ]
    },
    {
     "name": "stderr",
     "output_type": "stream",
     "text": [
      " 40%|████      | 20/50 [00:07<00:10,  2.85it/s]"
     ]
    },
    {
     "name": "stdout",
     "output_type": "stream",
     "text": [
      "Train acc: 0.898, Val acc: 0.913\n"
     ]
    },
    {
     "name": "stderr",
     "output_type": "stream",
     "text": [
      " 42%|████▏     | 21/50 [00:07<00:10,  2.86it/s]"
     ]
    },
    {
     "name": "stdout",
     "output_type": "stream",
     "text": [
      "Train acc: 0.893, Val acc: 0.914\n"
     ]
    },
    {
     "name": "stderr",
     "output_type": "stream",
     "text": [
      " 44%|████▍     | 22/50 [00:07<00:09,  2.87it/s]"
     ]
    },
    {
     "name": "stdout",
     "output_type": "stream",
     "text": [
      "Train acc: 0.905, Val acc: 0.915\n"
     ]
    },
    {
     "name": "stderr",
     "output_type": "stream",
     "text": [
      " 46%|████▌     | 23/50 [00:08<00:09,  2.88it/s]"
     ]
    },
    {
     "name": "stdout",
     "output_type": "stream",
     "text": [
      "Train acc: 0.905, Val acc: 0.919\n"
     ]
    },
    {
     "name": "stderr",
     "output_type": "stream",
     "text": [
      " 48%|████▊     | 24/50 [00:08<00:09,  2.87it/s]"
     ]
    },
    {
     "name": "stdout",
     "output_type": "stream",
     "text": [
      "Train acc: 0.909, Val acc: 0.919\n"
     ]
    },
    {
     "name": "stderr",
     "output_type": "stream",
     "text": [
      " 50%|█████     | 25/50 [00:08<00:08,  2.88it/s]"
     ]
    },
    {
     "name": "stdout",
     "output_type": "stream",
     "text": [
      "Train acc: 0.913, Val acc: 0.916\n"
     ]
    },
    {
     "name": "stderr",
     "output_type": "stream",
     "text": [
      " 52%|█████▏    | 26/50 [00:09<00:08,  2.86it/s]"
     ]
    },
    {
     "name": "stdout",
     "output_type": "stream",
     "text": [
      "Train acc: 0.913, Val acc: 0.918\n"
     ]
    },
    {
     "name": "stderr",
     "output_type": "stream",
     "text": [
      " 54%|█████▍    | 27/50 [00:09<00:08,  2.85it/s]"
     ]
    },
    {
     "name": "stdout",
     "output_type": "stream",
     "text": [
      "Train acc: 0.911, Val acc: 0.910\n"
     ]
    },
    {
     "name": "stderr",
     "output_type": "stream",
     "text": [
      " 56%|█████▌    | 28/50 [00:09<00:07,  2.86it/s]"
     ]
    },
    {
     "name": "stdout",
     "output_type": "stream",
     "text": [
      "Train acc: 0.905, Val acc: 0.914\n"
     ]
    },
    {
     "name": "stderr",
     "output_type": "stream",
     "text": [
      " 58%|█████▊    | 29/50 [00:10<00:07,  2.78it/s]"
     ]
    },
    {
     "name": "stdout",
     "output_type": "stream",
     "text": [
      "Train acc: 0.916, Val acc: 0.915\n"
     ]
    },
    {
     "name": "stderr",
     "output_type": "stream",
     "text": [
      " 60%|██████    | 30/50 [00:10<00:07,  2.81it/s]"
     ]
    },
    {
     "name": "stdout",
     "output_type": "stream",
     "text": [
      "Train acc: 0.905, Val acc: 0.910\n"
     ]
    },
    {
     "name": "stderr",
     "output_type": "stream",
     "text": [
      " 62%|██████▏   | 31/50 [00:11<00:06,  2.80it/s]"
     ]
    },
    {
     "name": "stdout",
     "output_type": "stream",
     "text": [
      "Train acc: 0.922, Val acc: 0.911\n"
     ]
    },
    {
     "name": "stderr",
     "output_type": "stream",
     "text": [
      " 64%|██████▍   | 32/50 [00:11<00:06,  2.83it/s]"
     ]
    },
    {
     "name": "stdout",
     "output_type": "stream",
     "text": [
      "Train acc: 0.924, Val acc: 0.911\n"
     ]
    },
    {
     "name": "stderr",
     "output_type": "stream",
     "text": [
      " 66%|██████▌   | 33/50 [00:11<00:05,  2.85it/s]"
     ]
    },
    {
     "name": "stdout",
     "output_type": "stream",
     "text": [
      "Train acc: 0.931, Val acc: 0.911\n"
     ]
    },
    {
     "name": "stderr",
     "output_type": "stream",
     "text": [
      " 68%|██████▊   | 34/50 [00:12<00:05,  2.85it/s]"
     ]
    },
    {
     "name": "stdout",
     "output_type": "stream",
     "text": [
      "Train acc: 0.915, Val acc: 0.909\n"
     ]
    },
    {
     "name": "stderr",
     "output_type": "stream",
     "text": [
      " 70%|███████   | 35/50 [00:12<00:05,  2.85it/s]"
     ]
    },
    {
     "name": "stdout",
     "output_type": "stream",
     "text": [
      "Train acc: 0.923, Val acc: 0.916\n"
     ]
    },
    {
     "name": "stderr",
     "output_type": "stream",
     "text": [
      " 72%|███████▏  | 36/50 [00:12<00:04,  2.82it/s]"
     ]
    },
    {
     "name": "stdout",
     "output_type": "stream",
     "text": [
      "Train acc: 0.932, Val acc: 0.919\n"
     ]
    },
    {
     "name": "stderr",
     "output_type": "stream",
     "text": [
      " 74%|███████▍  | 37/50 [00:13<00:04,  2.80it/s]"
     ]
    },
    {
     "name": "stdout",
     "output_type": "stream",
     "text": [
      "Train acc: 0.922, Val acc: 0.906\n"
     ]
    },
    {
     "name": "stderr",
     "output_type": "stream",
     "text": [
      " 76%|███████▌  | 38/50 [00:13<00:04,  2.72it/s]"
     ]
    },
    {
     "name": "stdout",
     "output_type": "stream",
     "text": [
      "Train acc: 0.919, Val acc: 0.918\n"
     ]
    },
    {
     "name": "stderr",
     "output_type": "stream",
     "text": [
      " 78%|███████▊  | 39/50 [00:13<00:03,  2.76it/s]"
     ]
    },
    {
     "name": "stdout",
     "output_type": "stream",
     "text": [
      "Train acc: 0.931, Val acc: 0.905\n"
     ]
    },
    {
     "name": "stderr",
     "output_type": "stream",
     "text": [
      " 80%|████████  | 40/50 [00:14<00:03,  2.77it/s]"
     ]
    },
    {
     "name": "stdout",
     "output_type": "stream",
     "text": [
      "Train acc: 0.932, Val acc: 0.909\n"
     ]
    },
    {
     "name": "stderr",
     "output_type": "stream",
     "text": [
      " 82%|████████▏ | 41/50 [00:14<00:03,  2.79it/s]"
     ]
    },
    {
     "name": "stdout",
     "output_type": "stream",
     "text": [
      "Train acc: 0.931, Val acc: 0.913\n"
     ]
    },
    {
     "name": "stderr",
     "output_type": "stream",
     "text": [
      " 84%|████████▍ | 42/50 [00:14<00:02,  2.78it/s]"
     ]
    },
    {
     "name": "stdout",
     "output_type": "stream",
     "text": [
      "Train acc: 0.937, Val acc: 0.874\n"
     ]
    },
    {
     "name": "stderr",
     "output_type": "stream",
     "text": [
      " 86%|████████▌ | 43/50 [00:15<00:02,  2.81it/s]"
     ]
    },
    {
     "name": "stdout",
     "output_type": "stream",
     "text": [
      "Train acc: 0.923, Val acc: 0.907\n"
     ]
    },
    {
     "name": "stderr",
     "output_type": "stream",
     "text": [
      " 88%|████████▊ | 44/50 [00:15<00:02,  2.83it/s]"
     ]
    },
    {
     "name": "stdout",
     "output_type": "stream",
     "text": [
      "Train acc: 0.936, Val acc: 0.910\n"
     ]
    },
    {
     "name": "stderr",
     "output_type": "stream",
     "text": [
      " 90%|█████████ | 45/50 [00:16<00:01,  2.85it/s]"
     ]
    },
    {
     "name": "stdout",
     "output_type": "stream",
     "text": [
      "Train acc: 0.931, Val acc: 0.915\n"
     ]
    },
    {
     "name": "stderr",
     "output_type": "stream",
     "text": [
      " 92%|█████████▏| 46/50 [00:16<00:01,  2.82it/s]"
     ]
    },
    {
     "name": "stdout",
     "output_type": "stream",
     "text": [
      "Train acc: 0.924, Val acc: 0.896\n"
     ]
    },
    {
     "name": "stderr",
     "output_type": "stream",
     "text": [
      " 94%|█████████▍| 47/50 [00:16<00:01,  2.71it/s]"
     ]
    },
    {
     "name": "stdout",
     "output_type": "stream",
     "text": [
      "Train acc: 0.919, Val acc: 0.911\n"
     ]
    },
    {
     "name": "stderr",
     "output_type": "stream",
     "text": [
      " 96%|█████████▌| 48/50 [00:17<00:00,  2.73it/s]"
     ]
    },
    {
     "name": "stdout",
     "output_type": "stream",
     "text": [
      "Train acc: 0.927, Val acc: 0.866\n"
     ]
    },
    {
     "name": "stderr",
     "output_type": "stream",
     "text": [
      " 98%|█████████▊| 49/50 [00:17<00:00,  2.73it/s]"
     ]
    },
    {
     "name": "stdout",
     "output_type": "stream",
     "text": [
      "Train acc: 0.927, Val acc: 0.900\n"
     ]
    },
    {
     "name": "stderr",
     "output_type": "stream",
     "text": [
      "100%|██████████| 50/50 [00:17<00:00,  2.80it/s]"
     ]
    },
    {
     "name": "stdout",
     "output_type": "stream",
     "text": [
      "Train acc: 0.925, Val acc: 0.911\n"
     ]
    },
    {
     "name": "stderr",
     "output_type": "stream",
     "text": [
      "\n"
     ]
    },
    {
     "data": {
      "image/png": "[encoded data removed]",
      "text/plain": [
       "<Figure size 640x480 with 1 Axes>"
      ]
     },
     "metadata": {},
     "output_type": "display_data"
    }
   ],
   "source": [
    "a_net = CNN_LSTM2()\n",
    "a_criterion = nn.CrossEntropyLoss() # add to device here\n",
    "a_optimizer = optim.Adam(a_net.parameters(), lr=0.001, weight_decay=1e-7)\n",
    "train_net(a_net, a_optimizer, a_criterion, train_loader_a, val_loader_a, 50)"
   ]
  },
  {
   "cell_type": "code",
   "execution_count": 298,
   "metadata": {},
   "outputs": [
    {
     "name": "stdout",
     "output_type": "stream",
     "text": [
      "Test acc: 0.8999999762\n"
     ]
    }
   ],
   "source": [
    "eval_net(a_net, test_loader_a)"
   ]
  },
  {
   "cell_type": "code",
   "execution_count": 299,
   "metadata": {},
   "outputs": [
    {
     "name": "stderr",
     "output_type": "stream",
     "text": [
      "  1%|          | 1/100 [00:00<00:33,  2.99it/s]"
     ]
    },
    {
     "name": "stdout",
     "output_type": "stream",
     "text": [
      "Train acc: 0.590, Val acc: 0.697\n"
     ]
    },
    {
     "name": "stderr",
     "output_type": "stream",
     "text": [
      "  2%|▏         | 2/100 [00:00<00:32,  2.99it/s]"
     ]
    },
    {
     "name": "stdout",
     "output_type": "stream",
     "text": [
      "Train acc: 0.694, Val acc: 0.757\n"
     ]
    },
    {
     "name": "stderr",
     "output_type": "stream",
     "text": [
      "  3%|▎         | 3/100 [00:01<00:32,  2.98it/s]"
     ]
    },
    {
     "name": "stdout",
     "output_type": "stream",
     "text": [
      "Train acc: 0.801, Val acc: 0.844\n"
     ]
    },
    {
     "name": "stderr",
     "output_type": "stream",
     "text": [
      "  4%|▍         | 4/100 [00:01<00:32,  2.99it/s]"
     ]
    },
    {
     "name": "stdout",
     "output_type": "stream",
     "text": [
      "Train acc: 0.856, Val acc: 0.847\n"
     ]
    },
    {
     "name": "stderr",
     "output_type": "stream",
     "text": [
      "  5%|▌         | 5/100 [00:01<00:32,  2.94it/s]"
     ]
    },
    {
     "name": "stdout",
     "output_type": "stream",
     "text": [
      "Train acc: 0.873, Val acc: 0.852\n"
     ]
    },
    {
     "name": "stderr",
     "output_type": "stream",
     "text": [
      "  6%|▌         | 6/100 [00:02<00:32,  2.85it/s]"
     ]
    },
    {
     "name": "stdout",
     "output_type": "stream",
     "text": [
      "Train acc: 0.884, Val acc: 0.873\n"
     ]
    },
    {
     "name": "stderr",
     "output_type": "stream",
     "text": [
      "  7%|▋         | 7/100 [00:02<00:32,  2.87it/s]"
     ]
    },
    {
     "name": "stdout",
     "output_type": "stream",
     "text": [
      "Train acc: 0.897, Val acc: 0.883\n"
     ]
    },
    {
     "name": "stderr",
     "output_type": "stream",
     "text": [
      "  8%|▊         | 8/100 [00:02<00:31,  2.92it/s]"
     ]
    },
    {
     "name": "stdout",
     "output_type": "stream",
     "text": [
      "Train acc: 0.904, Val acc: 0.892\n"
     ]
    },
    {
     "name": "stderr",
     "output_type": "stream",
     "text": [
      "  9%|▉         | 9/100 [00:03<00:30,  2.95it/s]"
     ]
    },
    {
     "name": "stdout",
     "output_type": "stream",
     "text": [
      "Train acc: 0.902, Val acc: 0.896\n"
     ]
    },
    {
     "name": "stderr",
     "output_type": "stream",
     "text": [
      " 10%|█         | 10/100 [00:03<00:30,  2.95it/s]"
     ]
    },
    {
     "name": "stdout",
     "output_type": "stream",
     "text": [
      "Train acc: 0.905, Val acc: 0.901\n"
     ]
    },
    {
     "name": "stderr",
     "output_type": "stream",
     "text": [
      " 11%|█         | 11/100 [00:03<00:30,  2.95it/s]"
     ]
    },
    {
     "name": "stdout",
     "output_type": "stream",
     "text": [
      "Train acc: 0.904, Val acc: 0.904\n"
     ]
    },
    {
     "name": "stderr",
     "output_type": "stream",
     "text": [
      " 12%|█▏        | 12/100 [00:04<00:30,  2.93it/s]"
     ]
    },
    {
     "name": "stdout",
     "output_type": "stream",
     "text": [
      "Train acc: 0.905, Val acc: 0.905\n"
     ]
    },
    {
     "name": "stderr",
     "output_type": "stream",
     "text": [
      " 13%|█▎        | 13/100 [00:04<00:29,  2.94it/s]"
     ]
    },
    {
     "name": "stdout",
     "output_type": "stream",
     "text": [
      "Train acc: 0.906, Val acc: 0.906\n"
     ]
    },
    {
     "name": "stderr",
     "output_type": "stream",
     "text": [
      " 14%|█▍        | 14/100 [00:04<00:29,  2.94it/s]"
     ]
    },
    {
     "name": "stdout",
     "output_type": "stream",
     "text": [
      "Train acc: 0.914, Val acc: 0.906\n"
     ]
    },
    {
     "name": "stderr",
     "output_type": "stream",
     "text": [
      " 15%|█▌        | 15/100 [00:05<00:29,  2.84it/s]"
     ]
    },
    {
     "name": "stdout",
     "output_type": "stream",
     "text": [
      "Train acc: 0.907, Val acc: 0.906\n"
     ]
    },
    {
     "name": "stderr",
     "output_type": "stream",
     "text": [
      " 16%|█▌        | 16/100 [00:05<00:29,  2.89it/s]"
     ]
    },
    {
     "name": "stdout",
     "output_type": "stream",
     "text": [
      "Train acc: 0.907, Val acc: 0.906\n"
     ]
    },
    {
     "name": "stderr",
     "output_type": "stream",
     "text": [
      " 17%|█▋        | 17/100 [00:05<00:28,  2.89it/s]"
     ]
    },
    {
     "name": "stdout",
     "output_type": "stream",
     "text": [
      "Train acc: 0.913, Val acc: 0.907\n"
     ]
    },
    {
     "name": "stderr",
     "output_type": "stream",
     "text": [
      " 18%|█▊        | 18/100 [00:06<00:28,  2.89it/s]"
     ]
    },
    {
     "name": "stdout",
     "output_type": "stream",
     "text": [
      "Train acc: 0.918, Val acc: 0.907\n"
     ]
    },
    {
     "name": "stderr",
     "output_type": "stream",
     "text": [
      " 19%|█▉        | 19/100 [00:06<00:28,  2.88it/s]"
     ]
    },
    {
     "name": "stdout",
     "output_type": "stream",
     "text": [
      "Train acc: 0.923, Val acc: 0.909\n"
     ]
    },
    {
     "name": "stderr",
     "output_type": "stream",
     "text": [
      " 20%|██        | 20/100 [00:06<00:27,  2.88it/s]"
     ]
    },
    {
     "name": "stdout",
     "output_type": "stream",
     "text": [
      "Train acc: 0.920, Val acc: 0.907\n"
     ]
    },
    {
     "name": "stderr",
     "output_type": "stream",
     "text": [
      " 21%|██        | 21/100 [00:07<00:27,  2.91it/s]"
     ]
    },
    {
     "name": "stdout",
     "output_type": "stream",
     "text": [
      "Train acc: 0.923, Val acc: 0.906\n"
     ]
    },
    {
     "name": "stderr",
     "output_type": "stream",
     "text": [
      " 22%|██▏       | 22/100 [00:07<00:26,  2.92it/s]"
     ]
    },
    {
     "name": "stdout",
     "output_type": "stream",
     "text": [
      "Train acc: 0.945, Val acc: 0.910\n"
     ]
    },
    {
     "name": "stderr",
     "output_type": "stream",
     "text": [
      " 23%|██▎       | 23/100 [00:07<00:26,  2.92it/s]"
     ]
    },
    {
     "name": "stdout",
     "output_type": "stream",
     "text": [
      "Train acc: 0.932, Val acc: 0.909\n"
     ]
    },
    {
     "name": "stderr",
     "output_type": "stream",
     "text": [
      " 24%|██▍       | 24/100 [00:08<00:26,  2.90it/s]"
     ]
    },
    {
     "name": "stdout",
     "output_type": "stream",
     "text": [
      "Train acc: 0.937, Val acc: 0.909\n"
     ]
    },
    {
     "name": "stderr",
     "output_type": "stream",
     "text": [
      " 25%|██▌       | 25/100 [00:08<00:26,  2.79it/s]"
     ]
    },
    {
     "name": "stdout",
     "output_type": "stream",
     "text": [
      "Train acc: 0.937, Val acc: 0.907\n"
     ]
    },
    {
     "name": "stderr",
     "output_type": "stream",
     "text": [
      " 26%|██▌       | 26/100 [00:08<00:26,  2.80it/s]"
     ]
    },
    {
     "name": "stdout",
     "output_type": "stream",
     "text": [
      "Train acc: 0.947, Val acc: 0.909\n"
     ]
    },
    {
     "name": "stderr",
     "output_type": "stream",
     "text": [
      " 27%|██▋       | 27/100 [00:09<00:26,  2.79it/s]"
     ]
    },
    {
     "name": "stdout",
     "output_type": "stream",
     "text": [
      "Train acc: 0.932, Val acc: 0.909\n"
     ]
    },
    {
     "name": "stderr",
     "output_type": "stream",
     "text": [
      " 28%|██▊       | 28/100 [00:09<00:25,  2.80it/s]"
     ]
    },
    {
     "name": "stdout",
     "output_type": "stream",
     "text": [
      "Train acc: 0.952, Val acc: 0.909\n"
     ]
    },
    {
     "name": "stderr",
     "output_type": "stream",
     "text": [
      " 29%|██▉       | 29/100 [00:10<00:25,  2.77it/s]"
     ]
    },
    {
     "name": "stdout",
     "output_type": "stream",
     "text": [
      "Train acc: 0.938, Val acc: 0.907\n"
     ]
    },
    {
     "name": "stderr",
     "output_type": "stream",
     "text": [
      " 30%|███       | 30/100 [00:10<00:24,  2.80it/s]"
     ]
    },
    {
     "name": "stdout",
     "output_type": "stream",
     "text": [
      "Train acc: 0.949, Val acc: 0.909\n"
     ]
    },
    {
     "name": "stderr",
     "output_type": "stream",
     "text": [
      " 31%|███       | 31/100 [00:10<00:24,  2.83it/s]"
     ]
    },
    {
     "name": "stdout",
     "output_type": "stream",
     "text": [
      "Train acc: 0.942, Val acc: 0.909\n"
     ]
    },
    {
     "name": "stderr",
     "output_type": "stream",
     "text": [
      " 32%|███▏      | 32/100 [00:11<00:23,  2.84it/s]"
     ]
    },
    {
     "name": "stdout",
     "output_type": "stream",
     "text": [
      "Train acc: 0.949, Val acc: 0.907\n"
     ]
    },
    {
     "name": "stderr",
     "output_type": "stream",
     "text": [
      " 33%|███▎      | 33/100 [00:11<00:23,  2.82it/s]"
     ]
    },
    {
     "name": "stdout",
     "output_type": "stream",
     "text": [
      "Train acc: 0.959, Val acc: 0.910\n"
     ]
    },
    {
     "name": "stderr",
     "output_type": "stream",
     "text": [
      " 34%|███▍      | 34/100 [00:11<00:24,  2.72it/s]"
     ]
    },
    {
     "name": "stdout",
     "output_type": "stream",
     "text": [
      "Train acc: 0.949, Val acc: 0.910\n"
     ]
    },
    {
     "name": "stderr",
     "output_type": "stream",
     "text": [
      " 35%|███▌      | 35/100 [00:12<00:23,  2.73it/s]"
     ]
    },
    {
     "name": "stdout",
     "output_type": "stream",
     "text": [
      "Train acc: 0.955, Val acc: 0.910\n"
     ]
    },
    {
     "name": "stderr",
     "output_type": "stream",
     "text": [
      " 36%|███▌      | 36/100 [00:12<00:23,  2.72it/s]"
     ]
    },
    {
     "name": "stdout",
     "output_type": "stream",
     "text": [
      "Train acc: 0.956, Val acc: 0.910\n"
     ]
    },
    {
     "name": "stderr",
     "output_type": "stream",
     "text": [
      " 37%|███▋      | 37/100 [00:12<00:23,  2.73it/s]"
     ]
    },
    {
     "name": "stdout",
     "output_type": "stream",
     "text": [
      "Train acc: 0.951, Val acc: 0.909\n"
     ]
    },
    {
     "name": "stderr",
     "output_type": "stream",
     "text": [
      " 38%|███▊      | 38/100 [00:13<00:22,  2.75it/s]"
     ]
    },
    {
     "name": "stdout",
     "output_type": "stream",
     "text": [
      "Train acc: 0.963, Val acc: 0.910\n"
     ]
    },
    {
     "name": "stderr",
     "output_type": "stream",
     "text": [
      " 39%|███▉      | 39/100 [00:13<00:22,  2.73it/s]"
     ]
    },
    {
     "name": "stdout",
     "output_type": "stream",
     "text": [
      "Train acc: 0.964, Val acc: 0.910\n"
     ]
    },
    {
     "name": "stderr",
     "output_type": "stream",
     "text": [
      " 40%|████      | 40/100 [00:14<00:22,  2.71it/s]"
     ]
    },
    {
     "name": "stdout",
     "output_type": "stream",
     "text": [
      "Train acc: 0.967, Val acc: 0.909\n"
     ]
    },
    {
     "name": "stderr",
     "output_type": "stream",
     "text": [
      " 41%|████      | 41/100 [00:14<00:21,  2.71it/s]"
     ]
    },
    {
     "name": "stdout",
     "output_type": "stream",
     "text": [
      "Train acc: 0.963, Val acc: 0.909\n"
     ]
    },
    {
     "name": "stderr",
     "output_type": "stream",
     "text": [
      " 42%|████▏     | 42/100 [00:14<00:21,  2.74it/s]"
     ]
    },
    {
     "name": "stdout",
     "output_type": "stream",
     "text": [
      "Train acc: 0.964, Val acc: 0.907\n"
     ]
    },
    {
     "name": "stderr",
     "output_type": "stream",
     "text": [
      " 43%|████▎     | 43/100 [00:15<00:20,  2.74it/s]"
     ]
    },
    {
     "name": "stdout",
     "output_type": "stream",
     "text": [
      "Train acc: 0.964, Val acc: 0.909\n"
     ]
    },
    {
     "name": "stderr",
     "output_type": "stream",
     "text": [
      " 44%|████▍     | 44/100 [00:15<00:21,  2.67it/s]"
     ]
    },
    {
     "name": "stdout",
     "output_type": "stream",
     "text": [
      "Train acc: 0.964, Val acc: 0.909\n"
     ]
    },
    {
     "name": "stderr",
     "output_type": "stream",
     "text": [
      " 45%|████▌     | 45/100 [00:15<00:20,  2.71it/s]"
     ]
    },
    {
     "name": "stdout",
     "output_type": "stream",
     "text": [
      "Train acc: 0.965, Val acc: 0.910\n"
     ]
    },
    {
     "name": "stderr",
     "output_type": "stream",
     "text": [
      " 46%|████▌     | 46/100 [00:16<00:19,  2.75it/s]"
     ]
    },
    {
     "name": "stdout",
     "output_type": "stream",
     "text": [
      "Train acc: 0.961, Val acc: 0.910\n"
     ]
    },
    {
     "name": "stderr",
     "output_type": "stream",
     "text": [
      " 47%|████▋     | 47/100 [00:16<00:19,  2.77it/s]"
     ]
    },
    {
     "name": "stdout",
     "output_type": "stream",
     "text": [
      "Train acc: 0.963, Val acc: 0.910\n"
     ]
    },
    {
     "name": "stderr",
     "output_type": "stream",
     "text": [
      " 48%|████▊     | 48/100 [00:16<00:19,  2.73it/s]"
     ]
    },
    {
     "name": "stdout",
     "output_type": "stream",
     "text": [
      "Train acc: 0.963, Val acc: 0.910\n"
     ]
    },
    {
     "name": "stderr",
     "output_type": "stream",
     "text": [
      " 49%|████▉     | 49/100 [00:17<00:18,  2.74it/s]"
     ]
    },
    {
     "name": "stdout",
     "output_type": "stream",
     "text": [
      "Train acc: 0.967, Val acc: 0.911\n"
     ]
    },
    {
     "name": "stderr",
     "output_type": "stream",
     "text": [
      " 50%|█████     | 50/100 [00:17<00:18,  2.75it/s]"
     ]
    },
    {
     "name": "stdout",
     "output_type": "stream",
     "text": [
      "Train acc: 0.968, Val acc: 0.911\n"
     ]
    },
    {
     "name": "stderr",
     "output_type": "stream",
     "text": [
      " 51%|█████     | 51/100 [00:18<00:17,  2.73it/s]"
     ]
    },
    {
     "name": "stdout",
     "output_type": "stream",
     "text": [
      "Train acc: 0.970, Val acc: 0.911\n"
     ]
    },
    {
     "name": "stderr",
     "output_type": "stream",
     "text": [
      " 52%|█████▏    | 52/100 [00:18<00:17,  2.73it/s]"
     ]
    },
    {
     "name": "stdout",
     "output_type": "stream",
     "text": [
      "Train acc: 0.968, Val acc: 0.911\n"
     ]
    },
    {
     "name": "stderr",
     "output_type": "stream",
     "text": [
      " 53%|█████▎    | 53/100 [00:18<00:17,  2.64it/s]"
     ]
    },
    {
     "name": "stdout",
     "output_type": "stream",
     "text": [
      "Train acc: 0.972, Val acc: 0.911\n"
     ]
    },
    {
     "name": "stderr",
     "output_type": "stream",
     "text": [
      " 54%|█████▍    | 54/100 [00:19<00:17,  2.65it/s]"
     ]
    },
    {
     "name": "stdout",
     "output_type": "stream",
     "text": [
      "Train acc: 0.973, Val acc: 0.913\n"
     ]
    },
    {
     "name": "stderr",
     "output_type": "stream",
     "text": [
      " 55%|█████▌    | 55/100 [00:19<00:16,  2.69it/s]"
     ]
    },
    {
     "name": "stdout",
     "output_type": "stream",
     "text": [
      "Train acc: 0.968, Val acc: 0.913\n"
     ]
    },
    {
     "name": "stderr",
     "output_type": "stream",
     "text": [
      " 56%|█████▌    | 56/100 [00:19<00:16,  2.67it/s]"
     ]
    },
    {
     "name": "stdout",
     "output_type": "stream",
     "text": [
      "Train acc: 0.973, Val acc: 0.910\n"
     ]
    },
    {
     "name": "stderr",
     "output_type": "stream",
     "text": [
      " 57%|█████▋    | 57/100 [00:20<00:16,  2.67it/s]"
     ]
    },
    {
     "name": "stdout",
     "output_type": "stream",
     "text": [
      "Train acc: 0.972, Val acc: 0.910\n"
     ]
    },
    {
     "name": "stderr",
     "output_type": "stream",
     "text": [
      " 58%|█████▊    | 58/100 [00:20<00:15,  2.69it/s]"
     ]
    },
    {
     "name": "stdout",
     "output_type": "stream",
     "text": [
      "Train acc: 0.969, Val acc: 0.910\n"
     ]
    },
    {
     "name": "stderr",
     "output_type": "stream",
     "text": [
      " 59%|█████▉    | 59/100 [00:21<00:15,  2.68it/s]"
     ]
    },
    {
     "name": "stdout",
     "output_type": "stream",
     "text": [
      "Train acc: 0.972, Val acc: 0.911\n"
     ]
    },
    {
     "name": "stderr",
     "output_type": "stream",
     "text": [
      " 60%|██████    | 60/100 [00:21<00:14,  2.68it/s]"
     ]
    },
    {
     "name": "stdout",
     "output_type": "stream",
     "text": [
      "Train acc: 0.972, Val acc: 0.911\n"
     ]
    },
    {
     "name": "stderr",
     "output_type": "stream",
     "text": [
      " 61%|██████    | 61/100 [00:21<00:14,  2.69it/s]"
     ]
    },
    {
     "name": "stdout",
     "output_type": "stream",
     "text": [
      "Train acc: 0.968, Val acc: 0.911\n"
     ]
    },
    {
     "name": "stderr",
     "output_type": "stream",
     "text": [
      " 62%|██████▏   | 62/100 [00:22<00:14,  2.68it/s]"
     ]
    },
    {
     "name": "stdout",
     "output_type": "stream",
     "text": [
      "Train acc: 0.970, Val acc: 0.910\n"
     ]
    },
    {
     "name": "stderr",
     "output_type": "stream",
     "text": [
      " 63%|██████▎   | 63/100 [00:22<00:14,  2.59it/s]"
     ]
    },
    {
     "name": "stdout",
     "output_type": "stream",
     "text": [
      "Train acc: 0.972, Val acc: 0.910\n"
     ]
    },
    {
     "name": "stderr",
     "output_type": "stream",
     "text": [
      " 64%|██████▍   | 64/100 [00:23<00:13,  2.60it/s]"
     ]
    },
    {
     "name": "stdout",
     "output_type": "stream",
     "text": [
      "Train acc: 0.965, Val acc: 0.913\n"
     ]
    },
    {
     "name": "stderr",
     "output_type": "stream",
     "text": [
      " 65%|██████▌   | 65/100 [00:23<00:13,  2.62it/s]"
     ]
    },
    {
     "name": "stdout",
     "output_type": "stream",
     "text": [
      "Train acc: 0.974, Val acc: 0.911\n"
     ]
    },
    {
     "name": "stderr",
     "output_type": "stream",
     "text": [
      " 66%|██████▌   | 66/100 [00:23<00:12,  2.62it/s]"
     ]
    },
    {
     "name": "stdout",
     "output_type": "stream",
     "text": [
      "Train acc: 0.967, Val acc: 0.913\n"
     ]
    },
    {
     "name": "stderr",
     "output_type": "stream",
     "text": [
      " 67%|██████▋   | 67/100 [00:24<00:12,  2.65it/s]"
     ]
    },
    {
     "name": "stdout",
     "output_type": "stream",
     "text": [
      "Train acc: 0.970, Val acc: 0.913\n"
     ]
    },
    {
     "name": "stderr",
     "output_type": "stream",
     "text": [
      " 68%|██████▊   | 68/100 [00:24<00:12,  2.67it/s]"
     ]
    },
    {
     "name": "stdout",
     "output_type": "stream",
     "text": [
      "Train acc: 0.970, Val acc: 0.915\n"
     ]
    },
    {
     "name": "stderr",
     "output_type": "stream",
     "text": [
      " 69%|██████▉   | 69/100 [00:24<00:11,  2.65it/s]"
     ]
    },
    {
     "name": "stdout",
     "output_type": "stream",
     "text": [
      "Train acc: 0.973, Val acc: 0.918\n"
     ]
    },
    {
     "name": "stderr",
     "output_type": "stream",
     "text": [
      " 70%|███████   | 70/100 [00:25<00:11,  2.67it/s]"
     ]
    },
    {
     "name": "stdout",
     "output_type": "stream",
     "text": [
      "Train acc: 0.972, Val acc: 0.916\n"
     ]
    },
    {
     "name": "stderr",
     "output_type": "stream",
     "text": [
      " 71%|███████   | 71/100 [00:25<00:10,  2.68it/s]"
     ]
    },
    {
     "name": "stdout",
     "output_type": "stream",
     "text": [
      "Train acc: 0.972, Val acc: 0.916\n"
     ]
    },
    {
     "name": "stderr",
     "output_type": "stream",
     "text": [
      " 72%|███████▏  | 72/100 [00:26<00:10,  2.63it/s]"
     ]
    },
    {
     "name": "stdout",
     "output_type": "stream",
     "text": [
      "Train acc: 0.973, Val acc: 0.916\n"
     ]
    },
    {
     "name": "stderr",
     "output_type": "stream",
     "text": [
      " 73%|███████▎  | 73/100 [00:26<00:10,  2.67it/s]"
     ]
    },
    {
     "name": "stdout",
     "output_type": "stream",
     "text": [
      "Train acc: 0.972, Val acc: 0.916\n"
     ]
    },
    {
     "name": "stderr",
     "output_type": "stream",
     "text": [
      " 74%|███████▍  | 74/100 [00:26<00:09,  2.71it/s]"
     ]
    },
    {
     "name": "stdout",
     "output_type": "stream",
     "text": [
      "Train acc: 0.972, Val acc: 0.915\n"
     ]
    },
    {
     "name": "stderr",
     "output_type": "stream",
     "text": [
      " 75%|███████▌  | 75/100 [00:27<00:09,  2.72it/s]"
     ]
    },
    {
     "name": "stdout",
     "output_type": "stream",
     "text": [
      "Train acc: 0.972, Val acc: 0.918\n"
     ]
    },
    {
     "name": "stderr",
     "output_type": "stream",
     "text": [
      " 76%|███████▌  | 76/100 [00:27<00:08,  2.73it/s]"
     ]
    },
    {
     "name": "stdout",
     "output_type": "stream",
     "text": [
      "Train acc: 0.970, Val acc: 0.913\n"
     ]
    },
    {
     "name": "stderr",
     "output_type": "stream",
     "text": [
      " 77%|███████▋  | 77/100 [00:27<00:08,  2.75it/s]"
     ]
    },
    {
     "name": "stdout",
     "output_type": "stream",
     "text": [
      "Train acc: 0.973, Val acc: 0.915\n"
     ]
    },
    {
     "name": "stderr",
     "output_type": "stream",
     "text": [
      " 78%|███████▊  | 78/100 [00:28<00:08,  2.71it/s]"
     ]
    },
    {
     "name": "stdout",
     "output_type": "stream",
     "text": [
      "Train acc: 0.972, Val acc: 0.916\n"
     ]
    },
    {
     "name": "stderr",
     "output_type": "stream",
     "text": [
      " 79%|███████▉  | 79/100 [00:28<00:07,  2.70it/s]"
     ]
    },
    {
     "name": "stdout",
     "output_type": "stream",
     "text": [
      "Train acc: 0.972, Val acc: 0.916\n"
     ]
    },
    {
     "name": "stderr",
     "output_type": "stream",
     "text": [
      " 80%|████████  | 80/100 [00:28<00:07,  2.68it/s]"
     ]
    },
    {
     "name": "stdout",
     "output_type": "stream",
     "text": [
      "Train acc: 0.973, Val acc: 0.913\n"
     ]
    },
    {
     "name": "stderr",
     "output_type": "stream",
     "text": [
      " 81%|████████  | 81/100 [00:29<00:07,  2.58it/s]"
     ]
    },
    {
     "name": "stdout",
     "output_type": "stream",
     "text": [
      "Train acc: 0.972, Val acc: 0.916\n"
     ]
    },
    {
     "name": "stderr",
     "output_type": "stream",
     "text": [
      " 82%|████████▏ | 82/100 [00:29<00:06,  2.61it/s]"
     ]
    },
    {
     "name": "stdout",
     "output_type": "stream",
     "text": [
      "Train acc: 0.973, Val acc: 0.914\n"
     ]
    },
    {
     "name": "stderr",
     "output_type": "stream",
     "text": [
      " 83%|████████▎ | 83/100 [00:30<00:06,  2.65it/s]"
     ]
    },
    {
     "name": "stdout",
     "output_type": "stream",
     "text": [
      "Train acc: 0.974, Val acc: 0.915\n"
     ]
    },
    {
     "name": "stderr",
     "output_type": "stream",
     "text": [
      " 84%|████████▍ | 84/100 [00:30<00:05,  2.68it/s]"
     ]
    },
    {
     "name": "stdout",
     "output_type": "stream",
     "text": [
      "Train acc: 0.974, Val acc: 0.920\n"
     ]
    },
    {
     "name": "stderr",
     "output_type": "stream",
     "text": [
      " 85%|████████▌ | 85/100 [00:30<00:05,  2.69it/s]"
     ]
    },
    {
     "name": "stdout",
     "output_type": "stream",
     "text": [
      "Train acc: 0.970, Val acc: 0.916\n"
     ]
    },
    {
     "name": "stderr",
     "output_type": "stream",
     "text": [
      " 86%|████████▌ | 86/100 [00:31<00:05,  2.66it/s]"
     ]
    },
    {
     "name": "stdout",
     "output_type": "stream",
     "text": [
      "Train acc: 0.970, Val acc: 0.922\n"
     ]
    },
    {
     "name": "stderr",
     "output_type": "stream",
     "text": [
      " 87%|████████▋ | 87/100 [00:31<00:04,  2.66it/s]"
     ]
    },
    {
     "name": "stdout",
     "output_type": "stream",
     "text": [
      "Train acc: 0.973, Val acc: 0.920\n"
     ]
    },
    {
     "name": "stderr",
     "output_type": "stream",
     "text": [
      " 88%|████████▊ | 88/100 [00:31<00:04,  2.67it/s]"
     ]
    },
    {
     "name": "stdout",
     "output_type": "stream",
     "text": [
      "Train acc: 0.970, Val acc: 0.915\n"
     ]
    },
    {
     "name": "stderr",
     "output_type": "stream",
     "text": [
      " 89%|████████▉ | 89/100 [00:32<00:04,  2.65it/s]"
     ]
    },
    {
     "name": "stdout",
     "output_type": "stream",
     "text": [
      "Train acc: 0.972, Val acc: 0.918\n"
     ]
    },
    {
     "name": "stderr",
     "output_type": "stream",
     "text": [
      " 90%|█████████ | 90/100 [00:32<00:03,  2.57it/s]"
     ]
    },
    {
     "name": "stdout",
     "output_type": "stream",
     "text": [
      "Train acc: 0.970, Val acc: 0.914\n"
     ]
    },
    {
     "name": "stderr",
     "output_type": "stream",
     "text": [
      " 91%|█████████ | 91/100 [00:33<00:03,  2.59it/s]"
     ]
    },
    {
     "name": "stdout",
     "output_type": "stream",
     "text": [
      "Train acc: 0.973, Val acc: 0.918\n"
     ]
    },
    {
     "name": "stderr",
     "output_type": "stream",
     "text": [
      " 92%|█████████▏| 92/100 [00:33<00:03,  2.61it/s]"
     ]
    },
    {
     "name": "stdout",
     "output_type": "stream",
     "text": [
      "Train acc: 0.970, Val acc: 0.915\n"
     ]
    },
    {
     "name": "stderr",
     "output_type": "stream",
     "text": [
      " 93%|█████████▎| 93/100 [00:33<00:02,  2.67it/s]"
     ]
    },
    {
     "name": "stdout",
     "output_type": "stream",
     "text": [
      "Train acc: 0.972, Val acc: 0.916\n"
     ]
    },
    {
     "name": "stderr",
     "output_type": "stream",
     "text": [
      " 94%|█████████▍| 94/100 [00:34<00:02,  2.71it/s]"
     ]
    },
    {
     "name": "stdout",
     "output_type": "stream",
     "text": [
      "Train acc: 0.972, Val acc: 0.918\n"
     ]
    },
    {
     "name": "stderr",
     "output_type": "stream",
     "text": [
      " 95%|█████████▌| 95/100 [00:34<00:01,  2.72it/s]"
     ]
    },
    {
     "name": "stdout",
     "output_type": "stream",
     "text": [
      "Train acc: 0.972, Val acc: 0.915\n"
     ]
    },
    {
     "name": "stderr",
     "output_type": "stream",
     "text": [
      " 96%|█████████▌| 96/100 [00:34<00:01,  2.73it/s]"
     ]
    },
    {
     "name": "stdout",
     "output_type": "stream",
     "text": [
      "Train acc: 0.972, Val acc: 0.913\n"
     ]
    },
    {
     "name": "stderr",
     "output_type": "stream",
     "text": [
      " 97%|█████████▋| 97/100 [00:35<00:01,  2.73it/s]"
     ]
    },
    {
     "name": "stdout",
     "output_type": "stream",
     "text": [
      "Train acc: 0.969, Val acc: 0.919\n"
     ]
    },
    {
     "name": "stderr",
     "output_type": "stream",
     "text": [
      " 98%|█████████▊| 98/100 [00:35<00:00,  2.62it/s]"
     ]
    },
    {
     "name": "stdout",
     "output_type": "stream",
     "text": [
      "Train acc: 0.969, Val acc: 0.913\n"
     ]
    },
    {
     "name": "stderr",
     "output_type": "stream",
     "text": [
      " 99%|█████████▉| 99/100 [00:36<00:00,  2.63it/s]"
     ]
    },
    {
     "name": "stdout",
     "output_type": "stream",
     "text": [
      "Train acc: 0.972, Val acc: 0.924\n"
     ]
    },
    {
     "name": "stderr",
     "output_type": "stream",
     "text": [
      "100%|██████████| 100/100 [00:36<00:00,  2.74it/s]"
     ]
    },
    {
     "name": "stdout",
     "output_type": "stream",
     "text": [
      "Train acc: 0.969, Val acc: 0.915\n"
     ]
    },
    {
     "name": "stderr",
     "output_type": "stream",
     "text": [
      "\n"
     ]
    },
    {
     "data": {
      "image/png": "[encoded data removed]",
      "text/plain": [
       "<Figure size 640x480 with 1 Axes>"
      ]
     },
     "metadata": {},
     "output_type": "display_data"
    }
   ],
   "source": [
    "d_net = CNN_LSTM2()\n",
    "d_criterion = nn.CrossEntropyLoss() # add to device here\n",
    "d_optimizer = optim.Adam(d_net.parameters(), lr=0.001, weight_decay=1e-7)\n",
    "train_net(d_net, d_optimizer, d_criterion, train_loader_d, val_loader_d, 100)"
   ]
  },
  {
   "cell_type": "code",
   "execution_count": 300,
   "metadata": {},
   "outputs": [
    {
     "name": "stdout",
     "output_type": "stream",
     "text": [
      "Test acc: 0.9250000119\n"
     ]
    }
   ],
   "source": [
    "eval_net(d_net, test_loader_d)"
   ]
  },
  {
   "cell_type": "markdown",
   "metadata": {},
   "source": [
    "## Saving Nets"
   ]
  },
  {
   "cell_type": "code",
   "execution_count": 304,
   "metadata": {},
   "outputs": [],
   "source": [
    "torch.save(v_net.state_dict(), cwd + '/valence_net')"
   ]
  },
  {
   "cell_type": "code",
   "execution_count": 305,
   "metadata": {},
   "outputs": [],
   "source": [
    "torch.save(a_net.state_dict(), cwd + '/arousal_net')"
   ]
  },
  {
   "cell_type": "code",
   "execution_count": 306,
   "metadata": {},
   "outputs": [],
   "source": [
    "torch.save(d_net.state_dict(), cwd + '/dominance_net')"
   ]
  },
  {
   "cell_type": "code",
   "execution_count": 308,
   "metadata": {},
   "outputs": [
    {
     "data": {
      "text/plain": [
       "<All keys matched successfully>"
      ]
     },
     "execution_count": 308,
     "metadata": {},
     "output_type": "execute_result"
    }
   ],
   "source": [
    "tester = CNN_LSTM2()\n",
    "tester.load_state_dict(torch.load(cwd + '/arousal_net'))"
   ]
  },
  {
   "cell_type": "code",
   "execution_count": 309,
   "metadata": {},
   "outputs": [
    {
     "name": "stdout",
     "output_type": "stream",
     "text": [
      "Test acc: 0.8999999762\n"
     ]
    }
   ],
   "source": [
    "eval_net(tester, test_loader_a)"
   ]
  },
  {
   "cell_type": "markdown",
   "metadata": {},
   "source": [
    "## Emotions (for later)"
   ]
  },
  {
   "cell_type": "code",
   "execution_count": 93,
   "metadata": {},
   "outputs": [],
   "source": [
    "class CNN_LSTM2(nn.Module):\n",
    "    def __init__(self):\n",
    "        super(CNN_LSTM2, self).__init__()\n",
    "        self.conv1d = nn.Conv1d(in_channels=8, out_channels=40, kernel_size=20, stride=4)\n",
    "        self.relu = nn.ReLU()\n",
    "        self.dropout1 = nn.Dropout(p=0.5)\n",
    "        self.batchnorm1 = nn.BatchNorm1d(40)\n",
    "        self.maxpool = nn.MaxPool1d(kernel_size=4, stride=4)\n",
    "        self.lstm1 = nn.LSTM(input_size=45, hidden_size=30)\n",
    "        self.dropout2 = nn.Dropout(p=0.5)\n",
    "        self.batchnorm2 = nn.BatchNorm1d(40)\n",
    "        self.lstm2 = nn.LSTM(input_size=30, hidden_size=10)\n",
    "        self.dropout3 = nn.Dropout(p=0.5)\n",
    "        self.batchnorm3 = nn.BatchNorm1d(40)\n",
    "        self.flatten = nn.Flatten()\n",
    "        self.dense = nn.Linear(400,6)\n",
    "        self.softmax = nn.Softmax(dim=1)\n",
    "\n",
    "    def forward(self, x):\n",
    "        x = self.conv1d(x)\n",
    "        x = self.relu(x)\n",
    "        x = self.dropout1(x)\n",
    "        x = self.batchnorm1(x)\n",
    "        x = self.maxpool(x)\n",
    "        x, _ = self.lstm1(x)\n",
    "        x = self.dropout2(x)\n",
    "        x = self.batchnorm2(x)\n",
    "        x, _ = self.lstm2(x)\n",
    "        x = self.dropout3(x)\n",
    "        x = self.batchnorm3(x)\n",
    "        x = self.flatten(x)\n",
    "        x = self.dense(x)\n",
    "        x = self.softmax(x)\n",
    "\n",
    "        return x"
   ]
  },
  {
   "cell_type": "code",
   "execution_count": 107,
   "metadata": {},
   "outputs": [
    {
     "name": "stdout",
     "output_type": "stream",
     "text": [
      "torch.Size([1, 8, 750])\n",
      "tensor([[0.1613, 0.0997, 0.3030, 0.1494, 0.0997, 0.1868]],\n",
      "       grad_fn=<SoftmaxBackward0>)\n"
     ]
    }
   ],
   "source": [
    "input_size = (n_channels, samp_time)\n",
    "\n",
    "# Random input tensor with the specified dimensions\n",
    "input_tensor = torch.randn(1, *input_size)\n",
    "print(input_tensor.shape)\n",
    "\n",
    "# create neural networks\n",
    "emo_net = CNN_LSTM2()\n",
    "print(emo_net.forward(Variable(input_tensor)))\n",
    "e_criterion = nn.CrossEntropyLoss() # add to device here\n",
    "e_optimizer = optim.Adam(emo_net.parameters(), lr=0.001, weight_decay=1e-7)"
   ]
  },
  {
   "cell_type": "code",
   "execution_count": 310,
   "metadata": {},
   "outputs": [],
   "source": [
    "formal_emotions = emo_labels['Emo']\n",
    "formal_emotions = formal_emotions.to_numpy()"
   ]
  },
  {
   "cell_type": "code",
   "execution_count": 311,
   "metadata": {},
   "outputs": [],
   "source": [
    "formal_emotions = formal_emotions.reshape((formal_emotions.size, 1))"
   ]
  },
  {
   "cell_type": "code",
   "execution_count": 99,
   "metadata": {},
   "outputs": [],
   "source": [
    "from sklearn.preprocessing import OneHotEncoder\n",
    "cat = OneHotEncoder()\n",
    "emotions_onehot = cat.fit_transform(formal_emotions).toarray()"
   ]
  },
  {
   "cell_type": "code",
   "execution_count": 105,
   "metadata": {},
   "outputs": [],
   "source": [
    "y_train_e = emotion_labels[train_indices]\n",
    "y_valid_e = emotion_labels[valid_indices]\n",
    "y_test_e = emotion_labels[test_indices]"
   ]
  },
  {
   "cell_type": "code",
   "execution_count": 106,
   "metadata": {},
   "outputs": [],
   "source": [
    "train_subset_e = torch.utils.data.TensorDataset(torch.Tensor(x_train), torch.Tensor(y_train_e))\n",
    "val_subset_e = torch.utils.data.TensorDataset(torch.Tensor(x_valid), torch.Tensor(y_valid_e))\n",
    "test_dataset_e = torch.utils.data.TensorDataset(torch.Tensor(x_test), torch.Tensor(y_test_e))\n",
    "\n",
    "train_loader_e = torch.utils.data.DataLoader(train_subset_v, shuffle=True, batch_size=bsz)\n",
    "val_loader_e = torch.utils.data.DataLoader(val_subset_v, shuffle=False, batch_size=bsz)\n",
    "test_loader_e = torch.utils.data.DataLoader(test_dataset_v, shuffle=False, batch_size=bsz)"
   ]
  },
  {
   "cell_type": "code",
   "execution_count": 108,
   "metadata": {},
   "outputs": [
    {
     "name": "stderr",
     "output_type": "stream",
     "text": [
      "  2%|▏         | 1/50 [00:01<01:33,  1.91s/it]"
     ]
    },
    {
     "name": "stdout",
     "output_type": "stream",
     "text": [
      "Train acc: 0.521, Val acc: 0.693\n"
     ]
    },
    {
     "name": "stderr",
     "output_type": "stream",
     "text": [
      "  4%|▍         | 2/50 [00:03<01:28,  1.84s/it]"
     ]
    },
    {
     "name": "stdout",
     "output_type": "stream",
     "text": [
      "Train acc: 0.754, Val acc: 0.823\n"
     ]
    },
    {
     "name": "stderr",
     "output_type": "stream",
     "text": [
      "  6%|▌         | 3/50 [00:05<01:22,  1.75s/it]"
     ]
    },
    {
     "name": "stdout",
     "output_type": "stream",
     "text": [
      "Train acc: 0.878, Val acc: 0.849\n"
     ]
    },
    {
     "name": "stderr",
     "output_type": "stream",
     "text": [
      "  8%|▊         | 4/50 [00:06<01:17,  1.69s/it]"
     ]
    },
    {
     "name": "stdout",
     "output_type": "stream",
     "text": [
      "Train acc: 0.946, Val acc: 0.903\n"
     ]
    },
    {
     "name": "stderr",
     "output_type": "stream",
     "text": [
      " 10%|█         | 5/50 [00:08<01:15,  1.68s/it]"
     ]
    },
    {
     "name": "stdout",
     "output_type": "stream",
     "text": [
      "Train acc: 0.984, Val acc: 0.981\n"
     ]
    },
    {
     "name": "stderr",
     "output_type": "stream",
     "text": [
      " 12%|█▏        | 6/50 [00:10<01:13,  1.66s/it]"
     ]
    },
    {
     "name": "stdout",
     "output_type": "stream",
     "text": [
      "Train acc: 0.999, Val acc: 0.973\n"
     ]
    },
    {
     "name": "stderr",
     "output_type": "stream",
     "text": [
      " 14%|█▍        | 7/50 [00:11<01:10,  1.64s/it]"
     ]
    },
    {
     "name": "stdout",
     "output_type": "stream",
     "text": [
      "Train acc: 0.999, Val acc: 0.994\n"
     ]
    },
    {
     "name": "stderr",
     "output_type": "stream",
     "text": [
      " 16%|█▌        | 8/50 [00:13<01:09,  1.66s/it]"
     ]
    },
    {
     "name": "stdout",
     "output_type": "stream",
     "text": [
      "Train acc: 1.000, Val acc: 0.997\n"
     ]
    },
    {
     "name": "stderr",
     "output_type": "stream",
     "text": [
      " 18%|█▊        | 9/50 [00:15<01:08,  1.67s/it]"
     ]
    },
    {
     "name": "stdout",
     "output_type": "stream",
     "text": [
      "Train acc: 1.000, Val acc: 0.996\n"
     ]
    },
    {
     "name": "stderr",
     "output_type": "stream",
     "text": [
      " 20%|██        | 10/50 [00:16<01:07,  1.68s/it]"
     ]
    },
    {
     "name": "stdout",
     "output_type": "stream",
     "text": [
      "Train acc: 1.000, Val acc: 0.981\n"
     ]
    },
    {
     "name": "stderr",
     "output_type": "stream",
     "text": [
      " 22%|██▏       | 11/50 [00:18<01:04,  1.66s/it]"
     ]
    },
    {
     "name": "stdout",
     "output_type": "stream",
     "text": [
      "Train acc: 1.000, Val acc: 0.997\n"
     ]
    },
    {
     "name": "stderr",
     "output_type": "stream",
     "text": [
      " 24%|██▍       | 12/50 [00:20<01:02,  1.65s/it]"
     ]
    },
    {
     "name": "stdout",
     "output_type": "stream",
     "text": [
      "Train acc: 1.000, Val acc: 1.000\n"
     ]
    },
    {
     "name": "stderr",
     "output_type": "stream",
     "text": [
      " 26%|██▌       | 13/50 [00:21<01:00,  1.62s/it]"
     ]
    },
    {
     "name": "stdout",
     "output_type": "stream",
     "text": [
      "Train acc: 1.000, Val acc: 0.994\n"
     ]
    },
    {
     "name": "stderr",
     "output_type": "stream",
     "text": [
      " 28%|██▊       | 14/50 [00:24<01:06,  1.84s/it]"
     ]
    },
    {
     "name": "stdout",
     "output_type": "stream",
     "text": [
      "Train acc: 1.000, Val acc: 1.000\n"
     ]
    },
    {
     "name": "stderr",
     "output_type": "stream",
     "text": [
      " 30%|███       | 15/50 [00:26<01:05,  1.88s/it]"
     ]
    },
    {
     "name": "stdout",
     "output_type": "stream",
     "text": [
      "Train acc: 1.000, Val acc: 1.000\n"
     ]
    },
    {
     "name": "stderr",
     "output_type": "stream",
     "text": [
      " 32%|███▏      | 16/50 [00:27<01:03,  1.87s/it]"
     ]
    },
    {
     "name": "stdout",
     "output_type": "stream",
     "text": [
      "Train acc: 1.000, Val acc: 0.997\n"
     ]
    },
    {
     "name": "stderr",
     "output_type": "stream",
     "text": [
      " 34%|███▍      | 17/50 [00:29<00:59,  1.80s/it]"
     ]
    },
    {
     "name": "stdout",
     "output_type": "stream",
     "text": [
      "Train acc: 1.000, Val acc: 1.000\n"
     ]
    },
    {
     "name": "stderr",
     "output_type": "stream",
     "text": [
      " 36%|███▌      | 18/50 [00:31<00:56,  1.76s/it]"
     ]
    },
    {
     "name": "stdout",
     "output_type": "stream",
     "text": [
      "Train acc: 1.000, Val acc: 1.000\n"
     ]
    },
    {
     "name": "stderr",
     "output_type": "stream",
     "text": [
      " 38%|███▊      | 19/50 [00:32<00:53,  1.74s/it]"
     ]
    },
    {
     "name": "stdout",
     "output_type": "stream",
     "text": [
      "Train acc: 1.000, Val acc: 0.997\n"
     ]
    },
    {
     "name": "stderr",
     "output_type": "stream",
     "text": [
      " 40%|████      | 20/50 [00:34<00:50,  1.69s/it]"
     ]
    },
    {
     "name": "stdout",
     "output_type": "stream",
     "text": [
      "Train acc: 1.000, Val acc: 0.997\n"
     ]
    },
    {
     "name": "stderr",
     "output_type": "stream",
     "text": [
      " 42%|████▏     | 21/50 [00:35<00:47,  1.64s/it]"
     ]
    },
    {
     "name": "stdout",
     "output_type": "stream",
     "text": [
      "Train acc: 1.000, Val acc: 0.993\n"
     ]
    },
    {
     "name": "stderr",
     "output_type": "stream",
     "text": [
      " 44%|████▍     | 22/50 [00:37<00:45,  1.63s/it]"
     ]
    },
    {
     "name": "stdout",
     "output_type": "stream",
     "text": [
      "Train acc: 1.000, Val acc: 0.981\n"
     ]
    },
    {
     "name": "stderr",
     "output_type": "stream",
     "text": [
      " 46%|████▌     | 23/50 [00:39<00:44,  1.64s/it]"
     ]
    },
    {
     "name": "stdout",
     "output_type": "stream",
     "text": [
      "Train acc: 1.000, Val acc: 0.988\n"
     ]
    },
    {
     "name": "stderr",
     "output_type": "stream",
     "text": [
      " 48%|████▊     | 24/50 [00:40<00:41,  1.58s/it]"
     ]
    },
    {
     "name": "stdout",
     "output_type": "stream",
     "text": [
      "Train acc: 1.000, Val acc: 0.999\n"
     ]
    },
    {
     "name": "stderr",
     "output_type": "stream",
     "text": [
      " 50%|█████     | 25/50 [00:42<00:39,  1.58s/it]"
     ]
    },
    {
     "name": "stdout",
     "output_type": "stream",
     "text": [
      "Train acc: 1.000, Val acc: 0.999\n"
     ]
    },
    {
     "name": "stderr",
     "output_type": "stream",
     "text": [
      " 52%|█████▏    | 26/50 [00:43<00:38,  1.59s/it]"
     ]
    },
    {
     "name": "stdout",
     "output_type": "stream",
     "text": [
      "Train acc: 1.000, Val acc: 0.997\n"
     ]
    },
    {
     "name": "stderr",
     "output_type": "stream",
     "text": [
      " 54%|█████▍    | 27/50 [00:45<00:37,  1.62s/it]"
     ]
    },
    {
     "name": "stdout",
     "output_type": "stream",
     "text": [
      "Train acc: 1.000, Val acc: 1.000\n"
     ]
    },
    {
     "name": "stderr",
     "output_type": "stream",
     "text": [
      " 56%|█████▌    | 28/50 [00:47<00:35,  1.61s/it]"
     ]
    },
    {
     "name": "stdout",
     "output_type": "stream",
     "text": [
      "Train acc: 1.000, Val acc: 0.997\n"
     ]
    },
    {
     "name": "stderr",
     "output_type": "stream",
     "text": [
      " 58%|█████▊    | 29/50 [00:48<00:34,  1.66s/it]"
     ]
    },
    {
     "name": "stdout",
     "output_type": "stream",
     "text": [
      "Train acc: 1.000, Val acc: 1.000\n"
     ]
    },
    {
     "name": "stderr",
     "output_type": "stream",
     "text": [
      " 60%|██████    | 30/50 [00:50<00:33,  1.68s/it]"
     ]
    },
    {
     "name": "stdout",
     "output_type": "stream",
     "text": [
      "Train acc: 1.000, Val acc: 0.997\n"
     ]
    },
    {
     "name": "stderr",
     "output_type": "stream",
     "text": [
      " 62%|██████▏   | 31/50 [00:53<00:38,  2.03s/it]"
     ]
    },
    {
     "name": "stdout",
     "output_type": "stream",
     "text": [
      "Train acc: 1.000, Val acc: 1.000\n"
     ]
    },
    {
     "name": "stderr",
     "output_type": "stream",
     "text": [
      " 64%|██████▍   | 32/50 [00:56<00:40,  2.23s/it]"
     ]
    },
    {
     "name": "stdout",
     "output_type": "stream",
     "text": [
      "Train acc: 1.000, Val acc: 0.997\n"
     ]
    },
    {
     "name": "stderr",
     "output_type": "stream",
     "text": [
      " 66%|██████▌   | 33/50 [00:57<00:35,  2.08s/it]"
     ]
    },
    {
     "name": "stdout",
     "output_type": "stream",
     "text": [
      "Train acc: 1.000, Val acc: 1.000\n"
     ]
    },
    {
     "name": "stderr",
     "output_type": "stream",
     "text": [
      " 68%|██████▊   | 34/50 [00:59<00:31,  1.95s/it]"
     ]
    },
    {
     "name": "stdout",
     "output_type": "stream",
     "text": [
      "Train acc: 1.000, Val acc: 1.000\n"
     ]
    },
    {
     "name": "stderr",
     "output_type": "stream",
     "text": [
      " 70%|███████   | 35/50 [01:01<00:27,  1.86s/it]"
     ]
    },
    {
     "name": "stdout",
     "output_type": "stream",
     "text": [
      "Train acc: 1.000, Val acc: 0.997\n"
     ]
    },
    {
     "name": "stderr",
     "output_type": "stream",
     "text": [
      " 72%|███████▏  | 36/50 [01:02<00:25,  1.82s/it]"
     ]
    },
    {
     "name": "stdout",
     "output_type": "stream",
     "text": [
      "Train acc: 1.000, Val acc: 1.000\n"
     ]
    },
    {
     "name": "stderr",
     "output_type": "stream",
     "text": [
      " 74%|███████▍  | 37/50 [01:04<00:22,  1.74s/it]"
     ]
    },
    {
     "name": "stdout",
     "output_type": "stream",
     "text": [
      "Train acc: 1.000, Val acc: 0.997\n"
     ]
    },
    {
     "name": "stderr",
     "output_type": "stream",
     "text": [
      " 76%|███████▌  | 38/50 [01:05<00:20,  1.68s/it]"
     ]
    },
    {
     "name": "stdout",
     "output_type": "stream",
     "text": [
      "Train acc: 1.000, Val acc: 0.988\n"
     ]
    },
    {
     "name": "stderr",
     "output_type": "stream",
     "text": [
      " 78%|███████▊  | 39/50 [01:07<00:18,  1.67s/it]"
     ]
    },
    {
     "name": "stdout",
     "output_type": "stream",
     "text": [
      "Train acc: 1.000, Val acc: 0.963\n"
     ]
    },
    {
     "name": "stderr",
     "output_type": "stream",
     "text": [
      " 80%|████████  | 40/50 [01:09<00:16,  1.66s/it]"
     ]
    },
    {
     "name": "stdout",
     "output_type": "stream",
     "text": [
      "Train acc: 0.991, Val acc: 0.917\n"
     ]
    },
    {
     "name": "stderr",
     "output_type": "stream",
     "text": [
      " 82%|████████▏ | 41/50 [01:10<00:14,  1.62s/it]"
     ]
    },
    {
     "name": "stdout",
     "output_type": "stream",
     "text": [
      "Train acc: 1.000, Val acc: 1.000\n"
     ]
    },
    {
     "name": "stderr",
     "output_type": "stream",
     "text": [
      " 84%|████████▍ | 42/50 [01:12<00:12,  1.62s/it]"
     ]
    },
    {
     "name": "stdout",
     "output_type": "stream",
     "text": [
      "Train acc: 0.996, Val acc: 1.000\n"
     ]
    },
    {
     "name": "stderr",
     "output_type": "stream",
     "text": [
      " 86%|████████▌ | 43/50 [01:14<00:11,  1.69s/it]"
     ]
    },
    {
     "name": "stdout",
     "output_type": "stream",
     "text": [
      "Train acc: 1.000, Val acc: 0.975\n"
     ]
    },
    {
     "name": "stderr",
     "output_type": "stream",
     "text": [
      " 88%|████████▊ | 44/50 [01:16<00:10,  1.70s/it]"
     ]
    },
    {
     "name": "stdout",
     "output_type": "stream",
     "text": [
      "Train acc: 0.999, Val acc: 0.991\n"
     ]
    },
    {
     "name": "stderr",
     "output_type": "stream",
     "text": [
      " 90%|█████████ | 45/50 [01:17<00:08,  1.68s/it]"
     ]
    },
    {
     "name": "stdout",
     "output_type": "stream",
     "text": [
      "Train acc: 0.996, Val acc: 0.960\n"
     ]
    },
    {
     "name": "stderr",
     "output_type": "stream",
     "text": [
      " 92%|█████████▏| 46/50 [01:19<00:06,  1.61s/it]"
     ]
    },
    {
     "name": "stdout",
     "output_type": "stream",
     "text": [
      "Train acc: 0.988, Val acc: 0.963\n"
     ]
    },
    {
     "name": "stderr",
     "output_type": "stream",
     "text": [
      " 94%|█████████▍| 47/50 [01:20<00:05,  1.69s/it]"
     ]
    },
    {
     "name": "stdout",
     "output_type": "stream",
     "text": [
      "Train acc: 0.999, Val acc: 1.000\n"
     ]
    },
    {
     "name": "stderr",
     "output_type": "stream",
     "text": [
      " 96%|█████████▌| 48/50 [01:22<00:03,  1.70s/it]"
     ]
    },
    {
     "name": "stdout",
     "output_type": "stream",
     "text": [
      "Train acc: 1.000, Val acc: 0.987\n"
     ]
    },
    {
     "name": "stderr",
     "output_type": "stream",
     "text": [
      " 98%|█████████▊| 49/50 [01:24<00:01,  1.87s/it]"
     ]
    },
    {
     "name": "stdout",
     "output_type": "stream",
     "text": [
      "Train acc: 0.999, Val acc: 0.985\n"
     ]
    },
    {
     "name": "stderr",
     "output_type": "stream",
     "text": [
      "100%|██████████| 50/50 [01:26<00:00,  1.74s/it]"
     ]
    },
    {
     "name": "stdout",
     "output_type": "stream",
     "text": [
      "Train acc: 0.997, Val acc: 1.000\n"
     ]
    },
    {
     "name": "stderr",
     "output_type": "stream",
     "text": [
      "\n"
     ]
    },
    {
     "data": {
      "image/png": "[encoded data removed]",
      "text/plain": [
       "<Figure size 640x480 with 1 Axes>"
      ]
     },
     "metadata": {},
     "output_type": "display_data"
    }
   ],
   "source": [
    "train_net(emo_net, e_optimizer, e_criterion, train_loader_e, val_loader_e, 50)"
   ]
  },
  {
   "cell_type": "code",
   "execution_count": 109,
   "metadata": {},
   "outputs": [
    {
     "name": "stdout",
     "output_type": "stream",
     "text": [
      "Test acc: 1.0000000000\n"
     ]
    }
   ],
   "source": [
    "eval_net(emo_net, test_loader_e)"
   ]
  }
 ],
 "metadata": {
  "kernelspec": {
   "display_name": "base",
   "language": "python",
   "name": "python3"
  },
  "language_info": {
   "codemirror_mode": {
    "name": "ipython",
    "version": 3
   },
   "file_extension": ".py",
   "mimetype": "text/x-python",
   "name": "python",
   "nbconvert_exporter": "python",
   "pygments_lexer": "ipython3",
   "version": "3.11.7"
  }
 },
 "nbformat": 4,
 "nbformat_minor": 2
}
