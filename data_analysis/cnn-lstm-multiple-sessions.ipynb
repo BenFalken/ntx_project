{
 "cells": [
  {
   "cell_type": "code",
   "execution_count": 1,
   "metadata": {},
   "outputs": [],
   "source": [
    "import numpy as np\n",
    "import pandas as pd\n",
    "import matplotlib.pyplot as plt\n",
    "import os\n",
    "import torch\n",
    "import torch.nn as nn\n",
    "import torch.nn.functional as F\n",
    "import torch.autograd as autograd\n",
    "from torch.autograd import Variable\n",
    "import torch.optim as optim\n",
    "from torch.jit import script, trace\n",
    "from torch.utils.data import DataLoader, TensorDataset\n",
    "from scipy import signal\n",
    "\n",
    "from tqdm import tqdm\n",
    "\n",
    "from sklearn.metrics import roc_auc_score, precision_score, recall_score, accuracy_score\n",
    "from sklearn import preprocessing"
   ]
  },
  {
   "cell_type": "code",
   "execution_count": 2,
   "metadata": {},
   "outputs": [],
   "source": [
    "cwd = os.getcwd()"
   ]
  },
  {
   "cell_type": "markdown",
   "metadata": {},
   "source": [
    "## Load EEG Data"
   ]
  },
  {
   "cell_type": "code",
   "execution_count": 4,
   "metadata": {},
   "outputs": [],
   "source": [
    "#eeg_s = [\n",
    "#    np.load(\"preprocessed_data_Sandra.npy\"),\n",
    "#    np.load(\"preprocessed_data_Ethan.npy\"),\n",
    "#]\n",
    "\n",
    "eeg_s = [\n",
    "    np.load(\"eeg-data/preprocessed_data_Sandra.npy\")\n",
    "]"
   ]
  },
  {
   "cell_type": "code",
   "execution_count": 5,
   "metadata": {},
   "outputs": [
    {
     "name": "stdout",
     "output_type": "stream",
     "text": [
      "(1676, 8, 750)\n"
     ]
    }
   ],
   "source": [
    "def condense_preprocessed_data(eeg_pre):\n",
    "    return np.array(\n",
    "        [\n",
    "            eeg_pre[i, :, j, :]\n",
    "            for i in range(23)\n",
    "            for j in range(eeg_pre.shape[2])\n",
    "            if np.sum(eeg_pre[i, :, j, :]) != 0\n",
    "        ]\n",
    "    )\n",
    "\n",
    "\n",
    "# Combine all sessions into one array\n",
    "eeg_data = np.vstack([condense_preprocessed_data(session) for session in eeg_s])\n",
    "\n",
    "print(eeg_data.shape)"
   ]
  },
  {
   "cell_type": "code",
   "execution_count": null,
   "metadata": {},
   "outputs": [],
   "source": [
    "def apply_notch_filter(data, fs=250, f0=60, Q=30):\n",
    "    nyq = 0.5 * fs\n",
    "    w0 = f0 / nyq\n",
    "    b, a = signal.iirnotch(w0, Q)\n",
    "    filtered_data = signal.filtfilt(b, a, data, axis=-1)\n",
    "    return filtered_data\n",
    "\n",
    "\n",
    "# Apply the notch filter to the EEG data\n",
    "eeg_data = apply_notch_filter(eeg_data)"
   ]
  },
  {
   "cell_type": "markdown",
   "metadata": {},
   "source": [
    "## Load VAD/Emotion Labels"
   ]
  },
  {
   "cell_type": "code",
   "execution_count": 6,
   "metadata": {},
   "outputs": [],
   "source": [
    "emocsv = pd.read_csv(\"emotion-data/emotion_data.csv\")\n",
    "emocsv1 = emocsv.iloc[:, 5:]"
   ]
  },
  {
   "cell_type": "code",
   "execution_count": 7,
   "metadata": {},
   "outputs": [],
   "source": [
    "new_cols = [\"How feel\", \"Pos\", \"Energ\", \"Dom\", \"Content\", \"Amused\", \"Angry\", \"Sad\", \"Disgust\", \"Afraid\", \"Emo\"]"
   ]
  },
  {
   "cell_type": "code",
   "execution_count": 15,
   "metadata": {},
   "outputs": [
    {
     "name": "stdout",
     "output_type": "stream",
     "text": [
      "                                            How feel Pos Energ Dom Content  \\\n",
      "0  disgusted, but the music made the video funny,...   2     3   7       1   \n",
      "0                                          disgusted   2     3   7       1   \n",
      "0                                          disgusted   1     5   7       1   \n",
      "0                                            relaxed   6     5   8       3   \n",
      "0                                         moved, sad   3     4   3       1   \n",
      "0                                                sad   2     5   4       1   \n",
      "0                                         angry, sad   1     6   3       1   \n",
      "0                                            neutral   5     3   5       1   \n",
      "0                                              angry   2     5   4       1   \n",
      "0                                            annoyed   1     5   2       1   \n",
      "0              a little bit annoyed, overall neutral   3     5   6       1   \n",
      "0                                            neutral   5     5   7       1   \n",
      "0                                            neutral   6     5   6       2   \n",
      "0                                            relaxed   7     5   7       3   \n",
      "0                            a little bit of content   6     5   6       3   \n",
      "0                                            neutral   5     5   5       1   \n",
      "0                                             scared   3     4   1       1   \n",
      "0                                             scared   2     6   1       1   \n",
      "0                                             scared   2     7   1       1   \n",
      "0                                            neutral   5     5   7       1   \n",
      "0                    content and a little bit amused   7     6   6       3   \n",
      "0                            content, a little amuse   7     5   7       3   \n",
      "0                                              funny   7     6   7       3   \n",
      "1  the sound shocked me but it was cute so it mad...   7     9   5       4   \n",
      "1  i laughed because it went on for so long but i...   7     8   8       5   \n",
      "1  I LOVED IT SO MUCH I AM SO HAPPY WATCHING THE ...   9     9   9       5   \n",
      "1  that was so annoying i honestly am just reliev...   3     2   6       1   \n",
      "1  disappointed that there wasn't a jump scare so...   5     9   3       3   \n",
      "1  kinda disappointed in how not-scary the jump s...   2     2   5       1   \n",
      "1              amused but that was a terrible video    9     9   9       3   \n",
      "1                        content but pretty neutral    7     4   7       4   \n",
      "1  angry and sad about our law enforcement/justic...   1     7   8       1   \n",
      "1  kinda annoying that i couldn't hear most of it...   4     1   2       1   \n",
      "1                     annoyed, frustrated, confused    1     3   6       1   \n",
      "1                               sad, tired, neutral    2     2   4       1   \n",
      "1          so cute but went on for too long -- happy   9     7   8       5   \n",
      "1                  so cute, great length -- content    9     3   9       5   \n",
      "1  it was really funny, kinda annoying that parts...   9     8   7       5   \n",
      "1                                     really annoyed   2     5   7       1   \n",
      "1                                   sad, bittersweet   3     7   2       2   \n",
      "1   frustrated that something like this would happen   2     3   3       1   \n",
      "1                               interested, content    6     2   6       3   \n",
      "1                                woefully disgusted    1     7   1       1   \n",
      "1                                      so disgusted    1     8   2       1   \n",
      "1                                         satisfied    5     4   4       3   \n",
      "1                                        devastated    2     9   1       1   \n",
      "\n",
      "  Amused Angry Sad Disgust Afraid                    Emo  \n",
      "0      2     4   1       5      1              Disgusted  \n",
      "0      1     1   1       5      1              Disgusted  \n",
      "0      1     1   1       5      1              Disgusted  \n",
      "0      1     1   1       1      1  Neutral (unemotional)  \n",
      "0      1     1   3       1      1                    Sad  \n",
      "0      1     2   4       1      1                    Sad  \n",
      "0      1     5   4       4      3                  Angry  \n",
      "0      1     1   1       1      1  Neutral (unemotional)  \n",
      "0      1     4   1       1      1                  Angry  \n",
      "0      1     4   3       3      1                  Angry  \n",
      "0      1     2   1       1      1  Neutral (unemotional)  \n",
      "0      1     1   1       1      1  Neutral (unemotional)  \n",
      "0      1     1   1       1      1  Neutral (unemotional)  \n",
      "0      1     1   1       1      1                Content  \n",
      "0      1     1   1       1      1                Content  \n",
      "0      1     1   1       1      1  Neutral (unemotional)  \n",
      "0      1     1   1       1      5                 Afraid  \n",
      "0      1     1   1       1      5                 Afraid  \n",
      "0      1     1   1       1      5                 Afraid  \n",
      "0      1     1   1       1      1  Neutral (unemotional)  \n",
      "0      1     1   1       1      1                Content  \n",
      "0      2     1   1       1      1                Content  \n",
      "0      5     1   1       1      1                 Amused  \n",
      "1      5     1   1       1      3                 Amused  \n",
      "1      5     2   1       1      1                 Amused  \n",
      "1      5     1   1       1      1                 Amused  \n",
      "1      1     3   1       2      1                  Angry  \n",
      "1      3     4   1       2      2                  Angry  \n",
      "1      1     4   1       1      1                  Angry  \n",
      "1      4     1   1       1      1                 Amused  \n",
      "1      2     1   1       1      1  Neutral (unemotional)  \n",
      "1      1     5   4       5      2                  Angry  \n",
      "1      1     2   1       1      1  Neutral (unemotional)  \n",
      "1      1     4   1       1      1                  Angry  \n",
      "1      1     1   3       1      3                 Afraid  \n",
      "1      5     1   1       1      1                 Amused  \n",
      "1      5     1   1       1      1                Content  \n",
      "1      5     1   1       1      1                 Amused  \n",
      "1      1     3   1       2      1  Neutral (unemotional)  \n",
      "1      1     1   4       1      1                    Sad  \n",
      "1      1     3   2       2      1                  Angry  \n",
      "1      1     1   1       1      1                Content  \n",
      "1      1     1   1       5      1                    NaN  \n",
      "1      1     2   1       5      1              Disgusted  \n",
      "1      2     1   1       4      1                 Amused  \n",
      "1      1     1   5       1      1                    Sad  \n"
     ]
    }
   ],
   "source": [
    "emo_labels = pd.DataFrame()\n",
    "\n",
    "for row in range(2):\n",
    "    sel_row = emocsv1.iloc[row]\n",
    "    for i in np.arange(0, emocsv1.shape[1], 11):\n",
    "        obs = sel_row[i : i + 11].to_frame().T\n",
    "        obs = obs.rename(columns={obs.columns[i]: new_cols[i] for i in range(11)})\n",
    "        emo_labels = pd.concat([emo_labels, obs])\n",
    "print(emo_labels)"
   ]
  },
  {
   "cell_type": "code",
   "execution_count": 16,
   "metadata": {},
   "outputs": [],
   "source": [
    "emo_labels[\"Pos2\"] = emo_labels[\"Pos\"]\n",
    "emo_labels[\"Energ2\"] = emo_labels[\"Energ\"]\n",
    "emo_labels[\"Dom2\"] = emo_labels[\"Dom\"]\n",
    "\n",
    "#emo_labels[\"Pos2\"] = (emo_labels[\"Pos\"] > 4) + 0\n",
    "#emo_labels[\"Energ2\"] = (emo_labels[\"Energ\"] > 4) + 0\n",
    "#emo_labels[\"Dom2\"] = (emo_labels[\"Dom\"] > 4) + 0"
   ]
  },
  {
   "cell_type": "code",
   "execution_count": 17,
   "metadata": {},
   "outputs": [],
   "source": [
    "valence = emo_labels['Pos2'].to_numpy()\n",
    "arousal = emo_labels['Energ2'].to_numpy()\n",
    "dominance = emo_labels['Dom2'].to_numpy()"
   ]
  },
  {
   "cell_type": "code",
   "execution_count": 18,
   "metadata": {},
   "outputs": [
    {
     "name": "stdout",
     "output_type": "stream",
     "text": [
      "1676\n"
     ]
    }
   ],
   "source": [
    "y1, y2, y3 = [], [], []  # VAD labels given for each 3-second data chunk\n",
    "\n",
    "for session_number, session in enumerate(eeg_s):\n",
    "    for i in range(23):\n",
    "        j = 0\n",
    "        while j < session.shape[2] and np.sum(session[i, :, j, :]) != 0:\n",
    "            idx = i + session_number * 23\n",
    "            y1.append(valence[idx])\n",
    "            y2.append(arousal[idx])\n",
    "            y3.append(dominance[idx])\n",
    "            j += 1\n",
    "\n",
    "print(\n",
    "    len(y1)\n",
    ")  # this corresponds to the number of 3-second chunks across all data chunks. 1676 -> ~ 4 minutes per video on average, checks out"
   ]
  },
  {
   "cell_type": "code",
   "execution_count": 19,
   "metadata": {},
   "outputs": [],
   "source": [
    "y1 = np.array(y1)\n",
    "y2 = np.array(y2)\n",
    "y3 = np.array(y3)"
   ]
  },
  {
   "cell_type": "markdown",
   "metadata": {},
   "source": [
    "## Create DataLoaders"
   ]
  },
  {
   "cell_type": "code",
   "execution_count": 20,
   "metadata": {},
   "outputs": [
    {
     "data": {
      "text/plain": [
       "array([ 979, 1336,  881, ..., 1096,  235, 1061])"
      ]
     },
     "execution_count": 20,
     "metadata": {},
     "output_type": "execute_result"
    }
   ],
   "source": [
    "indices = np.arange(len(eeg_data))\n",
    "np.random.seed(1)\n",
    "np.random.shuffle(indices)\n",
    "indices"
   ]
  },
  {
   "cell_type": "code",
   "execution_count": 21,
   "metadata": {},
   "outputs": [
    {
     "name": "stdout",
     "output_type": "stream",
     "text": [
      "Total: 1676, Train: 670, Validation: 670, Test: 336\n"
     ]
    }
   ],
   "source": [
    "# Define the split ratios\n",
    "ratios = [0.4, 0.4, 0.2]\n",
    "train_ratio, valid_ratio, test_ratio = ratios\n",
    "\n",
    "# Calculate split points\n",
    "train_end = int(len(indices) * train_ratio)\n",
    "valid_end = int(len(indices) * (train_ratio + valid_ratio))\n",
    "test_end = int(len(indices) * (train_ratio + valid_ratio + test_ratio))\n",
    "\n",
    "# Split the indices\n",
    "train_indices, valid_indices, test_indices = (\n",
    "    indices[:train_end],\n",
    "    indices[train_end:valid_end],\n",
    "    indices[valid_end:test_end],\n",
    ")\n",
    "\n",
    "# Print lengths of each split\n",
    "print(\n",
    "    f\"Total: {len(indices)}, Train: {len(train_indices)}, Validation: {len(valid_indices)}, Test: {len(test_indices)}\"\n",
    ")"
   ]
  },
  {
   "cell_type": "code",
   "execution_count": 22,
   "metadata": {},
   "outputs": [],
   "source": [
    "x_train = eeg_data[train_indices]\n",
    "y_train_v = y1[train_indices]\n",
    "y_train_a = y2[train_indices]\n",
    "y_train_d = y3[train_indices]\n",
    "\n",
    "x_valid = eeg_data[valid_indices]\n",
    "y_valid_v = y1[valid_indices]\n",
    "y_valid_a = y2[valid_indices]\n",
    "y_valid_d = y3[valid_indices]\n",
    "\n",
    "x_test = eeg_data[test_indices]\n",
    "y_test_v = y1[test_indices]\n",
    "y_test_a = y2[test_indices]\n",
    "y_test_d = y3[test_indices]"
   ]
  },
  {
   "cell_type": "code",
   "execution_count": 23,
   "metadata": {},
   "outputs": [],
   "source": [
    "import torch.utils\n",
    "import torch.utils.data\n",
    "\n",
    "\n",
    "train_subset_v = torch.utils.data.TensorDataset(torch.Tensor(x_train), torch.Tensor(y_train_v))\n",
    "val_subset_v = torch.utils.data.TensorDataset(torch.Tensor(x_valid), torch.Tensor(y_valid_v))\n",
    "test_dataset_v = torch.utils.data.TensorDataset(torch.Tensor(x_test), torch.Tensor(y_test_v))\n",
    "\n",
    "train_subset_a = torch.utils.data.TensorDataset(torch.Tensor(x_train), torch.Tensor(y_train_a))\n",
    "val_subset_a = torch.utils.data.TensorDataset(torch.Tensor(x_valid), torch.Tensor(y_valid_a))\n",
    "test_dataset_a = torch.utils.data.TensorDataset(torch.Tensor(x_test), torch.Tensor(y_test_a))\n",
    "\n",
    "train_subset_d = torch.utils.data.TensorDataset(torch.Tensor(x_train), torch.Tensor(y_train_d))\n",
    "val_subset_d = torch.utils.data.TensorDataset(torch.Tensor(x_valid), torch.Tensor(y_valid_d))\n",
    "test_dataset_d = torch.utils.data.TensorDataset(torch.Tensor(x_test), torch.Tensor(y_test_d))\n",
    "\n",
    "bsz = 50\n",
    "\n",
    "train_loader_v = torch.utils.data.DataLoader(train_subset_v, shuffle=True, batch_size=bsz)\n",
    "val_loader_v = torch.utils.data.DataLoader(val_subset_v, shuffle=False, batch_size=bsz)\n",
    "test_loader_v = torch.utils.data.DataLoader(test_dataset_v, shuffle=False, batch_size=bsz)\n",
    "\n",
    "train_loader_a = torch.utils.data.DataLoader(train_subset_a, shuffle=True, batch_size=bsz)\n",
    "val_loader_a = torch.utils.data.DataLoader(val_subset_a, shuffle=False, batch_size=bsz)\n",
    "test_loader_a = torch.utils.data.DataLoader(test_dataset_a, shuffle=False, batch_size=bsz)\n",
    "\n",
    "train_loader_d = torch.utils.data.DataLoader(train_subset_d, shuffle=True, batch_size=bsz)\n",
    "val_loader_d = torch.utils.data.DataLoader(val_subset_d, shuffle=False, batch_size=bsz)\n",
    "test_loader_d = torch.utils.data.DataLoader(test_dataset_d, shuffle=False, batch_size=bsz)"
   ]
  },
  {
   "cell_type": "markdown",
   "metadata": {},
   "source": [
    "## Neural Network"
   ]
  },
  {
   "cell_type": "code",
   "execution_count": 24,
   "metadata": {},
   "outputs": [],
   "source": [
    "samp_time = 750\n",
    "n_channels = 8"
   ]
  },
  {
   "cell_type": "code",
   "execution_count": 25,
   "metadata": {},
   "outputs": [],
   "source": [
    "class CNN_LSTM(nn.Module):\n",
    "    def __init__(self):\n",
    "        super(CNN_LSTM, self).__init__()\n",
    "        self.conv1d = nn.Conv1d(in_channels=8, out_channels=40, kernel_size=20, stride=4)\n",
    "        self.relu = nn.ReLU()\n",
    "        self.dropout1 = nn.Dropout(p=0.5)\n",
    "        self.batchnorm1 = nn.BatchNorm1d(40)\n",
    "        self.maxpool = nn.MaxPool1d(kernel_size=4, stride=4)\n",
    "        self.lstm1 = nn.LSTM(input_size=45, hidden_size=30)\n",
    "        self.dropout2 = nn.Dropout(p=0.5)\n",
    "        self.batchnorm2 = nn.BatchNorm1d(40)\n",
    "        self.lstm2 = nn.LSTM(input_size=30, hidden_size=10)\n",
    "        self.dropout3 = nn.Dropout(p=0.5)\n",
    "        self.batchnorm3 = nn.BatchNorm1d(40)\n",
    "        self.flatten = nn.Flatten()\n",
    "        self.dense = nn.Linear(400,2)\n",
    "        self.softmax = nn.Softmax(dim=1)\n",
    "\n",
    "    def forward(self, x):\n",
    "        x = self.conv1d(x)\n",
    "        x = self.relu(x)\n",
    "        x = self.dropout1(x)\n",
    "        x = self.batchnorm1(x)\n",
    "        x = self.maxpool(x)\n",
    "        x, _ = self.lstm1(x)\n",
    "        x = self.dropout2(x)\n",
    "        x = self.batchnorm2(x)\n",
    "        x, _ = self.lstm2(x)\n",
    "        x = self.dropout3(x)\n",
    "        x = self.batchnorm3(x)\n",
    "        x = self.flatten(x)\n",
    "        x = self.dense(x)\n",
    "        x = self.softmax(x)\n",
    "\n",
    "        return x"
   ]
  },
  {
   "cell_type": "code",
   "execution_count": 26,
   "metadata": {},
   "outputs": [
    {
     "name": "stdout",
     "output_type": "stream",
     "text": [
      "torch.Size([1, 8, 750])\n",
      "tensor([[0.5573, 0.4427]], grad_fn=<SoftmaxBackward0>)\n"
     ]
    }
   ],
   "source": [
    "input_size = (n_channels, samp_time)\n",
    "\n",
    "# Random input tensor with the specified dimensions\n",
    "input_tensor = torch.randn(1, *input_size)\n",
    "print(input_tensor.shape)\n",
    "\n",
    "# create neural networks\n",
    "v_net = CNN_LSTM()\n",
    "print(v_net.forward(Variable(input_tensor)))\n",
    "v_criterion = nn.CrossEntropyLoss() # add to device here\n",
    "v_optimizer = optim.Adam(v_net.parameters(), lr=0.001, weight_decay=1e-7)\n",
    "\n",
    "a_net = CNN_LSTM()\n",
    "a_criterion = nn.CrossEntropyLoss() # add to device here\n",
    "a_optimizer = optim.Adam(a_net.parameters(), lr=0.001, weight_decay=1e-7)\n",
    "\n",
    "d_net = CNN_LSTM()\n",
    "d_criterion = nn.CrossEntropyLoss() # add to device here\n",
    "d_optimizer = optim.Adam(d_net.parameters(), lr=0.001, weight_decay=1e-7)"
   ]
  },
  {
   "cell_type": "code",
   "execution_count": 27,
   "metadata": {},
   "outputs": [],
   "source": [
    "class CNN_LSTM_Reg(nn.Module):\n",
    "    def __init__(self):\n",
    "        super(CNN_LSTM_Reg, self).__init__()\n",
    "        self.conv1d = nn.Conv1d(\n",
    "            in_channels=8, out_channels=40, kernel_size=20, stride=4\n",
    "        )\n",
    "        self.relu = nn.ReLU()\n",
    "        self.dropout1 = nn.Dropout(p=0.5)\n",
    "        self.batchnorm1 = nn.BatchNorm1d(40)\n",
    "        self.maxpool = nn.MaxPool1d(kernel_size=4, stride=4)\n",
    "        self.lstm1 = nn.LSTM(input_size=45, hidden_size=30)\n",
    "        self.dropout2 = nn.Dropout(p=0.5)\n",
    "        self.batchnorm2 = nn.BatchNorm1d(40)\n",
    "        self.lstm2 = nn.LSTM(input_size=30, hidden_size=10)\n",
    "        self.dropout3 = nn.Dropout(p=0.5)\n",
    "        self.batchnorm3 = nn.BatchNorm1d(40)\n",
    "        self.flatten = nn.Flatten()\n",
    "        self.dense = nn.Linear(400, 1)\n",
    "\n",
    "    def forward(self, x):\n",
    "        x = self.conv1d(x)\n",
    "        x = self.relu(x)\n",
    "        x = self.dropout1(x)\n",
    "        x = self.batchnorm1(x)\n",
    "        x = self.maxpool(x)\n",
    "        x, _ = self.lstm1(x)\n",
    "        x = self.dropout2(x)\n",
    "        x = self.batchnorm2(x)\n",
    "        x, _ = self.lstm2(x)\n",
    "        x = self.dropout3(x)\n",
    "        x = self.batchnorm3(x)\n",
    "        x = self.flatten(x)\n",
    "        x = self.dense(x)\n",
    "\n",
    "        return x"
   ]
  },
  {
   "cell_type": "code",
   "execution_count": 28,
   "metadata": {},
   "outputs": [
    {
     "name": "stdout",
     "output_type": "stream",
     "text": [
      "torch.Size([1, 8, 750])\n",
      "tensor([[-0.1854]], grad_fn=<AddmmBackward0>)\n"
     ]
    }
   ],
   "source": [
    "input_size = (n_channels, samp_time)\n",
    "\n",
    "# Random input tensor with the specified dimensions\n",
    "input_tensor = torch.randn(1, *input_size)\n",
    "print(input_tensor.shape)\n",
    "\n",
    "# create neural networks\n",
    "clr_net = CNN_LSTM_Reg()\n",
    "print(clr_net.forward(Variable(input_tensor)))\n",
    "clr_criterion = nn.MSELoss()  # add to device here\n",
    "clr_optimizer = optim.Adam(d_net.parameters(), lr=0.001, weight_decay=1e-7)"
   ]
  },
  {
   "cell_type": "code",
   "execution_count": 29,
   "metadata": {},
   "outputs": [],
   "source": [
    "def train_net(net, optimizer, criterion, train_loader, val_loader, num_epochs):\n",
    "    train_hist = []\n",
    "    val_hist = []\n",
    "\n",
    "    for epoch_idx in tqdm(range(num_epochs)):\n",
    "        net.train()\n",
    "        #train_count = 0\n",
    "        #train_correct_count = 0\n",
    "        for batch_idx, (train_x, train_y) in enumerate(train_loader):\n",
    "            train_x = train_x.float()\n",
    "            train_y = train_y.float()\n",
    "            optimizer.zero_grad()\n",
    "            op = net(train_x)\n",
    "            loss = criterion(op, train_y)\n",
    "            print(loss)\n",
    "            loss.backward()\n",
    "            optimizer.step()\n",
    "\n",
    "            #with torch.no_grad():\n",
    "            #    y_hat = logits.item()\n",
    "            #    train_correct_count += torch.sum(y_hat == train_y, axis=-1)\n",
    "            #    train_count += train_x.size(0)\n",
    "\n",
    "        #train_acc = train_correct_count / train_count\n",
    "        #train_hist.append(train_acc)\n",
    "\n",
    "        net.eval()\n",
    "        #val_count = 0\n",
    "        #val_correct_count = 0\n",
    "        #with torch.no_grad():\n",
    "        #    for idx, (val_x, val_y) in enumerate(val_loader):\n",
    "        #        val_x = val_x.float()\n",
    "        #        val_y = val_y.float()\n",
    "        #        logits = net(val_x).detach()\n",
    "        #        y_hat = torch.argmax(logits, dim=-1)\n",
    "                #val_correct_count += torch.sum(y_hat == val_y, axis=-1)\n",
    "                #val_count += val_x.size(0)\n",
    "        #val_acc = val_correct_count / val_count\n",
    "        #val_hist.append(val_acc)\n",
    "        #print('Train acc: {:.3f}, Val acc: {:.3f}'.format(train_acc, val_acc))\n",
    "\n",
    "    #plt.plot(train_hist)\n",
    "    #plt.plot(val_hist)"
   ]
  },
  {
   "cell_type": "code",
   "execution_count": 30,
   "metadata": {},
   "outputs": [],
   "source": [
    "def eval_net(net, test_loader):\n",
    "    net.eval()\n",
    "    test_count = 0\n",
    "    test_correct_count = 0\n",
    "    with torch.no_grad():\n",
    "        for idx, (test_x, test_y) in enumerate(test_loader):\n",
    "            test_x = test_x.float()\n",
    "            test_y = test_y.long()\n",
    "            logits = net(test_x).detach()\n",
    "            y_hat = torch.argmax(logits, dim=-1)\n",
    "            test_correct_count += torch.sum(y_hat == test_y, axis=-1)\n",
    "            test_count += test_x.size(0)\n",
    "    test_acc = test_correct_count / test_count\n",
    "\n",
    "    print('Test acc: {:.10f}'.format(test_acc))"
   ]
  },
  {
   "cell_type": "code",
   "execution_count": 31,
   "metadata": {},
   "outputs": [
    {
     "name": "stderr",
     "output_type": "stream",
     "text": [
      "  0%|          | 0/50 [00:00<?, ?it/s]/Library/Frameworks/Python.framework/Versions/3.10/lib/python3.10/site-packages/torch/nn/modules/loss.py:535: UserWarning: Using a target size (torch.Size([50])) that is different to the input size (torch.Size([50, 1])). This will likely lead to incorrect results due to broadcasting. Please ensure they have the same size.\n",
      "  return F.mse_loss(input, target, reduction=self.reduction)\n"
     ]
    },
    {
     "name": "stdout",
     "output_type": "stream",
     "text": [
      "tensor(23.8624, grad_fn=<MseLossBackward0>)\n",
      "tensor(23.0628, grad_fn=<MseLossBackward0>)\n",
      "tensor(29.7708, grad_fn=<MseLossBackward0>)\n",
      "tensor(19.1854, grad_fn=<MseLossBackward0>)\n",
      "tensor(24.8513, grad_fn=<MseLossBackward0>)\n"
     ]
    },
    {
     "name": "stderr",
     "output_type": "stream",
     "text": [
      "/Library/Frameworks/Python.framework/Versions/3.10/lib/python3.10/site-packages/torch/nn/modules/loss.py:535: UserWarning: Using a target size (torch.Size([20])) that is different to the input size (torch.Size([20, 1])). This will likely lead to incorrect results due to broadcasting. Please ensure they have the same size.\n",
      "  return F.mse_loss(input, target, reduction=self.reduction)\n",
      "  2%|▏         | 1/50 [00:00<00:23,  2.08it/s]"
     ]
    },
    {
     "name": "stdout",
     "output_type": "stream",
     "text": [
      "tensor(26.7106, grad_fn=<MseLossBackward0>)\n",
      "tensor(19.2397, grad_fn=<MseLossBackward0>)\n",
      "tensor(26.7006, grad_fn=<MseLossBackward0>)\n",
      "tensor(25.1191, grad_fn=<MseLossBackward0>)\n",
      "tensor(22.6864, grad_fn=<MseLossBackward0>)\n",
      "tensor(20.6115, grad_fn=<MseLossBackward0>)\n",
      "tensor(28.6894, grad_fn=<MseLossBackward0>)\n",
      "tensor(25.1014, grad_fn=<MseLossBackward0>)\n",
      "tensor(33.6800, grad_fn=<MseLossBackward0>)\n",
      "tensor(31.3126, grad_fn=<MseLossBackward0>)\n",
      "tensor(25.7259, grad_fn=<MseLossBackward0>)\n",
      "tensor(27.7439, grad_fn=<MseLossBackward0>)\n",
      "tensor(23.2529, grad_fn=<MseLossBackward0>)\n",
      "tensor(22.3030, grad_fn=<MseLossBackward0>)\n",
      "tensor(23.6705, grad_fn=<MseLossBackward0>)\n",
      "tensor(24.4227, grad_fn=<MseLossBackward0>)\n",
      "tensor(24.0569, grad_fn=<MseLossBackward0>)\n",
      "tensor(21.7211, grad_fn=<MseLossBackward0>)\n"
     ]
    },
    {
     "name": "stderr",
     "output_type": "stream",
     "text": [
      "  4%|▍         | 2/50 [00:00<00:18,  2.57it/s]"
     ]
    },
    {
     "name": "stdout",
     "output_type": "stream",
     "text": [
      "tensor(22.9474, grad_fn=<MseLossBackward0>)\n",
      "tensor(26.5549, grad_fn=<MseLossBackward0>)\n",
      "tensor(21.0047, grad_fn=<MseLossBackward0>)\n",
      "tensor(28.0729, grad_fn=<MseLossBackward0>)\n",
      "tensor(28.6682, grad_fn=<MseLossBackward0>)\n",
      "tensor(26.7729, grad_fn=<MseLossBackward0>)\n",
      "tensor(23.5497, grad_fn=<MseLossBackward0>)\n",
      "tensor(26.7035, grad_fn=<MseLossBackward0>)\n",
      "tensor(25.2373, grad_fn=<MseLossBackward0>)\n",
      "tensor(24.4065, grad_fn=<MseLossBackward0>)\n",
      "tensor(22.4980, grad_fn=<MseLossBackward0>)\n",
      "tensor(29.7632, grad_fn=<MseLossBackward0>)\n",
      "tensor(24.7850, grad_fn=<MseLossBackward0>)\n",
      "tensor(23.7909, grad_fn=<MseLossBackward0>)\n",
      "tensor(22.4673, grad_fn=<MseLossBackward0>)\n",
      "tensor(24.0408, grad_fn=<MseLossBackward0>)\n",
      "tensor(24.2369, grad_fn=<MseLossBackward0>)\n"
     ]
    },
    {
     "name": "stderr",
     "output_type": "stream",
     "text": [
      "  6%|▌         | 3/50 [00:01<00:17,  2.64it/s]"
     ]
    },
    {
     "name": "stdout",
     "output_type": "stream",
     "text": [
      "tensor(23.6731, grad_fn=<MseLossBackward0>)\n",
      "tensor(22.0948, grad_fn=<MseLossBackward0>)\n",
      "tensor(21.5380, grad_fn=<MseLossBackward0>)\n",
      "tensor(24.8135, grad_fn=<MseLossBackward0>)\n",
      "tensor(24.7250, grad_fn=<MseLossBackward0>)\n",
      "tensor(17.4696, grad_fn=<MseLossBackward0>)\n",
      "tensor(29.0309, grad_fn=<MseLossBackward0>)\n",
      "tensor(25.9200, grad_fn=<MseLossBackward0>)\n",
      "tensor(28.1303, grad_fn=<MseLossBackward0>)\n"
     ]
    },
    {
     "name": "stderr",
     "output_type": "stream",
     "text": [
      "  8%|▊         | 4/50 [00:01<00:16,  2.75it/s]"
     ]
    },
    {
     "name": "stdout",
     "output_type": "stream",
     "text": [
      "tensor(23.0883, grad_fn=<MseLossBackward0>)\n",
      "tensor(21.2001, grad_fn=<MseLossBackward0>)\n",
      "tensor(24.5490, grad_fn=<MseLossBackward0>)\n",
      "tensor(25.4489, grad_fn=<MseLossBackward0>)\n",
      "tensor(28.0442, grad_fn=<MseLossBackward0>)\n",
      "tensor(28.7359, grad_fn=<MseLossBackward0>)\n",
      "tensor(21.1613, grad_fn=<MseLossBackward0>)\n",
      "tensor(25.4606, grad_fn=<MseLossBackward0>)\n",
      "tensor(27.9494, grad_fn=<MseLossBackward0>)\n",
      "tensor(25.4474, grad_fn=<MseLossBackward0>)\n",
      "tensor(20.5252, grad_fn=<MseLossBackward0>)\n",
      "tensor(23.3221, grad_fn=<MseLossBackward0>)\n",
      "tensor(24.3450, grad_fn=<MseLossBackward0>)\n",
      "tensor(24.7540, grad_fn=<MseLossBackward0>)\n",
      "tensor(24.3102, grad_fn=<MseLossBackward0>)\n",
      "tensor(25.6131, grad_fn=<MseLossBackward0>)\n",
      "tensor(24.3651, grad_fn=<MseLossBackward0>)\n"
     ]
    },
    {
     "name": "stderr",
     "output_type": "stream",
     "text": [
      " 10%|█         | 5/50 [00:01<00:16,  2.65it/s]"
     ]
    },
    {
     "name": "stdout",
     "output_type": "stream",
     "text": [
      "tensor(23.0985, grad_fn=<MseLossBackward0>)\n",
      "tensor(26.3970, grad_fn=<MseLossBackward0>)\n",
      "tensor(26.2620, grad_fn=<MseLossBackward0>)\n",
      "tensor(20.4453, grad_fn=<MseLossBackward0>)\n",
      "tensor(19.4182, grad_fn=<MseLossBackward0>)\n",
      "tensor(24.7348, grad_fn=<MseLossBackward0>)\n",
      "tensor(25.2516, grad_fn=<MseLossBackward0>)\n",
      "tensor(24.1036, grad_fn=<MseLossBackward0>)\n",
      "tensor(21.7454, grad_fn=<MseLossBackward0>)\n"
     ]
    },
    {
     "name": "stderr",
     "output_type": "stream",
     "text": [
      " 12%|█▏        | 6/50 [00:02<00:15,  2.77it/s]"
     ]
    },
    {
     "name": "stdout",
     "output_type": "stream",
     "text": [
      "tensor(27.0176, grad_fn=<MseLossBackward0>)\n",
      "tensor(27.8317, grad_fn=<MseLossBackward0>)\n",
      "tensor(30.1089, grad_fn=<MseLossBackward0>)\n",
      "tensor(25.0252, grad_fn=<MseLossBackward0>)\n",
      "tensor(25.0235, grad_fn=<MseLossBackward0>)\n",
      "tensor(21.1067, grad_fn=<MseLossBackward0>)\n",
      "tensor(27.8692, grad_fn=<MseLossBackward0>)\n",
      "tensor(25.2822, grad_fn=<MseLossBackward0>)\n",
      "tensor(21.4307, grad_fn=<MseLossBackward0>)\n",
      "tensor(22.3273, grad_fn=<MseLossBackward0>)\n",
      "tensor(24.8854, grad_fn=<MseLossBackward0>)\n",
      "tensor(21.8876, grad_fn=<MseLossBackward0>)\n",
      "tensor(22.3006, grad_fn=<MseLossBackward0>)\n",
      "tensor(26.0183, grad_fn=<MseLossBackward0>)\n",
      "tensor(31.2275, grad_fn=<MseLossBackward0>)\n",
      "tensor(22.4032, grad_fn=<MseLossBackward0>)\n",
      "tensor(25.5461, grad_fn=<MseLossBackward0>)\n",
      "tensor(23.8412, grad_fn=<MseLossBackward0>)\n"
     ]
    },
    {
     "name": "stderr",
     "output_type": "stream",
     "text": [
      " 14%|█▍        | 7/50 [00:02<00:15,  2.82it/s]"
     ]
    },
    {
     "name": "stdout",
     "output_type": "stream",
     "text": [
      "tensor(24.5826, grad_fn=<MseLossBackward0>)\n",
      "tensor(25.3782, grad_fn=<MseLossBackward0>)\n",
      "tensor(24.6616, grad_fn=<MseLossBackward0>)\n",
      "tensor(27.5413, grad_fn=<MseLossBackward0>)\n",
      "tensor(21.1363, grad_fn=<MseLossBackward0>)\n",
      "tensor(22.1421, grad_fn=<MseLossBackward0>)\n",
      "tensor(24.3965, grad_fn=<MseLossBackward0>)\n",
      "tensor(20.0682, grad_fn=<MseLossBackward0>)\n",
      "tensor(29.4202, grad_fn=<MseLossBackward0>)\n",
      "tensor(26.7715, grad_fn=<MseLossBackward0>)\n",
      "tensor(25.4098, grad_fn=<MseLossBackward0>)\n",
      "tensor(21.6059, grad_fn=<MseLossBackward0>)\n",
      "tensor(25.4254, grad_fn=<MseLossBackward0>)\n",
      "tensor(24.0845, grad_fn=<MseLossBackward0>)\n",
      "tensor(27.3806, grad_fn=<MseLossBackward0>)\n",
      "tensor(25.7623, grad_fn=<MseLossBackward0>)\n",
      "tensor(27.5567, grad_fn=<MseLossBackward0>)\n",
      "tensor(22.5710, grad_fn=<MseLossBackward0>)\n"
     ]
    },
    {
     "name": "stderr",
     "output_type": "stream",
     "text": [
      " 16%|█▌        | 8/50 [00:02<00:14,  2.87it/s]"
     ]
    },
    {
     "name": "stdout",
     "output_type": "stream",
     "text": [
      "tensor(20.1347, grad_fn=<MseLossBackward0>)\n",
      "tensor(27.2878, grad_fn=<MseLossBackward0>)\n",
      "tensor(25.7262, grad_fn=<MseLossBackward0>)\n",
      "tensor(25.7192, grad_fn=<MseLossBackward0>)\n",
      "tensor(24.4660, grad_fn=<MseLossBackward0>)\n",
      "tensor(21.0515, grad_fn=<MseLossBackward0>)\n",
      "tensor(24.7464, grad_fn=<MseLossBackward0>)\n",
      "tensor(27.7109, grad_fn=<MseLossBackward0>)\n",
      "tensor(22.7206, grad_fn=<MseLossBackward0>)\n"
     ]
    },
    {
     "name": "stderr",
     "output_type": "stream",
     "text": [
      " 18%|█▊        | 9/50 [00:03<00:14,  2.77it/s]"
     ]
    },
    {
     "name": "stdout",
     "output_type": "stream",
     "text": [
      "tensor(22.8361, grad_fn=<MseLossBackward0>)\n",
      "tensor(21.6760, grad_fn=<MseLossBackward0>)\n",
      "tensor(25.3301, grad_fn=<MseLossBackward0>)\n",
      "tensor(23.8015, grad_fn=<MseLossBackward0>)\n",
      "tensor(26.7105, grad_fn=<MseLossBackward0>)\n",
      "tensor(34.9507, grad_fn=<MseLossBackward0>)\n",
      "tensor(23.5510, grad_fn=<MseLossBackward0>)\n",
      "tensor(29.6097, grad_fn=<MseLossBackward0>)\n",
      "tensor(23.5657, grad_fn=<MseLossBackward0>)\n",
      "tensor(28.3379, grad_fn=<MseLossBackward0>)\n",
      "tensor(26.9776, grad_fn=<MseLossBackward0>)\n",
      "tensor(23.0470, grad_fn=<MseLossBackward0>)\n",
      "tensor(23.7843, grad_fn=<MseLossBackward0>)\n",
      "tensor(22.6956, grad_fn=<MseLossBackward0>)\n",
      "tensor(26.9903, grad_fn=<MseLossBackward0>)\n",
      "tensor(23.0061, grad_fn=<MseLossBackward0>)\n"
     ]
    },
    {
     "name": "stderr",
     "output_type": "stream",
     "text": [
      " 20%|██        | 10/50 [00:03<00:14,  2.85it/s]"
     ]
    },
    {
     "name": "stdout",
     "output_type": "stream",
     "text": [
      "tensor(29.4680, grad_fn=<MseLossBackward0>)\n",
      "tensor(23.2742, grad_fn=<MseLossBackward0>)\n",
      "tensor(19.7895, grad_fn=<MseLossBackward0>)\n",
      "tensor(23.2883, grad_fn=<MseLossBackward0>)\n",
      "tensor(21.8902, grad_fn=<MseLossBackward0>)\n",
      "tensor(27.7889, grad_fn=<MseLossBackward0>)\n",
      "tensor(24.8301, grad_fn=<MseLossBackward0>)\n",
      "tensor(20.3347, grad_fn=<MseLossBackward0>)\n",
      "tensor(26.4556, grad_fn=<MseLossBackward0>)\n",
      "tensor(24.0942, grad_fn=<MseLossBackward0>)\n",
      "tensor(20.5949, grad_fn=<MseLossBackward0>)\n",
      "tensor(24.3333, grad_fn=<MseLossBackward0>)\n",
      "tensor(23.8621, grad_fn=<MseLossBackward0>)\n",
      "tensor(27.8377, grad_fn=<MseLossBackward0>)\n",
      "tensor(30.3458, grad_fn=<MseLossBackward0>)\n",
      "tensor(28.1525, grad_fn=<MseLossBackward0>)\n",
      "tensor(25.0794, grad_fn=<MseLossBackward0>)\n"
     ]
    },
    {
     "name": "stderr",
     "output_type": "stream",
     "text": [
      " 22%|██▏       | 11/50 [00:03<00:13,  2.84it/s]"
     ]
    },
    {
     "name": "stdout",
     "output_type": "stream",
     "text": [
      "tensor(20.2565, grad_fn=<MseLossBackward0>)\n",
      "tensor(23.9310, grad_fn=<MseLossBackward0>)\n",
      "tensor(23.0548, grad_fn=<MseLossBackward0>)\n",
      "tensor(19.5233, grad_fn=<MseLossBackward0>)\n",
      "tensor(27.9515, grad_fn=<MseLossBackward0>)\n",
      "tensor(21.5686, grad_fn=<MseLossBackward0>)\n",
      "tensor(25.0012, grad_fn=<MseLossBackward0>)\n"
     ]
    },
    {
     "name": "stderr",
     "output_type": "stream",
     "text": [
      " 24%|██▍       | 12/50 [00:04<00:13,  2.80it/s]"
     ]
    },
    {
     "name": "stdout",
     "output_type": "stream",
     "text": [
      "tensor(26.8656, grad_fn=<MseLossBackward0>)\n",
      "tensor(22.3626, grad_fn=<MseLossBackward0>)\n",
      "tensor(23.4898, grad_fn=<MseLossBackward0>)\n",
      "tensor(25.5195, grad_fn=<MseLossBackward0>)\n",
      "tensor(25.4790, grad_fn=<MseLossBackward0>)\n",
      "tensor(29.3878, grad_fn=<MseLossBackward0>)\n",
      "tensor(23.5843, grad_fn=<MseLossBackward0>)\n",
      "tensor(23.0852, grad_fn=<MseLossBackward0>)\n",
      "tensor(24.4545, grad_fn=<MseLossBackward0>)\n",
      "tensor(24.8296, grad_fn=<MseLossBackward0>)\n",
      "tensor(26.4145, grad_fn=<MseLossBackward0>)\n",
      "tensor(22.3149, grad_fn=<MseLossBackward0>)\n",
      "tensor(23.9231, grad_fn=<MseLossBackward0>)\n",
      "tensor(29.4560, grad_fn=<MseLossBackward0>)\n",
      "tensor(27.9456, grad_fn=<MseLossBackward0>)\n",
      "tensor(24.1991, grad_fn=<MseLossBackward0>)\n",
      "tensor(24.0070, grad_fn=<MseLossBackward0>)\n"
     ]
    },
    {
     "name": "stderr",
     "output_type": "stream",
     "text": [
      " 26%|██▌       | 13/50 [00:04<00:13,  2.65it/s]"
     ]
    },
    {
     "name": "stdout",
     "output_type": "stream",
     "text": [
      "tensor(28.4349, grad_fn=<MseLossBackward0>)\n",
      "tensor(23.3402, grad_fn=<MseLossBackward0>)\n",
      "tensor(22.0903, grad_fn=<MseLossBackward0>)\n",
      "tensor(23.1721, grad_fn=<MseLossBackward0>)\n",
      "tensor(24.0786, grad_fn=<MseLossBackward0>)\n",
      "tensor(23.7349, grad_fn=<MseLossBackward0>)\n",
      "tensor(24.6268, grad_fn=<MseLossBackward0>)\n",
      "tensor(31.5910, grad_fn=<MseLossBackward0>)\n",
      "tensor(22.9779, grad_fn=<MseLossBackward0>)\n",
      "tensor(23.2940, grad_fn=<MseLossBackward0>)\n",
      "tensor(24.9202, grad_fn=<MseLossBackward0>)\n",
      "tensor(22.6172, grad_fn=<MseLossBackward0>)\n",
      "tensor(21.0585, grad_fn=<MseLossBackward0>)\n",
      "tensor(27.2042, grad_fn=<MseLossBackward0>)\n",
      "tensor(25.7500, grad_fn=<MseLossBackward0>)\n",
      "tensor(23.8501, grad_fn=<MseLossBackward0>)\n",
      "tensor(27.0479, grad_fn=<MseLossBackward0>)\n",
      "tensor(23.4822, grad_fn=<MseLossBackward0>)\n"
     ]
    },
    {
     "name": "stderr",
     "output_type": "stream",
     "text": [
      " 28%|██▊       | 14/50 [00:05<00:13,  2.72it/s]"
     ]
    },
    {
     "name": "stdout",
     "output_type": "stream",
     "text": [
      "tensor(24.8405, grad_fn=<MseLossBackward0>)\n",
      "tensor(25.0543, grad_fn=<MseLossBackward0>)\n",
      "tensor(26.6156, grad_fn=<MseLossBackward0>)\n",
      "tensor(25.0618, grad_fn=<MseLossBackward0>)\n",
      "tensor(29.8651, grad_fn=<MseLossBackward0>)\n",
      "tensor(23.1116, grad_fn=<MseLossBackward0>)\n",
      "tensor(20.5560, grad_fn=<MseLossBackward0>)\n",
      "tensor(24.6136, grad_fn=<MseLossBackward0>)\n",
      "tensor(20.0536, grad_fn=<MseLossBackward0>)\n"
     ]
    },
    {
     "name": "stderr",
     "output_type": "stream",
     "text": [
      " 30%|███       | 15/50 [00:05<00:12,  2.78it/s]"
     ]
    },
    {
     "name": "stdout",
     "output_type": "stream",
     "text": [
      "tensor(28.6831, grad_fn=<MseLossBackward0>)\n",
      "tensor(27.2173, grad_fn=<MseLossBackward0>)\n",
      "tensor(26.3456, grad_fn=<MseLossBackward0>)\n",
      "tensor(21.5199, grad_fn=<MseLossBackward0>)\n",
      "tensor(26.6049, grad_fn=<MseLossBackward0>)\n",
      "tensor(21.3487, grad_fn=<MseLossBackward0>)\n",
      "tensor(27.7095, grad_fn=<MseLossBackward0>)\n",
      "tensor(20.0874, grad_fn=<MseLossBackward0>)\n",
      "tensor(21.2317, grad_fn=<MseLossBackward0>)\n",
      "tensor(28.4625, grad_fn=<MseLossBackward0>)\n",
      "tensor(19.8669, grad_fn=<MseLossBackward0>)\n",
      "tensor(24.2919, grad_fn=<MseLossBackward0>)\n",
      "tensor(29.9773, grad_fn=<MseLossBackward0>)\n",
      "tensor(25.7392, grad_fn=<MseLossBackward0>)\n",
      "tensor(26.6646, grad_fn=<MseLossBackward0>)\n",
      "tensor(23.7732, grad_fn=<MseLossBackward0>)\n",
      "tensor(21.3689, grad_fn=<MseLossBackward0>)\n",
      "tensor(26.6618, grad_fn=<MseLossBackward0>)\n"
     ]
    },
    {
     "name": "stderr",
     "output_type": "stream",
     "text": [
      " 32%|███▏      | 16/50 [00:05<00:12,  2.83it/s]"
     ]
    },
    {
     "name": "stdout",
     "output_type": "stream",
     "text": [
      "tensor(21.3845, grad_fn=<MseLossBackward0>)\n",
      "tensor(30.0302, grad_fn=<MseLossBackward0>)\n",
      "tensor(25.7766, grad_fn=<MseLossBackward0>)\n",
      "tensor(23.2404, grad_fn=<MseLossBackward0>)\n",
      "tensor(28.7800, grad_fn=<MseLossBackward0>)\n",
      "tensor(24.0179, grad_fn=<MseLossBackward0>)\n",
      "tensor(23.3172, grad_fn=<MseLossBackward0>)\n",
      "tensor(25.7508, grad_fn=<MseLossBackward0>)\n",
      "tensor(22.1693, grad_fn=<MseLossBackward0>)\n",
      "tensor(23.6506, grad_fn=<MseLossBackward0>)\n",
      "tensor(24.2072, grad_fn=<MseLossBackward0>)\n",
      "tensor(27.4347, grad_fn=<MseLossBackward0>)\n",
      "tensor(25.0361, grad_fn=<MseLossBackward0>)\n",
      "tensor(23.3156, grad_fn=<MseLossBackward0>)\n",
      "tensor(23.0615, grad_fn=<MseLossBackward0>)\n",
      "tensor(20.5751, grad_fn=<MseLossBackward0>)\n"
     ]
    },
    {
     "name": "stderr",
     "output_type": "stream",
     "text": [
      " 34%|███▍      | 17/50 [00:06<00:12,  2.74it/s]"
     ]
    },
    {
     "name": "stdout",
     "output_type": "stream",
     "text": [
      "tensor(24.5936, grad_fn=<MseLossBackward0>)\n",
      "tensor(19.9686, grad_fn=<MseLossBackward0>)\n",
      "tensor(26.3870, grad_fn=<MseLossBackward0>)\n",
      "tensor(31.4695, grad_fn=<MseLossBackward0>)\n",
      "tensor(22.6980, grad_fn=<MseLossBackward0>)\n",
      "tensor(28.6056, grad_fn=<MseLossBackward0>)\n",
      "tensor(21.5423, grad_fn=<MseLossBackward0>)\n",
      "tensor(21.6450, grad_fn=<MseLossBackward0>)\n",
      "tensor(25.5198, grad_fn=<MseLossBackward0>)\n"
     ]
    },
    {
     "name": "stderr",
     "output_type": "stream",
     "text": [
      " 36%|███▌      | 18/50 [00:06<00:11,  2.82it/s]"
     ]
    },
    {
     "name": "stdout",
     "output_type": "stream",
     "text": [
      "tensor(20.4469, grad_fn=<MseLossBackward0>)\n",
      "tensor(27.8060, grad_fn=<MseLossBackward0>)\n",
      "tensor(22.7964, grad_fn=<MseLossBackward0>)\n",
      "tensor(23.9340, grad_fn=<MseLossBackward0>)\n",
      "tensor(27.8918, grad_fn=<MseLossBackward0>)\n",
      "tensor(24.6305, grad_fn=<MseLossBackward0>)\n",
      "tensor(30.7934, grad_fn=<MseLossBackward0>)\n",
      "tensor(24.4163, grad_fn=<MseLossBackward0>)\n",
      "tensor(22.1611, grad_fn=<MseLossBackward0>)\n",
      "tensor(26.7525, grad_fn=<MseLossBackward0>)\n",
      "tensor(26.0182, grad_fn=<MseLossBackward0>)\n",
      "tensor(24.7322, grad_fn=<MseLossBackward0>)\n",
      "tensor(23.9708, grad_fn=<MseLossBackward0>)\n",
      "tensor(27.3416, grad_fn=<MseLossBackward0>)\n",
      "tensor(21.0751, grad_fn=<MseLossBackward0>)\n",
      "tensor(25.7878, grad_fn=<MseLossBackward0>)\n",
      "tensor(22.9658, grad_fn=<MseLossBackward0>)\n",
      "tensor(25.1113, grad_fn=<MseLossBackward0>)\n"
     ]
    },
    {
     "name": "stderr",
     "output_type": "stream",
     "text": [
      " 38%|███▊      | 19/50 [00:06<00:10,  2.90it/s]"
     ]
    },
    {
     "name": "stdout",
     "output_type": "stream",
     "text": [
      "tensor(16.4363, grad_fn=<MseLossBackward0>)\n",
      "tensor(21.6393, grad_fn=<MseLossBackward0>)\n",
      "tensor(25.1643, grad_fn=<MseLossBackward0>)\n",
      "tensor(24.2879, grad_fn=<MseLossBackward0>)\n",
      "tensor(26.6914, grad_fn=<MseLossBackward0>)\n",
      "tensor(20.9420, grad_fn=<MseLossBackward0>)\n",
      "tensor(24.9572, grad_fn=<MseLossBackward0>)\n",
      "tensor(23.2816, grad_fn=<MseLossBackward0>)\n",
      "tensor(24.1522, grad_fn=<MseLossBackward0>)\n",
      "tensor(25.4342, grad_fn=<MseLossBackward0>)\n",
      "tensor(22.9096, grad_fn=<MseLossBackward0>)\n",
      "tensor(27.9489, grad_fn=<MseLossBackward0>)\n",
      "tensor(26.8088, grad_fn=<MseLossBackward0>)\n",
      "tensor(24.9490, grad_fn=<MseLossBackward0>)\n"
     ]
    },
    {
     "name": "stderr",
     "output_type": "stream",
     "text": [
      " 40%|████      | 20/50 [00:07<00:11,  2.72it/s]"
     ]
    },
    {
     "name": "stdout",
     "output_type": "stream",
     "text": [
      "tensor(26.1655, grad_fn=<MseLossBackward0>)\n",
      "tensor(23.4452, grad_fn=<MseLossBackward0>)\n",
      "tensor(24.5035, grad_fn=<MseLossBackward0>)\n",
      "tensor(23.6995, grad_fn=<MseLossBackward0>)\n",
      "tensor(23.1352, grad_fn=<MseLossBackward0>)\n",
      "tensor(19.1752, grad_fn=<MseLossBackward0>)\n",
      "tensor(20.7950, grad_fn=<MseLossBackward0>)\n",
      "tensor(29.0954, grad_fn=<MseLossBackward0>)\n",
      "tensor(25.9342, grad_fn=<MseLossBackward0>)\n"
     ]
    },
    {
     "name": "stderr",
     "output_type": "stream",
     "text": [
      " 42%|████▏     | 21/50 [00:07<00:10,  2.79it/s]"
     ]
    },
    {
     "name": "stdout",
     "output_type": "stream",
     "text": [
      "tensor(24.2826, grad_fn=<MseLossBackward0>)\n",
      "tensor(29.0446, grad_fn=<MseLossBackward0>)\n",
      "tensor(25.8196, grad_fn=<MseLossBackward0>)\n",
      "tensor(27.3068, grad_fn=<MseLossBackward0>)\n",
      "tensor(28.2689, grad_fn=<MseLossBackward0>)\n",
      "tensor(26.1349, grad_fn=<MseLossBackward0>)\n",
      "tensor(28.3786, grad_fn=<MseLossBackward0>)\n",
      "tensor(23.2277, grad_fn=<MseLossBackward0>)\n",
      "tensor(22.5388, grad_fn=<MseLossBackward0>)\n",
      "tensor(21.6441, grad_fn=<MseLossBackward0>)\n",
      "tensor(27.1796, grad_fn=<MseLossBackward0>)\n",
      "tensor(22.8319, grad_fn=<MseLossBackward0>)\n",
      "tensor(25.6582, grad_fn=<MseLossBackward0>)\n",
      "tensor(26.8621, grad_fn=<MseLossBackward0>)\n",
      "tensor(22.8278, grad_fn=<MseLossBackward0>)\n",
      "tensor(30.3248, grad_fn=<MseLossBackward0>)\n",
      "tensor(24.6876, grad_fn=<MseLossBackward0>)\n"
     ]
    },
    {
     "name": "stderr",
     "output_type": "stream",
     "text": [
      " 44%|████▍     | 22/50 [00:07<00:09,  2.85it/s]"
     ]
    },
    {
     "name": "stdout",
     "output_type": "stream",
     "text": [
      "tensor(23.9959, grad_fn=<MseLossBackward0>)\n",
      "tensor(24.8915, grad_fn=<MseLossBackward0>)\n",
      "tensor(22.9718, grad_fn=<MseLossBackward0>)\n",
      "tensor(28.2409, grad_fn=<MseLossBackward0>)\n",
      "tensor(29.3683, grad_fn=<MseLossBackward0>)\n",
      "tensor(23.6662, grad_fn=<MseLossBackward0>)\n",
      "tensor(23.0912, grad_fn=<MseLossBackward0>)\n",
      "tensor(20.8988, grad_fn=<MseLossBackward0>)\n",
      "tensor(27.6591, grad_fn=<MseLossBackward0>)\n"
     ]
    },
    {
     "name": "stderr",
     "output_type": "stream",
     "text": [
      " 46%|████▌     | 23/50 [00:08<00:09,  2.89it/s]"
     ]
    },
    {
     "name": "stdout",
     "output_type": "stream",
     "text": [
      "tensor(26.0287, grad_fn=<MseLossBackward0>)\n",
      "tensor(23.0164, grad_fn=<MseLossBackward0>)\n",
      "tensor(21.5260, grad_fn=<MseLossBackward0>)\n",
      "tensor(27.2652, grad_fn=<MseLossBackward0>)\n",
      "tensor(26.1924, grad_fn=<MseLossBackward0>)\n",
      "tensor(24.4517, grad_fn=<MseLossBackward0>)\n",
      "tensor(24.9693, grad_fn=<MseLossBackward0>)\n",
      "tensor(22.4842, grad_fn=<MseLossBackward0>)\n",
      "tensor(17.9584, grad_fn=<MseLossBackward0>)\n",
      "tensor(23.6194, grad_fn=<MseLossBackward0>)\n",
      "tensor(25.6594, grad_fn=<MseLossBackward0>)\n",
      "tensor(28.4112, grad_fn=<MseLossBackward0>)\n",
      "tensor(24.4100, grad_fn=<MseLossBackward0>)\n",
      "tensor(24.0344, grad_fn=<MseLossBackward0>)\n",
      "tensor(20.5718, grad_fn=<MseLossBackward0>)\n",
      "tensor(31.7696, grad_fn=<MseLossBackward0>)\n"
     ]
    },
    {
     "name": "stderr",
     "output_type": "stream",
     "text": [
      " 48%|████▊     | 24/50 [00:08<00:09,  2.79it/s]"
     ]
    },
    {
     "name": "stdout",
     "output_type": "stream",
     "text": [
      "tensor(23.0193, grad_fn=<MseLossBackward0>)\n",
      "tensor(25.7980, grad_fn=<MseLossBackward0>)\n",
      "tensor(27.7042, grad_fn=<MseLossBackward0>)\n",
      "tensor(22.1754, grad_fn=<MseLossBackward0>)\n",
      "tensor(27.5064, grad_fn=<MseLossBackward0>)\n",
      "tensor(20.8501, grad_fn=<MseLossBackward0>)\n",
      "tensor(22.6049, grad_fn=<MseLossBackward0>)\n",
      "tensor(27.3068, grad_fn=<MseLossBackward0>)\n",
      "tensor(24.1683, grad_fn=<MseLossBackward0>)\n",
      "tensor(24.0846, grad_fn=<MseLossBackward0>)\n",
      "tensor(23.9657, grad_fn=<MseLossBackward0>)\n",
      "tensor(25.8754, grad_fn=<MseLossBackward0>)\n",
      "tensor(22.8390, grad_fn=<MseLossBackward0>)\n",
      "tensor(26.1322, grad_fn=<MseLossBackward0>)\n",
      "tensor(30.9641, grad_fn=<MseLossBackward0>)\n",
      "tensor(23.9222, grad_fn=<MseLossBackward0>)\n",
      "tensor(20.4631, grad_fn=<MseLossBackward0>)\n",
      "tensor(22.3974, grad_fn=<MseLossBackward0>)\n",
      "tensor(25.9866, grad_fn=<MseLossBackward0>)\n"
     ]
    },
    {
     "name": "stderr",
     "output_type": "stream",
     "text": [
      " 50%|█████     | 25/50 [00:08<00:08,  2.88it/s]"
     ]
    },
    {
     "name": "stdout",
     "output_type": "stream",
     "text": [
      "tensor(20.2391, grad_fn=<MseLossBackward0>)\n",
      "tensor(28.3612, grad_fn=<MseLossBackward0>)\n",
      "tensor(26.0974, grad_fn=<MseLossBackward0>)\n",
      "tensor(22.3707, grad_fn=<MseLossBackward0>)\n",
      "tensor(26.8428, grad_fn=<MseLossBackward0>)\n",
      "tensor(27.3559, grad_fn=<MseLossBackward0>)\n",
      "tensor(26.3621, grad_fn=<MseLossBackward0>)\n",
      "tensor(22.5023, grad_fn=<MseLossBackward0>)\n",
      "tensor(26.8265, grad_fn=<MseLossBackward0>)\n"
     ]
    },
    {
     "name": "stderr",
     "output_type": "stream",
     "text": [
      " 52%|█████▏    | 26/50 [00:09<00:08,  2.91it/s]"
     ]
    },
    {
     "name": "stdout",
     "output_type": "stream",
     "text": [
      "tensor(23.3076, grad_fn=<MseLossBackward0>)\n",
      "tensor(21.7662, grad_fn=<MseLossBackward0>)\n",
      "tensor(26.4718, grad_fn=<MseLossBackward0>)\n",
      "tensor(24.3687, grad_fn=<MseLossBackward0>)\n",
      "tensor(24.2364, grad_fn=<MseLossBackward0>)\n",
      "tensor(20.3177, grad_fn=<MseLossBackward0>)\n",
      "tensor(23.2200, grad_fn=<MseLossBackward0>)\n",
      "tensor(23.2319, grad_fn=<MseLossBackward0>)\n",
      "tensor(27.4307, grad_fn=<MseLossBackward0>)\n",
      "tensor(26.8728, grad_fn=<MseLossBackward0>)\n",
      "tensor(22.4492, grad_fn=<MseLossBackward0>)\n",
      "tensor(28.9767, grad_fn=<MseLossBackward0>)\n",
      "tensor(22.6609, grad_fn=<MseLossBackward0>)\n",
      "tensor(20.2835, grad_fn=<MseLossBackward0>)\n",
      "tensor(20.8677, grad_fn=<MseLossBackward0>)\n",
      "tensor(24.2984, grad_fn=<MseLossBackward0>)\n",
      "tensor(28.4420, grad_fn=<MseLossBackward0>)\n",
      "tensor(26.1482, grad_fn=<MseLossBackward0>)\n",
      "tensor(26.0169, grad_fn=<MseLossBackward0>)\n"
     ]
    },
    {
     "name": "stderr",
     "output_type": "stream",
     "text": [
      " 54%|█████▍    | 27/50 [00:09<00:07,  2.94it/s]"
     ]
    },
    {
     "name": "stdout",
     "output_type": "stream",
     "text": [
      "tensor(21.2572, grad_fn=<MseLossBackward0>)\n",
      "tensor(30.3674, grad_fn=<MseLossBackward0>)\n",
      "tensor(22.5167, grad_fn=<MseLossBackward0>)\n",
      "tensor(27.6107, grad_fn=<MseLossBackward0>)\n",
      "tensor(23.0973, grad_fn=<MseLossBackward0>)\n",
      "tensor(23.7201, grad_fn=<MseLossBackward0>)\n",
      "tensor(20.8759, grad_fn=<MseLossBackward0>)\n",
      "tensor(25.0842, grad_fn=<MseLossBackward0>)\n",
      "tensor(27.6711, grad_fn=<MseLossBackward0>)\n"
     ]
    },
    {
     "name": "stderr",
     "output_type": "stream",
     "text": [
      " 56%|█████▌    | 28/50 [00:10<00:07,  2.80it/s]"
     ]
    },
    {
     "name": "stdout",
     "output_type": "stream",
     "text": [
      "tensor(23.4641, grad_fn=<MseLossBackward0>)\n",
      "tensor(21.6112, grad_fn=<MseLossBackward0>)\n",
      "tensor(27.1482, grad_fn=<MseLossBackward0>)\n",
      "tensor(23.2442, grad_fn=<MseLossBackward0>)\n",
      "tensor(24.8324, grad_fn=<MseLossBackward0>)\n",
      "tensor(22.4866, grad_fn=<MseLossBackward0>)\n",
      "tensor(21.8574, grad_fn=<MseLossBackward0>)\n",
      "tensor(24.6608, grad_fn=<MseLossBackward0>)\n",
      "tensor(19.6424, grad_fn=<MseLossBackward0>)\n",
      "tensor(21.0111, grad_fn=<MseLossBackward0>)\n",
      "tensor(24.4987, grad_fn=<MseLossBackward0>)\n",
      "tensor(31.1255, grad_fn=<MseLossBackward0>)\n",
      "tensor(27.9566, grad_fn=<MseLossBackward0>)\n",
      "tensor(21.4626, grad_fn=<MseLossBackward0>)\n",
      "tensor(25.7746, grad_fn=<MseLossBackward0>)\n",
      "tensor(27.8601, grad_fn=<MseLossBackward0>)\n"
     ]
    },
    {
     "name": "stderr",
     "output_type": "stream",
     "text": [
      " 58%|█████▊    | 29/50 [00:10<00:07,  2.87it/s]"
     ]
    },
    {
     "name": "stdout",
     "output_type": "stream",
     "text": [
      "tensor(24.3674, grad_fn=<MseLossBackward0>)\n",
      "tensor(28.3018, grad_fn=<MseLossBackward0>)\n",
      "tensor(24.9577, grad_fn=<MseLossBackward0>)\n",
      "tensor(23.0356, grad_fn=<MseLossBackward0>)\n",
      "tensor(31.6807, grad_fn=<MseLossBackward0>)\n",
      "tensor(25.5121, grad_fn=<MseLossBackward0>)\n",
      "tensor(24.8976, grad_fn=<MseLossBackward0>)\n",
      "tensor(21.0067, grad_fn=<MseLossBackward0>)\n",
      "tensor(27.6917, grad_fn=<MseLossBackward0>)\n"
     ]
    },
    {
     "name": "stderr",
     "output_type": "stream",
     "text": [
      " 60%|██████    | 30/50 [00:10<00:06,  2.88it/s]"
     ]
    },
    {
     "name": "stdout",
     "output_type": "stream",
     "text": [
      "tensor(24.2912, grad_fn=<MseLossBackward0>)\n",
      "tensor(23.6306, grad_fn=<MseLossBackward0>)\n",
      "tensor(25.2345, grad_fn=<MseLossBackward0>)\n",
      "tensor(27.0558, grad_fn=<MseLossBackward0>)\n",
      "tensor(23.9055, grad_fn=<MseLossBackward0>)\n",
      "tensor(19.6418, grad_fn=<MseLossBackward0>)\n",
      "tensor(24.4582, grad_fn=<MseLossBackward0>)\n",
      "tensor(24.4635, grad_fn=<MseLossBackward0>)\n",
      "tensor(22.9293, grad_fn=<MseLossBackward0>)\n",
      "tensor(24.4986, grad_fn=<MseLossBackward0>)\n",
      "tensor(25.9633, grad_fn=<MseLossBackward0>)\n",
      "tensor(29.2530, grad_fn=<MseLossBackward0>)\n",
      "tensor(19.9712, grad_fn=<MseLossBackward0>)\n",
      "tensor(29.7332, grad_fn=<MseLossBackward0>)\n",
      "tensor(22.6380, grad_fn=<MseLossBackward0>)\n",
      "tensor(22.2798, grad_fn=<MseLossBackward0>)\n",
      "tensor(23.7074, grad_fn=<MseLossBackward0>)\n",
      "tensor(20.6441, grad_fn=<MseLossBackward0>)\n"
     ]
    },
    {
     "name": "stderr",
     "output_type": "stream",
     "text": [
      " 62%|██████▏   | 31/50 [00:11<00:06,  2.94it/s]"
     ]
    },
    {
     "name": "stdout",
     "output_type": "stream",
     "text": [
      "tensor(23.2711, grad_fn=<MseLossBackward0>)\n",
      "tensor(26.5854, grad_fn=<MseLossBackward0>)\n",
      "tensor(26.5604, grad_fn=<MseLossBackward0>)\n",
      "tensor(24.1849, grad_fn=<MseLossBackward0>)\n",
      "tensor(32.4671, grad_fn=<MseLossBackward0>)\n",
      "tensor(33.0099, grad_fn=<MseLossBackward0>)\n",
      "tensor(27.8106, grad_fn=<MseLossBackward0>)\n",
      "tensor(26.4096, grad_fn=<MseLossBackward0>)\n",
      "tensor(24.5762, grad_fn=<MseLossBackward0>)\n",
      "tensor(20.3481, grad_fn=<MseLossBackward0>)\n",
      "tensor(19.0608, grad_fn=<MseLossBackward0>)\n",
      "tensor(23.8576, grad_fn=<MseLossBackward0>)\n",
      "tensor(24.2353, grad_fn=<MseLossBackward0>)\n",
      "tensor(27.7924, grad_fn=<MseLossBackward0>)\n",
      "tensor(20.0690, grad_fn=<MseLossBackward0>)\n",
      "tensor(21.5164, grad_fn=<MseLossBackward0>)\n",
      "tensor(22.9193, grad_fn=<MseLossBackward0>)\n"
     ]
    },
    {
     "name": "stderr",
     "output_type": "stream",
     "text": [
      " 64%|██████▍   | 32/50 [00:11<00:06,  2.84it/s]"
     ]
    },
    {
     "name": "stdout",
     "output_type": "stream",
     "text": [
      "tensor(33.0131, grad_fn=<MseLossBackward0>)\n",
      "tensor(23.5664, grad_fn=<MseLossBackward0>)\n",
      "tensor(25.1979, grad_fn=<MseLossBackward0>)\n",
      "tensor(24.3486, grad_fn=<MseLossBackward0>)\n",
      "tensor(23.3436, grad_fn=<MseLossBackward0>)\n",
      "tensor(27.6391, grad_fn=<MseLossBackward0>)\n",
      "tensor(26.1239, grad_fn=<MseLossBackward0>)\n",
      "tensor(22.8648, grad_fn=<MseLossBackward0>)\n",
      "tensor(26.3425, grad_fn=<MseLossBackward0>)\n"
     ]
    },
    {
     "name": "stderr",
     "output_type": "stream",
     "text": [
      " 66%|██████▌   | 33/50 [00:11<00:05,  2.90it/s]"
     ]
    },
    {
     "name": "stdout",
     "output_type": "stream",
     "text": [
      "tensor(29.7574, grad_fn=<MseLossBackward0>)\n",
      "tensor(26.4847, grad_fn=<MseLossBackward0>)\n",
      "tensor(21.5451, grad_fn=<MseLossBackward0>)\n",
      "tensor(22.9321, grad_fn=<MseLossBackward0>)\n",
      "tensor(22.9062, grad_fn=<MseLossBackward0>)\n",
      "tensor(23.8633, grad_fn=<MseLossBackward0>)\n",
      "tensor(24.9444, grad_fn=<MseLossBackward0>)\n",
      "tensor(26.0138, grad_fn=<MseLossBackward0>)\n",
      "tensor(30.0583, grad_fn=<MseLossBackward0>)\n",
      "tensor(21.8150, grad_fn=<MseLossBackward0>)\n",
      "tensor(19.5110, grad_fn=<MseLossBackward0>)\n",
      "tensor(21.5424, grad_fn=<MseLossBackward0>)\n",
      "tensor(28.1823, grad_fn=<MseLossBackward0>)\n",
      "tensor(23.2447, grad_fn=<MseLossBackward0>)\n",
      "tensor(24.6014, grad_fn=<MseLossBackward0>)\n",
      "tensor(24.8559, grad_fn=<MseLossBackward0>)\n",
      "tensor(24.6102, grad_fn=<MseLossBackward0>)\n"
     ]
    },
    {
     "name": "stderr",
     "output_type": "stream",
     "text": [
      " 68%|██████▊   | 34/50 [00:12<00:05,  2.91it/s]"
     ]
    },
    {
     "name": "stdout",
     "output_type": "stream",
     "text": [
      "tensor(22.1797, grad_fn=<MseLossBackward0>)\n",
      "tensor(31.3961, grad_fn=<MseLossBackward0>)\n",
      "tensor(27.0715, grad_fn=<MseLossBackward0>)\n",
      "tensor(21.6087, grad_fn=<MseLossBackward0>)\n",
      "tensor(26.0913, grad_fn=<MseLossBackward0>)\n",
      "tensor(21.7468, grad_fn=<MseLossBackward0>)\n",
      "tensor(22.5228, grad_fn=<MseLossBackward0>)\n",
      "tensor(22.7808, grad_fn=<MseLossBackward0>)\n",
      "tensor(19.1492, grad_fn=<MseLossBackward0>)\n",
      "tensor(26.1551, grad_fn=<MseLossBackward0>)\n"
     ]
    },
    {
     "name": "stderr",
     "output_type": "stream",
     "text": [
      " 70%|███████   | 35/50 [00:12<00:05,  2.94it/s]"
     ]
    },
    {
     "name": "stdout",
     "output_type": "stream",
     "text": [
      "tensor(24.6153, grad_fn=<MseLossBackward0>)\n",
      "tensor(26.0583, grad_fn=<MseLossBackward0>)\n",
      "tensor(24.9692, grad_fn=<MseLossBackward0>)\n",
      "tensor(28.5992, grad_fn=<MseLossBackward0>)\n",
      "tensor(24.5758, grad_fn=<MseLossBackward0>)\n",
      "tensor(23.9711, grad_fn=<MseLossBackward0>)\n",
      "tensor(32.3183, grad_fn=<MseLossBackward0>)\n",
      "tensor(17.8649, grad_fn=<MseLossBackward0>)\n",
      "tensor(24.3608, grad_fn=<MseLossBackward0>)\n",
      "tensor(27.0795, grad_fn=<MseLossBackward0>)\n",
      "tensor(27.6398, grad_fn=<MseLossBackward0>)\n",
      "tensor(27.9291, grad_fn=<MseLossBackward0>)\n",
      "tensor(24.4754, grad_fn=<MseLossBackward0>)\n",
      "tensor(27.7400, grad_fn=<MseLossBackward0>)\n",
      "tensor(21.3118, grad_fn=<MseLossBackward0>)\n",
      "tensor(23.9414, grad_fn=<MseLossBackward0>)\n"
     ]
    },
    {
     "name": "stderr",
     "output_type": "stream",
     "text": [
      " 72%|███████▏  | 36/50 [00:12<00:04,  2.82it/s]"
     ]
    },
    {
     "name": "stdout",
     "output_type": "stream",
     "text": [
      "tensor(25.8287, grad_fn=<MseLossBackward0>)\n",
      "tensor(19.2462, grad_fn=<MseLossBackward0>)\n",
      "tensor(23.7349, grad_fn=<MseLossBackward0>)\n",
      "tensor(26.3143, grad_fn=<MseLossBackward0>)\n",
      "tensor(21.3624, grad_fn=<MseLossBackward0>)\n",
      "tensor(26.8678, grad_fn=<MseLossBackward0>)\n",
      "tensor(24.1876, grad_fn=<MseLossBackward0>)\n",
      "tensor(21.4719, grad_fn=<MseLossBackward0>)\n",
      "tensor(22.4163, grad_fn=<MseLossBackward0>)\n",
      "tensor(26.8981, grad_fn=<MseLossBackward0>)\n",
      "tensor(22.5324, grad_fn=<MseLossBackward0>)\n",
      "tensor(21.8060, grad_fn=<MseLossBackward0>)\n",
      "tensor(24.0678, grad_fn=<MseLossBackward0>)\n",
      "tensor(21.1303, grad_fn=<MseLossBackward0>)\n",
      "tensor(26.2550, grad_fn=<MseLossBackward0>)\n",
      "tensor(28.5137, grad_fn=<MseLossBackward0>)\n",
      "tensor(26.9585, grad_fn=<MseLossBackward0>)\n",
      "tensor(26.0730, grad_fn=<MseLossBackward0>)\n"
     ]
    },
    {
     "name": "stderr",
     "output_type": "stream",
     "text": [
      " 74%|███████▍  | 37/50 [00:13<00:04,  2.84it/s]"
     ]
    },
    {
     "name": "stdout",
     "output_type": "stream",
     "text": [
      "tensor(26.5059, grad_fn=<MseLossBackward0>)\n",
      "tensor(18.4040, grad_fn=<MseLossBackward0>)\n",
      "tensor(28.2128, grad_fn=<MseLossBackward0>)\n",
      "tensor(26.5520, grad_fn=<MseLossBackward0>)\n",
      "tensor(24.3998, grad_fn=<MseLossBackward0>)\n",
      "tensor(21.5898, grad_fn=<MseLossBackward0>)\n",
      "tensor(17.8862, grad_fn=<MseLossBackward0>)\n",
      "tensor(28.6665, grad_fn=<MseLossBackward0>)\n",
      "tensor(26.8894, grad_fn=<MseLossBackward0>)\n",
      "tensor(25.4209, grad_fn=<MseLossBackward0>)\n"
     ]
    },
    {
     "name": "stderr",
     "output_type": "stream",
     "text": [
      " 76%|███████▌  | 38/50 [00:13<00:04,  2.90it/s]"
     ]
    },
    {
     "name": "stdout",
     "output_type": "stream",
     "text": [
      "tensor(27.4979, grad_fn=<MseLossBackward0>)\n",
      "tensor(24.8093, grad_fn=<MseLossBackward0>)\n",
      "tensor(23.2021, grad_fn=<MseLossBackward0>)\n",
      "tensor(23.2069, grad_fn=<MseLossBackward0>)\n",
      "tensor(24.7607, grad_fn=<MseLossBackward0>)\n",
      "tensor(25.3752, grad_fn=<MseLossBackward0>)\n",
      "tensor(22.6004, grad_fn=<MseLossBackward0>)\n",
      "tensor(27.8062, grad_fn=<MseLossBackward0>)\n",
      "tensor(21.1762, grad_fn=<MseLossBackward0>)\n",
      "tensor(26.9354, grad_fn=<MseLossBackward0>)\n",
      "tensor(24.5182, grad_fn=<MseLossBackward0>)\n",
      "tensor(26.2569, grad_fn=<MseLossBackward0>)\n",
      "tensor(22.6236, grad_fn=<MseLossBackward0>)\n",
      "tensor(26.8752, grad_fn=<MseLossBackward0>)\n",
      "tensor(22.5634, grad_fn=<MseLossBackward0>)\n",
      "tensor(26.3452, grad_fn=<MseLossBackward0>)\n",
      "tensor(26.1775, grad_fn=<MseLossBackward0>)\n",
      "tensor(23.8425, grad_fn=<MseLossBackward0>)\n"
     ]
    },
    {
     "name": "stderr",
     "output_type": "stream",
     "text": [
      " 78%|███████▊  | 39/50 [00:13<00:03,  2.94it/s]"
     ]
    },
    {
     "name": "stdout",
     "output_type": "stream",
     "text": [
      "tensor(19.1103, grad_fn=<MseLossBackward0>)\n",
      "tensor(28.9464, grad_fn=<MseLossBackward0>)\n",
      "tensor(24.3391, grad_fn=<MseLossBackward0>)\n",
      "tensor(27.4281, grad_fn=<MseLossBackward0>)\n",
      "tensor(23.3803, grad_fn=<MseLossBackward0>)\n",
      "tensor(22.5374, grad_fn=<MseLossBackward0>)\n",
      "tensor(25.3019, grad_fn=<MseLossBackward0>)\n",
      "tensor(22.2748, grad_fn=<MseLossBackward0>)\n",
      "tensor(23.2524, grad_fn=<MseLossBackward0>)\n",
      "tensor(26.9372, grad_fn=<MseLossBackward0>)\n",
      "tensor(22.5687, grad_fn=<MseLossBackward0>)\n",
      "tensor(26.0361, grad_fn=<MseLossBackward0>)\n",
      "tensor(25.6949, grad_fn=<MseLossBackward0>)\n",
      "tensor(23.1669, grad_fn=<MseLossBackward0>)\n",
      "tensor(27.0956, grad_fn=<MseLossBackward0>)\n",
      "tensor(28.5918, grad_fn=<MseLossBackward0>)\n"
     ]
    },
    {
     "name": "stderr",
     "output_type": "stream",
     "text": [
      " 80%|████████  | 40/50 [00:14<00:03,  2.80it/s]"
     ]
    },
    {
     "name": "stdout",
     "output_type": "stream",
     "text": [
      "tensor(25.8421, grad_fn=<MseLossBackward0>)\n",
      "tensor(29.1624, grad_fn=<MseLossBackward0>)\n",
      "tensor(23.0789, grad_fn=<MseLossBackward0>)\n",
      "tensor(31.6196, grad_fn=<MseLossBackward0>)\n",
      "tensor(23.2038, grad_fn=<MseLossBackward0>)\n",
      "tensor(28.3467, grad_fn=<MseLossBackward0>)\n",
      "tensor(22.5141, grad_fn=<MseLossBackward0>)\n",
      "tensor(25.9960, grad_fn=<MseLossBackward0>)\n",
      "tensor(21.9584, grad_fn=<MseLossBackward0>)\n"
     ]
    },
    {
     "name": "stderr",
     "output_type": "stream",
     "text": [
      " 82%|████████▏ | 41/50 [00:14<00:03,  2.82it/s]"
     ]
    },
    {
     "name": "stdout",
     "output_type": "stream",
     "text": [
      "tensor(23.4707, grad_fn=<MseLossBackward0>)\n",
      "tensor(24.5351, grad_fn=<MseLossBackward0>)\n",
      "tensor(24.7328, grad_fn=<MseLossBackward0>)\n",
      "tensor(24.8714, grad_fn=<MseLossBackward0>)\n",
      "tensor(16.3465, grad_fn=<MseLossBackward0>)\n",
      "tensor(28.9232, grad_fn=<MseLossBackward0>)\n",
      "tensor(26.9018, grad_fn=<MseLossBackward0>)\n",
      "tensor(22.7242, grad_fn=<MseLossBackward0>)\n",
      "tensor(22.4967, grad_fn=<MseLossBackward0>)\n",
      "tensor(24.9483, grad_fn=<MseLossBackward0>)\n",
      "tensor(26.4023, grad_fn=<MseLossBackward0>)\n",
      "tensor(19.4655, grad_fn=<MseLossBackward0>)\n",
      "tensor(25.5091, grad_fn=<MseLossBackward0>)\n",
      "tensor(23.5209, grad_fn=<MseLossBackward0>)\n",
      "tensor(27.8907, grad_fn=<MseLossBackward0>)\n",
      "tensor(24.0822, grad_fn=<MseLossBackward0>)\n"
     ]
    },
    {
     "name": "stderr",
     "output_type": "stream",
     "text": [
      " 84%|████████▍ | 42/50 [00:14<00:02,  2.83it/s]"
     ]
    },
    {
     "name": "stdout",
     "output_type": "stream",
     "text": [
      "tensor(27.9219, grad_fn=<MseLossBackward0>)\n",
      "tensor(24.7488, grad_fn=<MseLossBackward0>)\n",
      "tensor(17.2672, grad_fn=<MseLossBackward0>)\n",
      "tensor(25.1882, grad_fn=<MseLossBackward0>)\n",
      "tensor(20.3473, grad_fn=<MseLossBackward0>)\n",
      "tensor(23.5056, grad_fn=<MseLossBackward0>)\n",
      "tensor(23.6100, grad_fn=<MseLossBackward0>)\n",
      "tensor(19.8285, grad_fn=<MseLossBackward0>)\n",
      "tensor(26.8294, grad_fn=<MseLossBackward0>)\n"
     ]
    },
    {
     "name": "stderr",
     "output_type": "stream",
     "text": [
      " 86%|████████▌ | 43/50 [00:15<00:02,  2.86it/s]"
     ]
    },
    {
     "name": "stdout",
     "output_type": "stream",
     "text": [
      "tensor(20.1850, grad_fn=<MseLossBackward0>)\n",
      "tensor(26.7797, grad_fn=<MseLossBackward0>)\n",
      "tensor(24.0296, grad_fn=<MseLossBackward0>)\n",
      "tensor(31.6195, grad_fn=<MseLossBackward0>)\n",
      "tensor(23.0533, grad_fn=<MseLossBackward0>)\n",
      "tensor(24.7880, grad_fn=<MseLossBackward0>)\n",
      "tensor(28.5516, grad_fn=<MseLossBackward0>)\n",
      "tensor(29.2431, grad_fn=<MseLossBackward0>)\n",
      "tensor(24.1722, grad_fn=<MseLossBackward0>)\n",
      "tensor(23.6091, grad_fn=<MseLossBackward0>)\n",
      "tensor(24.2513, grad_fn=<MseLossBackward0>)\n",
      "tensor(29.1299, grad_fn=<MseLossBackward0>)\n",
      "tensor(23.0359, grad_fn=<MseLossBackward0>)\n",
      "tensor(24.7682, grad_fn=<MseLossBackward0>)\n",
      "tensor(23.4366, grad_fn=<MseLossBackward0>)\n"
     ]
    },
    {
     "name": "stderr",
     "output_type": "stream",
     "text": [
      " 88%|████████▊ | 44/50 [00:15<00:02,  2.74it/s]"
     ]
    },
    {
     "name": "stdout",
     "output_type": "stream",
     "text": [
      "tensor(23.1809, grad_fn=<MseLossBackward0>)\n",
      "tensor(24.1041, grad_fn=<MseLossBackward0>)\n",
      "tensor(22.0294, grad_fn=<MseLossBackward0>)\n",
      "tensor(27.4370, grad_fn=<MseLossBackward0>)\n",
      "tensor(24.5705, grad_fn=<MseLossBackward0>)\n",
      "tensor(24.4178, grad_fn=<MseLossBackward0>)\n",
      "tensor(25.5554, grad_fn=<MseLossBackward0>)\n",
      "tensor(22.6620, grad_fn=<MseLossBackward0>)\n",
      "tensor(29.0541, grad_fn=<MseLossBackward0>)\n",
      "tensor(24.8806, grad_fn=<MseLossBackward0>)\n",
      "tensor(26.6038, grad_fn=<MseLossBackward0>)\n",
      "tensor(26.0737, grad_fn=<MseLossBackward0>)\n",
      "tensor(25.1140, grad_fn=<MseLossBackward0>)\n",
      "tensor(24.2683, grad_fn=<MseLossBackward0>)\n",
      "tensor(27.6028, grad_fn=<MseLossBackward0>)\n",
      "tensor(20.4913, grad_fn=<MseLossBackward0>)\n",
      "tensor(21.4794, grad_fn=<MseLossBackward0>)\n",
      "tensor(21.1116, grad_fn=<MseLossBackward0>)\n"
     ]
    },
    {
     "name": "stderr",
     "output_type": "stream",
     "text": [
      " 90%|█████████ | 45/50 [00:16<00:01,  2.79it/s]"
     ]
    },
    {
     "name": "stdout",
     "output_type": "stream",
     "text": [
      "tensor(25.2359, grad_fn=<MseLossBackward0>)\n",
      "tensor(23.5388, grad_fn=<MseLossBackward0>)\n",
      "tensor(25.5838, grad_fn=<MseLossBackward0>)\n",
      "tensor(25.3308, grad_fn=<MseLossBackward0>)\n",
      "tensor(23.5662, grad_fn=<MseLossBackward0>)\n",
      "tensor(24.8190, grad_fn=<MseLossBackward0>)\n",
      "tensor(26.1067, grad_fn=<MseLossBackward0>)\n",
      "tensor(21.0163, grad_fn=<MseLossBackward0>)\n",
      "tensor(20.6241, grad_fn=<MseLossBackward0>)\n"
     ]
    },
    {
     "name": "stderr",
     "output_type": "stream",
     "text": [
      " 92%|█████████▏| 46/50 [00:16<00:01,  2.89it/s]"
     ]
    },
    {
     "name": "stdout",
     "output_type": "stream",
     "text": [
      "tensor(24.8316, grad_fn=<MseLossBackward0>)\n",
      "tensor(28.3997, grad_fn=<MseLossBackward0>)\n",
      "tensor(22.0154, grad_fn=<MseLossBackward0>)\n",
      "tensor(25.2786, grad_fn=<MseLossBackward0>)\n",
      "tensor(24.3280, grad_fn=<MseLossBackward0>)\n",
      "tensor(24.7037, grad_fn=<MseLossBackward0>)\n",
      "tensor(23.8513, grad_fn=<MseLossBackward0>)\n",
      "tensor(26.6647, grad_fn=<MseLossBackward0>)\n",
      "tensor(25.6396, grad_fn=<MseLossBackward0>)\n",
      "tensor(17.1350, grad_fn=<MseLossBackward0>)\n",
      "tensor(25.7595, grad_fn=<MseLossBackward0>)\n",
      "tensor(23.1743, grad_fn=<MseLossBackward0>)\n",
      "tensor(23.7788, grad_fn=<MseLossBackward0>)\n",
      "tensor(25.4739, grad_fn=<MseLossBackward0>)\n",
      "tensor(20.6290, grad_fn=<MseLossBackward0>)\n",
      "tensor(26.2451, grad_fn=<MseLossBackward0>)\n",
      "tensor(23.3449, grad_fn=<MseLossBackward0>)\n",
      "tensor(29.2812, grad_fn=<MseLossBackward0>)\n",
      "tensor(27.4007, grad_fn=<MseLossBackward0>)\n"
     ]
    },
    {
     "name": "stderr",
     "output_type": "stream",
     "text": [
      " 94%|█████████▍| 47/50 [00:16<00:01,  2.97it/s]"
     ]
    },
    {
     "name": "stdout",
     "output_type": "stream",
     "text": [
      "tensor(25.5948, grad_fn=<MseLossBackward0>)\n",
      "tensor(26.5364, grad_fn=<MseLossBackward0>)\n",
      "tensor(19.7748, grad_fn=<MseLossBackward0>)\n",
      "tensor(26.5468, grad_fn=<MseLossBackward0>)\n",
      "tensor(26.2960, grad_fn=<MseLossBackward0>)\n",
      "tensor(25.1090, grad_fn=<MseLossBackward0>)\n",
      "tensor(24.7648, grad_fn=<MseLossBackward0>)\n",
      "tensor(22.0375, grad_fn=<MseLossBackward0>)\n",
      "tensor(27.7330, grad_fn=<MseLossBackward0>)\n",
      "tensor(21.8151, grad_fn=<MseLossBackward0>)\n",
      "tensor(23.1960, grad_fn=<MseLossBackward0>)\n",
      "tensor(21.6892, grad_fn=<MseLossBackward0>)\n",
      "tensor(21.9140, grad_fn=<MseLossBackward0>)\n",
      "tensor(26.7836, grad_fn=<MseLossBackward0>)\n",
      "tensor(24.0710, grad_fn=<MseLossBackward0>)\n"
     ]
    },
    {
     "name": "stderr",
     "output_type": "stream",
     "text": [
      " 96%|█████████▌| 48/50 [00:17<00:00,  2.84it/s]"
     ]
    },
    {
     "name": "stdout",
     "output_type": "stream",
     "text": [
      "tensor(26.6237, grad_fn=<MseLossBackward0>)\n",
      "tensor(21.1738, grad_fn=<MseLossBackward0>)\n",
      "tensor(26.0792, grad_fn=<MseLossBackward0>)\n",
      "tensor(20.3537, grad_fn=<MseLossBackward0>)\n",
      "tensor(24.3558, grad_fn=<MseLossBackward0>)\n",
      "tensor(23.0405, grad_fn=<MseLossBackward0>)\n",
      "tensor(23.9972, grad_fn=<MseLossBackward0>)\n",
      "tensor(26.8408, grad_fn=<MseLossBackward0>)\n",
      "tensor(24.9788, grad_fn=<MseLossBackward0>)\n"
     ]
    },
    {
     "name": "stderr",
     "output_type": "stream",
     "text": [
      " 98%|█████████▊| 49/50 [00:17<00:00,  2.82it/s]"
     ]
    },
    {
     "name": "stdout",
     "output_type": "stream",
     "text": [
      "tensor(26.2156, grad_fn=<MseLossBackward0>)\n",
      "tensor(23.6919, grad_fn=<MseLossBackward0>)\n",
      "tensor(21.5810, grad_fn=<MseLossBackward0>)\n",
      "tensor(25.8067, grad_fn=<MseLossBackward0>)\n",
      "tensor(27.9068, grad_fn=<MseLossBackward0>)\n",
      "tensor(22.0259, grad_fn=<MseLossBackward0>)\n",
      "tensor(33.8447, grad_fn=<MseLossBackward0>)\n",
      "tensor(19.5957, grad_fn=<MseLossBackward0>)\n",
      "tensor(28.8110, grad_fn=<MseLossBackward0>)\n",
      "tensor(24.2687, grad_fn=<MseLossBackward0>)\n",
      "tensor(25.8958, grad_fn=<MseLossBackward0>)\n",
      "tensor(25.2230, grad_fn=<MseLossBackward0>)\n",
      "tensor(24.6512, grad_fn=<MseLossBackward0>)\n",
      "tensor(25.2285, grad_fn=<MseLossBackward0>)\n",
      "tensor(22.4573, grad_fn=<MseLossBackward0>)\n",
      "tensor(25.7098, grad_fn=<MseLossBackward0>)\n",
      "tensor(26.8282, grad_fn=<MseLossBackward0>)\n"
     ]
    },
    {
     "name": "stderr",
     "output_type": "stream",
     "text": [
      "100%|██████████| 50/50 [00:17<00:00,  2.82it/s]"
     ]
    },
    {
     "name": "stdout",
     "output_type": "stream",
     "text": [
      "tensor(25.5004, grad_fn=<MseLossBackward0>)\n",
      "tensor(22.1539, grad_fn=<MseLossBackward0>)\n",
      "tensor(25.7640, grad_fn=<MseLossBackward0>)\n",
      "tensor(23.4186, grad_fn=<MseLossBackward0>)\n"
     ]
    },
    {
     "name": "stderr",
     "output_type": "stream",
     "text": [
      "\n"
     ]
    }
   ],
   "source": [
    "train_net(clr_net, clr_optimizer, clr_criterion, train_loader_v, val_loader_v, 50)"
   ]
  },
  {
   "cell_type": "code",
   "execution_count": 32,
   "metadata": {},
   "outputs": [
    {
     "name": "stderr",
     "output_type": "stream",
     "text": [
      "  0%|          | 0/50 [00:00<?, ?it/s]\n"
     ]
    },
    {
     "ename": "RuntimeError",
     "evalue": "expected scalar type Long but found Float",
     "output_type": "error",
     "traceback": [
      "\u001b[0;31m---------------------------------------------------------------------------\u001b[0m",
      "\u001b[0;31mRuntimeError\u001b[0m                              Traceback (most recent call last)",
      "Input \u001b[0;32mIn [32]\u001b[0m, in \u001b[0;36m<cell line: 1>\u001b[0;34m()\u001b[0m\n\u001b[0;32m----> 1\u001b[0m \u001b[43mtrain_net\u001b[49m\u001b[43m(\u001b[49m\u001b[43mv_net\u001b[49m\u001b[43m,\u001b[49m\u001b[43m \u001b[49m\u001b[43mv_optimizer\u001b[49m\u001b[43m,\u001b[49m\u001b[43m \u001b[49m\u001b[43mv_criterion\u001b[49m\u001b[43m,\u001b[49m\u001b[43m \u001b[49m\u001b[43mtrain_loader_v\u001b[49m\u001b[43m,\u001b[49m\u001b[43m \u001b[49m\u001b[43mval_loader_v\u001b[49m\u001b[43m,\u001b[49m\u001b[43m \u001b[49m\u001b[38;5;241;43m50\u001b[39;49m\u001b[43m)\u001b[49m\n",
      "Input \u001b[0;32mIn [29]\u001b[0m, in \u001b[0;36mtrain_net\u001b[0;34m(net, optimizer, criterion, train_loader, val_loader, num_epochs)\u001b[0m\n\u001b[1;32m     12\u001b[0m optimizer\u001b[38;5;241m.\u001b[39mzero_grad()\n\u001b[1;32m     13\u001b[0m op \u001b[38;5;241m=\u001b[39m net(train_x)\n\u001b[0;32m---> 14\u001b[0m loss \u001b[38;5;241m=\u001b[39m \u001b[43mcriterion\u001b[49m\u001b[43m(\u001b[49m\u001b[43mop\u001b[49m\u001b[43m,\u001b[49m\u001b[43m \u001b[49m\u001b[43mtrain_y\u001b[49m\u001b[43m)\u001b[49m\n\u001b[1;32m     15\u001b[0m \u001b[38;5;28mprint\u001b[39m(loss)\n\u001b[1;32m     16\u001b[0m loss\u001b[38;5;241m.\u001b[39mbackward()\n",
      "File \u001b[0;32m/Library/Frameworks/Python.framework/Versions/3.10/lib/python3.10/site-packages/torch/nn/modules/module.py:1511\u001b[0m, in \u001b[0;36mModule._wrapped_call_impl\u001b[0;34m(self, *args, **kwargs)\u001b[0m\n\u001b[1;32m   1509\u001b[0m     \u001b[38;5;28;01mreturn\u001b[39;00m \u001b[38;5;28mself\u001b[39m\u001b[38;5;241m.\u001b[39m_compiled_call_impl(\u001b[38;5;241m*\u001b[39margs, \u001b[38;5;241m*\u001b[39m\u001b[38;5;241m*\u001b[39mkwargs)  \u001b[38;5;66;03m# type: ignore[misc]\u001b[39;00m\n\u001b[1;32m   1510\u001b[0m \u001b[38;5;28;01melse\u001b[39;00m:\n\u001b[0;32m-> 1511\u001b[0m     \u001b[38;5;28;01mreturn\u001b[39;00m \u001b[38;5;28;43mself\u001b[39;49m\u001b[38;5;241;43m.\u001b[39;49m\u001b[43m_call_impl\u001b[49m\u001b[43m(\u001b[49m\u001b[38;5;241;43m*\u001b[39;49m\u001b[43margs\u001b[49m\u001b[43m,\u001b[49m\u001b[43m \u001b[49m\u001b[38;5;241;43m*\u001b[39;49m\u001b[38;5;241;43m*\u001b[39;49m\u001b[43mkwargs\u001b[49m\u001b[43m)\u001b[49m\n",
      "File \u001b[0;32m/Library/Frameworks/Python.framework/Versions/3.10/lib/python3.10/site-packages/torch/nn/modules/module.py:1520\u001b[0m, in \u001b[0;36mModule._call_impl\u001b[0;34m(self, *args, **kwargs)\u001b[0m\n\u001b[1;32m   1515\u001b[0m \u001b[38;5;66;03m# If we don't have any hooks, we want to skip the rest of the logic in\u001b[39;00m\n\u001b[1;32m   1516\u001b[0m \u001b[38;5;66;03m# this function, and just call forward.\u001b[39;00m\n\u001b[1;32m   1517\u001b[0m \u001b[38;5;28;01mif\u001b[39;00m \u001b[38;5;129;01mnot\u001b[39;00m (\u001b[38;5;28mself\u001b[39m\u001b[38;5;241m.\u001b[39m_backward_hooks \u001b[38;5;129;01mor\u001b[39;00m \u001b[38;5;28mself\u001b[39m\u001b[38;5;241m.\u001b[39m_backward_pre_hooks \u001b[38;5;129;01mor\u001b[39;00m \u001b[38;5;28mself\u001b[39m\u001b[38;5;241m.\u001b[39m_forward_hooks \u001b[38;5;129;01mor\u001b[39;00m \u001b[38;5;28mself\u001b[39m\u001b[38;5;241m.\u001b[39m_forward_pre_hooks\n\u001b[1;32m   1518\u001b[0m         \u001b[38;5;129;01mor\u001b[39;00m _global_backward_pre_hooks \u001b[38;5;129;01mor\u001b[39;00m _global_backward_hooks\n\u001b[1;32m   1519\u001b[0m         \u001b[38;5;129;01mor\u001b[39;00m _global_forward_hooks \u001b[38;5;129;01mor\u001b[39;00m _global_forward_pre_hooks):\n\u001b[0;32m-> 1520\u001b[0m     \u001b[38;5;28;01mreturn\u001b[39;00m \u001b[43mforward_call\u001b[49m\u001b[43m(\u001b[49m\u001b[38;5;241;43m*\u001b[39;49m\u001b[43margs\u001b[49m\u001b[43m,\u001b[49m\u001b[43m \u001b[49m\u001b[38;5;241;43m*\u001b[39;49m\u001b[38;5;241;43m*\u001b[39;49m\u001b[43mkwargs\u001b[49m\u001b[43m)\u001b[49m\n\u001b[1;32m   1522\u001b[0m \u001b[38;5;28;01mtry\u001b[39;00m:\n\u001b[1;32m   1523\u001b[0m     result \u001b[38;5;241m=\u001b[39m \u001b[38;5;28;01mNone\u001b[39;00m\n",
      "File \u001b[0;32m/Library/Frameworks/Python.framework/Versions/3.10/lib/python3.10/site-packages/torch/nn/modules/loss.py:1179\u001b[0m, in \u001b[0;36mCrossEntropyLoss.forward\u001b[0;34m(self, input, target)\u001b[0m\n\u001b[1;32m   1178\u001b[0m \u001b[38;5;28;01mdef\u001b[39;00m \u001b[38;5;21mforward\u001b[39m(\u001b[38;5;28mself\u001b[39m, \u001b[38;5;28minput\u001b[39m: Tensor, target: Tensor) \u001b[38;5;241m-\u001b[39m\u001b[38;5;241m>\u001b[39m Tensor:\n\u001b[0;32m-> 1179\u001b[0m     \u001b[38;5;28;01mreturn\u001b[39;00m \u001b[43mF\u001b[49m\u001b[38;5;241;43m.\u001b[39;49m\u001b[43mcross_entropy\u001b[49m\u001b[43m(\u001b[49m\u001b[38;5;28;43minput\u001b[39;49m\u001b[43m,\u001b[49m\u001b[43m \u001b[49m\u001b[43mtarget\u001b[49m\u001b[43m,\u001b[49m\u001b[43m \u001b[49m\u001b[43mweight\u001b[49m\u001b[38;5;241;43m=\u001b[39;49m\u001b[38;5;28;43mself\u001b[39;49m\u001b[38;5;241;43m.\u001b[39;49m\u001b[43mweight\u001b[49m\u001b[43m,\u001b[49m\n\u001b[1;32m   1180\u001b[0m \u001b[43m                           \u001b[49m\u001b[43mignore_index\u001b[49m\u001b[38;5;241;43m=\u001b[39;49m\u001b[38;5;28;43mself\u001b[39;49m\u001b[38;5;241;43m.\u001b[39;49m\u001b[43mignore_index\u001b[49m\u001b[43m,\u001b[49m\u001b[43m \u001b[49m\u001b[43mreduction\u001b[49m\u001b[38;5;241;43m=\u001b[39;49m\u001b[38;5;28;43mself\u001b[39;49m\u001b[38;5;241;43m.\u001b[39;49m\u001b[43mreduction\u001b[49m\u001b[43m,\u001b[49m\n\u001b[1;32m   1181\u001b[0m \u001b[43m                           \u001b[49m\u001b[43mlabel_smoothing\u001b[49m\u001b[38;5;241;43m=\u001b[39;49m\u001b[38;5;28;43mself\u001b[39;49m\u001b[38;5;241;43m.\u001b[39;49m\u001b[43mlabel_smoothing\u001b[49m\u001b[43m)\u001b[49m\n",
      "File \u001b[0;32m/Library/Frameworks/Python.framework/Versions/3.10/lib/python3.10/site-packages/torch/nn/functional.py:3059\u001b[0m, in \u001b[0;36mcross_entropy\u001b[0;34m(input, target, weight, size_average, ignore_index, reduce, reduction, label_smoothing)\u001b[0m\n\u001b[1;32m   3057\u001b[0m \u001b[38;5;28;01mif\u001b[39;00m size_average \u001b[38;5;129;01mis\u001b[39;00m \u001b[38;5;129;01mnot\u001b[39;00m \u001b[38;5;28;01mNone\u001b[39;00m \u001b[38;5;129;01mor\u001b[39;00m reduce \u001b[38;5;129;01mis\u001b[39;00m \u001b[38;5;129;01mnot\u001b[39;00m \u001b[38;5;28;01mNone\u001b[39;00m:\n\u001b[1;32m   3058\u001b[0m     reduction \u001b[38;5;241m=\u001b[39m _Reduction\u001b[38;5;241m.\u001b[39mlegacy_get_string(size_average, reduce)\n\u001b[0;32m-> 3059\u001b[0m \u001b[38;5;28;01mreturn\u001b[39;00m \u001b[43mtorch\u001b[49m\u001b[38;5;241;43m.\u001b[39;49m\u001b[43m_C\u001b[49m\u001b[38;5;241;43m.\u001b[39;49m\u001b[43m_nn\u001b[49m\u001b[38;5;241;43m.\u001b[39;49m\u001b[43mcross_entropy_loss\u001b[49m\u001b[43m(\u001b[49m\u001b[38;5;28;43minput\u001b[39;49m\u001b[43m,\u001b[49m\u001b[43m \u001b[49m\u001b[43mtarget\u001b[49m\u001b[43m,\u001b[49m\u001b[43m \u001b[49m\u001b[43mweight\u001b[49m\u001b[43m,\u001b[49m\u001b[43m \u001b[49m\u001b[43m_Reduction\u001b[49m\u001b[38;5;241;43m.\u001b[39;49m\u001b[43mget_enum\u001b[49m\u001b[43m(\u001b[49m\u001b[43mreduction\u001b[49m\u001b[43m)\u001b[49m\u001b[43m,\u001b[49m\u001b[43m \u001b[49m\u001b[43mignore_index\u001b[49m\u001b[43m,\u001b[49m\u001b[43m \u001b[49m\u001b[43mlabel_smoothing\u001b[49m\u001b[43m)\u001b[49m\n",
      "\u001b[0;31mRuntimeError\u001b[0m: expected scalar type Long but found Float"
     ]
    }
   ],
   "source": [
    "train_net(v_net, v_optimizer, v_criterion, train_loader_v, val_loader_v, 50)"
   ]
  },
  {
   "cell_type": "code",
   "execution_count": 33,
   "metadata": {},
   "outputs": [
    {
     "name": "stdout",
     "output_type": "stream",
     "text": [
      "Test acc: 0.1696428508\n"
     ]
    }
   ],
   "source": [
    "eval_net(v_net, test_loader_v)"
   ]
  },
  {
   "cell_type": "code",
   "execution_count": 34,
   "metadata": {},
   "outputs": [
    {
     "name": "stderr",
     "output_type": "stream",
     "text": [
      "  0%|          | 0/50 [00:00<?, ?it/s]\n"
     ]
    },
    {
     "ename": "RuntimeError",
     "evalue": "expected scalar type Long but found Float",
     "output_type": "error",
     "traceback": [
      "\u001b[0;31m---------------------------------------------------------------------------\u001b[0m",
      "\u001b[0;31mRuntimeError\u001b[0m                              Traceback (most recent call last)",
      "Input \u001b[0;32mIn [34]\u001b[0m, in \u001b[0;36m<cell line: 1>\u001b[0;34m()\u001b[0m\n\u001b[0;32m----> 1\u001b[0m \u001b[43mtrain_net\u001b[49m\u001b[43m(\u001b[49m\u001b[43ma_net\u001b[49m\u001b[43m,\u001b[49m\u001b[43m \u001b[49m\u001b[43ma_optimizer\u001b[49m\u001b[43m,\u001b[49m\u001b[43m \u001b[49m\u001b[43ma_criterion\u001b[49m\u001b[43m,\u001b[49m\u001b[43m \u001b[49m\u001b[43mtrain_loader_a\u001b[49m\u001b[43m,\u001b[49m\u001b[43m \u001b[49m\u001b[43mval_loader_a\u001b[49m\u001b[43m,\u001b[49m\u001b[43m \u001b[49m\u001b[38;5;241;43m50\u001b[39;49m\u001b[43m)\u001b[49m\n",
      "Input \u001b[0;32mIn [29]\u001b[0m, in \u001b[0;36mtrain_net\u001b[0;34m(net, optimizer, criterion, train_loader, val_loader, num_epochs)\u001b[0m\n\u001b[1;32m     12\u001b[0m optimizer\u001b[38;5;241m.\u001b[39mzero_grad()\n\u001b[1;32m     13\u001b[0m op \u001b[38;5;241m=\u001b[39m net(train_x)\n\u001b[0;32m---> 14\u001b[0m loss \u001b[38;5;241m=\u001b[39m \u001b[43mcriterion\u001b[49m\u001b[43m(\u001b[49m\u001b[43mop\u001b[49m\u001b[43m,\u001b[49m\u001b[43m \u001b[49m\u001b[43mtrain_y\u001b[49m\u001b[43m)\u001b[49m\n\u001b[1;32m     15\u001b[0m \u001b[38;5;28mprint\u001b[39m(loss)\n\u001b[1;32m     16\u001b[0m loss\u001b[38;5;241m.\u001b[39mbackward()\n",
      "File \u001b[0;32m/Library/Frameworks/Python.framework/Versions/3.10/lib/python3.10/site-packages/torch/nn/modules/module.py:1511\u001b[0m, in \u001b[0;36mModule._wrapped_call_impl\u001b[0;34m(self, *args, **kwargs)\u001b[0m\n\u001b[1;32m   1509\u001b[0m     \u001b[38;5;28;01mreturn\u001b[39;00m \u001b[38;5;28mself\u001b[39m\u001b[38;5;241m.\u001b[39m_compiled_call_impl(\u001b[38;5;241m*\u001b[39margs, \u001b[38;5;241m*\u001b[39m\u001b[38;5;241m*\u001b[39mkwargs)  \u001b[38;5;66;03m# type: ignore[misc]\u001b[39;00m\n\u001b[1;32m   1510\u001b[0m \u001b[38;5;28;01melse\u001b[39;00m:\n\u001b[0;32m-> 1511\u001b[0m     \u001b[38;5;28;01mreturn\u001b[39;00m \u001b[38;5;28;43mself\u001b[39;49m\u001b[38;5;241;43m.\u001b[39;49m\u001b[43m_call_impl\u001b[49m\u001b[43m(\u001b[49m\u001b[38;5;241;43m*\u001b[39;49m\u001b[43margs\u001b[49m\u001b[43m,\u001b[49m\u001b[43m \u001b[49m\u001b[38;5;241;43m*\u001b[39;49m\u001b[38;5;241;43m*\u001b[39;49m\u001b[43mkwargs\u001b[49m\u001b[43m)\u001b[49m\n",
      "File \u001b[0;32m/Library/Frameworks/Python.framework/Versions/3.10/lib/python3.10/site-packages/torch/nn/modules/module.py:1520\u001b[0m, in \u001b[0;36mModule._call_impl\u001b[0;34m(self, *args, **kwargs)\u001b[0m\n\u001b[1;32m   1515\u001b[0m \u001b[38;5;66;03m# If we don't have any hooks, we want to skip the rest of the logic in\u001b[39;00m\n\u001b[1;32m   1516\u001b[0m \u001b[38;5;66;03m# this function, and just call forward.\u001b[39;00m\n\u001b[1;32m   1517\u001b[0m \u001b[38;5;28;01mif\u001b[39;00m \u001b[38;5;129;01mnot\u001b[39;00m (\u001b[38;5;28mself\u001b[39m\u001b[38;5;241m.\u001b[39m_backward_hooks \u001b[38;5;129;01mor\u001b[39;00m \u001b[38;5;28mself\u001b[39m\u001b[38;5;241m.\u001b[39m_backward_pre_hooks \u001b[38;5;129;01mor\u001b[39;00m \u001b[38;5;28mself\u001b[39m\u001b[38;5;241m.\u001b[39m_forward_hooks \u001b[38;5;129;01mor\u001b[39;00m \u001b[38;5;28mself\u001b[39m\u001b[38;5;241m.\u001b[39m_forward_pre_hooks\n\u001b[1;32m   1518\u001b[0m         \u001b[38;5;129;01mor\u001b[39;00m _global_backward_pre_hooks \u001b[38;5;129;01mor\u001b[39;00m _global_backward_hooks\n\u001b[1;32m   1519\u001b[0m         \u001b[38;5;129;01mor\u001b[39;00m _global_forward_hooks \u001b[38;5;129;01mor\u001b[39;00m _global_forward_pre_hooks):\n\u001b[0;32m-> 1520\u001b[0m     \u001b[38;5;28;01mreturn\u001b[39;00m \u001b[43mforward_call\u001b[49m\u001b[43m(\u001b[49m\u001b[38;5;241;43m*\u001b[39;49m\u001b[43margs\u001b[49m\u001b[43m,\u001b[49m\u001b[43m \u001b[49m\u001b[38;5;241;43m*\u001b[39;49m\u001b[38;5;241;43m*\u001b[39;49m\u001b[43mkwargs\u001b[49m\u001b[43m)\u001b[49m\n\u001b[1;32m   1522\u001b[0m \u001b[38;5;28;01mtry\u001b[39;00m:\n\u001b[1;32m   1523\u001b[0m     result \u001b[38;5;241m=\u001b[39m \u001b[38;5;28;01mNone\u001b[39;00m\n",
      "File \u001b[0;32m/Library/Frameworks/Python.framework/Versions/3.10/lib/python3.10/site-packages/torch/nn/modules/loss.py:1179\u001b[0m, in \u001b[0;36mCrossEntropyLoss.forward\u001b[0;34m(self, input, target)\u001b[0m\n\u001b[1;32m   1178\u001b[0m \u001b[38;5;28;01mdef\u001b[39;00m \u001b[38;5;21mforward\u001b[39m(\u001b[38;5;28mself\u001b[39m, \u001b[38;5;28minput\u001b[39m: Tensor, target: Tensor) \u001b[38;5;241m-\u001b[39m\u001b[38;5;241m>\u001b[39m Tensor:\n\u001b[0;32m-> 1179\u001b[0m     \u001b[38;5;28;01mreturn\u001b[39;00m \u001b[43mF\u001b[49m\u001b[38;5;241;43m.\u001b[39;49m\u001b[43mcross_entropy\u001b[49m\u001b[43m(\u001b[49m\u001b[38;5;28;43minput\u001b[39;49m\u001b[43m,\u001b[49m\u001b[43m \u001b[49m\u001b[43mtarget\u001b[49m\u001b[43m,\u001b[49m\u001b[43m \u001b[49m\u001b[43mweight\u001b[49m\u001b[38;5;241;43m=\u001b[39;49m\u001b[38;5;28;43mself\u001b[39;49m\u001b[38;5;241;43m.\u001b[39;49m\u001b[43mweight\u001b[49m\u001b[43m,\u001b[49m\n\u001b[1;32m   1180\u001b[0m \u001b[43m                           \u001b[49m\u001b[43mignore_index\u001b[49m\u001b[38;5;241;43m=\u001b[39;49m\u001b[38;5;28;43mself\u001b[39;49m\u001b[38;5;241;43m.\u001b[39;49m\u001b[43mignore_index\u001b[49m\u001b[43m,\u001b[49m\u001b[43m \u001b[49m\u001b[43mreduction\u001b[49m\u001b[38;5;241;43m=\u001b[39;49m\u001b[38;5;28;43mself\u001b[39;49m\u001b[38;5;241;43m.\u001b[39;49m\u001b[43mreduction\u001b[49m\u001b[43m,\u001b[49m\n\u001b[1;32m   1181\u001b[0m \u001b[43m                           \u001b[49m\u001b[43mlabel_smoothing\u001b[49m\u001b[38;5;241;43m=\u001b[39;49m\u001b[38;5;28;43mself\u001b[39;49m\u001b[38;5;241;43m.\u001b[39;49m\u001b[43mlabel_smoothing\u001b[49m\u001b[43m)\u001b[49m\n",
      "File \u001b[0;32m/Library/Frameworks/Python.framework/Versions/3.10/lib/python3.10/site-packages/torch/nn/functional.py:3059\u001b[0m, in \u001b[0;36mcross_entropy\u001b[0;34m(input, target, weight, size_average, ignore_index, reduce, reduction, label_smoothing)\u001b[0m\n\u001b[1;32m   3057\u001b[0m \u001b[38;5;28;01mif\u001b[39;00m size_average \u001b[38;5;129;01mis\u001b[39;00m \u001b[38;5;129;01mnot\u001b[39;00m \u001b[38;5;28;01mNone\u001b[39;00m \u001b[38;5;129;01mor\u001b[39;00m reduce \u001b[38;5;129;01mis\u001b[39;00m \u001b[38;5;129;01mnot\u001b[39;00m \u001b[38;5;28;01mNone\u001b[39;00m:\n\u001b[1;32m   3058\u001b[0m     reduction \u001b[38;5;241m=\u001b[39m _Reduction\u001b[38;5;241m.\u001b[39mlegacy_get_string(size_average, reduce)\n\u001b[0;32m-> 3059\u001b[0m \u001b[38;5;28;01mreturn\u001b[39;00m \u001b[43mtorch\u001b[49m\u001b[38;5;241;43m.\u001b[39;49m\u001b[43m_C\u001b[49m\u001b[38;5;241;43m.\u001b[39;49m\u001b[43m_nn\u001b[49m\u001b[38;5;241;43m.\u001b[39;49m\u001b[43mcross_entropy_loss\u001b[49m\u001b[43m(\u001b[49m\u001b[38;5;28;43minput\u001b[39;49m\u001b[43m,\u001b[49m\u001b[43m \u001b[49m\u001b[43mtarget\u001b[49m\u001b[43m,\u001b[49m\u001b[43m \u001b[49m\u001b[43mweight\u001b[49m\u001b[43m,\u001b[49m\u001b[43m \u001b[49m\u001b[43m_Reduction\u001b[49m\u001b[38;5;241;43m.\u001b[39;49m\u001b[43mget_enum\u001b[49m\u001b[43m(\u001b[49m\u001b[43mreduction\u001b[49m\u001b[43m)\u001b[49m\u001b[43m,\u001b[49m\u001b[43m \u001b[49m\u001b[43mignore_index\u001b[49m\u001b[43m,\u001b[49m\u001b[43m \u001b[49m\u001b[43mlabel_smoothing\u001b[49m\u001b[43m)\u001b[49m\n",
      "\u001b[0;31mRuntimeError\u001b[0m: expected scalar type Long but found Float"
     ]
    }
   ],
   "source": [
    "train_net(a_net, a_optimizer, a_criterion, train_loader_a, val_loader_a, 50)"
   ]
  },
  {
   "cell_type": "code",
   "execution_count": null,
   "metadata": {},
   "outputs": [
    {
     "name": "stdout",
     "output_type": "stream",
     "text": [
      "Test acc: 0.8060959578\n"
     ]
    }
   ],
   "source": [
    "eval_net(a_net, test_loader_a)"
   ]
  },
  {
   "cell_type": "code",
   "execution_count": null,
   "metadata": {},
   "outputs": [
    {
     "name": "stderr",
     "output_type": "stream",
     "text": [
      "  4%|▍         | 2/50 [00:00<00:04, 11.22it/s]"
     ]
    },
    {
     "name": "stdout",
     "output_type": "stream",
     "text": [
      "Train acc: 0.672, Val acc: 0.716\n",
      "Train acc: 0.522, Val acc: 0.716\n",
      "Train acc: 0.716, Val acc: 0.716\n"
     ]
    },
    {
     "name": "stderr",
     "output_type": "stream",
     "text": [
      " 14%|█▍        | 7/50 [00:00<00:02, 19.08it/s]"
     ]
    },
    {
     "name": "stdout",
     "output_type": "stream",
     "text": [
      "Train acc: 0.731, Val acc: 0.716\n",
      "Train acc: 0.716, Val acc: 0.716\n",
      "Train acc: 0.701, Val acc: 0.716\n",
      "Train acc: 0.716, Val acc: 0.716\n",
      "Train acc: 0.716, Val acc: 0.716\n"
     ]
    },
    {
     "name": "stderr",
     "output_type": "stream",
     "text": [
      " 26%|██▌       | 13/50 [00:00<00:01, 22.64it/s]"
     ]
    },
    {
     "name": "stdout",
     "output_type": "stream",
     "text": [
      "Train acc: 0.716, Val acc: 0.716\n",
      "Train acc: 0.716, Val acc: 0.716\n",
      "Train acc: 0.716, Val acc: 0.716\n",
      "Train acc: 0.716, Val acc: 0.716\n",
      "Train acc: 0.716, Val acc: 0.716\n",
      "Train acc: 0.716, Val acc: 0.716\n"
     ]
    },
    {
     "name": "stderr",
     "output_type": "stream",
     "text": [
      " 38%|███▊      | 19/50 [00:00<00:01, 24.81it/s]"
     ]
    },
    {
     "name": "stdout",
     "output_type": "stream",
     "text": [
      "Train acc: 0.716, Val acc: 0.716\n",
      "Train acc: 0.716, Val acc: 0.716\n",
      "Train acc: 0.716, Val acc: 0.716\n",
      "Train acc: 0.716, Val acc: 0.716\n",
      "Train acc: 0.716, Val acc: 0.716\n",
      "Train acc: 0.716, Val acc: 0.716\n"
     ]
    },
    {
     "name": "stderr",
     "output_type": "stream",
     "text": [
      " 50%|█████     | 25/50 [00:01<00:00, 25.47it/s]"
     ]
    },
    {
     "name": "stdout",
     "output_type": "stream",
     "text": [
      "Train acc: 0.716, Val acc: 0.716\n",
      "Train acc: 0.716, Val acc: 0.716\n",
      "Train acc: 0.716, Val acc: 0.716\n",
      "Train acc: 0.716, Val acc: 0.716\n",
      "Train acc: 0.716, Val acc: 0.716\n",
      "Train acc: 0.716, Val acc: 0.716\n"
     ]
    },
    {
     "name": "stderr",
     "output_type": "stream",
     "text": [
      " 62%|██████▏   | 31/50 [00:01<00:00, 25.76it/s]"
     ]
    },
    {
     "name": "stdout",
     "output_type": "stream",
     "text": [
      "Train acc: 0.716, Val acc: 0.716\n",
      "Train acc: 0.716, Val acc: 0.716\n",
      "Train acc: 0.716, Val acc: 0.716\n",
      "Train acc: 0.716, Val acc: 0.716\n",
      "Train acc: 0.701, Val acc: 0.716\n",
      "Train acc: 0.731, Val acc: 0.716\n"
     ]
    },
    {
     "name": "stderr",
     "output_type": "stream",
     "text": [
      " 74%|███████▍  | 37/50 [00:01<00:00, 25.79it/s]"
     ]
    },
    {
     "name": "stdout",
     "output_type": "stream",
     "text": [
      "Train acc: 0.716, Val acc: 0.716\n",
      "Train acc: 0.701, Val acc: 0.731\n",
      "Train acc: 0.731, Val acc: 0.716\n",
      "Train acc: 0.701, Val acc: 0.716\n",
      "Train acc: 0.731, Val acc: 0.716\n",
      "Train acc: 0.761, Val acc: 0.716\n"
     ]
    },
    {
     "name": "stderr",
     "output_type": "stream",
     "text": [
      " 86%|████████▌ | 43/50 [00:01<00:00, 25.93it/s]"
     ]
    },
    {
     "name": "stdout",
     "output_type": "stream",
     "text": [
      "Train acc: 0.731, Val acc: 0.716\n",
      "Train acc: 0.716, Val acc: 0.701\n",
      "Train acc: 0.701, Val acc: 0.701\n",
      "Train acc: 0.731, Val acc: 0.701\n",
      "Train acc: 0.761, Val acc: 0.701\n",
      "Train acc: 0.746, Val acc: 0.731\n"
     ]
    },
    {
     "name": "stderr",
     "output_type": "stream",
     "text": [
      " 98%|█████████▊| 49/50 [00:02<00:00, 25.64it/s]"
     ]
    },
    {
     "name": "stdout",
     "output_type": "stream",
     "text": [
      "Train acc: 0.731, Val acc: 0.761\n",
      "Train acc: 0.746, Val acc: 0.761\n",
      "Train acc: 0.806, Val acc: 0.776\n",
      "Train acc: 0.791, Val acc: 0.776\n",
      "Train acc: 0.836, Val acc: 0.776\n"
     ]
    },
    {
     "name": "stderr",
     "output_type": "stream",
     "text": [
      "100%|██████████| 50/50 [00:02<00:00, 24.13it/s]"
     ]
    },
    {
     "name": "stdout",
     "output_type": "stream",
     "text": [
      "Train acc: 0.761, Val acc: 0.821\n"
     ]
    },
    {
     "name": "stderr",
     "output_type": "stream",
     "text": [
      "\n"
     ]
    },
    {
     "data": {
      "image/png": "[encoded data removed]",
      "text/plain": [
       "<Figure size 432x288 with 1 Axes>"
      ]
     },
     "metadata": {
      "needs_background": "light"
     },
     "output_type": "display_data"
    }
   ],
   "source": [
    "train_net(d_net, d_optimizer, d_criterion, train_loader_d, val_loader_d, 50)"
   ]
  },
  {
   "cell_type": "code",
   "execution_count": null,
   "metadata": {},
   "outputs": [
    {
     "name": "stdout",
     "output_type": "stream",
     "text": [
      "Test acc: 0.7522698045\n"
     ]
    }
   ],
   "source": [
    "eval_net(d_net, test_loader_d)"
   ]
  },
  {
   "cell_type": "markdown",
   "metadata": {},
   "source": [
    "## Saving Nets"
   ]
  },
  {
   "cell_type": "code",
   "execution_count": null,
   "metadata": {},
   "outputs": [],
   "source": [
    "torch.save(v_net.state_dict(), cwd + '/vnet')"
   ]
  },
  {
   "cell_type": "code",
   "execution_count": null,
   "metadata": {},
   "outputs": [],
   "source": [
    "torch.save(a_net.state_dict(), cwd + '/anet')"
   ]
  },
  {
   "cell_type": "code",
   "execution_count": null,
   "metadata": {},
   "outputs": [],
   "source": [
    "torch.save(d_net.state_dict(), cwd + 'dnet')"
   ]
  },
  {
   "cell_type": "code",
   "execution_count": null,
   "metadata": {},
   "outputs": [
    {
     "data": {
      "text/plain": [
       "<All keys matched successfully>"
      ]
     },
     "execution_count": 44,
     "metadata": {},
     "output_type": "execute_result"
    }
   ],
   "source": [
    "tester = CNN_LSTM()\n",
    "tester.load_state_dict(torch.load(cwd + '/vnet'))"
   ]
  },
  {
   "cell_type": "markdown",
   "metadata": {},
   "source": [
    "## Emotions (for later)"
   ]
  },
  {
   "cell_type": "code",
   "execution_count": null,
   "metadata": {},
   "outputs": [],
   "source": [
    "class CNN_LSTM2(nn.Module):\n",
    "    def __init__(self):\n",
    "        super(CNN_LSTM2, self).__init__()\n",
    "        self.conv1d = nn.Conv1d(in_channels=8, out_channels=40, kernel_size=20, stride=4)\n",
    "        self.relu = nn.ReLU()\n",
    "        self.dropout1 = nn.Dropout(p=0.5)\n",
    "        self.batchnorm1 = nn.BatchNorm1d(40)\n",
    "        self.maxpool = nn.MaxPool1d(kernel_size=4, stride=4)\n",
    "        self.lstm1 = nn.LSTM(input_size=45, hidden_size=30)\n",
    "        self.dropout2 = nn.Dropout(p=0.5)\n",
    "        self.batchnorm2 = nn.BatchNorm1d(40)\n",
    "        self.lstm2 = nn.LSTM(input_size=30, hidden_size=10)\n",
    "        self.dropout3 = nn.Dropout(p=0.5)\n",
    "        self.batchnorm3 = nn.BatchNorm1d(40)\n",
    "        self.flatten = nn.Flatten()\n",
    "        self.dense = nn.Linear(400,6)\n",
    "        self.softmax = nn.Softmax(dim=1)\n",
    "\n",
    "    def forward(self, x):\n",
    "        x = self.conv1d(x)\n",
    "        x = self.relu(x)\n",
    "        x = self.dropout1(x)\n",
    "        x = self.batchnorm1(x)\n",
    "        x = self.maxpool(x)\n",
    "        x, _ = self.lstm1(x)\n",
    "        x = self.dropout2(x)\n",
    "        x = self.batchnorm2(x)\n",
    "        x, _ = self.lstm2(x)\n",
    "        x = self.dropout3(x)\n",
    "        x = self.batchnorm3(x)\n",
    "        x = self.flatten(x)\n",
    "        x = self.dense(x)\n",
    "        x = self.softmax(x)\n",
    "\n",
    "        return x"
   ]
  },
  {
   "cell_type": "code",
   "execution_count": null,
   "metadata": {},
   "outputs": [
    {
     "name": "stdout",
     "output_type": "stream",
     "text": [
      "torch.Size([1, 8, 750])\n",
      "tensor([[0.1739, 0.1834, 0.1254, 0.3558, 0.1200, 0.0415]],\n",
      "       grad_fn=<SoftmaxBackward0>)\n"
     ]
    }
   ],
   "source": [
    "input_size = (n_channels, samp_time)\n",
    "\n",
    "# Random input tensor with the specified dimensions\n",
    "input_tensor = torch.randn(1, *input_size)\n",
    "print(input_tensor.shape)\n",
    "\n",
    "# create neural networks\n",
    "emo_net = CNN_LSTM2()\n",
    "print(emo_net.forward(Variable(input_tensor)))\n",
    "e_criterion = nn.CrossEntropyLoss() # add to device here\n",
    "e_optimizer = optim.Adam(emo_net.parameters(), lr=0.001, weight_decay=1e-7)"
   ]
  },
  {
   "cell_type": "code",
   "execution_count": null,
   "metadata": {},
   "outputs": [],
   "source": [
    "formal_emotions = emo_labels['Emo']\n",
    "formal_emotions = formal_emotions.to_numpy()"
   ]
  },
  {
   "cell_type": "code",
   "execution_count": null,
   "metadata": {},
   "outputs": [],
   "source": [
    "formal_emotions = formal_emotions.reshape((formal_emotions.size, 1))"
   ]
  },
  {
   "cell_type": "code",
   "execution_count": null,
   "metadata": {},
   "outputs": [],
   "source": [
    "from sklearn.preprocessing import OneHotEncoder\n",
    "cat = OneHotEncoder()\n",
    "emotions_onehot = cat.fit_transform(formal_emotions).toarray()"
   ]
  },
  {
   "cell_type": "code",
   "execution_count": null,
   "metadata": {},
   "outputs": [
    {
     "ename": "NameError",
     "evalue": "name 'eeg_s1' is not defined",
     "output_type": "error",
     "traceback": [
      "\u001b[0;31m---------------------------------------------------------------------------\u001b[0m",
      "\u001b[0;31mNameError\u001b[0m                                 Traceback (most recent call last)",
      "Input \u001b[0;32mIn [50]\u001b[0m, in \u001b[0;36m<cell line: 2>\u001b[0;34m()\u001b[0m\n\u001b[1;32m      2\u001b[0m \u001b[38;5;28;01mfor\u001b[39;00m i \u001b[38;5;129;01min\u001b[39;00m \u001b[38;5;28mrange\u001b[39m(\u001b[38;5;241m23\u001b[39m):\n\u001b[1;32m      3\u001b[0m     j \u001b[38;5;241m=\u001b[39m \u001b[38;5;241m0\u001b[39m\n\u001b[0;32m----> 4\u001b[0m     \u001b[38;5;28;01mwhile\u001b[39;00m (j \u001b[38;5;241m<\u001b[39m \u001b[38;5;241m211\u001b[39m \u001b[38;5;129;01mand\u001b[39;00m np\u001b[38;5;241m.\u001b[39msum(\u001b[43meeg_s1\u001b[49m[i,:,j,:])):\n\u001b[1;32m      5\u001b[0m         emotion_labels\u001b[38;5;241m.\u001b[39mappend(emotions_onehot[i])\n\u001b[1;32m      6\u001b[0m         j \u001b[38;5;241m+\u001b[39m\u001b[38;5;241m=\u001b[39m \u001b[38;5;241m1\u001b[39m\n",
      "\u001b[0;31mNameError\u001b[0m: name 'eeg_s1' is not defined"
     ]
    }
   ],
   "source": [
    "emotion_labels = []\n",
    "for i in range(23):\n",
    "    j = 0\n",
    "    while (j < 211 and np.sum(eeg_s1[i,:,j,:])):\n",
    "        emotion_labels.append(emotions_onehot[i])\n",
    "        j += 1\n",
    "print(len(emotion_labels))"
   ]
  },
  {
   "cell_type": "code",
   "execution_count": null,
   "metadata": {},
   "outputs": [],
   "source": [
    "emotion_labels = np.array(emotion_labels)"
   ]
  },
  {
   "cell_type": "code",
   "execution_count": null,
   "metadata": {},
   "outputs": [],
   "source": [
    "y_train_e = emotion_labels[train_indices]\n",
    "y_valid_e = emotion_labels[valid_indices]\n",
    "y_test_e = emotion_labels[test_indices]"
   ]
  },
  {
   "cell_type": "code",
   "execution_count": null,
   "metadata": {},
   "outputs": [],
   "source": [
    "train_subset_e = torch.utils.data.TensorDataset(torch.Tensor(x_train), torch.Tensor(y_train_e))\n",
    "val_subset_e = torch.utils.data.TensorDataset(torch.Tensor(x_valid), torch.Tensor(y_valid_e))\n",
    "test_dataset_e = torch.utils.data.TensorDataset(torch.Tensor(x_test), torch.Tensor(y_test_e))\n",
    "\n",
    "train_loader_e = torch.utils.data.DataLoader(train_subset_v, shuffle=True, batch_size=bsz)\n",
    "val_loader_e = torch.utils.data.DataLoader(val_subset_v, shuffle=False, batch_size=bsz)\n",
    "test_loader_e = torch.utils.data.DataLoader(test_dataset_v, shuffle=False, batch_size=bsz)"
   ]
  },
  {
   "cell_type": "code",
   "execution_count": null,
   "metadata": {},
   "outputs": [
    {
     "name": "stderr",
     "output_type": "stream",
     "text": [
      "  2%|▏         | 1/50 [00:01<01:33,  1.91s/it]"
     ]
    },
    {
     "name": "stdout",
     "output_type": "stream",
     "text": [
      "Train acc: 0.521, Val acc: 0.693\n"
     ]
    },
    {
     "name": "stderr",
     "output_type": "stream",
     "text": [
      "  4%|▍         | 2/50 [00:03<01:28,  1.84s/it]"
     ]
    },
    {
     "name": "stdout",
     "output_type": "stream",
     "text": [
      "Train acc: 0.754, Val acc: 0.823\n"
     ]
    },
    {
     "name": "stderr",
     "output_type": "stream",
     "text": [
      "  6%|▌         | 3/50 [00:05<01:22,  1.75s/it]"
     ]
    },
    {
     "name": "stdout",
     "output_type": "stream",
     "text": [
      "Train acc: 0.878, Val acc: 0.849\n"
     ]
    },
    {
     "name": "stderr",
     "output_type": "stream",
     "text": [
      "  8%|▊         | 4/50 [00:06<01:17,  1.69s/it]"
     ]
    },
    {
     "name": "stdout",
     "output_type": "stream",
     "text": [
      "Train acc: 0.946, Val acc: 0.903\n"
     ]
    },
    {
     "name": "stderr",
     "output_type": "stream",
     "text": [
      " 10%|█         | 5/50 [00:08<01:15,  1.68s/it]"
     ]
    },
    {
     "name": "stdout",
     "output_type": "stream",
     "text": [
      "Train acc: 0.984, Val acc: 0.981\n"
     ]
    },
    {
     "name": "stderr",
     "output_type": "stream",
     "text": [
      " 12%|█▏        | 6/50 [00:10<01:13,  1.66s/it]"
     ]
    },
    {
     "name": "stdout",
     "output_type": "stream",
     "text": [
      "Train acc: 0.999, Val acc: 0.973\n"
     ]
    },
    {
     "name": "stderr",
     "output_type": "stream",
     "text": [
      " 14%|█▍        | 7/50 [00:11<01:10,  1.64s/it]"
     ]
    },
    {
     "name": "stdout",
     "output_type": "stream",
     "text": [
      "Train acc: 0.999, Val acc: 0.994\n"
     ]
    },
    {
     "name": "stderr",
     "output_type": "stream",
     "text": [
      " 16%|█▌        | 8/50 [00:13<01:09,  1.66s/it]"
     ]
    },
    {
     "name": "stdout",
     "output_type": "stream",
     "text": [
      "Train acc: 1.000, Val acc: 0.997\n"
     ]
    },
    {
     "name": "stderr",
     "output_type": "stream",
     "text": [
      " 18%|█▊        | 9/50 [00:15<01:08,  1.67s/it]"
     ]
    },
    {
     "name": "stdout",
     "output_type": "stream",
     "text": [
      "Train acc: 1.000, Val acc: 0.996\n"
     ]
    },
    {
     "name": "stderr",
     "output_type": "stream",
     "text": [
      " 20%|██        | 10/50 [00:16<01:07,  1.68s/it]"
     ]
    },
    {
     "name": "stdout",
     "output_type": "stream",
     "text": [
      "Train acc: 1.000, Val acc: 0.981\n"
     ]
    },
    {
     "name": "stderr",
     "output_type": "stream",
     "text": [
      " 22%|██▏       | 11/50 [00:18<01:04,  1.66s/it]"
     ]
    },
    {
     "name": "stdout",
     "output_type": "stream",
     "text": [
      "Train acc: 1.000, Val acc: 0.997\n"
     ]
    },
    {
     "name": "stderr",
     "output_type": "stream",
     "text": [
      " 24%|██▍       | 12/50 [00:20<01:02,  1.65s/it]"
     ]
    },
    {
     "name": "stdout",
     "output_type": "stream",
     "text": [
      "Train acc: 1.000, Val acc: 1.000\n"
     ]
    },
    {
     "name": "stderr",
     "output_type": "stream",
     "text": [
      " 26%|██▌       | 13/50 [00:21<01:00,  1.62s/it]"
     ]
    },
    {
     "name": "stdout",
     "output_type": "stream",
     "text": [
      "Train acc: 1.000, Val acc: 0.994\n"
     ]
    },
    {
     "name": "stderr",
     "output_type": "stream",
     "text": [
      " 28%|██▊       | 14/50 [00:24<01:06,  1.84s/it]"
     ]
    },
    {
     "name": "stdout",
     "output_type": "stream",
     "text": [
      "Train acc: 1.000, Val acc: 1.000\n"
     ]
    },
    {
     "name": "stderr",
     "output_type": "stream",
     "text": [
      " 30%|███       | 15/50 [00:26<01:05,  1.88s/it]"
     ]
    },
    {
     "name": "stdout",
     "output_type": "stream",
     "text": [
      "Train acc: 1.000, Val acc: 1.000\n"
     ]
    },
    {
     "name": "stderr",
     "output_type": "stream",
     "text": [
      " 32%|███▏      | 16/50 [00:27<01:03,  1.87s/it]"
     ]
    },
    {
     "name": "stdout",
     "output_type": "stream",
     "text": [
      "Train acc: 1.000, Val acc: 0.997\n"
     ]
    },
    {
     "name": "stderr",
     "output_type": "stream",
     "text": [
      " 34%|███▍      | 17/50 [00:29<00:59,  1.80s/it]"
     ]
    },
    {
     "name": "stdout",
     "output_type": "stream",
     "text": [
      "Train acc: 1.000, Val acc: 1.000\n"
     ]
    },
    {
     "name": "stderr",
     "output_type": "stream",
     "text": [
      " 36%|███▌      | 18/50 [00:31<00:56,  1.76s/it]"
     ]
    },
    {
     "name": "stdout",
     "output_type": "stream",
     "text": [
      "Train acc: 1.000, Val acc: 1.000\n"
     ]
    },
    {
     "name": "stderr",
     "output_type": "stream",
     "text": [
      " 38%|███▊      | 19/50 [00:32<00:53,  1.74s/it]"
     ]
    },
    {
     "name": "stdout",
     "output_type": "stream",
     "text": [
      "Train acc: 1.000, Val acc: 0.997\n"
     ]
    },
    {
     "name": "stderr",
     "output_type": "stream",
     "text": [
      " 40%|████      | 20/50 [00:34<00:50,  1.69s/it]"
     ]
    },
    {
     "name": "stdout",
     "output_type": "stream",
     "text": [
      "Train acc: 1.000, Val acc: 0.997\n"
     ]
    },
    {
     "name": "stderr",
     "output_type": "stream",
     "text": [
      " 42%|████▏     | 21/50 [00:35<00:47,  1.64s/it]"
     ]
    },
    {
     "name": "stdout",
     "output_type": "stream",
     "text": [
      "Train acc: 1.000, Val acc: 0.993\n"
     ]
    },
    {
     "name": "stderr",
     "output_type": "stream",
     "text": [
      " 44%|████▍     | 22/50 [00:37<00:45,  1.63s/it]"
     ]
    },
    {
     "name": "stdout",
     "output_type": "stream",
     "text": [
      "Train acc: 1.000, Val acc: 0.981\n"
     ]
    },
    {
     "name": "stderr",
     "output_type": "stream",
     "text": [
      " 46%|████▌     | 23/50 [00:39<00:44,  1.64s/it]"
     ]
    },
    {
     "name": "stdout",
     "output_type": "stream",
     "text": [
      "Train acc: 1.000, Val acc: 0.988\n"
     ]
    },
    {
     "name": "stderr",
     "output_type": "stream",
     "text": [
      " 48%|████▊     | 24/50 [00:40<00:41,  1.58s/it]"
     ]
    },
    {
     "name": "stdout",
     "output_type": "stream",
     "text": [
      "Train acc: 1.000, Val acc: 0.999\n"
     ]
    },
    {
     "name": "stderr",
     "output_type": "stream",
     "text": [
      " 50%|█████     | 25/50 [00:42<00:39,  1.58s/it]"
     ]
    },
    {
     "name": "stdout",
     "output_type": "stream",
     "text": [
      "Train acc: 1.000, Val acc: 0.999\n"
     ]
    },
    {
     "name": "stderr",
     "output_type": "stream",
     "text": [
      " 52%|█████▏    | 26/50 [00:43<00:38,  1.59s/it]"
     ]
    },
    {
     "name": "stdout",
     "output_type": "stream",
     "text": [
      "Train acc: 1.000, Val acc: 0.997\n"
     ]
    },
    {
     "name": "stderr",
     "output_type": "stream",
     "text": [
      " 54%|█████▍    | 27/50 [00:45<00:37,  1.62s/it]"
     ]
    },
    {
     "name": "stdout",
     "output_type": "stream",
     "text": [
      "Train acc: 1.000, Val acc: 1.000\n"
     ]
    },
    {
     "name": "stderr",
     "output_type": "stream",
     "text": [
      " 56%|█████▌    | 28/50 [00:47<00:35,  1.61s/it]"
     ]
    },
    {
     "name": "stdout",
     "output_type": "stream",
     "text": [
      "Train acc: 1.000, Val acc: 0.997\n"
     ]
    },
    {
     "name": "stderr",
     "output_type": "stream",
     "text": [
      " 58%|█████▊    | 29/50 [00:48<00:34,  1.66s/it]"
     ]
    },
    {
     "name": "stdout",
     "output_type": "stream",
     "text": [
      "Train acc: 1.000, Val acc: 1.000\n"
     ]
    },
    {
     "name": "stderr",
     "output_type": "stream",
     "text": [
      " 60%|██████    | 30/50 [00:50<00:33,  1.68s/it]"
     ]
    },
    {
     "name": "stdout",
     "output_type": "stream",
     "text": [
      "Train acc: 1.000, Val acc: 0.997\n"
     ]
    },
    {
     "name": "stderr",
     "output_type": "stream",
     "text": [
      " 62%|██████▏   | 31/50 [00:53<00:38,  2.03s/it]"
     ]
    },
    {
     "name": "stdout",
     "output_type": "stream",
     "text": [
      "Train acc: 1.000, Val acc: 1.000\n"
     ]
    },
    {
     "name": "stderr",
     "output_type": "stream",
     "text": [
      " 64%|██████▍   | 32/50 [00:56<00:40,  2.23s/it]"
     ]
    },
    {
     "name": "stdout",
     "output_type": "stream",
     "text": [
      "Train acc: 1.000, Val acc: 0.997\n"
     ]
    },
    {
     "name": "stderr",
     "output_type": "stream",
     "text": [
      " 66%|██████▌   | 33/50 [00:57<00:35,  2.08s/it]"
     ]
    },
    {
     "name": "stdout",
     "output_type": "stream",
     "text": [
      "Train acc: 1.000, Val acc: 1.000\n"
     ]
    },
    {
     "name": "stderr",
     "output_type": "stream",
     "text": [
      " 68%|██████▊   | 34/50 [00:59<00:31,  1.95s/it]"
     ]
    },
    {
     "name": "stdout",
     "output_type": "stream",
     "text": [
      "Train acc: 1.000, Val acc: 1.000\n"
     ]
    },
    {
     "name": "stderr",
     "output_type": "stream",
     "text": [
      " 70%|███████   | 35/50 [01:01<00:27,  1.86s/it]"
     ]
    },
    {
     "name": "stdout",
     "output_type": "stream",
     "text": [
      "Train acc: 1.000, Val acc: 0.997\n"
     ]
    },
    {
     "name": "stderr",
     "output_type": "stream",
     "text": [
      " 72%|███████▏  | 36/50 [01:02<00:25,  1.82s/it]"
     ]
    },
    {
     "name": "stdout",
     "output_type": "stream",
     "text": [
      "Train acc: 1.000, Val acc: 1.000\n"
     ]
    },
    {
     "name": "stderr",
     "output_type": "stream",
     "text": [
      " 74%|███████▍  | 37/50 [01:04<00:22,  1.74s/it]"
     ]
    },
    {
     "name": "stdout",
     "output_type": "stream",
     "text": [
      "Train acc: 1.000, Val acc: 0.997\n"
     ]
    },
    {
     "name": "stderr",
     "output_type": "stream",
     "text": [
      " 76%|███████▌  | 38/50 [01:05<00:20,  1.68s/it]"
     ]
    },
    {
     "name": "stdout",
     "output_type": "stream",
     "text": [
      "Train acc: 1.000, Val acc: 0.988\n"
     ]
    },
    {
     "name": "stderr",
     "output_type": "stream",
     "text": [
      " 78%|███████▊  | 39/50 [01:07<00:18,  1.67s/it]"
     ]
    },
    {
     "name": "stdout",
     "output_type": "stream",
     "text": [
      "Train acc: 1.000, Val acc: 0.963\n"
     ]
    },
    {
     "name": "stderr",
     "output_type": "stream",
     "text": [
      " 80%|████████  | 40/50 [01:09<00:16,  1.66s/it]"
     ]
    },
    {
     "name": "stdout",
     "output_type": "stream",
     "text": [
      "Train acc: 0.991, Val acc: 0.917\n"
     ]
    },
    {
     "name": "stderr",
     "output_type": "stream",
     "text": [
      " 82%|████████▏ | 41/50 [01:10<00:14,  1.62s/it]"
     ]
    },
    {
     "name": "stdout",
     "output_type": "stream",
     "text": [
      "Train acc: 1.000, Val acc: 1.000\n"
     ]
    },
    {
     "name": "stderr",
     "output_type": "stream",
     "text": [
      " 84%|████████▍ | 42/50 [01:12<00:12,  1.62s/it]"
     ]
    },
    {
     "name": "stdout",
     "output_type": "stream",
     "text": [
      "Train acc: 0.996, Val acc: 1.000\n"
     ]
    },
    {
     "name": "stderr",
     "output_type": "stream",
     "text": [
      " 86%|████████▌ | 43/50 [01:14<00:11,  1.69s/it]"
     ]
    },
    {
     "name": "stdout",
     "output_type": "stream",
     "text": [
      "Train acc: 1.000, Val acc: 0.975\n"
     ]
    },
    {
     "name": "stderr",
     "output_type": "stream",
     "text": [
      " 88%|████████▊ | 44/50 [01:16<00:10,  1.70s/it]"
     ]
    },
    {
     "name": "stdout",
     "output_type": "stream",
     "text": [
      "Train acc: 0.999, Val acc: 0.991\n"
     ]
    },
    {
     "name": "stderr",
     "output_type": "stream",
     "text": [
      " 90%|█████████ | 45/50 [01:17<00:08,  1.68s/it]"
     ]
    },
    {
     "name": "stdout",
     "output_type": "stream",
     "text": [
      "Train acc: 0.996, Val acc: 0.960\n"
     ]
    },
    {
     "name": "stderr",
     "output_type": "stream",
     "text": [
      " 92%|█████████▏| 46/50 [01:19<00:06,  1.61s/it]"
     ]
    },
    {
     "name": "stdout",
     "output_type": "stream",
     "text": [
      "Train acc: 0.988, Val acc: 0.963\n"
     ]
    },
    {
     "name": "stderr",
     "output_type": "stream",
     "text": [
      " 94%|█████████▍| 47/50 [01:20<00:05,  1.69s/it]"
     ]
    },
    {
     "name": "stdout",
     "output_type": "stream",
     "text": [
      "Train acc: 0.999, Val acc: 1.000\n"
     ]
    },
    {
     "name": "stderr",
     "output_type": "stream",
     "text": [
      " 96%|█████████▌| 48/50 [01:22<00:03,  1.70s/it]"
     ]
    },
    {
     "name": "stdout",
     "output_type": "stream",
     "text": [
      "Train acc: 1.000, Val acc: 0.987\n"
     ]
    },
    {
     "name": "stderr",
     "output_type": "stream",
     "text": [
      " 98%|█████████▊| 49/50 [01:24<00:01,  1.87s/it]"
     ]
    },
    {
     "name": "stdout",
     "output_type": "stream",
     "text": [
      "Train acc: 0.999, Val acc: 0.985\n"
     ]
    },
    {
     "name": "stderr",
     "output_type": "stream",
     "text": [
      "100%|██████████| 50/50 [01:26<00:00,  1.74s/it]"
     ]
    },
    {
     "name": "stdout",
     "output_type": "stream",
     "text": [
      "Train acc: 0.997, Val acc: 1.000\n"
     ]
    },
    {
     "name": "stderr",
     "output_type": "stream",
     "text": [
      "\n"
     ]
    },
    {
     "data": {
      "image/png": "[encoded data removed]",
      "text/plain": [
       "<Figure size 640x480 with 1 Axes>"
      ]
     },
     "metadata": {},
     "output_type": "display_data"
    }
   ],
   "source": [
    "train_net(emo_net, e_optimizer, e_criterion, train_loader_e, val_loader_e, 50)"
   ]
  },
  {
   "cell_type": "code",
   "execution_count": null,
   "metadata": {},
   "outputs": [
    {
     "name": "stdout",
     "output_type": "stream",
     "text": [
      "Test acc: 1.0000000000\n"
     ]
    }
   ],
   "source": [
    "eval_net(emo_net, test_loader_e)"
   ]
  },
  {
   "cell_type": "code",
   "execution_count": null,
   "metadata": {},
   "outputs": [],
   "source": []
  }
 ],
 "metadata": {
  "kernelspec": {
   "display_name": "base",
   "language": "python",
   "name": "python3"
  },
  "language_info": {
   "codemirror_mode": {
    "name": "ipython",
    "version": 3
   },
   "file_extension": ".py",
   "mimetype": "text/x-python",
   "name": "python",
   "nbconvert_exporter": "python",
   "pygments_lexer": "ipython3",
   "version": "3.10.5"
  }
 },
 "nbformat": 4,
 "nbformat_minor": 2
}
