{
 "cells": [
  {
   "cell_type": "code",
   "execution_count": 1,
   "metadata": {},
   "outputs": [],
   "source": [
    "import numpy as np\n",
    "import pandas as pd\n",
    "import matplotlib.pyplot as plt\n",
    "import os\n",
    "import torch\n",
    "import torch.nn as nn\n",
    "import torch.nn.functional as F\n",
    "import torch.autograd as autograd\n",
    "from torch.autograd import Variable\n",
    "import torch.optim as optim\n",
    "from torch.jit import script, trace\n",
    "from torch.utils.data import DataLoader, TensorDataset\n",
    "\n",
    "from tqdm import tqdm\n",
    "\n",
    "from sklearn.metrics import roc_auc_score, precision_score, recall_score, accuracy_score\n",
    "from sklearn import preprocessing"
   ]
  },
  {
   "cell_type": "code",
   "execution_count": 2,
   "metadata": {},
   "outputs": [],
   "source": [
    "cwd = os.getcwd()"
   ]
  },
  {
   "cell_type": "markdown",
   "metadata": {},
   "source": [
    "## Load EEG Data"
   ]
  },
  {
   "cell_type": "code",
   "execution_count": 61,
   "metadata": {},
   "outputs": [],
   "source": [
    "#eeg_s = [\n",
    "#    np.load(\"preprocessed_data_Sandra.npy\"),\n",
    "#    np.load(\"preprocessed_data_Ethan.npy\"),\n",
    "#]\n",
    "\n",
    "eeg_s = [\n",
    "    np.load(\"preprocessed_data_Sandra.npy\")\n",
    "]"
   ]
  },
  {
   "cell_type": "code",
   "execution_count": 62,
   "metadata": {},
   "outputs": [
    {
     "name": "stdout",
     "output_type": "stream",
     "text": [
      "(1676, 8, 750)\n"
     ]
    }
   ],
   "source": [
    "def condense_preprocessed_data(eeg_pre):\n",
    "    return np.array(\n",
    "        [\n",
    "            eeg_pre[i, :, j, :]\n",
    "            for i in range(23)\n",
    "            for j in range(eeg_pre.shape[2])\n",
    "            if np.sum(eeg_pre[i, :, j, :]) != 0\n",
    "        ]\n",
    "    )\n",
    "\n",
    "\n",
    "# Combine all sessions into one array\n",
    "eeg_data = np.vstack([condense_preprocessed_data(session) for session in eeg_s])\n",
    "\n",
    "print(eeg_data.shape)"
   ]
  },
  {
   "cell_type": "markdown",
   "metadata": {},
   "source": [
    "## Load VAD/Emotion Labels"
   ]
  },
  {
   "cell_type": "code",
   "execution_count": 63,
   "metadata": {},
   "outputs": [],
   "source": [
    "emocsv = pd.read_csv(\"emotion-data/emotion_data.csv\")\n",
    "emocsv1 = emocsv.iloc[:, 5:]"
   ]
  },
  {
   "cell_type": "code",
   "execution_count": 64,
   "metadata": {},
   "outputs": [],
   "source": [
    "new_cols = [\"How feel\", \"Pos\", \"Energ\", \"Dom\", \"Content\", \"Amused\", \"Angry\", \"Sad\", \"Disgust\", \"Afraid\", \"Emo\"]"
   ]
  },
  {
   "cell_type": "code",
   "execution_count": 65,
   "metadata": {},
   "outputs": [
    {
     "name": "stdout",
     "output_type": "stream",
     "text": [
      "                                            How feel Pos Energ Dom Content  \\\n",
      "0  disgusted, but the music made the video funny,...   2     3   7       1   \n",
      "0                                          disgusted   2     3   7       1   \n",
      "0                                          disgusted   1     5   7       1   \n",
      "0                                            relaxed   6     5   8       3   \n",
      "0                                         moved, sad   3     4   3       1   \n",
      "0                                                sad   2     5   4       1   \n",
      "0                                         angry, sad   1     6   3       1   \n",
      "0                                            neutral   5     3   5       1   \n",
      "0                                              angry   2     5   4       1   \n",
      "0                                            annoyed   1     5   2       1   \n",
      "0              a little bit annoyed, overall neutral   3     5   6       1   \n",
      "0                                            neutral   5     5   7       1   \n",
      "0                                            neutral   6     5   6       2   \n",
      "0                                            relaxed   7     5   7       3   \n",
      "0                            a little bit of content   6     5   6       3   \n",
      "0                                            neutral   5     5   5       1   \n",
      "0                                             scared   3     4   1       1   \n",
      "0                                             scared   2     6   1       1   \n",
      "0                                             scared   2     7   1       1   \n",
      "0                                            neutral   5     5   7       1   \n",
      "0                    content and a little bit amused   7     6   6       3   \n",
      "0                            content, a little amuse   7     5   7       3   \n",
      "0                                              funny   7     6   7       3   \n",
      "1  the sound shocked me but it was cute so it mad...   7     9   5       4   \n",
      "1  i laughed because it went on for so long but i...   7     8   8       5   \n",
      "1  I LOVED IT SO MUCH I AM SO HAPPY WATCHING THE ...   9     9   9       5   \n",
      "1  that was so annoying i honestly am just reliev...   3     2   6       1   \n",
      "1  disappointed that there wasn't a jump scare so...   5     9   3       3   \n",
      "1  kinda disappointed in how not-scary the jump s...   2     2   5       1   \n",
      "1              amused but that was a terrible video    9     9   9       3   \n",
      "1                        content but pretty neutral    7     4   7       4   \n",
      "1  angry and sad about our law enforcement/justic...   1     7   8       1   \n",
      "1  kinda annoying that i couldn't hear most of it...   4     1   2       1   \n",
      "1                     annoyed, frustrated, confused    1     3   6       1   \n",
      "1                               sad, tired, neutral    2     2   4       1   \n",
      "1          so cute but went on for too long -- happy   9     7   8       5   \n",
      "1                  so cute, great length -- content    9     3   9       5   \n",
      "1  it was really funny, kinda annoying that parts...   9     8   7       5   \n",
      "1                                     really annoyed   2     5   7       1   \n",
      "1                                   sad, bittersweet   3     7   2       2   \n",
      "1   frustrated that something like this would happen   2     3   3       1   \n",
      "1                               interested, content    6     2   6       3   \n",
      "1                                woefully disgusted    1     7   1       1   \n",
      "1                                      so disgusted    1     8   2       1   \n",
      "1                                         satisfied    5     4   4       3   \n",
      "1                                        devastated    2     9   1       1   \n",
      "\n",
      "  Amused Angry Sad Disgust Afraid                    Emo  \n",
      "0      2     4   1       5      1              Disgusted  \n",
      "0      1     1   1       5      1              Disgusted  \n",
      "0      1     1   1       5      1              Disgusted  \n",
      "0      1     1   1       1      1  Neutral (unemotional)  \n",
      "0      1     1   3       1      1                    Sad  \n",
      "0      1     2   4       1      1                    Sad  \n",
      "0      1     5   4       4      3                  Angry  \n",
      "0      1     1   1       1      1  Neutral (unemotional)  \n",
      "0      1     4   1       1      1                  Angry  \n",
      "0      1     4   3       3      1                  Angry  \n",
      "0      1     2   1       1      1  Neutral (unemotional)  \n",
      "0      1     1   1       1      1  Neutral (unemotional)  \n",
      "0      1     1   1       1      1  Neutral (unemotional)  \n",
      "0      1     1   1       1      1                Content  \n",
      "0      1     1   1       1      1                Content  \n",
      "0      1     1   1       1      1  Neutral (unemotional)  \n",
      "0      1     1   1       1      5                 Afraid  \n",
      "0      1     1   1       1      5                 Afraid  \n",
      "0      1     1   1       1      5                 Afraid  \n",
      "0      1     1   1       1      1  Neutral (unemotional)  \n",
      "0      1     1   1       1      1                Content  \n",
      "0      2     1   1       1      1                Content  \n",
      "0      5     1   1       1      1                 Amused  \n",
      "1      5     1   1       1      3                 Amused  \n",
      "1      5     2   1       1      1                 Amused  \n",
      "1      5     1   1       1      1                 Amused  \n",
      "1      1     3   1       2      1                  Angry  \n",
      "1      3     4   1       2      2                  Angry  \n",
      "1      1     4   1       1      1                  Angry  \n",
      "1      4     1   1       1      1                 Amused  \n",
      "1      2     1   1       1      1  Neutral (unemotional)  \n",
      "1      1     5   4       5      2                  Angry  \n",
      "1      1     2   1       1      1  Neutral (unemotional)  \n",
      "1      1     4   1       1      1                  Angry  \n",
      "1      1     1   3       1      3                 Afraid  \n",
      "1      5     1   1       1      1                 Amused  \n",
      "1      5     1   1       1      1                Content  \n",
      "1      5     1   1       1      1                 Amused  \n",
      "1      1     3   1       2      1  Neutral (unemotional)  \n",
      "1      1     1   4       1      1                    Sad  \n",
      "1      1     3   2       2      1                  Angry  \n",
      "1      1     1   1       1      1                Content  \n",
      "1      1     1   1       5      1                    NaN  \n",
      "1      1     2   1       5      1              Disgusted  \n",
      "1      2     1   1       4      1                 Amused  \n",
      "1      1     1   5       1      1                    Sad  \n"
     ]
    }
   ],
   "source": [
    "emo_labels = pd.DataFrame()\n",
    "\n",
    "for row in range(2):\n",
    "    sel_row = emocsv1.iloc[row]\n",
    "    for i in np.arange(0, emocsv1.shape[1], 11):\n",
    "        obs = sel_row[i : i + 11].to_frame().T\n",
    "        obs = obs.rename(columns={obs.columns[i]: new_cols[i] for i in range(11)})\n",
    "        emo_labels = pd.concat([emo_labels, obs])\n",
    "print(emo_labels)"
   ]
  },
  {
   "cell_type": "code",
   "execution_count": 66,
   "metadata": {},
   "outputs": [],
   "source": [
    "emo_labels['Pos2'] = (emo_labels['Pos'] > 4) + 0\n",
    "emo_labels['Energ2'] = (emo_labels['Energ'] > 4) + 0\n",
    "emo_labels['Dom2'] = (emo_labels['Dom'] > 4) + 0"
   ]
  },
  {
   "cell_type": "code",
   "execution_count": 67,
   "metadata": {},
   "outputs": [],
   "source": [
    "valence = emo_labels['Pos2'].to_numpy()\n",
    "arousal = emo_labels['Energ2'].to_numpy()\n",
    "dominance = emo_labels['Dom2'].to_numpy()"
   ]
  },
  {
   "cell_type": "code",
   "execution_count": 68,
   "metadata": {},
   "outputs": [
    {
     "name": "stdout",
     "output_type": "stream",
     "text": [
      "1676\n"
     ]
    }
   ],
   "source": [
    "y1, y2, y3 = [], [], []  # VAD labels given for each 3-second data chunk\n",
    "\n",
    "for session_number, session in enumerate(eeg_s):\n",
    "    for i in range(23):\n",
    "        j = 0\n",
    "        while j < session.shape[2] and np.sum(session[i, :, j, :]) != 0:\n",
    "            idx = i + session_number * 23\n",
    "            y1.append(valence[idx])\n",
    "            y2.append(arousal[idx])\n",
    "            y3.append(dominance[idx])\n",
    "            j += 1\n",
    "\n",
    "print(\n",
    "    len(y1)\n",
    ")  # this corresponds to the number of 3-second chunks across all data chunks. 1676 -> ~ 4 minutes per video on average, checks out"
   ]
  },
  {
   "cell_type": "code",
   "execution_count": 69,
   "metadata": {},
   "outputs": [],
   "source": [
    "y1 = np.array(y1)\n",
    "y2 = np.array(y2)\n",
    "y3 = np.array(y3)"
   ]
  },
  {
   "cell_type": "markdown",
   "metadata": {},
   "source": [
    "## Create DataLoaders"
   ]
  },
  {
   "cell_type": "code",
   "execution_count": 70,
   "metadata": {},
   "outputs": [
    {
     "data": {
      "text/plain": [
       "array([ 979, 1336,  881, ..., 1096,  235, 1061])"
      ]
     },
     "execution_count": 70,
     "metadata": {},
     "output_type": "execute_result"
    }
   ],
   "source": [
    "indices = np.arange(len(eeg_data))\n",
    "np.random.seed(1)\n",
    "np.random.shuffle(indices)\n",
    "indices"
   ]
  },
  {
   "cell_type": "code",
   "execution_count": 73,
   "metadata": {},
   "outputs": [
    {
     "name": "stdout",
     "output_type": "stream",
     "text": [
      "Total: 1676, Train: 67, Validation: 67, Test: 33\n"
     ]
    }
   ],
   "source": [
    "# Define the split ratios\n",
    "ratios = [0.04, 0.04, 0.02]\n",
    "train_ratio, valid_ratio, test_ratio = ratios\n",
    "\n",
    "# Calculate split points\n",
    "train_end = int(len(indices) * train_ratio)\n",
    "valid_end = int(len(indices) * (train_ratio + valid_ratio))\n",
    "test_end = int(len(indices) * (train_ratio + valid_ratio + test_ratio))\n",
    "\n",
    "# Split the indices\n",
    "train_indices, valid_indices, test_indices = (\n",
    "    indices[:train_end],\n",
    "    indices[train_end:valid_end],\n",
    "    indices[valid_end:test_end],\n",
    ")\n",
    "\n",
    "# Print lengths of each split\n",
    "print(\n",
    "    f\"Total: {len(indices)}, Train: {len(train_indices)}, Validation: {len(valid_indices)}, Test: {len(test_indices)}\"\n",
    ")"
   ]
  },
  {
   "cell_type": "code",
   "execution_count": 74,
   "metadata": {},
   "outputs": [],
   "source": [
    "x_train = eeg_data[train_indices]\n",
    "y_train_v = y1[train_indices]\n",
    "y_train_a = y2[train_indices]\n",
    "y_train_d = y3[train_indices]\n",
    "\n",
    "x_valid = eeg_data[valid_indices]\n",
    "y_valid_v = y1[valid_indices]\n",
    "y_valid_a = y2[valid_indices]\n",
    "y_valid_d = y3[valid_indices]\n",
    "\n",
    "x_test = eeg_data[test_indices]\n",
    "y_test_v = y1[test_indices]\n",
    "y_test_a = y2[test_indices]\n",
    "y_test_d = y3[test_indices]"
   ]
  },
  {
   "cell_type": "code",
   "execution_count": 75,
   "metadata": {},
   "outputs": [],
   "source": [
    "train_subset_v = torch.utils.data.TensorDataset(torch.Tensor(x_train), torch.Tensor(y_train_v))\n",
    "val_subset_v = torch.utils.data.TensorDataset(torch.Tensor(x_valid), torch.Tensor(y_valid_v))\n",
    "test_dataset_v = torch.utils.data.TensorDataset(torch.Tensor(x_test), torch.Tensor(y_test_v))\n",
    "\n",
    "train_subset_a = torch.utils.data.TensorDataset(torch.Tensor(x_train), torch.Tensor(y_train_a))\n",
    "val_subset_a = torch.utils.data.TensorDataset(torch.Tensor(x_valid), torch.Tensor(y_valid_a))\n",
    "test_dataset_a = torch.utils.data.TensorDataset(torch.Tensor(x_test), torch.Tensor(y_test_a))\n",
    "\n",
    "train_subset_d = torch.utils.data.TensorDataset(torch.Tensor(x_train), torch.Tensor(y_train_d))\n",
    "val_subset_d = torch.utils.data.TensorDataset(torch.Tensor(x_valid), torch.Tensor(y_valid_d))\n",
    "test_dataset_d = torch.utils.data.TensorDataset(torch.Tensor(x_test), torch.Tensor(y_test_d))\n",
    "\n",
    "\n",
    "bsz = 50\n",
    "\n",
    "train_loader_v = torch.utils.data.DataLoader(train_subset_v, shuffle=True, batch_size=bsz)\n",
    "val_loader_v = torch.utils.data.DataLoader(val_subset_v, shuffle=False, batch_size=bsz)\n",
    "test_loader_v = torch.utils.data.DataLoader(test_dataset_v, shuffle=False, batch_size=bsz)\n",
    "\n",
    "train_loader_a = torch.utils.data.DataLoader(train_subset_a, shuffle=True, batch_size=bsz)\n",
    "val_loader_a = torch.utils.data.DataLoader(val_subset_a, shuffle=False, batch_size=bsz)\n",
    "test_loader_a = torch.utils.data.DataLoader(test_dataset_a, shuffle=False, batch_size=bsz)\n",
    "\n",
    "train_loader_d = torch.utils.data.DataLoader(train_subset_d, shuffle=True, batch_size=bsz)\n",
    "val_loader_d = torch.utils.data.DataLoader(val_subset_d, shuffle=False, batch_size=bsz)\n",
    "test_loader_d = torch.utils.data.DataLoader(test_dataset_d, shuffle=False, batch_size=bsz)"
   ]
  },
  {
   "cell_type": "markdown",
   "metadata": {},
   "source": [
    "## Neural Network"
   ]
  },
  {
   "cell_type": "code",
   "execution_count": 76,
   "metadata": {},
   "outputs": [],
   "source": [
    "samp_time = 750\n",
    "n_channels = 8"
   ]
  },
  {
   "cell_type": "code",
   "execution_count": 77,
   "metadata": {},
   "outputs": [],
   "source": [
    "class CNN_LSTM(nn.Module):\n",
    "    def __init__(self):\n",
    "        super(CNN_LSTM, self).__init__()\n",
    "        self.conv1d = nn.Conv1d(in_channels=8, out_channels=40, kernel_size=20, stride=4)\n",
    "        self.relu = nn.ReLU()\n",
    "        self.dropout1 = nn.Dropout(p=0.5)\n",
    "        self.batchnorm1 = nn.BatchNorm1d(40)\n",
    "        self.maxpool = nn.MaxPool1d(kernel_size=4, stride=4)\n",
    "        self.lstm1 = nn.LSTM(input_size=45, hidden_size=30)\n",
    "        self.dropout2 = nn.Dropout(p=0.5)\n",
    "        self.batchnorm2 = nn.BatchNorm1d(40)\n",
    "        self.lstm2 = nn.LSTM(input_size=30, hidden_size=10)\n",
    "        self.dropout3 = nn.Dropout(p=0.5)\n",
    "        self.batchnorm3 = nn.BatchNorm1d(40)\n",
    "        self.flatten = nn.Flatten()\n",
    "        self.dense = nn.Linear(400,2)\n",
    "        self.softmax = nn.Softmax(dim=1)\n",
    "\n",
    "    def forward(self, x):\n",
    "        x = self.conv1d(x)\n",
    "        x = self.relu(x)\n",
    "        x = self.dropout1(x)\n",
    "        x = self.batchnorm1(x)\n",
    "        x = self.maxpool(x)\n",
    "        x, _ = self.lstm1(x)\n",
    "        x = self.dropout2(x)\n",
    "        x = self.batchnorm2(x)\n",
    "        x, _ = self.lstm2(x)\n",
    "        x = self.dropout3(x)\n",
    "        x = self.batchnorm3(x)\n",
    "        x = self.flatten(x)\n",
    "        x = self.dense(x)\n",
    "        x = self.softmax(x)\n",
    "\n",
    "        return x"
   ]
  },
  {
   "cell_type": "code",
   "execution_count": 78,
   "metadata": {},
   "outputs": [
    {
     "name": "stdout",
     "output_type": "stream",
     "text": [
      "torch.Size([1, 8, 750])\n",
      "tensor([[0.7430, 0.2570]], grad_fn=<SoftmaxBackward0>)\n"
     ]
    }
   ],
   "source": [
    "input_size = (n_channels, samp_time)\n",
    "\n",
    "# Random input tensor with the specified dimensions\n",
    "input_tensor = torch.randn(1, *input_size)\n",
    "print(input_tensor.shape)\n",
    "\n",
    "# create neural networks\n",
    "v_net = CNN_LSTM()\n",
    "print(v_net.forward(Variable(input_tensor)))\n",
    "v_criterion = nn.CrossEntropyLoss() # add to device here\n",
    "v_optimizer = optim.Adam(v_net.parameters(), lr=0.001, weight_decay=1e-7)\n",
    "\n",
    "a_net = CNN_LSTM()\n",
    "a_criterion = nn.CrossEntropyLoss() # add to device here\n",
    "a_optimizer = optim.Adam(a_net.parameters(), lr=0.001, weight_decay=1e-7)\n",
    "\n",
    "d_net = CNN_LSTM()\n",
    "d_criterion = nn.CrossEntropyLoss() # add to device here\n",
    "d_optimizer = optim.Adam(d_net.parameters(), lr=0.001, weight_decay=1e-7)"
   ]
  },
  {
   "cell_type": "code",
   "execution_count": 79,
   "metadata": {},
   "outputs": [],
   "source": [
    "def train_net(net, optimizer, criterion, train_loader, val_loader, num_epochs):\n",
    "    train_hist = []\n",
    "    val_hist = []\n",
    "\n",
    "    for epoch_idx in tqdm(range(num_epochs)):\n",
    "        net.train()\n",
    "        train_count = 0\n",
    "        train_correct_count = 0\n",
    "        for batch_idx, (train_x, train_y) in enumerate(train_loader):\n",
    "            train_x = train_x.float()\n",
    "            train_y = train_y.long()\n",
    "            optimizer.zero_grad()\n",
    "            logits = net(train_x)\n",
    "            loss = criterion(logits, train_y)\n",
    "            loss.backward()\n",
    "            optimizer.step()\n",
    "\n",
    "            with torch.no_grad():\n",
    "                y_hat = torch.argmax(logits, dim=-1)\n",
    "                train_correct_count += torch.sum(y_hat == train_y, axis=-1)\n",
    "                train_count += train_x.size(0)\n",
    "\n",
    "        train_acc = train_correct_count / train_count\n",
    "        train_hist.append(train_acc)\n",
    "\n",
    "        net.eval()\n",
    "        val_count = 0\n",
    "        val_correct_count = 0\n",
    "        with torch.no_grad():\n",
    "            for idx, (val_x, val_y) in enumerate(val_loader):\n",
    "                val_x = val_x.float()\n",
    "                val_y = val_y.long()\n",
    "                logits = net(val_x).detach()\n",
    "                y_hat = torch.argmax(logits, dim=-1)\n",
    "                val_correct_count += torch.sum(y_hat == val_y, axis=-1)\n",
    "                val_count += val_x.size(0)\n",
    "        val_acc = val_correct_count / val_count\n",
    "        val_hist.append(val_acc)\n",
    "        print('Train acc: {:.3f}, Val acc: {:.3f}'.format(train_acc, val_acc))\n",
    "\n",
    "    plt.plot(train_hist)\n",
    "    plt.plot(val_hist)"
   ]
  },
  {
   "cell_type": "code",
   "execution_count": 80,
   "metadata": {},
   "outputs": [],
   "source": [
    "def eval_net(net, test_loader):\n",
    "    net.eval()\n",
    "    test_count = 0\n",
    "    test_correct_count = 0\n",
    "    with torch.no_grad():\n",
    "        for idx, (test_x, test_y) in enumerate(test_loader):\n",
    "            test_x = test_x.float()\n",
    "            test_y = test_y.long()\n",
    "            logits = net(test_x).detach()\n",
    "            y_hat = torch.argmax(logits, dim=-1)\n",
    "            test_correct_count += torch.sum(y_hat == test_y, axis=-1)\n",
    "            test_count += test_x.size(0)\n",
    "    test_acc = test_correct_count / test_count\n",
    "\n",
    "    print('Test acc: {:.10f}'.format(test_acc))"
   ]
  },
  {
   "cell_type": "code",
   "execution_count": 81,
   "metadata": {},
   "outputs": [
    {
     "name": "stderr",
     "output_type": "stream",
     "text": [
      " 10%|█         | 5/50 [00:00<00:02, 22.16it/s]"
     ]
    },
    {
     "name": "stdout",
     "output_type": "stream",
     "text": [
      "Train acc: 0.448, Val acc: 0.552\n",
      "Train acc: 0.657, Val acc: 0.552\n",
      "Train acc: 0.627, Val acc: 0.552\n",
      "Train acc: 0.612, Val acc: 0.552\n",
      "Train acc: 0.612, Val acc: 0.582\n",
      "Train acc: 0.612, Val acc: 0.612\n"
     ]
    },
    {
     "name": "stderr",
     "output_type": "stream",
     "text": [
      " 22%|██▏       | 11/50 [00:00<00:01, 23.75it/s]"
     ]
    },
    {
     "name": "stdout",
     "output_type": "stream",
     "text": [
      "Train acc: 0.687, Val acc: 0.642\n",
      "Train acc: 0.612, Val acc: 0.687\n",
      "Train acc: 0.657, Val acc: 0.657\n",
      "Train acc: 0.597, Val acc: 0.672\n",
      "Train acc: 0.731, Val acc: 0.627\n"
     ]
    },
    {
     "name": "stderr",
     "output_type": "stream",
     "text": [
      " 28%|██▊       | 14/50 [00:00<00:01, 23.65it/s]"
     ]
    },
    {
     "name": "stdout",
     "output_type": "stream",
     "text": [
      "Train acc: 0.657, Val acc: 0.672\n",
      "Train acc: 0.657, Val acc: 0.687\n",
      "Train acc: 0.612, Val acc: 0.672\n",
      "Train acc: 0.746, Val acc: 0.627\n"
     ]
    },
    {
     "name": "stderr",
     "output_type": "stream",
     "text": [
      " 40%|████      | 20/50 [00:00<00:01, 21.61it/s]"
     ]
    },
    {
     "name": "stdout",
     "output_type": "stream",
     "text": [
      "Train acc: 0.701, Val acc: 0.627\n",
      "Train acc: 0.642, Val acc: 0.627\n",
      "Train acc: 0.701, Val acc: 0.627\n",
      "Train acc: 0.806, Val acc: 0.687\n",
      "Train acc: 0.791, Val acc: 0.731\n"
     ]
    },
    {
     "name": "stderr",
     "output_type": "stream",
     "text": [
      " 46%|████▌     | 23/50 [00:01<00:01, 22.34it/s]"
     ]
    },
    {
     "name": "stdout",
     "output_type": "stream",
     "text": [
      "Train acc: 0.821, Val acc: 0.731\n",
      "Train acc: 0.687, Val acc: 0.716\n",
      "Train acc: 0.731, Val acc: 0.701\n",
      "Train acc: 0.716, Val acc: 0.716\n",
      "Train acc: 0.761, Val acc: 0.746\n"
     ]
    },
    {
     "name": "stderr",
     "output_type": "stream",
     "text": [
      " 58%|█████▊    | 29/50 [00:01<00:00, 23.34it/s]"
     ]
    },
    {
     "name": "stdout",
     "output_type": "stream",
     "text": [
      "Train acc: 0.746, Val acc: 0.746\n",
      "Train acc: 0.746, Val acc: 0.761\n",
      "Train acc: 0.731, Val acc: 0.761\n",
      "Train acc: 0.687, Val acc: 0.761\n",
      "Train acc: 0.761, Val acc: 0.761\n"
     ]
    },
    {
     "name": "stderr",
     "output_type": "stream",
     "text": [
      " 70%|███████   | 35/50 [00:01<00:00, 23.80it/s]"
     ]
    },
    {
     "name": "stdout",
     "output_type": "stream",
     "text": [
      "Train acc: 0.791, Val acc: 0.776\n",
      "Train acc: 0.806, Val acc: 0.761\n",
      "Train acc: 0.746, Val acc: 0.776\n",
      "Train acc: 0.746, Val acc: 0.806\n",
      "Train acc: 0.687, Val acc: 0.791\n"
     ]
    },
    {
     "name": "stderr",
     "output_type": "stream",
     "text": [
      " 76%|███████▌  | 38/50 [00:01<00:00, 24.52it/s]"
     ]
    },
    {
     "name": "stdout",
     "output_type": "stream",
     "text": [
      "Train acc: 0.746, Val acc: 0.776\n",
      "Train acc: 0.716, Val acc: 0.791\n",
      "Train acc: 0.746, Val acc: 0.791\n",
      "Train acc: 0.776, Val acc: 0.776\n"
     ]
    },
    {
     "name": "stderr",
     "output_type": "stream",
     "text": [
      " 88%|████████▊ | 44/50 [00:01<00:00, 22.67it/s]"
     ]
    },
    {
     "name": "stdout",
     "output_type": "stream",
     "text": [
      "Train acc: 0.687, Val acc: 0.806\n",
      "Train acc: 0.791, Val acc: 0.791\n",
      "Train acc: 0.821, Val acc: 0.791\n",
      "Train acc: 0.746, Val acc: 0.791\n",
      "Train acc: 0.731, Val acc: 0.791\n"
     ]
    },
    {
     "name": "stderr",
     "output_type": "stream",
     "text": [
      " 94%|█████████▍| 47/50 [00:02<00:00, 23.11it/s]"
     ]
    },
    {
     "name": "stdout",
     "output_type": "stream",
     "text": [
      "Train acc: 0.746, Val acc: 0.791\n",
      "Train acc: 0.746, Val acc: 0.791\n",
      "Train acc: 0.761, Val acc: 0.791\n",
      "Train acc: 0.776, Val acc: 0.791\n",
      "Train acc: 0.806, Val acc: 0.791\n"
     ]
    },
    {
     "name": "stderr",
     "output_type": "stream",
     "text": [
      "100%|██████████| 50/50 [00:02<00:00, 22.87it/s]\n"
     ]
    },
    {
     "name": "stdout",
     "output_type": "stream",
     "text": [
      "Train acc: 0.761, Val acc: 0.776\n"
     ]
    },
    {
     "data": {
      "image/png": "[encoded data removed]",
      "text/plain": [
       "<Figure size 432x288 with 1 Axes>"
      ]
     },
     "metadata": {
      "needs_background": "light"
     },
     "output_type": "display_data"
    }
   ],
   "source": [
    "train_net(v_net, v_optimizer, v_criterion, train_loader_v, val_loader_v, 50)"
   ]
  },
  {
   "cell_type": "code",
   "execution_count": 82,
   "metadata": {},
   "outputs": [
    {
     "name": "stdout",
     "output_type": "stream",
     "text": [
      "Test acc: 0.9393939376\n"
     ]
    }
   ],
   "source": [
    "eval_net(v_net, test_loader_v)"
   ]
  },
  {
   "cell_type": "code",
   "execution_count": 83,
   "metadata": {},
   "outputs": [
    {
     "name": "stderr",
     "output_type": "stream",
     "text": [
      " 10%|█         | 5/50 [00:00<00:02, 22.23it/s]"
     ]
    },
    {
     "name": "stdout",
     "output_type": "stream",
     "text": [
      "Train acc: 0.552, Val acc: 0.582\n",
      "Train acc: 0.672, Val acc: 0.582\n",
      "Train acc: 0.701, Val acc: 0.582\n",
      "Train acc: 0.687, Val acc: 0.582\n",
      "Train acc: 0.687, Val acc: 0.582\n",
      "Train acc: 0.687, Val acc: 0.582\n"
     ]
    },
    {
     "name": "stderr",
     "output_type": "stream",
     "text": [
      " 22%|██▏       | 11/50 [00:00<00:01, 21.48it/s]"
     ]
    },
    {
     "name": "stdout",
     "output_type": "stream",
     "text": [
      "Train acc: 0.701, Val acc: 0.582\n",
      "Train acc: 0.687, Val acc: 0.582\n",
      "Train acc: 0.701, Val acc: 0.582\n",
      "Train acc: 0.731, Val acc: 0.612\n",
      "Train acc: 0.761, Val acc: 0.612\n"
     ]
    },
    {
     "name": "stderr",
     "output_type": "stream",
     "text": [
      " 28%|██▊       | 14/50 [00:00<00:01, 22.80it/s]"
     ]
    },
    {
     "name": "stdout",
     "output_type": "stream",
     "text": [
      "Train acc: 0.761, Val acc: 0.657\n",
      "Train acc: 0.731, Val acc: 0.657\n",
      "Train acc: 0.716, Val acc: 0.672\n",
      "Train acc: 0.806, Val acc: 0.672\n",
      "Train acc: 0.776, Val acc: 0.672\n"
     ]
    },
    {
     "name": "stderr",
     "output_type": "stream",
     "text": [
      " 40%|████      | 20/50 [00:00<00:01, 23.06it/s]"
     ]
    },
    {
     "name": "stdout",
     "output_type": "stream",
     "text": [
      "Train acc: 0.776, Val acc: 0.672\n",
      "Train acc: 0.761, Val acc: 0.672\n",
      "Train acc: 0.806, Val acc: 0.672\n",
      "Train acc: 0.836, Val acc: 0.672\n",
      "Train acc: 0.746, Val acc: 0.672\n"
     ]
    },
    {
     "name": "stderr",
     "output_type": "stream",
     "text": [
      " 52%|█████▏    | 26/50 [00:01<00:01, 23.22it/s]"
     ]
    },
    {
     "name": "stdout",
     "output_type": "stream",
     "text": [
      "Train acc: 0.821, Val acc: 0.672\n",
      "Train acc: 0.896, Val acc: 0.672\n",
      "Train acc: 0.851, Val acc: 0.672\n",
      "Train acc: 0.836, Val acc: 0.687\n",
      "Train acc: 0.821, Val acc: 0.731\n"
     ]
    },
    {
     "name": "stderr",
     "output_type": "stream",
     "text": [
      " 58%|█████▊    | 29/50 [00:01<00:01, 20.36it/s]"
     ]
    },
    {
     "name": "stdout",
     "output_type": "stream",
     "text": [
      "Train acc: 0.866, Val acc: 0.731\n",
      "Train acc: 0.821, Val acc: 0.687\n",
      "Train acc: 0.866, Val acc: 0.672\n",
      "Train acc: 0.836, Val acc: 0.672\n",
      "Train acc: 0.881, Val acc: 0.672\n"
     ]
    },
    {
     "name": "stderr",
     "output_type": "stream",
     "text": [
      " 70%|███████   | 35/50 [00:01<00:00, 21.92it/s]"
     ]
    },
    {
     "name": "stdout",
     "output_type": "stream",
     "text": [
      "Train acc: 0.851, Val acc: 0.716\n",
      "Train acc: 0.881, Val acc: 0.716\n",
      "Train acc: 0.881, Val acc: 0.761\n",
      "Train acc: 0.836, Val acc: 0.746\n",
      "Train acc: 0.925, Val acc: 0.716\n"
     ]
    },
    {
     "name": "stderr",
     "output_type": "stream",
     "text": [
      " 82%|████████▏ | 41/50 [00:01<00:00, 22.66it/s]"
     ]
    },
    {
     "name": "stdout",
     "output_type": "stream",
     "text": [
      "Train acc: 0.881, Val acc: 0.761\n",
      "Train acc: 0.851, Val acc: 0.776\n",
      "Train acc: 0.896, Val acc: 0.836\n",
      "Train acc: 0.881, Val acc: 0.836\n",
      "Train acc: 0.910, Val acc: 0.776\n"
     ]
    },
    {
     "name": "stderr",
     "output_type": "stream",
     "text": [
      " 88%|████████▊ | 44/50 [00:01<00:00, 23.18it/s]"
     ]
    },
    {
     "name": "stdout",
     "output_type": "stream",
     "text": [
      "Train acc: 0.881, Val acc: 0.657\n",
      "Train acc: 0.866, Val acc: 0.672\n",
      "Train acc: 0.866, Val acc: 0.657\n",
      "Train acc: 0.896, Val acc: 0.836\n",
      "Train acc: 0.910, Val acc: 0.851\n"
     ]
    },
    {
     "name": "stderr",
     "output_type": "stream",
     "text": [
      "100%|██████████| 50/50 [00:02<00:00, 21.78it/s]"
     ]
    },
    {
     "name": "stdout",
     "output_type": "stream",
     "text": [
      "Train acc: 0.940, Val acc: 0.806\n",
      "Train acc: 0.925, Val acc: 0.716\n",
      "Train acc: 0.910, Val acc: 0.716\n",
      "Train acc: 0.925, Val acc: 0.821\n"
     ]
    },
    {
     "name": "stderr",
     "output_type": "stream",
     "text": [
      "\n"
     ]
    },
    {
     "data": {
      "image/png": "[encoded data removed]",
      "text/plain": [
       "<Figure size 432x288 with 1 Axes>"
      ]
     },
     "metadata": {
      "needs_background": "light"
     },
     "output_type": "display_data"
    }
   ],
   "source": [
    "train_net(a_net, a_optimizer, a_criterion, train_loader_a, val_loader_a, 50)"
   ]
  },
  {
   "cell_type": "code",
   "execution_count": 84,
   "metadata": {},
   "outputs": [
    {
     "name": "stdout",
     "output_type": "stream",
     "text": [
      "Test acc: 0.7878788114\n"
     ]
    }
   ],
   "source": [
    "eval_net(a_net, test_loader_a)"
   ]
  },
  {
   "cell_type": "code",
   "execution_count": 85,
   "metadata": {},
   "outputs": [
    {
     "name": "stderr",
     "output_type": "stream",
     "text": [
      "  8%|▊         | 4/50 [00:00<00:02, 17.74it/s]"
     ]
    },
    {
     "name": "stdout",
     "output_type": "stream",
     "text": [
      "Train acc: 0.522, Val acc: 0.731\n",
      "Train acc: 0.687, Val acc: 0.716\n",
      "Train acc: 0.731, Val acc: 0.716\n",
      "Train acc: 0.731, Val acc: 0.716\n"
     ]
    },
    {
     "name": "stderr",
     "output_type": "stream",
     "text": [
      " 14%|█▍        | 7/50 [00:00<00:02, 20.57it/s]"
     ]
    },
    {
     "name": "stdout",
     "output_type": "stream",
     "text": [
      "Train acc: 0.716, Val acc: 0.716\n",
      "Train acc: 0.716, Val acc: 0.716\n",
      "Train acc: 0.716, Val acc: 0.716\n",
      "Train acc: 0.716, Val acc: 0.716\n",
      "Train acc: 0.716, Val acc: 0.716\n"
     ]
    },
    {
     "name": "stderr",
     "output_type": "stream",
     "text": [
      " 26%|██▌       | 13/50 [00:00<00:01, 23.48it/s]"
     ]
    },
    {
     "name": "stdout",
     "output_type": "stream",
     "text": [
      "Train acc: 0.716, Val acc: 0.716\n",
      "Train acc: 0.716, Val acc: 0.716\n",
      "Train acc: 0.716, Val acc: 0.716\n",
      "Train acc: 0.716, Val acc: 0.716\n",
      "Train acc: 0.716, Val acc: 0.716\n",
      "Train acc: 0.716, Val acc: 0.716\n"
     ]
    },
    {
     "name": "stderr",
     "output_type": "stream",
     "text": [
      " 38%|███▊      | 19/50 [00:00<00:01, 24.18it/s]"
     ]
    },
    {
     "name": "stdout",
     "output_type": "stream",
     "text": [
      "Train acc: 0.716, Val acc: 0.716\n",
      "Train acc: 0.716, Val acc: 0.716\n",
      "Train acc: 0.716, Val acc: 0.716\n",
      "Train acc: 0.716, Val acc: 0.716\n",
      "Train acc: 0.716, Val acc: 0.716\n",
      "Train acc: 0.716, Val acc: 0.716\n"
     ]
    },
    {
     "name": "stderr",
     "output_type": "stream",
     "text": [
      " 50%|█████     | 25/50 [00:01<00:01, 24.24it/s]"
     ]
    },
    {
     "name": "stdout",
     "output_type": "stream",
     "text": [
      "Train acc: 0.716, Val acc: 0.716\n",
      "Train acc: 0.716, Val acc: 0.716\n",
      "Train acc: 0.716, Val acc: 0.716\n",
      "Train acc: 0.716, Val acc: 0.716\n",
      "Train acc: 0.716, Val acc: 0.716\n"
     ]
    },
    {
     "name": "stderr",
     "output_type": "stream",
     "text": [
      " 56%|█████▌    | 28/50 [00:01<00:01, 20.62it/s]"
     ]
    },
    {
     "name": "stdout",
     "output_type": "stream",
     "text": [
      "Train acc: 0.716, Val acc: 0.716\n",
      "Train acc: 0.716, Val acc: 0.716\n",
      "Train acc: 0.716, Val acc: 0.716\n"
     ]
    },
    {
     "name": "stderr",
     "output_type": "stream",
     "text": [
      " 68%|██████▊   | 34/50 [00:01<00:00, 21.39it/s]"
     ]
    },
    {
     "name": "stdout",
     "output_type": "stream",
     "text": [
      "Train acc: 0.716, Val acc: 0.716\n",
      "Train acc: 0.716, Val acc: 0.716\n",
      "Train acc: 0.716, Val acc: 0.716\n",
      "Train acc: 0.716, Val acc: 0.716\n",
      "Train acc: 0.716, Val acc: 0.716\n"
     ]
    },
    {
     "name": "stderr",
     "output_type": "stream",
     "text": [
      " 74%|███████▍  | 37/50 [00:01<00:00, 22.10it/s]"
     ]
    },
    {
     "name": "stdout",
     "output_type": "stream",
     "text": [
      "Train acc: 0.716, Val acc: 0.716\n",
      "Train acc: 0.731, Val acc: 0.716\n",
      "Train acc: 0.716, Val acc: 0.716\n",
      "Train acc: 0.716, Val acc: 0.716\n",
      "Train acc: 0.716, Val acc: 0.716\n"
     ]
    },
    {
     "name": "stderr",
     "output_type": "stream",
     "text": [
      " 86%|████████▌ | 43/50 [00:01<00:00, 21.64it/s]"
     ]
    },
    {
     "name": "stdout",
     "output_type": "stream",
     "text": [
      "Train acc: 0.701, Val acc: 0.716\n",
      "Train acc: 0.716, Val acc: 0.716\n",
      "Train acc: 0.731, Val acc: 0.716\n",
      "Train acc: 0.716, Val acc: 0.716\n",
      "Train acc: 0.761, Val acc: 0.731\n"
     ]
    },
    {
     "name": "stderr",
     "output_type": "stream",
     "text": [
      " 92%|█████████▏| 46/50 [00:02<00:00, 21.99it/s]"
     ]
    },
    {
     "name": "stdout",
     "output_type": "stream",
     "text": [
      "Train acc: 0.791, Val acc: 0.731\n",
      "Train acc: 0.731, Val acc: 0.761\n",
      "Train acc: 0.687, Val acc: 0.776\n",
      "Train acc: 0.687, Val acc: 0.761\n"
     ]
    },
    {
     "name": "stderr",
     "output_type": "stream",
     "text": [
      "100%|██████████| 50/50 [00:02<00:00, 21.79it/s]"
     ]
    },
    {
     "name": "stdout",
     "output_type": "stream",
     "text": [
      "Train acc: 0.746, Val acc: 0.761\n",
      "Train acc: 0.731, Val acc: 0.761\n"
     ]
    },
    {
     "name": "stderr",
     "output_type": "stream",
     "text": [
      "\n"
     ]
    },
    {
     "data": {
      "image/png": "[encoded data removed]",
      "text/plain": [
       "<Figure size 432x288 with 1 Axes>"
      ]
     },
     "metadata": {
      "needs_background": "light"
     },
     "output_type": "display_data"
    }
   ],
   "source": [
    "train_net(d_net, d_optimizer, d_criterion, train_loader_d, val_loader_d, 50)"
   ]
  },
  {
   "cell_type": "code",
   "execution_count": 86,
   "metadata": {},
   "outputs": [
    {
     "name": "stdout",
     "output_type": "stream",
     "text": [
      "Test acc: 0.8484848738\n"
     ]
    }
   ],
   "source": [
    "eval_net(d_net, test_loader_d)"
   ]
  },
  {
   "cell_type": "markdown",
   "metadata": {},
   "source": [
    "## Saving Nets"
   ]
  },
  {
   "cell_type": "code",
   "execution_count": 54,
   "metadata": {},
   "outputs": [],
   "source": [
    "torch.save(v_net.state_dict(), cwd + '/vnet')"
   ]
  },
  {
   "cell_type": "code",
   "execution_count": 58,
   "metadata": {},
   "outputs": [],
   "source": [
    "torch.save(a_net.state_dict(), cwd + '/anet')"
   ]
  },
  {
   "cell_type": "code",
   "execution_count": 59,
   "metadata": {},
   "outputs": [],
   "source": [
    "torch.save(d_net.state_dict(), cwd + 'dnet')"
   ]
  },
  {
   "cell_type": "code",
   "execution_count": 55,
   "metadata": {},
   "outputs": [
    {
     "data": {
      "text/plain": [
       "<All keys matched successfully>"
      ]
     },
     "execution_count": 55,
     "metadata": {},
     "output_type": "execute_result"
    }
   ],
   "source": [
    "tester = CNN_LSTM()\n",
    "tester.load_state_dict(torch.load(cwd + '/vnet'))"
   ]
  },
  {
   "cell_type": "markdown",
   "metadata": {},
   "source": [
    "## Emotions (for later)"
   ]
  },
  {
   "cell_type": "code",
   "execution_count": 93,
   "metadata": {},
   "outputs": [],
   "source": [
    "class CNN_LSTM2(nn.Module):\n",
    "    def __init__(self):\n",
    "        super(CNN_LSTM2, self).__init__()\n",
    "        self.conv1d = nn.Conv1d(in_channels=8, out_channels=40, kernel_size=20, stride=4)\n",
    "        self.relu = nn.ReLU()\n",
    "        self.dropout1 = nn.Dropout(p=0.5)\n",
    "        self.batchnorm1 = nn.BatchNorm1d(40)\n",
    "        self.maxpool = nn.MaxPool1d(kernel_size=4, stride=4)\n",
    "        self.lstm1 = nn.LSTM(input_size=45, hidden_size=30)\n",
    "        self.dropout2 = nn.Dropout(p=0.5)\n",
    "        self.batchnorm2 = nn.BatchNorm1d(40)\n",
    "        self.lstm2 = nn.LSTM(input_size=30, hidden_size=10)\n",
    "        self.dropout3 = nn.Dropout(p=0.5)\n",
    "        self.batchnorm3 = nn.BatchNorm1d(40)\n",
    "        self.flatten = nn.Flatten()\n",
    "        self.dense = nn.Linear(400,6)\n",
    "        self.softmax = nn.Softmax(dim=1)\n",
    "\n",
    "    def forward(self, x):\n",
    "        x = self.conv1d(x)\n",
    "        x = self.relu(x)\n",
    "        x = self.dropout1(x)\n",
    "        x = self.batchnorm1(x)\n",
    "        x = self.maxpool(x)\n",
    "        x, _ = self.lstm1(x)\n",
    "        x = self.dropout2(x)\n",
    "        x = self.batchnorm2(x)\n",
    "        x, _ = self.lstm2(x)\n",
    "        x = self.dropout3(x)\n",
    "        x = self.batchnorm3(x)\n",
    "        x = self.flatten(x)\n",
    "        x = self.dense(x)\n",
    "        x = self.softmax(x)\n",
    "\n",
    "        return x"
   ]
  },
  {
   "cell_type": "code",
   "execution_count": 107,
   "metadata": {},
   "outputs": [
    {
     "name": "stdout",
     "output_type": "stream",
     "text": [
      "torch.Size([1, 8, 750])\n",
      "tensor([[0.1613, 0.0997, 0.3030, 0.1494, 0.0997, 0.1868]],\n",
      "       grad_fn=<SoftmaxBackward0>)\n"
     ]
    }
   ],
   "source": [
    "input_size = (n_channels, samp_time)\n",
    "\n",
    "# Random input tensor with the specified dimensions\n",
    "input_tensor = torch.randn(1, *input_size)\n",
    "print(input_tensor.shape)\n",
    "\n",
    "# create neural networks\n",
    "emo_net = CNN_LSTM2()\n",
    "print(emo_net.forward(Variable(input_tensor)))\n",
    "e_criterion = nn.CrossEntropyLoss() # add to device here\n",
    "e_optimizer = optim.Adam(emo_net.parameters(), lr=0.001, weight_decay=1e-7)"
   ]
  },
  {
   "cell_type": "code",
   "execution_count": 96,
   "metadata": {},
   "outputs": [],
   "source": [
    "formal_emotions = emo_labels['Emo']\n",
    "formal_emotions = formal_emotions.to_numpy()"
   ]
  },
  {
   "cell_type": "code",
   "execution_count": 97,
   "metadata": {},
   "outputs": [],
   "source": [
    "formal_emotions = formal_emotions.reshape((formal_emotions.size, 1))"
   ]
  },
  {
   "cell_type": "code",
   "execution_count": 99,
   "metadata": {},
   "outputs": [],
   "source": [
    "from sklearn.preprocessing import OneHotEncoder\n",
    "cat = OneHotEncoder()\n",
    "emotions_onehot = cat.fit_transform(formal_emotions).toarray()"
   ]
  },
  {
   "cell_type": "code",
   "execution_count": 100,
   "metadata": {},
   "outputs": [
    {
     "name": "stdout",
     "output_type": "stream",
     "text": [
      "1676\n"
     ]
    }
   ],
   "source": [
    "emotion_labels = []\n",
    "for i in range(23):\n",
    "    j = 0\n",
    "    while (j < 211 and np.sum(eeg_s1[i,:,j,:])):\n",
    "        emotion_labels.append(emotions_onehot[i])\n",
    "        j += 1\n",
    "print(len(emotion_labels))"
   ]
  },
  {
   "cell_type": "code",
   "execution_count": 101,
   "metadata": {},
   "outputs": [],
   "source": [
    "emotion_labels = np.array(emotion_labels)"
   ]
  },
  {
   "cell_type": "code",
   "execution_count": 105,
   "metadata": {},
   "outputs": [],
   "source": [
    "y_train_e = emotion_labels[train_indices]\n",
    "y_valid_e = emotion_labels[valid_indices]\n",
    "y_test_e = emotion_labels[test_indices]"
   ]
  },
  {
   "cell_type": "code",
   "execution_count": 106,
   "metadata": {},
   "outputs": [],
   "source": [
    "train_subset_e = torch.utils.data.TensorDataset(torch.Tensor(x_train), torch.Tensor(y_train_e))\n",
    "val_subset_e = torch.utils.data.TensorDataset(torch.Tensor(x_valid), torch.Tensor(y_valid_e))\n",
    "test_dataset_e = torch.utils.data.TensorDataset(torch.Tensor(x_test), torch.Tensor(y_test_e))\n",
    "\n",
    "train_loader_e = torch.utils.data.DataLoader(train_subset_v, shuffle=True, batch_size=bsz)\n",
    "val_loader_e = torch.utils.data.DataLoader(val_subset_v, shuffle=False, batch_size=bsz)\n",
    "test_loader_e = torch.utils.data.DataLoader(test_dataset_v, shuffle=False, batch_size=bsz)"
   ]
  },
  {
   "cell_type": "code",
   "execution_count": 108,
   "metadata": {},
   "outputs": [
    {
     "name": "stderr",
     "output_type": "stream",
     "text": [
      "  2%|▏         | 1/50 [00:01<01:33,  1.91s/it]"
     ]
    },
    {
     "name": "stdout",
     "output_type": "stream",
     "text": [
      "Train acc: 0.521, Val acc: 0.693\n"
     ]
    },
    {
     "name": "stderr",
     "output_type": "stream",
     "text": [
      "  4%|▍         | 2/50 [00:03<01:28,  1.84s/it]"
     ]
    },
    {
     "name": "stdout",
     "output_type": "stream",
     "text": [
      "Train acc: 0.754, Val acc: 0.823\n"
     ]
    },
    {
     "name": "stderr",
     "output_type": "stream",
     "text": [
      "  6%|▌         | 3/50 [00:05<01:22,  1.75s/it]"
     ]
    },
    {
     "name": "stdout",
     "output_type": "stream",
     "text": [
      "Train acc: 0.878, Val acc: 0.849\n"
     ]
    },
    {
     "name": "stderr",
     "output_type": "stream",
     "text": [
      "  8%|▊         | 4/50 [00:06<01:17,  1.69s/it]"
     ]
    },
    {
     "name": "stdout",
     "output_type": "stream",
     "text": [
      "Train acc: 0.946, Val acc: 0.903\n"
     ]
    },
    {
     "name": "stderr",
     "output_type": "stream",
     "text": [
      " 10%|█         | 5/50 [00:08<01:15,  1.68s/it]"
     ]
    },
    {
     "name": "stdout",
     "output_type": "stream",
     "text": [
      "Train acc: 0.984, Val acc: 0.981\n"
     ]
    },
    {
     "name": "stderr",
     "output_type": "stream",
     "text": [
      " 12%|█▏        | 6/50 [00:10<01:13,  1.66s/it]"
     ]
    },
    {
     "name": "stdout",
     "output_type": "stream",
     "text": [
      "Train acc: 0.999, Val acc: 0.973\n"
     ]
    },
    {
     "name": "stderr",
     "output_type": "stream",
     "text": [
      " 14%|█▍        | 7/50 [00:11<01:10,  1.64s/it]"
     ]
    },
    {
     "name": "stdout",
     "output_type": "stream",
     "text": [
      "Train acc: 0.999, Val acc: 0.994\n"
     ]
    },
    {
     "name": "stderr",
     "output_type": "stream",
     "text": [
      " 16%|█▌        | 8/50 [00:13<01:09,  1.66s/it]"
     ]
    },
    {
     "name": "stdout",
     "output_type": "stream",
     "text": [
      "Train acc: 1.000, Val acc: 0.997\n"
     ]
    },
    {
     "name": "stderr",
     "output_type": "stream",
     "text": [
      " 18%|█▊        | 9/50 [00:15<01:08,  1.67s/it]"
     ]
    },
    {
     "name": "stdout",
     "output_type": "stream",
     "text": [
      "Train acc: 1.000, Val acc: 0.996\n"
     ]
    },
    {
     "name": "stderr",
     "output_type": "stream",
     "text": [
      " 20%|██        | 10/50 [00:16<01:07,  1.68s/it]"
     ]
    },
    {
     "name": "stdout",
     "output_type": "stream",
     "text": [
      "Train acc: 1.000, Val acc: 0.981\n"
     ]
    },
    {
     "name": "stderr",
     "output_type": "stream",
     "text": [
      " 22%|██▏       | 11/50 [00:18<01:04,  1.66s/it]"
     ]
    },
    {
     "name": "stdout",
     "output_type": "stream",
     "text": [
      "Train acc: 1.000, Val acc: 0.997\n"
     ]
    },
    {
     "name": "stderr",
     "output_type": "stream",
     "text": [
      " 24%|██▍       | 12/50 [00:20<01:02,  1.65s/it]"
     ]
    },
    {
     "name": "stdout",
     "output_type": "stream",
     "text": [
      "Train acc: 1.000, Val acc: 1.000\n"
     ]
    },
    {
     "name": "stderr",
     "output_type": "stream",
     "text": [
      " 26%|██▌       | 13/50 [00:21<01:00,  1.62s/it]"
     ]
    },
    {
     "name": "stdout",
     "output_type": "stream",
     "text": [
      "Train acc: 1.000, Val acc: 0.994\n"
     ]
    },
    {
     "name": "stderr",
     "output_type": "stream",
     "text": [
      " 28%|██▊       | 14/50 [00:24<01:06,  1.84s/it]"
     ]
    },
    {
     "name": "stdout",
     "output_type": "stream",
     "text": [
      "Train acc: 1.000, Val acc: 1.000\n"
     ]
    },
    {
     "name": "stderr",
     "output_type": "stream",
     "text": [
      " 30%|███       | 15/50 [00:26<01:05,  1.88s/it]"
     ]
    },
    {
     "name": "stdout",
     "output_type": "stream",
     "text": [
      "Train acc: 1.000, Val acc: 1.000\n"
     ]
    },
    {
     "name": "stderr",
     "output_type": "stream",
     "text": [
      " 32%|███▏      | 16/50 [00:27<01:03,  1.87s/it]"
     ]
    },
    {
     "name": "stdout",
     "output_type": "stream",
     "text": [
      "Train acc: 1.000, Val acc: 0.997\n"
     ]
    },
    {
     "name": "stderr",
     "output_type": "stream",
     "text": [
      " 34%|███▍      | 17/50 [00:29<00:59,  1.80s/it]"
     ]
    },
    {
     "name": "stdout",
     "output_type": "stream",
     "text": [
      "Train acc: 1.000, Val acc: 1.000\n"
     ]
    },
    {
     "name": "stderr",
     "output_type": "stream",
     "text": [
      " 36%|███▌      | 18/50 [00:31<00:56,  1.76s/it]"
     ]
    },
    {
     "name": "stdout",
     "output_type": "stream",
     "text": [
      "Train acc: 1.000, Val acc: 1.000\n"
     ]
    },
    {
     "name": "stderr",
     "output_type": "stream",
     "text": [
      " 38%|███▊      | 19/50 [00:32<00:53,  1.74s/it]"
     ]
    },
    {
     "name": "stdout",
     "output_type": "stream",
     "text": [
      "Train acc: 1.000, Val acc: 0.997\n"
     ]
    },
    {
     "name": "stderr",
     "output_type": "stream",
     "text": [
      " 40%|████      | 20/50 [00:34<00:50,  1.69s/it]"
     ]
    },
    {
     "name": "stdout",
     "output_type": "stream",
     "text": [
      "Train acc: 1.000, Val acc: 0.997\n"
     ]
    },
    {
     "name": "stderr",
     "output_type": "stream",
     "text": [
      " 42%|████▏     | 21/50 [00:35<00:47,  1.64s/it]"
     ]
    },
    {
     "name": "stdout",
     "output_type": "stream",
     "text": [
      "Train acc: 1.000, Val acc: 0.993\n"
     ]
    },
    {
     "name": "stderr",
     "output_type": "stream",
     "text": [
      " 44%|████▍     | 22/50 [00:37<00:45,  1.63s/it]"
     ]
    },
    {
     "name": "stdout",
     "output_type": "stream",
     "text": [
      "Train acc: 1.000, Val acc: 0.981\n"
     ]
    },
    {
     "name": "stderr",
     "output_type": "stream",
     "text": [
      " 46%|████▌     | 23/50 [00:39<00:44,  1.64s/it]"
     ]
    },
    {
     "name": "stdout",
     "output_type": "stream",
     "text": [
      "Train acc: 1.000, Val acc: 0.988\n"
     ]
    },
    {
     "name": "stderr",
     "output_type": "stream",
     "text": [
      " 48%|████▊     | 24/50 [00:40<00:41,  1.58s/it]"
     ]
    },
    {
     "name": "stdout",
     "output_type": "stream",
     "text": [
      "Train acc: 1.000, Val acc: 0.999\n"
     ]
    },
    {
     "name": "stderr",
     "output_type": "stream",
     "text": [
      " 50%|█████     | 25/50 [00:42<00:39,  1.58s/it]"
     ]
    },
    {
     "name": "stdout",
     "output_type": "stream",
     "text": [
      "Train acc: 1.000, Val acc: 0.999\n"
     ]
    },
    {
     "name": "stderr",
     "output_type": "stream",
     "text": [
      " 52%|█████▏    | 26/50 [00:43<00:38,  1.59s/it]"
     ]
    },
    {
     "name": "stdout",
     "output_type": "stream",
     "text": [
      "Train acc: 1.000, Val acc: 0.997\n"
     ]
    },
    {
     "name": "stderr",
     "output_type": "stream",
     "text": [
      " 54%|█████▍    | 27/50 [00:45<00:37,  1.62s/it]"
     ]
    },
    {
     "name": "stdout",
     "output_type": "stream",
     "text": [
      "Train acc: 1.000, Val acc: 1.000\n"
     ]
    },
    {
     "name": "stderr",
     "output_type": "stream",
     "text": [
      " 56%|█████▌    | 28/50 [00:47<00:35,  1.61s/it]"
     ]
    },
    {
     "name": "stdout",
     "output_type": "stream",
     "text": [
      "Train acc: 1.000, Val acc: 0.997\n"
     ]
    },
    {
     "name": "stderr",
     "output_type": "stream",
     "text": [
      " 58%|█████▊    | 29/50 [00:48<00:34,  1.66s/it]"
     ]
    },
    {
     "name": "stdout",
     "output_type": "stream",
     "text": [
      "Train acc: 1.000, Val acc: 1.000\n"
     ]
    },
    {
     "name": "stderr",
     "output_type": "stream",
     "text": [
      " 60%|██████    | 30/50 [00:50<00:33,  1.68s/it]"
     ]
    },
    {
     "name": "stdout",
     "output_type": "stream",
     "text": [
      "Train acc: 1.000, Val acc: 0.997\n"
     ]
    },
    {
     "name": "stderr",
     "output_type": "stream",
     "text": [
      " 62%|██████▏   | 31/50 [00:53<00:38,  2.03s/it]"
     ]
    },
    {
     "name": "stdout",
     "output_type": "stream",
     "text": [
      "Train acc: 1.000, Val acc: 1.000\n"
     ]
    },
    {
     "name": "stderr",
     "output_type": "stream",
     "text": [
      " 64%|██████▍   | 32/50 [00:56<00:40,  2.23s/it]"
     ]
    },
    {
     "name": "stdout",
     "output_type": "stream",
     "text": [
      "Train acc: 1.000, Val acc: 0.997\n"
     ]
    },
    {
     "name": "stderr",
     "output_type": "stream",
     "text": [
      " 66%|██████▌   | 33/50 [00:57<00:35,  2.08s/it]"
     ]
    },
    {
     "name": "stdout",
     "output_type": "stream",
     "text": [
      "Train acc: 1.000, Val acc: 1.000\n"
     ]
    },
    {
     "name": "stderr",
     "output_type": "stream",
     "text": [
      " 68%|██████▊   | 34/50 [00:59<00:31,  1.95s/it]"
     ]
    },
    {
     "name": "stdout",
     "output_type": "stream",
     "text": [
      "Train acc: 1.000, Val acc: 1.000\n"
     ]
    },
    {
     "name": "stderr",
     "output_type": "stream",
     "text": [
      " 70%|███████   | 35/50 [01:01<00:27,  1.86s/it]"
     ]
    },
    {
     "name": "stdout",
     "output_type": "stream",
     "text": [
      "Train acc: 1.000, Val acc: 0.997\n"
     ]
    },
    {
     "name": "stderr",
     "output_type": "stream",
     "text": [
      " 72%|███████▏  | 36/50 [01:02<00:25,  1.82s/it]"
     ]
    },
    {
     "name": "stdout",
     "output_type": "stream",
     "text": [
      "Train acc: 1.000, Val acc: 1.000\n"
     ]
    },
    {
     "name": "stderr",
     "output_type": "stream",
     "text": [
      " 74%|███████▍  | 37/50 [01:04<00:22,  1.74s/it]"
     ]
    },
    {
     "name": "stdout",
     "output_type": "stream",
     "text": [
      "Train acc: 1.000, Val acc: 0.997\n"
     ]
    },
    {
     "name": "stderr",
     "output_type": "stream",
     "text": [
      " 76%|███████▌  | 38/50 [01:05<00:20,  1.68s/it]"
     ]
    },
    {
     "name": "stdout",
     "output_type": "stream",
     "text": [
      "Train acc: 1.000, Val acc: 0.988\n"
     ]
    },
    {
     "name": "stderr",
     "output_type": "stream",
     "text": [
      " 78%|███████▊  | 39/50 [01:07<00:18,  1.67s/it]"
     ]
    },
    {
     "name": "stdout",
     "output_type": "stream",
     "text": [
      "Train acc: 1.000, Val acc: 0.963\n"
     ]
    },
    {
     "name": "stderr",
     "output_type": "stream",
     "text": [
      " 80%|████████  | 40/50 [01:09<00:16,  1.66s/it]"
     ]
    },
    {
     "name": "stdout",
     "output_type": "stream",
     "text": [
      "Train acc: 0.991, Val acc: 0.917\n"
     ]
    },
    {
     "name": "stderr",
     "output_type": "stream",
     "text": [
      " 82%|████████▏ | 41/50 [01:10<00:14,  1.62s/it]"
     ]
    },
    {
     "name": "stdout",
     "output_type": "stream",
     "text": [
      "Train acc: 1.000, Val acc: 1.000\n"
     ]
    },
    {
     "name": "stderr",
     "output_type": "stream",
     "text": [
      " 84%|████████▍ | 42/50 [01:12<00:12,  1.62s/it]"
     ]
    },
    {
     "name": "stdout",
     "output_type": "stream",
     "text": [
      "Train acc: 0.996, Val acc: 1.000\n"
     ]
    },
    {
     "name": "stderr",
     "output_type": "stream",
     "text": [
      " 86%|████████▌ | 43/50 [01:14<00:11,  1.69s/it]"
     ]
    },
    {
     "name": "stdout",
     "output_type": "stream",
     "text": [
      "Train acc: 1.000, Val acc: 0.975\n"
     ]
    },
    {
     "name": "stderr",
     "output_type": "stream",
     "text": [
      " 88%|████████▊ | 44/50 [01:16<00:10,  1.70s/it]"
     ]
    },
    {
     "name": "stdout",
     "output_type": "stream",
     "text": [
      "Train acc: 0.999, Val acc: 0.991\n"
     ]
    },
    {
     "name": "stderr",
     "output_type": "stream",
     "text": [
      " 90%|█████████ | 45/50 [01:17<00:08,  1.68s/it]"
     ]
    },
    {
     "name": "stdout",
     "output_type": "stream",
     "text": [
      "Train acc: 0.996, Val acc: 0.960\n"
     ]
    },
    {
     "name": "stderr",
     "output_type": "stream",
     "text": [
      " 92%|█████████▏| 46/50 [01:19<00:06,  1.61s/it]"
     ]
    },
    {
     "name": "stdout",
     "output_type": "stream",
     "text": [
      "Train acc: 0.988, Val acc: 0.963\n"
     ]
    },
    {
     "name": "stderr",
     "output_type": "stream",
     "text": [
      " 94%|█████████▍| 47/50 [01:20<00:05,  1.69s/it]"
     ]
    },
    {
     "name": "stdout",
     "output_type": "stream",
     "text": [
      "Train acc: 0.999, Val acc: 1.000\n"
     ]
    },
    {
     "name": "stderr",
     "output_type": "stream",
     "text": [
      " 96%|█████████▌| 48/50 [01:22<00:03,  1.70s/it]"
     ]
    },
    {
     "name": "stdout",
     "output_type": "stream",
     "text": [
      "Train acc: 1.000, Val acc: 0.987\n"
     ]
    },
    {
     "name": "stderr",
     "output_type": "stream",
     "text": [
      " 98%|█████████▊| 49/50 [01:24<00:01,  1.87s/it]"
     ]
    },
    {
     "name": "stdout",
     "output_type": "stream",
     "text": [
      "Train acc: 0.999, Val acc: 0.985\n"
     ]
    },
    {
     "name": "stderr",
     "output_type": "stream",
     "text": [
      "100%|██████████| 50/50 [01:26<00:00,  1.74s/it]"
     ]
    },
    {
     "name": "stdout",
     "output_type": "stream",
     "text": [
      "Train acc: 0.997, Val acc: 1.000\n"
     ]
    },
    {
     "name": "stderr",
     "output_type": "stream",
     "text": [
      "\n"
     ]
    },
    {
     "data": {
      "image/png": "[encoded data removed]",
      "text/plain": [
       "<Figure size 640x480 with 1 Axes>"
      ]
     },
     "metadata": {},
     "output_type": "display_data"
    }
   ],
   "source": [
    "train_net(emo_net, e_optimizer, e_criterion, train_loader_e, val_loader_e, 50)"
   ]
  },
  {
   "cell_type": "code",
   "execution_count": 109,
   "metadata": {},
   "outputs": [
    {
     "name": "stdout",
     "output_type": "stream",
     "text": [
      "Test acc: 1.0000000000\n"
     ]
    }
   ],
   "source": [
    "eval_net(emo_net, test_loader_e)"
   ]
  },
  {
   "cell_type": "code",
   "execution_count": null,
   "metadata": {},
   "outputs": [],
   "source": []
  }
 ],
 "metadata": {
  "kernelspec": {
   "display_name": "base",
   "language": "python",
   "name": "python3"
  },
  "language_info": {
   "codemirror_mode": {
    "name": "ipython",
    "version": 3
   },
   "file_extension": ".py",
   "mimetype": "text/x-python",
   "name": "python",
   "nbconvert_exporter": "python",
   "pygments_lexer": "ipython3",
   "version": "3.10.5"
  }
 },
 "nbformat": 4,
 "nbformat_minor": 2
}
