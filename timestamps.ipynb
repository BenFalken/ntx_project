{
  "nbformat": 4,
  "nbformat_minor": 0,
  "metadata": {
    "colab": {
      "provenance": [],
      "include_colab_link": true
    },
    "kernelspec": {
      "name": "python3",
      "display_name": "Python 3"
    },
    "language_info": {
      "name": "python"
    }
  },
  "cells": [
    {
      "cell_type": "markdown",
      "metadata": {
        "id": "view-in-github",
        "colab_type": "text"
      },
      "source": [
        "<a href=\"https://colab.research.google.com/github/BenFalken/ntx_project/blob/main/timestamps.ipynb\" target=\"_parent\"><img src=\"https://colab.research.google.com/assets/colab-badge.svg\" alt=\"Open In Colab\"/></a>"
      ]
    },
    {
      "cell_type": "code",
      "execution_count": null,
      "metadata": {
        "id": "UbMK2J1KFqy4"
      },
      "outputs": [],
      "source": [
        "from google.colab import drive\n",
        "import numpy as np"
      ]
    },
    {
      "cell_type": "code",
      "source": [
        "fs = 250"
      ],
      "metadata": {
        "id": "cq0j_IzKPKCB"
      },
      "execution_count": null,
      "outputs": []
    },
    {
      "cell_type": "code",
      "source": [
        "drive.mount('/content/drive')"
      ],
      "metadata": {
        "colab": {
          "base_uri": "https://localhost:8080/"
        },
        "id": "zDFfi78pGBPQ",
        "outputId": "9ecd9f81-b633-4181-a066-cbf2821dd272"
      },
      "execution_count": null,
      "outputs": [
        {
          "output_type": "stream",
          "name": "stdout",
          "text": [
            "Drive already mounted at /content/drive; to attempt to forcibly remount, call drive.mount(\"/content/drive\", force_remount=True).\n"
          ]
        }
      ]
    },
    {
      "cell_type": "code",
      "source": [
        "dir = \"/content/drive/MyDrive/2023-2024 CruX/NTX Competition/Data/EEG Data/bill/\""
      ],
      "metadata": {
        "id": "g4EhxBM0GFGT"
      },
      "execution_count": null,
      "outputs": []
    },
    {
      "cell_type": "code",
      "source": [
        "data = np.genfromtxt(dir + \"bill.csv\")"
      ],
      "metadata": {
        "id": "Sg4bZbjbGSmM"
      },
      "execution_count": null,
      "outputs": []
    },
    {
      "cell_type": "code",
      "source": [
        "vid_timestamps = np.genfromtxt(dir + \"timestamps.csv\", delimiter=',')"
      ],
      "metadata": {
        "id": "XmzCQ_8AOA3G"
      },
      "execution_count": null,
      "outputs": []
    },
    {
      "cell_type": "code",
      "source": [
        "vid_timestamps"
      ],
      "metadata": {
        "colab": {
          "base_uri": "https://localhost:8080/"
        },
        "id": "k5dTs5vzODAl",
        "outputId": "d20d9d36-0ffc-4a5c-cef6-989b9e8b9aff"
      },
      "execution_count": null,
      "outputs": [
        {
          "output_type": "execute_result",
          "data": {
            "text/plain": [
              "array([[1.70970698e+09, 1.70970714e+09],\n",
              "       [1.70970728e+09, 1.70970732e+09],\n",
              "       [1.70970743e+09, 1.70970748e+09],\n",
              "       [1.70970753e+09, 1.70970759e+09],\n",
              "       [1.70970763e+09, 1.70970769e+09],\n",
              "       [1.70970773e+09, 1.70970776e+09],\n",
              "       [1.70970783e+09, 1.70970805e+09],\n",
              "       [1.70970809e+09, 1.70970815e+09],\n",
              "       [1.70970823e+09, 1.70970829e+09],\n",
              "       [1.70970838e+09, 1.70970845e+09],\n",
              "       [1.70970850e+09, 1.70970856e+09],\n",
              "       [1.70970861e+09, 1.70970868e+09],\n",
              "       [1.70970869e+09, 1.70970871e+09],\n",
              "       [1.70970876e+09, 1.70970881e+09],\n",
              "       [1.70970883e+09, 1.70970889e+09],\n",
              "       [1.70970902e+09, 1.70970906e+09],\n",
              "       [1.70970910e+09, 1.70970917e+09],\n",
              "       [1.70970922e+09, 1.70970929e+09],\n",
              "       [1.70970934e+09, 1.70970936e+09],\n",
              "       [1.70970943e+09, 1.70970946e+09],\n",
              "       [1.70970954e+09, 1.70970957e+09],\n",
              "       [1.70970963e+09, 1.70970965e+09],\n",
              "       [1.70970967e+09, 1.70970973e+09]])"
            ]
          },
          "metadata": {},
          "execution_count": 56
        }
      ]
    },
    {
      "cell_type": "code",
      "source": [
        "vid_timestamps_start = vid_timestamps[:, 0]\n",
        "vid_timestamps_end = vid_timestamps[:, 1]"
      ],
      "metadata": {
        "id": "I7wIwiHqOQAi"
      },
      "execution_count": null,
      "outputs": []
    },
    {
      "cell_type": "code",
      "source": [
        "type(data)"
      ],
      "metadata": {
        "colab": {
          "base_uri": "https://localhost:8080/"
        },
        "id": "N1stmFAaJFqX",
        "outputId": "99547ece-e5b9-4448-af49-12922322460e"
      },
      "execution_count": null,
      "outputs": [
        {
          "output_type": "execute_result",
          "data": {
            "text/plain": [
              "numpy.ndarray"
            ]
          },
          "metadata": {},
          "execution_count": 34
        }
      ]
    },
    {
      "cell_type": "code",
      "source": [
        "data.shape"
      ],
      "metadata": {
        "colab": {
          "base_uri": "https://localhost:8080/"
        },
        "id": "OuGOSGoWGdRR",
        "outputId": "69df8d0d-3e0a-4c7d-e20a-75f5a0c82298"
      },
      "execution_count": null,
      "outputs": [
        {
          "output_type": "execute_result",
          "data": {
            "text/plain": [
              "(740329, 24)"
            ]
          },
          "metadata": {},
          "execution_count": 15
        }
      ]
    },
    {
      "cell_type": "code",
      "source": [
        "EEG_data = data[:, 1:9]"
      ],
      "metadata": {
        "id": "YE5-TTurHoeP"
      },
      "execution_count": null,
      "outputs": []
    },
    {
      "cell_type": "code",
      "source": [
        "EEG_data[0]"
      ],
      "metadata": {
        "colab": {
          "base_uri": "https://localhost:8080/"
        },
        "id": "5EAYqmTmIF3C",
        "outputId": "82477d87-0e29-46d6-c18c-926bb8b1128b"
      },
      "execution_count": null,
      "outputs": [
        {
          "output_type": "execute_result",
          "data": {
            "text/plain": [
              "array([ 2232.805161,  1283.683036, 10517.792167, 13763.176055,\n",
              "         700.526023,  9670.102259,  9822.451749,  6638.266938])"
            ]
          },
          "metadata": {},
          "execution_count": 30
        }
      ]
    },
    {
      "cell_type": "code",
      "source": [
        "data[0]"
      ],
      "metadata": {
        "colab": {
          "base_uri": "https://localhost:8080/"
        },
        "id": "ShsmGaY8IvfI",
        "outputId": "1fd4bd0e-f19a-43a8-e0e4-3b55929fa894"
      },
      "execution_count": null,
      "outputs": [
        {
          "output_type": "execute_result",
          "data": {
            "text/plain": [
              "array([8.60000000e+01, 2.23280516e+03, 1.28368304e+03, 1.05177922e+04,\n",
              "       1.37631761e+04, 7.00526023e+02, 9.67010226e+03, 9.82245175e+03,\n",
              "       6.63826694e+03, 0.00000000e+00, 0.00000000e+00, 0.00000000e+00,\n",
              "       1.92000000e+02, 0.00000000e+00, 0.00000000e+00, 0.00000000e+00,\n",
              "       0.00000000e+00, 0.00000000e+00, 0.00000000e+00, 0.00000000e+00,\n",
              "       0.00000000e+00, 0.00000000e+00, 1.70970689e+09, 0.00000000e+00])"
            ]
          },
          "metadata": {},
          "execution_count": 31
        }
      ]
    },
    {
      "cell_type": "code",
      "source": [
        "timestamps = data[:,22]\n",
        "print(timestamps)"
      ],
      "metadata": {
        "colab": {
          "base_uri": "https://localhost:8080/"
        },
        "id": "visR3j95IGta",
        "outputId": "b1bd4a54-71eb-410e-f413-ad121d1e27f9"
      },
      "execution_count": null,
      "outputs": [
        {
          "output_type": "stream",
          "name": "stdout",
          "text": [
            "[1.70970689e+09 1.70970689e+09 1.70970689e+09 ... 1.70970985e+09\n",
            " 1.70970985e+09 1.70970985e+09]\n"
          ]
        }
      ]
    },
    {
      "cell_type": "code",
      "source": [
        "timestamps[0]"
      ],
      "metadata": {
        "colab": {
          "base_uri": "https://localhost:8080/"
        },
        "id": "lFWMcUFaKSUe",
        "outputId": "2023c3cf-3d44-4154-f3be-4df42b159bb8"
      },
      "execution_count": null,
      "outputs": [
        {
          "output_type": "execute_result",
          "data": {
            "text/plain": [
              "1709706890.082852"
            ]
          },
          "metadata": {},
          "execution_count": 41
        }
      ]
    },
    {
      "cell_type": "code",
      "source": [
        "value = 1709706977.26357"
      ],
      "metadata": {
        "id": "ZwMCZUwSIQQ5"
      },
      "execution_count": null,
      "outputs": []
    },
    {
      "cell_type": "code",
      "source": [
        "index = np.abs(timestamps - value).argmin()\n",
        "print(index)"
      ],
      "metadata": {
        "colab": {
          "base_uri": "https://localhost:8080/"
        },
        "id": "PVaEIrhzJaAT",
        "outputId": "e99635ea-c949-46a4-b391-0a946cce6847"
      },
      "execution_count": null,
      "outputs": [
        {
          "output_type": "stream",
          "name": "stdout",
          "text": [
            "21888\n"
          ]
        }
      ]
    },
    {
      "cell_type": "code",
      "source": [
        "indices_start = []\n",
        "for vid_timestamp in vid_timestamps_start:\n",
        "  indices_start.append(np.abs(timestamps - vid_timestamp).argmin())\n",
        "\n",
        "print(indices_start)"
      ],
      "metadata": {
        "colab": {
          "base_uri": "https://localhost:8080/"
        },
        "id": "6cbTAQeGNZUg",
        "outputId": "4d8eb855-539d-48e5-98a2-c5afef2a70e2"
      },
      "execution_count": null,
      "outputs": [
        {
          "output_type": "stream",
          "name": "stdout",
          "text": [
            "[21888, 98122, 134196, 158964, 184576, 210669, 234959, 300249, 334159, 372154, 403178, 431434, 451155, 467027, 486385, 533038, 553840, 584014, 612871, 634996, 662291, 685017, 696681]\n"
          ]
        }
      ]
    },
    {
      "cell_type": "code",
      "source": [
        "indices_end = []\n",
        "for vid_timestamp in vid_timestamps_end:\n",
        "  indices_end.append(np.abs(timestamps - vid_timestamp).argmin())\n",
        "\n",
        "print(indices_end)"
      ],
      "metadata": {
        "colab": {
          "base_uri": "https://localhost:8080/"
        },
        "id": "uhRFtxMRO6QA",
        "outputId": "ba6e28c8-f907-4b37-dcf5-8630e3606857"
      },
      "execution_count": null,
      "outputs": [
        {
          "output_type": "stream",
          "name": "stdout",
          "text": [
            "[62050, 108823, 148383, 174717, 200209, 218484, 289068, 314439, 349909, 390192, 417847, 446706, 454641, 481094, 500934, 543500, 570073, 600367, 616961, 644134, 670828, 690187, 709908]\n"
          ]
        }
      ]
    },
    {
      "cell_type": "code",
      "source": [
        "durations = (np.array(indices_end) - np.array(indices_start)) / fs / 60"
      ],
      "metadata": {
        "id": "Eks4IhX6O957"
      },
      "execution_count": null,
      "outputs": []
    },
    {
      "cell_type": "code",
      "source": [
        "durations"
      ],
      "metadata": {
        "colab": {
          "base_uri": "https://localhost:8080/"
        },
        "id": "sObRMTGfPLW5",
        "outputId": "93296569-4c95-4ef7-8145-7d75fda92480"
      },
      "execution_count": null,
      "outputs": [
        {
          "output_type": "execute_result",
          "data": {
            "text/plain": [
              "array([2.67746667, 0.7134    , 0.9458    , 1.0502    , 1.0422    ,\n",
              "       0.521     , 3.60726667, 0.946     , 1.05      , 1.20253333,\n",
              "       0.97793333, 1.01813333, 0.2324    , 0.9378    , 0.96993333,\n",
              "       0.69746667, 1.0822    , 1.0902    , 0.27266667, 0.6092    ,\n",
              "       0.56913333, 0.34466667, 0.8818    ])"
            ]
          },
          "metadata": {},
          "execution_count": 71
        }
      ]
    },
    {
      "cell_type": "code",
      "source": [],
      "metadata": {
        "id": "4z5FMxcCPQ7e"
      },
      "execution_count": null,
      "outputs": []
    }
  ]
}